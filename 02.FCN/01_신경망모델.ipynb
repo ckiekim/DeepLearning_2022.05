{
  "nbformat": 4,
  "nbformat_minor": 0,
  "metadata": {
    "colab": {
      "name": "01_신경망모델.ipynb",
      "provenance": [],
      "collapsed_sections": []
    },
    "kernelspec": {
      "name": "python3",
      "display_name": "Python 3"
    },
    "language_info": {
      "name": "python"
    }
  },
  "cells": [
    {
      "cell_type": "markdown",
      "source": [
        "# 신경망 모델\n",
        "### - 이진 분류: 유방암 예측 사례"
      ],
      "metadata": {
        "id": "EdOSGnXeA__E"
      }
    },
    {
      "cell_type": "code",
      "execution_count": 1,
      "metadata": {
        "id": "O-r3xVkgA6vx"
      },
      "outputs": [],
      "source": [
        "import numpy as np\n",
        "import pandas as pd\n",
        "import matplotlib.pyplot as plt"
      ]
    },
    {
      "cell_type": "markdown",
      "source": [
        "- 데이터 준비"
      ],
      "metadata": {
        "id": "lcZ2G6etDl0S"
      }
    },
    {
      "cell_type": "code",
      "source": [
        "from sklearn.datasets import load_breast_cancer\n",
        "cancer = load_breast_cancer()\n",
        "df = pd.DataFrame(cancer.data, columns=cancer.feature_names)\n",
        "df['target'] = cancer.target\n",
        "df.head()"
      ],
      "metadata": {
        "colab": {
          "base_uri": "https://localhost:8080/",
          "height": 334
        },
        "id": "NwFSwfMKDj_T",
        "outputId": "386adc06-c53c-4b0f-cfa6-88f62c67d03b"
      },
      "execution_count": 2,
      "outputs": [
        {
          "output_type": "execute_result",
          "data": {
            "text/plain": [
              "   mean radius  mean texture  mean perimeter  mean area  mean smoothness  \\\n",
              "0        17.99         10.38          122.80     1001.0          0.11840   \n",
              "1        20.57         17.77          132.90     1326.0          0.08474   \n",
              "2        19.69         21.25          130.00     1203.0          0.10960   \n",
              "3        11.42         20.38           77.58      386.1          0.14250   \n",
              "4        20.29         14.34          135.10     1297.0          0.10030   \n",
              "\n",
              "   mean compactness  mean concavity  mean concave points  mean symmetry  \\\n",
              "0           0.27760          0.3001              0.14710         0.2419   \n",
              "1           0.07864          0.0869              0.07017         0.1812   \n",
              "2           0.15990          0.1974              0.12790         0.2069   \n",
              "3           0.28390          0.2414              0.10520         0.2597   \n",
              "4           0.13280          0.1980              0.10430         0.1809   \n",
              "\n",
              "   mean fractal dimension  ...  worst texture  worst perimeter  worst area  \\\n",
              "0                 0.07871  ...          17.33           184.60      2019.0   \n",
              "1                 0.05667  ...          23.41           158.80      1956.0   \n",
              "2                 0.05999  ...          25.53           152.50      1709.0   \n",
              "3                 0.09744  ...          26.50            98.87       567.7   \n",
              "4                 0.05883  ...          16.67           152.20      1575.0   \n",
              "\n",
              "   worst smoothness  worst compactness  worst concavity  worst concave points  \\\n",
              "0            0.1622             0.6656           0.7119                0.2654   \n",
              "1            0.1238             0.1866           0.2416                0.1860   \n",
              "2            0.1444             0.4245           0.4504                0.2430   \n",
              "3            0.2098             0.8663           0.6869                0.2575   \n",
              "4            0.1374             0.2050           0.4000                0.1625   \n",
              "\n",
              "   worst symmetry  worst fractal dimension  target  \n",
              "0          0.4601                  0.11890       0  \n",
              "1          0.2750                  0.08902       0  \n",
              "2          0.3613                  0.08758       0  \n",
              "3          0.6638                  0.17300       0  \n",
              "4          0.2364                  0.07678       0  \n",
              "\n",
              "[5 rows x 31 columns]"
            ],
            "text/html": [
              "\n",
              "  <div id=\"df-b346af87-5443-4d80-bb02-54709d0d58c2\">\n",
              "    <div class=\"colab-df-container\">\n",
              "      <div>\n",
              "<style scoped>\n",
              "    .dataframe tbody tr th:only-of-type {\n",
              "        vertical-align: middle;\n",
              "    }\n",
              "\n",
              "    .dataframe tbody tr th {\n",
              "        vertical-align: top;\n",
              "    }\n",
              "\n",
              "    .dataframe thead th {\n",
              "        text-align: right;\n",
              "    }\n",
              "</style>\n",
              "<table border=\"1\" class=\"dataframe\">\n",
              "  <thead>\n",
              "    <tr style=\"text-align: right;\">\n",
              "      <th></th>\n",
              "      <th>mean radius</th>\n",
              "      <th>mean texture</th>\n",
              "      <th>mean perimeter</th>\n",
              "      <th>mean area</th>\n",
              "      <th>mean smoothness</th>\n",
              "      <th>mean compactness</th>\n",
              "      <th>mean concavity</th>\n",
              "      <th>mean concave points</th>\n",
              "      <th>mean symmetry</th>\n",
              "      <th>mean fractal dimension</th>\n",
              "      <th>...</th>\n",
              "      <th>worst texture</th>\n",
              "      <th>worst perimeter</th>\n",
              "      <th>worst area</th>\n",
              "      <th>worst smoothness</th>\n",
              "      <th>worst compactness</th>\n",
              "      <th>worst concavity</th>\n",
              "      <th>worst concave points</th>\n",
              "      <th>worst symmetry</th>\n",
              "      <th>worst fractal dimension</th>\n",
              "      <th>target</th>\n",
              "    </tr>\n",
              "  </thead>\n",
              "  <tbody>\n",
              "    <tr>\n",
              "      <th>0</th>\n",
              "      <td>17.99</td>\n",
              "      <td>10.38</td>\n",
              "      <td>122.80</td>\n",
              "      <td>1001.0</td>\n",
              "      <td>0.11840</td>\n",
              "      <td>0.27760</td>\n",
              "      <td>0.3001</td>\n",
              "      <td>0.14710</td>\n",
              "      <td>0.2419</td>\n",
              "      <td>0.07871</td>\n",
              "      <td>...</td>\n",
              "      <td>17.33</td>\n",
              "      <td>184.60</td>\n",
              "      <td>2019.0</td>\n",
              "      <td>0.1622</td>\n",
              "      <td>0.6656</td>\n",
              "      <td>0.7119</td>\n",
              "      <td>0.2654</td>\n",
              "      <td>0.4601</td>\n",
              "      <td>0.11890</td>\n",
              "      <td>0</td>\n",
              "    </tr>\n",
              "    <tr>\n",
              "      <th>1</th>\n",
              "      <td>20.57</td>\n",
              "      <td>17.77</td>\n",
              "      <td>132.90</td>\n",
              "      <td>1326.0</td>\n",
              "      <td>0.08474</td>\n",
              "      <td>0.07864</td>\n",
              "      <td>0.0869</td>\n",
              "      <td>0.07017</td>\n",
              "      <td>0.1812</td>\n",
              "      <td>0.05667</td>\n",
              "      <td>...</td>\n",
              "      <td>23.41</td>\n",
              "      <td>158.80</td>\n",
              "      <td>1956.0</td>\n",
              "      <td>0.1238</td>\n",
              "      <td>0.1866</td>\n",
              "      <td>0.2416</td>\n",
              "      <td>0.1860</td>\n",
              "      <td>0.2750</td>\n",
              "      <td>0.08902</td>\n",
              "      <td>0</td>\n",
              "    </tr>\n",
              "    <tr>\n",
              "      <th>2</th>\n",
              "      <td>19.69</td>\n",
              "      <td>21.25</td>\n",
              "      <td>130.00</td>\n",
              "      <td>1203.0</td>\n",
              "      <td>0.10960</td>\n",
              "      <td>0.15990</td>\n",
              "      <td>0.1974</td>\n",
              "      <td>0.12790</td>\n",
              "      <td>0.2069</td>\n",
              "      <td>0.05999</td>\n",
              "      <td>...</td>\n",
              "      <td>25.53</td>\n",
              "      <td>152.50</td>\n",
              "      <td>1709.0</td>\n",
              "      <td>0.1444</td>\n",
              "      <td>0.4245</td>\n",
              "      <td>0.4504</td>\n",
              "      <td>0.2430</td>\n",
              "      <td>0.3613</td>\n",
              "      <td>0.08758</td>\n",
              "      <td>0</td>\n",
              "    </tr>\n",
              "    <tr>\n",
              "      <th>3</th>\n",
              "      <td>11.42</td>\n",
              "      <td>20.38</td>\n",
              "      <td>77.58</td>\n",
              "      <td>386.1</td>\n",
              "      <td>0.14250</td>\n",
              "      <td>0.28390</td>\n",
              "      <td>0.2414</td>\n",
              "      <td>0.10520</td>\n",
              "      <td>0.2597</td>\n",
              "      <td>0.09744</td>\n",
              "      <td>...</td>\n",
              "      <td>26.50</td>\n",
              "      <td>98.87</td>\n",
              "      <td>567.7</td>\n",
              "      <td>0.2098</td>\n",
              "      <td>0.8663</td>\n",
              "      <td>0.6869</td>\n",
              "      <td>0.2575</td>\n",
              "      <td>0.6638</td>\n",
              "      <td>0.17300</td>\n",
              "      <td>0</td>\n",
              "    </tr>\n",
              "    <tr>\n",
              "      <th>4</th>\n",
              "      <td>20.29</td>\n",
              "      <td>14.34</td>\n",
              "      <td>135.10</td>\n",
              "      <td>1297.0</td>\n",
              "      <td>0.10030</td>\n",
              "      <td>0.13280</td>\n",
              "      <td>0.1980</td>\n",
              "      <td>0.10430</td>\n",
              "      <td>0.1809</td>\n",
              "      <td>0.05883</td>\n",
              "      <td>...</td>\n",
              "      <td>16.67</td>\n",
              "      <td>152.20</td>\n",
              "      <td>1575.0</td>\n",
              "      <td>0.1374</td>\n",
              "      <td>0.2050</td>\n",
              "      <td>0.4000</td>\n",
              "      <td>0.1625</td>\n",
              "      <td>0.2364</td>\n",
              "      <td>0.07678</td>\n",
              "      <td>0</td>\n",
              "    </tr>\n",
              "  </tbody>\n",
              "</table>\n",
              "<p>5 rows × 31 columns</p>\n",
              "</div>\n",
              "      <button class=\"colab-df-convert\" onclick=\"convertToInteractive('df-b346af87-5443-4d80-bb02-54709d0d58c2')\"\n",
              "              title=\"Convert this dataframe to an interactive table.\"\n",
              "              style=\"display:none;\">\n",
              "        \n",
              "  <svg xmlns=\"http://www.w3.org/2000/svg\" height=\"24px\"viewBox=\"0 0 24 24\"\n",
              "       width=\"24px\">\n",
              "    <path d=\"M0 0h24v24H0V0z\" fill=\"none\"/>\n",
              "    <path d=\"M18.56 5.44l.94 2.06.94-2.06 2.06-.94-2.06-.94-.94-2.06-.94 2.06-2.06.94zm-11 1L8.5 8.5l.94-2.06 2.06-.94-2.06-.94L8.5 2.5l-.94 2.06-2.06.94zm10 10l.94 2.06.94-2.06 2.06-.94-2.06-.94-.94-2.06-.94 2.06-2.06.94z\"/><path d=\"M17.41 7.96l-1.37-1.37c-.4-.4-.92-.59-1.43-.59-.52 0-1.04.2-1.43.59L10.3 9.45l-7.72 7.72c-.78.78-.78 2.05 0 2.83L4 21.41c.39.39.9.59 1.41.59.51 0 1.02-.2 1.41-.59l7.78-7.78 2.81-2.81c.8-.78.8-2.07 0-2.86zM5.41 20L4 18.59l7.72-7.72 1.47 1.35L5.41 20z\"/>\n",
              "  </svg>\n",
              "      </button>\n",
              "      \n",
              "  <style>\n",
              "    .colab-df-container {\n",
              "      display:flex;\n",
              "      flex-wrap:wrap;\n",
              "      gap: 12px;\n",
              "    }\n",
              "\n",
              "    .colab-df-convert {\n",
              "      background-color: #E8F0FE;\n",
              "      border: none;\n",
              "      border-radius: 50%;\n",
              "      cursor: pointer;\n",
              "      display: none;\n",
              "      fill: #1967D2;\n",
              "      height: 32px;\n",
              "      padding: 0 0 0 0;\n",
              "      width: 32px;\n",
              "    }\n",
              "\n",
              "    .colab-df-convert:hover {\n",
              "      background-color: #E2EBFA;\n",
              "      box-shadow: 0px 1px 2px rgba(60, 64, 67, 0.3), 0px 1px 3px 1px rgba(60, 64, 67, 0.15);\n",
              "      fill: #174EA6;\n",
              "    }\n",
              "\n",
              "    [theme=dark] .colab-df-convert {\n",
              "      background-color: #3B4455;\n",
              "      fill: #D2E3FC;\n",
              "    }\n",
              "\n",
              "    [theme=dark] .colab-df-convert:hover {\n",
              "      background-color: #434B5C;\n",
              "      box-shadow: 0px 1px 3px 1px rgba(0, 0, 0, 0.15);\n",
              "      filter: drop-shadow(0px 1px 2px rgba(0, 0, 0, 0.3));\n",
              "      fill: #FFFFFF;\n",
              "    }\n",
              "  </style>\n",
              "\n",
              "      <script>\n",
              "        const buttonEl =\n",
              "          document.querySelector('#df-b346af87-5443-4d80-bb02-54709d0d58c2 button.colab-df-convert');\n",
              "        buttonEl.style.display =\n",
              "          google.colab.kernel.accessAllowed ? 'block' : 'none';\n",
              "\n",
              "        async function convertToInteractive(key) {\n",
              "          const element = document.querySelector('#df-b346af87-5443-4d80-bb02-54709d0d58c2');\n",
              "          const dataTable =\n",
              "            await google.colab.kernel.invokeFunction('convertToInteractive',\n",
              "                                                     [key], {});\n",
              "          if (!dataTable) return;\n",
              "\n",
              "          const docLinkHtml = 'Like what you see? Visit the ' +\n",
              "            '<a target=\"_blank\" href=https://colab.research.google.com/notebooks/data_table.ipynb>data table notebook</a>'\n",
              "            + ' to learn more about interactive tables.';\n",
              "          element.innerHTML = '';\n",
              "          dataTable['output_type'] = 'display_data';\n",
              "          await google.colab.output.renderOutput(dataTable, element);\n",
              "          const docLink = document.createElement('div');\n",
              "          docLink.innerHTML = docLinkHtml;\n",
              "          element.appendChild(docLink);\n",
              "        }\n",
              "      </script>\n",
              "    </div>\n",
              "  </div>\n",
              "  "
            ]
          },
          "metadata": {},
          "execution_count": 2
        }
      ]
    },
    {
      "cell_type": "code",
      "source": [
        "df.shape"
      ],
      "metadata": {
        "colab": {
          "base_uri": "https://localhost:8080/"
        },
        "id": "9mdt8yAmD9kT",
        "outputId": "3123788d-f364-427a-d042-2f5af7592648"
      },
      "execution_count": 3,
      "outputs": [
        {
          "output_type": "execute_result",
          "data": {
            "text/plain": [
              "(569, 31)"
            ]
          },
          "metadata": {},
          "execution_count": 3
        }
      ]
    },
    {
      "cell_type": "markdown",
      "source": [
        "### 1. 데이터를 정규/표준화 하지 않은 경우"
      ],
      "metadata": {
        "id": "ktf9y_IqEO0b"
      }
    },
    {
      "cell_type": "code",
      "source": [
        "from sklearn.model_selection import train_test_split\n",
        "X_train, X_test, y_train, y_test = train_test_split(\n",
        "    cancer.data, cancer.target, stratify=cancer.target,\n",
        "    test_size=0.2, random_state=2022\n",
        ")"
      ],
      "metadata": {
        "id": "xUVoJsLhEMMr"
      },
      "execution_count": 4,
      "outputs": []
    },
    {
      "cell_type": "markdown",
      "source": [
        "- 모델 정의"
      ],
      "metadata": {
        "id": "rLklW7h9FJjq"
      }
    },
    {
      "cell_type": "code",
      "source": [
        "from tensorflow.keras.models import Sequential\n",
        "from tensorflow.keras.layers import Dense       # Fully Connected Network"
      ],
      "metadata": {
        "id": "wr0E8MzyFFUz"
      },
      "execution_count": 5,
      "outputs": []
    },
    {
      "cell_type": "code",
      "source": [
        "model = Sequential([\n",
        "    Dense(100, input_shape=(30,), activation='relu'),\n",
        "    Dense(24, activation='relu'),\n",
        "    Dense(1, activation='sigmoid')                    \n",
        "])\n",
        "model.summary()"
      ],
      "metadata": {
        "colab": {
          "base_uri": "https://localhost:8080/"
        },
        "id": "ecUAhEcjFegI",
        "outputId": "358e163d-e6a1-48a5-9764-df23e7f1653c"
      },
      "execution_count": 6,
      "outputs": [
        {
          "output_type": "stream",
          "name": "stdout",
          "text": [
            "Model: \"sequential\"\n",
            "_________________________________________________________________\n",
            " Layer (type)                Output Shape              Param #   \n",
            "=================================================================\n",
            " dense (Dense)               (None, 100)               3100      \n",
            "                                                                 \n",
            " dense_1 (Dense)             (None, 24)                2424      \n",
            "                                                                 \n",
            " dense_2 (Dense)             (None, 1)                 25        \n",
            "                                                                 \n",
            "=================================================================\n",
            "Total params: 5,549\n",
            "Trainable params: 5,549\n",
            "Non-trainable params: 0\n",
            "_________________________________________________________________\n"
          ]
        }
      ]
    },
    {
      "cell_type": "markdown",
      "source": [
        "- 모델 설정(컴파일)"
      ],
      "metadata": {
        "id": "2-lF7XmfG7Qj"
      }
    },
    {
      "cell_type": "code",
      "source": [
        "model.compile(optimizer='adam', loss='binary_crossentropy', metrics=['accuracy'])"
      ],
      "metadata": {
        "id": "4yUPYHeiGYYz"
      },
      "execution_count": 7,
      "outputs": []
    },
    {
      "cell_type": "markdown",
      "source": [
        "- 모델 학습"
      ],
      "metadata": {
        "id": "07SmeBSjHZA0"
      }
    },
    {
      "cell_type": "code",
      "source": [
        "history = model.fit(X_train, y_train, validation_split=0.2,\n",
        "                    epochs=100, batch_size=100)"
      ],
      "metadata": {
        "colab": {
          "base_uri": "https://localhost:8080/"
        },
        "id": "OxyuZCLVHVkq",
        "outputId": "f33e3769-ad49-4a31-b251-fdfd7bb7df4e"
      },
      "execution_count": 8,
      "outputs": [
        {
          "output_type": "stream",
          "name": "stdout",
          "text": [
            "Epoch 1/100\n",
            "4/4 [==============================] - 2s 121ms/step - loss: 82.6130 - accuracy: 0.3791 - val_loss: 45.5020 - val_accuracy: 0.3516\n",
            "Epoch 2/100\n",
            "4/4 [==============================] - 0s 19ms/step - loss: 23.5930 - accuracy: 0.4478 - val_loss: 13.3067 - val_accuracy: 0.6484\n",
            "Epoch 3/100\n",
            "4/4 [==============================] - 0s 24ms/step - loss: 22.8438 - accuracy: 0.6209 - val_loss: 18.6589 - val_accuracy: 0.6484\n",
            "Epoch 4/100\n",
            "4/4 [==============================] - 0s 15ms/step - loss: 10.5825 - accuracy: 0.6621 - val_loss: 6.7236 - val_accuracy: 0.3626\n",
            "Epoch 5/100\n",
            "4/4 [==============================] - 0s 33ms/step - loss: 10.4449 - accuracy: 0.3791 - val_loss: 10.1363 - val_accuracy: 0.3516\n",
            "Epoch 6/100\n",
            "4/4 [==============================] - 0s 38ms/step - loss: 5.3149 - accuracy: 0.4835 - val_loss: 0.8657 - val_accuracy: 0.8791\n",
            "Epoch 7/100\n",
            "4/4 [==============================] - 0s 49ms/step - loss: 3.3376 - accuracy: 0.7418 - val_loss: 2.8805 - val_accuracy: 0.7363\n",
            "Epoch 8/100\n",
            "4/4 [==============================] - 0s 25ms/step - loss: 1.7763 - accuracy: 0.8214 - val_loss: 1.8302 - val_accuracy: 0.6044\n",
            "Epoch 9/100\n",
            "4/4 [==============================] - 0s 10ms/step - loss: 2.4399 - accuracy: 0.5989 - val_loss: 0.9529 - val_accuracy: 0.7582\n",
            "Epoch 10/100\n",
            "4/4 [==============================] - 0s 10ms/step - loss: 0.9883 - accuracy: 0.8599 - val_loss: 1.2974 - val_accuracy: 0.8571\n",
            "Epoch 11/100\n",
            "4/4 [==============================] - 0s 12ms/step - loss: 1.9823 - accuracy: 0.8379 - val_loss: 0.6186 - val_accuracy: 0.9231\n",
            "Epoch 12/100\n",
            "4/4 [==============================] - 0s 10ms/step - loss: 0.8745 - accuracy: 0.8489 - val_loss: 1.3160 - val_accuracy: 0.7363\n",
            "Epoch 13/100\n",
            "4/4 [==============================] - 0s 10ms/step - loss: 1.2092 - accuracy: 0.7802 - val_loss: 0.5233 - val_accuracy: 0.9341\n",
            "Epoch 14/100\n",
            "4/4 [==============================] - 0s 10ms/step - loss: 0.8371 - accuracy: 0.9011 - val_loss: 0.6299 - val_accuracy: 0.9231\n",
            "Epoch 15/100\n",
            "4/4 [==============================] - 0s 10ms/step - loss: 0.8253 - accuracy: 0.9093 - val_loss: 0.5431 - val_accuracy: 0.9121\n",
            "Epoch 16/100\n",
            "4/4 [==============================] - 0s 10ms/step - loss: 0.7734 - accuracy: 0.8462 - val_loss: 0.5659 - val_accuracy: 0.8901\n",
            "Epoch 17/100\n",
            "4/4 [==============================] - 0s 11ms/step - loss: 0.6345 - accuracy: 0.8791 - val_loss: 0.5345 - val_accuracy: 0.9231\n",
            "Epoch 18/100\n",
            "4/4 [==============================] - 0s 11ms/step - loss: 0.6976 - accuracy: 0.9038 - val_loss: 0.5329 - val_accuracy: 0.9231\n",
            "Epoch 19/100\n",
            "4/4 [==============================] - 0s 13ms/step - loss: 0.5906 - accuracy: 0.9066 - val_loss: 0.5222 - val_accuracy: 0.9011\n",
            "Epoch 20/100\n",
            "4/4 [==============================] - 0s 11ms/step - loss: 0.6169 - accuracy: 0.8571 - val_loss: 0.5066 - val_accuracy: 0.9231\n",
            "Epoch 21/100\n",
            "4/4 [==============================] - 0s 11ms/step - loss: 0.5941 - accuracy: 0.8901 - val_loss: 0.5136 - val_accuracy: 0.9231\n",
            "Epoch 22/100\n",
            "4/4 [==============================] - 0s 11ms/step - loss: 0.5200 - accuracy: 0.9093 - val_loss: 0.4907 - val_accuracy: 0.9341\n",
            "Epoch 23/100\n",
            "4/4 [==============================] - 0s 11ms/step - loss: 0.5563 - accuracy: 0.8654 - val_loss: 0.4828 - val_accuracy: 0.9341\n",
            "Epoch 24/100\n",
            "4/4 [==============================] - 0s 11ms/step - loss: 0.5242 - accuracy: 0.9066 - val_loss: 0.5249 - val_accuracy: 0.9231\n",
            "Epoch 25/100\n",
            "4/4 [==============================] - 0s 11ms/step - loss: 0.4963 - accuracy: 0.8956 - val_loss: 0.4814 - val_accuracy: 0.9231\n",
            "Epoch 26/100\n",
            "4/4 [==============================] - 0s 12ms/step - loss: 0.4238 - accuracy: 0.8791 - val_loss: 0.4671 - val_accuracy: 0.9341\n",
            "Epoch 27/100\n",
            "4/4 [==============================] - 0s 11ms/step - loss: 0.4000 - accuracy: 0.9066 - val_loss: 0.4720 - val_accuracy: 0.9231\n",
            "Epoch 28/100\n",
            "4/4 [==============================] - 0s 10ms/step - loss: 0.3767 - accuracy: 0.8901 - val_loss: 0.4592 - val_accuracy: 0.9231\n",
            "Epoch 29/100\n",
            "4/4 [==============================] - 0s 10ms/step - loss: 0.3568 - accuracy: 0.9011 - val_loss: 0.4700 - val_accuracy: 0.9231\n",
            "Epoch 30/100\n",
            "4/4 [==============================] - 0s 11ms/step - loss: 0.3673 - accuracy: 0.9148 - val_loss: 0.4532 - val_accuracy: 0.9231\n",
            "Epoch 31/100\n",
            "4/4 [==============================] - 0s 10ms/step - loss: 0.3546 - accuracy: 0.8984 - val_loss: 0.4452 - val_accuracy: 0.9121\n",
            "Epoch 32/100\n",
            "4/4 [==============================] - 0s 10ms/step - loss: 0.3345 - accuracy: 0.9093 - val_loss: 0.4634 - val_accuracy: 0.9231\n",
            "Epoch 33/100\n",
            "4/4 [==============================] - 0s 10ms/step - loss: 0.3564 - accuracy: 0.8929 - val_loss: 0.4360 - val_accuracy: 0.9231\n",
            "Epoch 34/100\n",
            "4/4 [==============================] - 0s 10ms/step - loss: 0.3128 - accuracy: 0.9066 - val_loss: 0.4479 - val_accuracy: 0.9231\n",
            "Epoch 35/100\n",
            "4/4 [==============================] - 0s 10ms/step - loss: 0.3290 - accuracy: 0.9121 - val_loss: 0.4282 - val_accuracy: 0.9231\n",
            "Epoch 36/100\n",
            "4/4 [==============================] - 0s 10ms/step - loss: 0.3094 - accuracy: 0.9066 - val_loss: 0.4334 - val_accuracy: 0.9231\n",
            "Epoch 37/100\n",
            "4/4 [==============================] - 0s 10ms/step - loss: 0.3011 - accuracy: 0.9093 - val_loss: 0.4201 - val_accuracy: 0.9121\n",
            "Epoch 38/100\n",
            "4/4 [==============================] - 0s 10ms/step - loss: 0.3050 - accuracy: 0.8984 - val_loss: 0.4178 - val_accuracy: 0.9121\n",
            "Epoch 39/100\n",
            "4/4 [==============================] - 0s 11ms/step - loss: 0.3046 - accuracy: 0.9176 - val_loss: 0.4304 - val_accuracy: 0.9231\n",
            "Epoch 40/100\n",
            "4/4 [==============================] - 0s 10ms/step - loss: 0.2958 - accuracy: 0.9121 - val_loss: 0.4091 - val_accuracy: 0.9231\n",
            "Epoch 41/100\n",
            "4/4 [==============================] - 0s 10ms/step - loss: 0.2932 - accuracy: 0.8984 - val_loss: 0.4128 - val_accuracy: 0.9231\n",
            "Epoch 42/100\n",
            "4/4 [==============================] - 0s 12ms/step - loss: 0.2876 - accuracy: 0.8984 - val_loss: 0.3999 - val_accuracy: 0.9121\n",
            "Epoch 43/100\n",
            "4/4 [==============================] - 0s 14ms/step - loss: 0.2935 - accuracy: 0.9203 - val_loss: 0.4100 - val_accuracy: 0.9231\n",
            "Epoch 44/100\n",
            "4/4 [==============================] - 0s 11ms/step - loss: 0.2752 - accuracy: 0.9121 - val_loss: 0.3930 - val_accuracy: 0.9121\n",
            "Epoch 45/100\n",
            "4/4 [==============================] - 0s 10ms/step - loss: 0.2744 - accuracy: 0.9038 - val_loss: 0.3942 - val_accuracy: 0.9121\n",
            "Epoch 46/100\n",
            "4/4 [==============================] - 0s 10ms/step - loss: 0.2701 - accuracy: 0.9093 - val_loss: 0.3859 - val_accuracy: 0.9121\n",
            "Epoch 47/100\n",
            "4/4 [==============================] - 0s 10ms/step - loss: 0.2616 - accuracy: 0.9093 - val_loss: 0.3832 - val_accuracy: 0.9121\n",
            "Epoch 48/100\n",
            "4/4 [==============================] - 0s 11ms/step - loss: 0.2580 - accuracy: 0.9121 - val_loss: 0.3827 - val_accuracy: 0.9121\n",
            "Epoch 49/100\n",
            "4/4 [==============================] - 0s 11ms/step - loss: 0.2522 - accuracy: 0.9231 - val_loss: 0.3744 - val_accuracy: 0.9121\n",
            "Epoch 50/100\n",
            "4/4 [==============================] - 0s 10ms/step - loss: 0.2473 - accuracy: 0.9148 - val_loss: 0.3722 - val_accuracy: 0.9121\n",
            "Epoch 51/100\n",
            "4/4 [==============================] - 0s 10ms/step - loss: 0.2461 - accuracy: 0.9121 - val_loss: 0.3713 - val_accuracy: 0.9121\n",
            "Epoch 52/100\n",
            "4/4 [==============================] - 0s 12ms/step - loss: 0.2438 - accuracy: 0.9093 - val_loss: 0.3660 - val_accuracy: 0.9121\n",
            "Epoch 53/100\n",
            "4/4 [==============================] - 0s 10ms/step - loss: 0.2371 - accuracy: 0.9231 - val_loss: 0.3607 - val_accuracy: 0.9121\n",
            "Epoch 54/100\n",
            "4/4 [==============================] - 0s 10ms/step - loss: 0.2597 - accuracy: 0.9093 - val_loss: 0.3847 - val_accuracy: 0.9121\n",
            "Epoch 55/100\n",
            "4/4 [==============================] - 0s 13ms/step - loss: 0.2986 - accuracy: 0.9203 - val_loss: 0.3593 - val_accuracy: 0.9121\n",
            "Epoch 56/100\n",
            "4/4 [==============================] - 0s 11ms/step - loss: 0.2640 - accuracy: 0.9038 - val_loss: 0.3802 - val_accuracy: 0.9011\n",
            "Epoch 57/100\n",
            "4/4 [==============================] - 0s 10ms/step - loss: 0.2444 - accuracy: 0.9258 - val_loss: 0.3629 - val_accuracy: 0.9231\n",
            "Epoch 58/100\n",
            "4/4 [==============================] - 0s 10ms/step - loss: 0.2618 - accuracy: 0.9066 - val_loss: 0.3700 - val_accuracy: 0.9011\n",
            "Epoch 59/100\n",
            "4/4 [==============================] - 0s 12ms/step - loss: 0.2519 - accuracy: 0.9203 - val_loss: 0.3448 - val_accuracy: 0.9121\n",
            "Epoch 60/100\n",
            "4/4 [==============================] - 0s 10ms/step - loss: 0.2383 - accuracy: 0.9121 - val_loss: 0.3531 - val_accuracy: 0.9231\n",
            "Epoch 61/100\n",
            "4/4 [==============================] - 0s 11ms/step - loss: 0.2254 - accuracy: 0.9313 - val_loss: 0.3369 - val_accuracy: 0.9121\n",
            "Epoch 62/100\n",
            "4/4 [==============================] - 0s 10ms/step - loss: 0.2351 - accuracy: 0.9093 - val_loss: 0.3507 - val_accuracy: 0.9121\n",
            "Epoch 63/100\n",
            "4/4 [==============================] - 0s 13ms/step - loss: 0.2373 - accuracy: 0.9341 - val_loss: 0.3497 - val_accuracy: 0.9121\n",
            "Epoch 64/100\n",
            "4/4 [==============================] - 0s 11ms/step - loss: 0.2411 - accuracy: 0.9148 - val_loss: 0.3362 - val_accuracy: 0.9121\n",
            "Epoch 65/100\n",
            "4/4 [==============================] - 0s 14ms/step - loss: 0.2049 - accuracy: 0.9258 - val_loss: 0.3451 - val_accuracy: 0.9121\n",
            "Epoch 66/100\n",
            "4/4 [==============================] - 0s 10ms/step - loss: 0.2091 - accuracy: 0.9148 - val_loss: 0.3636 - val_accuracy: 0.9011\n",
            "Epoch 67/100\n",
            "4/4 [==============================] - 0s 10ms/step - loss: 0.2599 - accuracy: 0.9121 - val_loss: 0.3203 - val_accuracy: 0.9121\n",
            "Epoch 68/100\n",
            "4/4 [==============================] - 0s 10ms/step - loss: 0.1951 - accuracy: 0.9258 - val_loss: 0.3438 - val_accuracy: 0.9011\n",
            "Epoch 69/100\n",
            "4/4 [==============================] - 0s 10ms/step - loss: 0.2123 - accuracy: 0.9258 - val_loss: 0.3267 - val_accuracy: 0.9011\n",
            "Epoch 70/100\n",
            "4/4 [==============================] - 0s 11ms/step - loss: 0.2124 - accuracy: 0.9176 - val_loss: 0.3127 - val_accuracy: 0.9121\n",
            "Epoch 71/100\n",
            "4/4 [==============================] - 0s 12ms/step - loss: 0.2054 - accuracy: 0.9258 - val_loss: 0.3127 - val_accuracy: 0.9121\n",
            "Epoch 72/100\n",
            "4/4 [==============================] - 0s 10ms/step - loss: 0.1950 - accuracy: 0.9286 - val_loss: 0.3074 - val_accuracy: 0.9121\n",
            "Epoch 73/100\n",
            "4/4 [==============================] - 0s 11ms/step - loss: 0.1932 - accuracy: 0.9258 - val_loss: 0.3082 - val_accuracy: 0.9121\n",
            "Epoch 74/100\n",
            "4/4 [==============================] - 0s 11ms/step - loss: 0.1924 - accuracy: 0.9341 - val_loss: 0.3028 - val_accuracy: 0.9121\n",
            "Epoch 75/100\n",
            "4/4 [==============================] - 0s 10ms/step - loss: 0.2046 - accuracy: 0.9258 - val_loss: 0.3176 - val_accuracy: 0.9011\n",
            "Epoch 76/100\n",
            "4/4 [==============================] - 0s 10ms/step - loss: 0.2263 - accuracy: 0.9011 - val_loss: 0.3490 - val_accuracy: 0.8901\n",
            "Epoch 77/100\n",
            "4/4 [==============================] - 0s 12ms/step - loss: 0.2491 - accuracy: 0.9066 - val_loss: 0.3548 - val_accuracy: 0.9121\n",
            "Epoch 78/100\n",
            "4/4 [==============================] - 0s 10ms/step - loss: 0.2411 - accuracy: 0.9066 - val_loss: 0.2950 - val_accuracy: 0.9121\n",
            "Epoch 79/100\n",
            "4/4 [==============================] - 0s 10ms/step - loss: 0.1866 - accuracy: 0.9203 - val_loss: 0.2925 - val_accuracy: 0.9121\n",
            "Epoch 80/100\n",
            "4/4 [==============================] - 0s 10ms/step - loss: 0.1852 - accuracy: 0.9258 - val_loss: 0.2905 - val_accuracy: 0.9121\n",
            "Epoch 81/100\n",
            "4/4 [==============================] - 0s 10ms/step - loss: 0.2000 - accuracy: 0.9203 - val_loss: 0.3160 - val_accuracy: 0.9011\n",
            "Epoch 82/100\n",
            "4/4 [==============================] - 0s 10ms/step - loss: 0.2234 - accuracy: 0.9286 - val_loss: 0.3075 - val_accuracy: 0.9121\n",
            "Epoch 83/100\n",
            "4/4 [==============================] - 0s 11ms/step - loss: 0.2364 - accuracy: 0.9121 - val_loss: 0.3010 - val_accuracy: 0.9011\n",
            "Epoch 84/100\n",
            "4/4 [==============================] - 0s 11ms/step - loss: 0.2548 - accuracy: 0.8791 - val_loss: 0.3665 - val_accuracy: 0.8901\n",
            "Epoch 85/100\n",
            "4/4 [==============================] - 0s 12ms/step - loss: 0.2285 - accuracy: 0.9258 - val_loss: 0.3656 - val_accuracy: 0.8901\n",
            "Epoch 86/100\n",
            "4/4 [==============================] - 0s 12ms/step - loss: 0.2266 - accuracy: 0.9093 - val_loss: 0.2840 - val_accuracy: 0.9011\n",
            "Epoch 87/100\n",
            "4/4 [==============================] - 0s 13ms/step - loss: 0.1939 - accuracy: 0.9231 - val_loss: 0.2873 - val_accuracy: 0.8901\n",
            "Epoch 88/100\n",
            "4/4 [==============================] - 0s 12ms/step - loss: 0.2395 - accuracy: 0.9121 - val_loss: 0.4085 - val_accuracy: 0.8901\n",
            "Epoch 89/100\n",
            "4/4 [==============================] - 0s 12ms/step - loss: 0.2057 - accuracy: 0.9176 - val_loss: 0.3893 - val_accuracy: 0.8901\n",
            "Epoch 90/100\n",
            "4/4 [==============================] - 0s 11ms/step - loss: 0.3052 - accuracy: 0.8819 - val_loss: 0.2929 - val_accuracy: 0.9011\n",
            "Epoch 91/100\n",
            "4/4 [==============================] - 0s 10ms/step - loss: 0.2358 - accuracy: 0.9038 - val_loss: 0.3053 - val_accuracy: 0.9231\n",
            "Epoch 92/100\n",
            "4/4 [==============================] - 0s 10ms/step - loss: 0.1857 - accuracy: 0.9231 - val_loss: 0.3296 - val_accuracy: 0.8901\n",
            "Epoch 93/100\n",
            "4/4 [==============================] - 0s 10ms/step - loss: 0.2314 - accuracy: 0.9093 - val_loss: 0.2791 - val_accuracy: 0.9121\n",
            "Epoch 94/100\n",
            "4/4 [==============================] - 0s 12ms/step - loss: 0.1825 - accuracy: 0.9258 - val_loss: 0.2773 - val_accuracy: 0.9121\n",
            "Epoch 95/100\n",
            "4/4 [==============================] - 0s 10ms/step - loss: 0.2377 - accuracy: 0.8929 - val_loss: 0.3472 - val_accuracy: 0.8901\n",
            "Epoch 96/100\n",
            "4/4 [==============================] - 0s 10ms/step - loss: 0.2133 - accuracy: 0.9368 - val_loss: 0.3417 - val_accuracy: 0.8901\n",
            "Epoch 97/100\n",
            "4/4 [==============================] - 0s 11ms/step - loss: 0.2307 - accuracy: 0.9066 - val_loss: 0.2726 - val_accuracy: 0.9011\n",
            "Epoch 98/100\n",
            "4/4 [==============================] - 0s 17ms/step - loss: 0.2265 - accuracy: 0.9121 - val_loss: 0.3241 - val_accuracy: 0.8901\n",
            "Epoch 99/100\n",
            "4/4 [==============================] - 0s 10ms/step - loss: 0.2132 - accuracy: 0.9286 - val_loss: 0.3626 - val_accuracy: 0.9011\n",
            "Epoch 100/100\n",
            "4/4 [==============================] - 0s 10ms/step - loss: 0.2319 - accuracy: 0.9038 - val_loss: 0.2644 - val_accuracy: 0.9121\n"
          ]
        }
      ]
    },
    {
      "cell_type": "markdown",
      "source": [
        "- 모델 평가"
      ],
      "metadata": {
        "id": "gImXu8JkIGWb"
      }
    },
    {
      "cell_type": "code",
      "source": [
        "model.evaluate(X_test, y_test)"
      ],
      "metadata": {
        "colab": {
          "base_uri": "https://localhost:8080/"
        },
        "id": "kgaR0poCH6Qz",
        "outputId": "b528929f-5f61-46d1-82cc-9e89bb43b88c"
      },
      "execution_count": 9,
      "outputs": [
        {
          "output_type": "stream",
          "name": "stdout",
          "text": [
            "4/4 [==============================] - 0s 7ms/step - loss: 0.2324 - accuracy: 0.9035\n"
          ]
        },
        {
          "output_type": "execute_result",
          "data": {
            "text/plain": [
              "[0.23244903981685638, 0.9035087823867798]"
            ]
          },
          "metadata": {},
          "execution_count": 9
        }
      ]
    },
    {
      "cell_type": "markdown",
      "source": [
        "- 훈련과정 시각화: epoch에 따른 accuracy, val_loss의 변화"
      ],
      "metadata": {
        "id": "9bsP6rhpIfXr"
      }
    },
    {
      "cell_type": "code",
      "source": [
        "y_acc = history.history['accuracy']\n",
        "y_vloss = history.history['val_loss']\n",
        "xs = np.arange(1, len(y_acc)+1)"
      ],
      "metadata": {
        "id": "MmZCUGBrIOu7"
      },
      "execution_count": 10,
      "outputs": []
    },
    {
      "cell_type": "code",
      "source": [
        "plt.figure(figsize=(12,8))\n",
        "plt.plot(xs, y_acc, label='train accuracy')\n",
        "plt.plot(xs, y_vloss, label='validation loss')\n",
        "plt.legend(), plt.grid()\n",
        "plt.ylim([0,1])\n",
        "plt.xlabel('Epoch')\n",
        "plt.title('No feature transform')\n",
        "plt.show()"
      ],
      "metadata": {
        "colab": {
          "base_uri": "https://localhost:8080/",
          "height": 513
        },
        "id": "VMEpGx6kJLBS",
        "outputId": "7e30517a-9150-4343-b98c-2ff31ef68080"
      },
      "execution_count": 12,
      "outputs": [
        {
          "output_type": "display_data",
          "data": {
            "text/plain": [
              "<Figure size 864x576 with 1 Axes>"
            ],
            "image/png": "[encoded data removed]"
          },
          "metadata": {
            "needs_background": "light"
          }
        }
      ]
    },
    {
      "cell_type": "markdown",
      "source": [
        "### 2. 데이터를 정규/표준화한 경우"
      ],
      "metadata": {
        "id": "8xkqHzIaKbQD"
      }
    },
    {
      "cell_type": "code",
      "source": [
        "from sklearn.preprocessing import StandardScaler\n",
        "cancer_std = StandardScaler().fit_transform(cancer.data)"
      ],
      "metadata": {
        "id": "uXwdwSutJozh"
      },
      "execution_count": 13,
      "outputs": []
    },
    {
      "cell_type": "code",
      "source": [
        "X_train2, X_test2, y_train2, y_test2 = train_test_split(\n",
        "    cancer_std, cancer.target, stratify=cancer.target,\n",
        "    test_size=0.2, random_state=2022\n",
        ")"
      ],
      "metadata": {
        "id": "05ED41i4Kv-t"
      },
      "execution_count": 14,
      "outputs": []
    },
    {
      "cell_type": "markdown",
      "source": [
        "- 모델 정의"
      ],
      "metadata": {
        "id": "IrE8mFm-K_0b"
      }
    },
    {
      "cell_type": "code",
      "source": [
        "model2 = Sequential()\n",
        "model2.add(Dense(100, input_dim=30, activation='relu'))\n",
        "model2.add(Dense(24, activation='relu'))\n",
        "model2.add(Dense(1, activation='sigmoid'))\n",
        "model2.summary()"
      ],
      "metadata": {
        "colab": {
          "base_uri": "https://localhost:8080/"
        },
        "id": "LdDQdHlPK8k1",
        "outputId": "cf7d91d5-fcb7-4753-d655-866c0ebfec91"
      },
      "execution_count": 15,
      "outputs": [
        {
          "output_type": "stream",
          "name": "stdout",
          "text": [
            "Model: \"sequential_1\"\n",
            "_________________________________________________________________\n",
            " Layer (type)                Output Shape              Param #   \n",
            "=================================================================\n",
            " dense_3 (Dense)             (None, 100)               3100      \n",
            "                                                                 \n",
            " dense_4 (Dense)             (None, 24)                2424      \n",
            "                                                                 \n",
            " dense_5 (Dense)             (None, 1)                 25        \n",
            "                                                                 \n",
            "=================================================================\n",
            "Total params: 5,549\n",
            "Trainable params: 5,549\n",
            "Non-trainable params: 0\n",
            "_________________________________________________________________\n"
          ]
        }
      ]
    },
    {
      "cell_type": "markdown",
      "source": [
        "- 모델 설정"
      ],
      "metadata": {
        "id": "Pw3yW2u-Luma"
      }
    },
    {
      "cell_type": "code",
      "source": [
        "model2.compile(optimizer='adam', loss='binary_crossentropy', metrics=['accuracy'])"
      ],
      "metadata": {
        "id": "fjsvTIANLs-U"
      },
      "execution_count": 16,
      "outputs": []
    },
    {
      "cell_type": "markdown",
      "source": [
        "- 모델 학습"
      ],
      "metadata": {
        "id": "OBXM1lD1MAbC"
      }
    },
    {
      "cell_type": "code",
      "source": [
        "hist2 = model2.fit(X_train2, y_train2, validation_split=0.2,\n",
        "                   epochs=100, batch_size=100)"
      ],
      "metadata": {
        "colab": {
          "base_uri": "https://localhost:8080/"
        },
        "id": "90fs_wZQL7IA",
        "outputId": "4e31e401-b390-4268-e472-2c5ff30566dc"
      },
      "execution_count": 17,
      "outputs": [
        {
          "output_type": "stream",
          "name": "stdout",
          "text": [
            "Epoch 1/100\n",
            "4/4 [==============================] - 1s 105ms/step - loss: 0.5974 - accuracy: 0.7747 - val_loss: 0.4750 - val_accuracy: 0.8901\n",
            "Epoch 2/100\n",
            "4/4 [==============================] - 0s 17ms/step - loss: 0.4330 - accuracy: 0.9121 - val_loss: 0.3624 - val_accuracy: 0.9121\n",
            "Epoch 3/100\n",
            "4/4 [==============================] - 0s 18ms/step - loss: 0.3326 - accuracy: 0.9505 - val_loss: 0.2909 - val_accuracy: 0.9011\n",
            "Epoch 4/100\n",
            "4/4 [==============================] - 0s 19ms/step - loss: 0.2663 - accuracy: 0.9505 - val_loss: 0.2432 - val_accuracy: 0.9011\n",
            "Epoch 5/100\n",
            "4/4 [==============================] - 0s 17ms/step - loss: 0.2190 - accuracy: 0.9560 - val_loss: 0.2098 - val_accuracy: 0.9011\n",
            "Epoch 6/100\n",
            "4/4 [==============================] - 0s 17ms/step - loss: 0.1842 - accuracy: 0.9588 - val_loss: 0.1861 - val_accuracy: 0.9011\n",
            "Epoch 7/100\n",
            "4/4 [==============================] - 0s 16ms/step - loss: 0.1578 - accuracy: 0.9588 - val_loss: 0.1694 - val_accuracy: 0.9121\n",
            "Epoch 8/100\n",
            "4/4 [==============================] - 0s 17ms/step - loss: 0.1383 - accuracy: 0.9588 - val_loss: 0.1567 - val_accuracy: 0.9341\n",
            "Epoch 9/100\n",
            "4/4 [==============================] - 0s 14ms/step - loss: 0.1221 - accuracy: 0.9670 - val_loss: 0.1471 - val_accuracy: 0.9451\n",
            "Epoch 10/100\n",
            "4/4 [==============================] - 0s 16ms/step - loss: 0.1103 - accuracy: 0.9698 - val_loss: 0.1399 - val_accuracy: 0.9451\n",
            "Epoch 11/100\n",
            "4/4 [==============================] - 0s 21ms/step - loss: 0.1004 - accuracy: 0.9698 - val_loss: 0.1343 - val_accuracy: 0.9341\n",
            "Epoch 12/100\n",
            "4/4 [==============================] - 0s 17ms/step - loss: 0.0933 - accuracy: 0.9725 - val_loss: 0.1297 - val_accuracy: 0.9341\n",
            "Epoch 13/100\n",
            "4/4 [==============================] - 0s 19ms/step - loss: 0.0872 - accuracy: 0.9753 - val_loss: 0.1257 - val_accuracy: 0.9451\n",
            "Epoch 14/100\n",
            "4/4 [==============================] - 0s 16ms/step - loss: 0.0825 - accuracy: 0.9780 - val_loss: 0.1225 - val_accuracy: 0.9451\n",
            "Epoch 15/100\n",
            "4/4 [==============================] - 0s 19ms/step - loss: 0.0781 - accuracy: 0.9780 - val_loss: 0.1199 - val_accuracy: 0.9560\n",
            "Epoch 16/100\n",
            "4/4 [==============================] - 0s 23ms/step - loss: 0.0744 - accuracy: 0.9780 - val_loss: 0.1171 - val_accuracy: 0.9560\n",
            "Epoch 17/100\n",
            "4/4 [==============================] - 0s 16ms/step - loss: 0.0711 - accuracy: 0.9780 - val_loss: 0.1150 - val_accuracy: 0.9560\n",
            "Epoch 18/100\n",
            "4/4 [==============================] - 0s 16ms/step - loss: 0.0681 - accuracy: 0.9780 - val_loss: 0.1131 - val_accuracy: 0.9560\n",
            "Epoch 19/100\n",
            "4/4 [==============================] - 0s 19ms/step - loss: 0.0655 - accuracy: 0.9808 - val_loss: 0.1114 - val_accuracy: 0.9560\n",
            "Epoch 20/100\n",
            "4/4 [==============================] - 0s 16ms/step - loss: 0.0630 - accuracy: 0.9808 - val_loss: 0.1092 - val_accuracy: 0.9560\n",
            "Epoch 21/100\n",
            "4/4 [==============================] - 0s 17ms/step - loss: 0.0608 - accuracy: 0.9808 - val_loss: 0.1075 - val_accuracy: 0.9560\n",
            "Epoch 22/100\n",
            "4/4 [==============================] - 0s 20ms/step - loss: 0.0587 - accuracy: 0.9808 - val_loss: 0.1062 - val_accuracy: 0.9560\n",
            "Epoch 23/100\n",
            "4/4 [==============================] - 0s 19ms/step - loss: 0.0567 - accuracy: 0.9808 - val_loss: 0.1051 - val_accuracy: 0.9560\n",
            "Epoch 24/100\n",
            "4/4 [==============================] - 0s 17ms/step - loss: 0.0550 - accuracy: 0.9808 - val_loss: 0.1041 - val_accuracy: 0.9560\n",
            "Epoch 25/100\n",
            "4/4 [==============================] - 0s 16ms/step - loss: 0.0534 - accuracy: 0.9808 - val_loss: 0.1033 - val_accuracy: 0.9560\n",
            "Epoch 26/100\n",
            "4/4 [==============================] - 0s 16ms/step - loss: 0.0516 - accuracy: 0.9808 - val_loss: 0.1025 - val_accuracy: 0.9560\n",
            "Epoch 27/100\n",
            "4/4 [==============================] - 0s 15ms/step - loss: 0.0500 - accuracy: 0.9808 - val_loss: 0.1022 - val_accuracy: 0.9560\n",
            "Epoch 28/100\n",
            "4/4 [==============================] - 0s 19ms/step - loss: 0.0486 - accuracy: 0.9808 - val_loss: 0.1020 - val_accuracy: 0.9560\n",
            "Epoch 29/100\n",
            "4/4 [==============================] - 0s 18ms/step - loss: 0.0471 - accuracy: 0.9808 - val_loss: 0.1019 - val_accuracy: 0.9560\n",
            "Epoch 30/100\n",
            "4/4 [==============================] - 0s 18ms/step - loss: 0.0456 - accuracy: 0.9808 - val_loss: 0.1020 - val_accuracy: 0.9670\n",
            "Epoch 31/100\n",
            "4/4 [==============================] - 0s 22ms/step - loss: 0.0444 - accuracy: 0.9808 - val_loss: 0.1026 - val_accuracy: 0.9670\n",
            "Epoch 32/100\n",
            "4/4 [==============================] - 0s 18ms/step - loss: 0.0430 - accuracy: 0.9808 - val_loss: 0.1028 - val_accuracy: 0.9670\n",
            "Epoch 33/100\n",
            "4/4 [==============================] - 0s 19ms/step - loss: 0.0418 - accuracy: 0.9808 - val_loss: 0.1031 - val_accuracy: 0.9670\n",
            "Epoch 34/100\n",
            "4/4 [==============================] - 0s 17ms/step - loss: 0.0406 - accuracy: 0.9835 - val_loss: 0.1031 - val_accuracy: 0.9670\n",
            "Epoch 35/100\n",
            "4/4 [==============================] - 0s 19ms/step - loss: 0.0393 - accuracy: 0.9835 - val_loss: 0.1030 - val_accuracy: 0.9670\n",
            "Epoch 36/100\n",
            "4/4 [==============================] - 0s 16ms/step - loss: 0.0381 - accuracy: 0.9863 - val_loss: 0.1027 - val_accuracy: 0.9670\n",
            "Epoch 37/100\n",
            "4/4 [==============================] - 0s 17ms/step - loss: 0.0370 - accuracy: 0.9863 - val_loss: 0.1024 - val_accuracy: 0.9670\n",
            "Epoch 38/100\n",
            "4/4 [==============================] - 0s 16ms/step - loss: 0.0359 - accuracy: 0.9890 - val_loss: 0.1020 - val_accuracy: 0.9670\n",
            "Epoch 39/100\n",
            "4/4 [==============================] - 0s 17ms/step - loss: 0.0348 - accuracy: 0.9918 - val_loss: 0.1020 - val_accuracy: 0.9670\n",
            "Epoch 40/100\n",
            "4/4 [==============================] - 0s 17ms/step - loss: 0.0338 - accuracy: 0.9918 - val_loss: 0.1019 - val_accuracy: 0.9670\n",
            "Epoch 41/100\n",
            "4/4 [==============================] - 0s 17ms/step - loss: 0.0327 - accuracy: 0.9918 - val_loss: 0.1018 - val_accuracy: 0.9670\n",
            "Epoch 42/100\n",
            "4/4 [==============================] - 0s 18ms/step - loss: 0.0317 - accuracy: 0.9918 - val_loss: 0.1019 - val_accuracy: 0.9670\n",
            "Epoch 43/100\n",
            "4/4 [==============================] - 0s 19ms/step - loss: 0.0309 - accuracy: 0.9918 - val_loss: 0.1028 - val_accuracy: 0.9670\n",
            "Epoch 44/100\n",
            "4/4 [==============================] - 0s 17ms/step - loss: 0.0298 - accuracy: 0.9918 - val_loss: 0.1032 - val_accuracy: 0.9670\n",
            "Epoch 45/100\n",
            "4/4 [==============================] - 0s 15ms/step - loss: 0.0288 - accuracy: 0.9918 - val_loss: 0.1033 - val_accuracy: 0.9670\n",
            "Epoch 46/100\n",
            "4/4 [==============================] - 0s 19ms/step - loss: 0.0281 - accuracy: 0.9918 - val_loss: 0.1042 - val_accuracy: 0.9670\n",
            "Epoch 47/100\n",
            "4/4 [==============================] - 0s 20ms/step - loss: 0.0271 - accuracy: 0.9918 - val_loss: 0.1044 - val_accuracy: 0.9670\n",
            "Epoch 48/100\n",
            "4/4 [==============================] - 0s 17ms/step - loss: 0.0261 - accuracy: 0.9918 - val_loss: 0.1044 - val_accuracy: 0.9670\n",
            "Epoch 49/100\n",
            "4/4 [==============================] - 0s 17ms/step - loss: 0.0252 - accuracy: 0.9918 - val_loss: 0.1052 - val_accuracy: 0.9670\n",
            "Epoch 50/100\n",
            "4/4 [==============================] - 0s 17ms/step - loss: 0.0243 - accuracy: 0.9918 - val_loss: 0.1064 - val_accuracy: 0.9670\n",
            "Epoch 51/100\n",
            "4/4 [==============================] - 0s 18ms/step - loss: 0.0235 - accuracy: 0.9945 - val_loss: 0.1071 - val_accuracy: 0.9670\n",
            "Epoch 52/100\n",
            "4/4 [==============================] - 0s 18ms/step - loss: 0.0228 - accuracy: 0.9945 - val_loss: 0.1077 - val_accuracy: 0.9670\n",
            "Epoch 53/100\n",
            "4/4 [==============================] - 0s 18ms/step - loss: 0.0224 - accuracy: 0.9945 - val_loss: 0.1091 - val_accuracy: 0.9670\n",
            "Epoch 54/100\n",
            "4/4 [==============================] - 0s 16ms/step - loss: 0.0214 - accuracy: 0.9945 - val_loss: 0.1094 - val_accuracy: 0.9670\n",
            "Epoch 55/100\n",
            "4/4 [==============================] - 0s 20ms/step - loss: 0.0207 - accuracy: 0.9945 - val_loss: 0.1101 - val_accuracy: 0.9560\n",
            "Epoch 56/100\n",
            "4/4 [==============================] - 0s 22ms/step - loss: 0.0200 - accuracy: 0.9945 - val_loss: 0.1110 - val_accuracy: 0.9560\n",
            "Epoch 57/100\n",
            "4/4 [==============================] - 0s 17ms/step - loss: 0.0192 - accuracy: 0.9973 - val_loss: 0.1117 - val_accuracy: 0.9560\n",
            "Epoch 58/100\n",
            "4/4 [==============================] - 0s 18ms/step - loss: 0.0187 - accuracy: 0.9973 - val_loss: 0.1126 - val_accuracy: 0.9560\n",
            "Epoch 59/100\n",
            "4/4 [==============================] - 0s 16ms/step - loss: 0.0180 - accuracy: 0.9973 - val_loss: 0.1129 - val_accuracy: 0.9560\n",
            "Epoch 60/100\n",
            "4/4 [==============================] - 0s 19ms/step - loss: 0.0175 - accuracy: 0.9973 - val_loss: 0.1145 - val_accuracy: 0.9560\n",
            "Epoch 61/100\n",
            "4/4 [==============================] - 0s 18ms/step - loss: 0.0168 - accuracy: 0.9973 - val_loss: 0.1153 - val_accuracy: 0.9560\n",
            "Epoch 62/100\n",
            "4/4 [==============================] - 0s 21ms/step - loss: 0.0162 - accuracy: 0.9973 - val_loss: 0.1166 - val_accuracy: 0.9560\n",
            "Epoch 63/100\n",
            "4/4 [==============================] - 0s 17ms/step - loss: 0.0157 - accuracy: 0.9973 - val_loss: 0.1180 - val_accuracy: 0.9560\n",
            "Epoch 64/100\n",
            "4/4 [==============================] - 0s 16ms/step - loss: 0.0152 - accuracy: 0.9973 - val_loss: 0.1192 - val_accuracy: 0.9560\n",
            "Epoch 65/100\n",
            "4/4 [==============================] - 0s 16ms/step - loss: 0.0147 - accuracy: 0.9973 - val_loss: 0.1197 - val_accuracy: 0.9560\n",
            "Epoch 66/100\n",
            "4/4 [==============================] - 0s 17ms/step - loss: 0.0142 - accuracy: 0.9973 - val_loss: 0.1204 - val_accuracy: 0.9560\n",
            "Epoch 67/100\n",
            "4/4 [==============================] - 0s 16ms/step - loss: 0.0137 - accuracy: 0.9973 - val_loss: 0.1205 - val_accuracy: 0.9560\n",
            "Epoch 68/100\n",
            "4/4 [==============================] - 0s 17ms/step - loss: 0.0133 - accuracy: 0.9973 - val_loss: 0.1201 - val_accuracy: 0.9560\n",
            "Epoch 69/100\n",
            "4/4 [==============================] - 0s 18ms/step - loss: 0.0129 - accuracy: 0.9973 - val_loss: 0.1214 - val_accuracy: 0.9560\n",
            "Epoch 70/100\n",
            "4/4 [==============================] - 0s 17ms/step - loss: 0.0124 - accuracy: 1.0000 - val_loss: 0.1221 - val_accuracy: 0.9560\n",
            "Epoch 71/100\n",
            "4/4 [==============================] - 0s 17ms/step - loss: 0.0121 - accuracy: 1.0000 - val_loss: 0.1223 - val_accuracy: 0.9560\n",
            "Epoch 72/100\n",
            "4/4 [==============================] - 0s 22ms/step - loss: 0.0117 - accuracy: 1.0000 - val_loss: 0.1234 - val_accuracy: 0.9560\n",
            "Epoch 73/100\n",
            "4/4 [==============================] - 0s 19ms/step - loss: 0.0113 - accuracy: 1.0000 - val_loss: 0.1246 - val_accuracy: 0.9560\n",
            "Epoch 74/100\n",
            "4/4 [==============================] - 0s 17ms/step - loss: 0.0109 - accuracy: 1.0000 - val_loss: 0.1251 - val_accuracy: 0.9560\n",
            "Epoch 75/100\n",
            "4/4 [==============================] - 0s 20ms/step - loss: 0.0106 - accuracy: 1.0000 - val_loss: 0.1254 - val_accuracy: 0.9560\n",
            "Epoch 76/100\n",
            "4/4 [==============================] - 0s 22ms/step - loss: 0.0103 - accuracy: 1.0000 - val_loss: 0.1254 - val_accuracy: 0.9560\n",
            "Epoch 77/100\n",
            "4/4 [==============================] - 0s 18ms/step - loss: 0.0100 - accuracy: 1.0000 - val_loss: 0.1259 - val_accuracy: 0.9560\n",
            "Epoch 78/100\n",
            "4/4 [==============================] - 0s 18ms/step - loss: 0.0097 - accuracy: 1.0000 - val_loss: 0.1274 - val_accuracy: 0.9560\n",
            "Epoch 79/100\n",
            "4/4 [==============================] - 0s 15ms/step - loss: 0.0094 - accuracy: 1.0000 - val_loss: 0.1284 - val_accuracy: 0.9560\n",
            "Epoch 80/100\n",
            "4/4 [==============================] - 0s 20ms/step - loss: 0.0091 - accuracy: 1.0000 - val_loss: 0.1298 - val_accuracy: 0.9560\n",
            "Epoch 81/100\n",
            "4/4 [==============================] - 0s 16ms/step - loss: 0.0088 - accuracy: 1.0000 - val_loss: 0.1300 - val_accuracy: 0.9560\n",
            "Epoch 82/100\n",
            "4/4 [==============================] - 0s 16ms/step - loss: 0.0085 - accuracy: 1.0000 - val_loss: 0.1313 - val_accuracy: 0.9560\n",
            "Epoch 83/100\n",
            "4/4 [==============================] - 0s 16ms/step - loss: 0.0083 - accuracy: 1.0000 - val_loss: 0.1318 - val_accuracy: 0.9560\n",
            "Epoch 84/100\n",
            "4/4 [==============================] - 0s 16ms/step - loss: 0.0081 - accuracy: 1.0000 - val_loss: 0.1327 - val_accuracy: 0.9560\n",
            "Epoch 85/100\n",
            "4/4 [==============================] - 0s 18ms/step - loss: 0.0079 - accuracy: 1.0000 - val_loss: 0.1334 - val_accuracy: 0.9560\n",
            "Epoch 86/100\n",
            "4/4 [==============================] - 0s 17ms/step - loss: 0.0076 - accuracy: 1.0000 - val_loss: 0.1337 - val_accuracy: 0.9560\n",
            "Epoch 87/100\n",
            "4/4 [==============================] - 0s 16ms/step - loss: 0.0075 - accuracy: 1.0000 - val_loss: 0.1344 - val_accuracy: 0.9560\n",
            "Epoch 88/100\n",
            "4/4 [==============================] - 0s 16ms/step - loss: 0.0073 - accuracy: 1.0000 - val_loss: 0.1348 - val_accuracy: 0.9560\n",
            "Epoch 89/100\n",
            "4/4 [==============================] - 0s 20ms/step - loss: 0.0070 - accuracy: 1.0000 - val_loss: 0.1359 - val_accuracy: 0.9560\n",
            "Epoch 90/100\n",
            "4/4 [==============================] - 0s 17ms/step - loss: 0.0068 - accuracy: 1.0000 - val_loss: 0.1376 - val_accuracy: 0.9560\n",
            "Epoch 91/100\n",
            "4/4 [==============================] - 0s 18ms/step - loss: 0.0066 - accuracy: 1.0000 - val_loss: 0.1380 - val_accuracy: 0.9560\n",
            "Epoch 92/100\n",
            "4/4 [==============================] - 0s 23ms/step - loss: 0.0065 - accuracy: 1.0000 - val_loss: 0.1379 - val_accuracy: 0.9560\n",
            "Epoch 93/100\n",
            "4/4 [==============================] - 0s 18ms/step - loss: 0.0063 - accuracy: 1.0000 - val_loss: 0.1385 - val_accuracy: 0.9560\n",
            "Epoch 94/100\n",
            "4/4 [==============================] - 0s 17ms/step - loss: 0.0061 - accuracy: 1.0000 - val_loss: 0.1389 - val_accuracy: 0.9560\n",
            "Epoch 95/100\n",
            "4/4 [==============================] - 0s 17ms/step - loss: 0.0059 - accuracy: 1.0000 - val_loss: 0.1408 - val_accuracy: 0.9560\n",
            "Epoch 96/100\n",
            "4/4 [==============================] - 0s 17ms/step - loss: 0.0058 - accuracy: 1.0000 - val_loss: 0.1417 - val_accuracy: 0.9560\n",
            "Epoch 97/100\n",
            "4/4 [==============================] - 0s 17ms/step - loss: 0.0057 - accuracy: 1.0000 - val_loss: 0.1427 - val_accuracy: 0.9560\n",
            "Epoch 98/100\n",
            "4/4 [==============================] - 0s 18ms/step - loss: 0.0055 - accuracy: 1.0000 - val_loss: 0.1441 - val_accuracy: 0.9560\n",
            "Epoch 99/100\n",
            "4/4 [==============================] - 0s 17ms/step - loss: 0.0053 - accuracy: 1.0000 - val_loss: 0.1447 - val_accuracy: 0.9560\n",
            "Epoch 100/100\n",
            "4/4 [==============================] - 0s 19ms/step - loss: 0.0052 - accuracy: 1.0000 - val_loss: 0.1450 - val_accuracy: 0.9560\n"
          ]
        }
      ]
    },
    {
      "cell_type": "markdown",
      "source": [
        "- 모델 평가"
      ],
      "metadata": {
        "id": "vkAkV5-BMX8q"
      }
    },
    {
      "cell_type": "code",
      "source": [
        "model2.evaluate(X_test2, y_test2)"
      ],
      "metadata": {
        "colab": {
          "base_uri": "https://localhost:8080/"
        },
        "id": "4OVLHDZaMPho",
        "outputId": "50184eff-eb10-4b89-f595-128d2602ff9b"
      },
      "execution_count": 19,
      "outputs": [
        {
          "output_type": "stream",
          "name": "stdout",
          "text": [
            "4/4 [==============================] - 0s 4ms/step - loss: 0.1128 - accuracy: 0.9737\n"
          ]
        },
        {
          "output_type": "execute_result",
          "data": {
            "text/plain": [
              "[0.11280807852745056, 0.9736841917037964]"
            ]
          },
          "metadata": {},
          "execution_count": 19
        }
      ]
    },
    {
      "cell_type": "markdown",
      "source": [
        "- 학습과정 시각화"
      ],
      "metadata": {
        "id": "H-pOcowkMnCs"
      }
    },
    {
      "cell_type": "code",
      "source": [
        "y_acc2 = hist2.history['accuracy']\n",
        "y_vloss2 = hist2.history['val_loss']\n",
        "xs = np.arange(1, len(y_acc2)+1)"
      ],
      "metadata": {
        "id": "PB0CWy9lMd_9"
      },
      "execution_count": 22,
      "outputs": []
    },
    {
      "cell_type": "code",
      "source": [
        "plt.figure(figsize=(12,8))\n",
        "plt.plot(xs, y_acc2, label='train accuracy')\n",
        "plt.plot(xs, y_vloss2, label='validation loss')\n",
        "plt.legend(), plt.grid()\n",
        "plt.ylim([0,1.2])\n",
        "plt.xlabel('Epoch')\n",
        "plt.title('After feature transform')\n",
        "plt.show()"
      ],
      "metadata": {
        "colab": {
          "base_uri": "https://localhost:8080/",
          "height": 513
        },
        "id": "6-u-Jga2Mu2E",
        "outputId": "5e7206c2-06ce-4720-9b35-4e1d7dfbcd2d"
      },
      "execution_count": 25,
      "outputs": [
        {
          "output_type": "display_data",
          "data": {
            "text/plain": [
              "<Figure size 864x576 with 1 Axes>"
            ],
            "image/png": "[encoded data removed]"
          },
          "metadata": {
            "needs_background": "light"
          }
        }
      ]
    }
  ]
}