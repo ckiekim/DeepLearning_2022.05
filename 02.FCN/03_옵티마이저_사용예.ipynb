{
  "nbformat": 4,
  "nbformat_minor": 0,
  "metadata": {
    "colab": {
      "name": "03_옵티마이저_사용예.ipynb",
      "provenance": [],
      "collapsed_sections": []
    },
    "kernelspec": {
      "name": "python3",
      "display_name": "Python 3"
    },
    "language_info": {
      "name": "python"
    }
  },
  "cells": [
    {
      "cell_type": "markdown",
      "source": [
        "# 신경망 모델에서 옵티마이저 사용법\n",
        "### - 이진분류: 유방암 예측 사례"
      ],
      "metadata": {
        "id": "BD76KiWnXABM"
      }
    },
    {
      "cell_type": "code",
      "execution_count": 1,
      "metadata": {
        "id": "WJ8BVvtIW5QL"
      },
      "outputs": [],
      "source": [
        "import numpy as np\n",
        "import matplotlib.pyplot as plt\n",
        "from sklearn.datasets import load_breast_cancer\n",
        "from sklearn.preprocessing import StandardScaler\n",
        "from sklearn.model_selection import train_test_split"
      ]
    },
    {
      "cell_type": "code",
      "source": [
        "cancer = load_breast_cancer()\n",
        "cancer_std = StandardScaler().fit_transform(cancer.data)\n",
        "X_train, X_test, y_train, y_test = train_test_split(\n",
        "    cancer_std, cancer.target, stratify=cancer.target,\n",
        "    test_size=0.2, random_state=2022\n",
        ")"
      ],
      "metadata": {
        "id": "GRBhWt04XfND"
      },
      "execution_count": 2,
      "outputs": []
    },
    {
      "cell_type": "markdown",
      "source": [
        "### 1. Adam optimizer"
      ],
      "metadata": {
        "id": "z__k7D3NX-pZ"
      }
    },
    {
      "cell_type": "code",
      "source": [
        "from tensorflow.keras.models import Sequential\n",
        "from tensorflow.keras.layers import Dense"
      ],
      "metadata": {
        "id": "Ub--gJ7aX6fT"
      },
      "execution_count": 3,
      "outputs": []
    },
    {
      "cell_type": "code",
      "source": [
        "model = Sequential([\n",
        "    Dense(100, input_dim=30, activation='relu'),\n",
        "    Dense(24, activation='relu'),\n",
        "    Dense(1, activation='sigmoid')\n",
        "])"
      ],
      "metadata": {
        "id": "gtu6Hvy2YP5N"
      },
      "execution_count": 4,
      "outputs": []
    },
    {
      "cell_type": "markdown",
      "source": [
        "#### Adam 하이퍼 파라메터\n",
        "- learning_rate: 0보다 크거나 같은 float 값. 학습률.\n",
        "- beta_1: 0보다 크고 1보다 작은 float 값. 일반적으로 1에 가깝게 설정됩니다.\n",
        "- beta_2: 0보다 크고 1보다 작은 float 값. 일반적으로 1에 가깝게 설정됩니다.\n",
        "- epsilon: 0보다 크거나 같은 float형 fuzz factor. None인 경우 K.epsilon()이 사용됩니다.\n",
        "- decay: 0보다 크거나 같은 float 값. 업데이트마다 적용되는 학습률의 감소율입니다.\n",
        "- amsgrad: 불리언. Adam의 변형인 AMSGrad의 적용 여부를 설정합니다"
      ],
      "metadata": {
        "id": "w9feT2b7YrTa"
      }
    },
    {
      "cell_type": "code",
      "source": [
        "from tensorflow.keras.optimizers import Adam\n",
        "adam = Adam(learning_rate=0.001, beta_1=0.9, beta_2=0.999,\n",
        "            epsilon=None, decay=0.0, amsgrad=False)"
      ],
      "metadata": {
        "id": "ZsyQ2LdPYlNR"
      },
      "execution_count": 5,
      "outputs": []
    },
    {
      "cell_type": "code",
      "source": [
        "model.compile(optimizer=adam, loss='binary_crossentropy', metrics=['accuracy'])"
      ],
      "metadata": {
        "id": "497AhUdRZsAy"
      },
      "execution_count": 6,
      "outputs": []
    },
    {
      "cell_type": "code",
      "source": [
        "hist = model.fit(X_train, y_train, validation_split=0.2,\n",
        "                 epochs=100, batch_size=100, verbose=0)"
      ],
      "metadata": {
        "id": "HxfGtOdwakJk"
      },
      "execution_count": 7,
      "outputs": []
    },
    {
      "cell_type": "code",
      "source": [
        "model.evaluate(X_test, y_test)"
      ],
      "metadata": {
        "colab": {
          "base_uri": "https://localhost:8080/"
        },
        "id": "dSvLBrg2a0wy",
        "outputId": "dfd71479-0bf9-40f1-b269-fba8b68c72d3"
      },
      "execution_count": 8,
      "outputs": [
        {
          "output_type": "stream",
          "name": "stdout",
          "text": [
            "4/4 [==============================] - 0s 5ms/step - loss: 0.0630 - accuracy: 0.9825\n"
          ]
        },
        {
          "output_type": "execute_result",
          "data": {
            "text/plain": [
              "[0.06301966309547424, 0.9824561476707458]"
            ]
          },
          "metadata": {},
          "execution_count": 8
        }
      ]
    },
    {
      "cell_type": "code",
      "source": [
        "y_acc = hist.history['accuracy']\n",
        "y_vloss = hist.history['val_loss']\n",
        "xs = np.arange(1,len(y_acc)+1)"
      ],
      "metadata": {
        "id": "67I-vsWUbCkb"
      },
      "execution_count": 9,
      "outputs": []
    },
    {
      "cell_type": "code",
      "source": [
        "plt.figure(figsize=(12,8))\n",
        "plt.plot(xs, y_acc, label='train accuracy')\n",
        "plt.plot(xs, y_vloss, label='validation loss')\n",
        "plt.legend()\n",
        "plt.grid()\n",
        "plt.ylim([0,1.1])\n",
        "plt.xlabel('Epoch')\n",
        "plt.title('Adam optimizer')\n",
        "plt.show()"
      ],
      "metadata": {
        "colab": {
          "base_uri": "https://localhost:8080/",
          "height": 513
        },
        "id": "1Usos2PmbbkM",
        "outputId": "5c6d4734-76fc-4fde-c016-878991a02311"
      },
      "execution_count": 10,
      "outputs": [
        {
          "output_type": "display_data",
          "data": {
            "text/plain": [
              "<Figure size 864x576 with 1 Axes>"
            ],
            "image/png": "[encoded data removed]"
          },
          "metadata": {
            "needs_background": "light"
          }
        }
      ]
    },
    {
      "cell_type": "markdown",
      "source": [
        "### 2. RMSprop Optimizer"
      ],
      "metadata": {
        "id": "64IzKXS7b79i"
      }
    },
    {
      "cell_type": "code",
      "source": [
        "model2 = Sequential([\n",
        "    Dense(100, input_dim=30, activation='relu'),\n",
        "    Dense(24, activation='relu'),\n",
        "    Dense(1, activation='sigmoid')\n",
        "])"
      ],
      "metadata": {
        "id": "pj0bEOZ6bgqV"
      },
      "execution_count": 11,
      "outputs": []
    },
    {
      "cell_type": "markdown",
      "source": [
        "#### RMSprop 하이퍼 파라메터\n",
        "- lr: 0보다 크거나 같은 float 값. 학습률.\n",
        "- rho: 0보다 크거나 같은 float 값.\n",
        "- epsilon: 0보다 크거나 같은 float형 fuzz factor. None인 경우 K.epsilon()이 사용됩니다.\n",
        "- decay: 0보다 크거나 같은 float 값. 업데이트마다 적용되는 학습률의 감소율입니다."
      ],
      "metadata": {
        "id": "rviBw_eOcGXz"
      }
    },
    {
      "cell_type": "code",
      "source": [
        "from tensorflow.keras.optimizers import RMSprop\n",
        "rmsp = RMSprop(learning_rate=0.001, rho=0.9, epsilon=None, decay=0.0)"
      ],
      "metadata": {
        "id": "Wcgh1hxscFda"
      },
      "execution_count": 12,
      "outputs": []
    },
    {
      "cell_type": "code",
      "source": [
        "model2.compile(rmsp, 'binary_crossentropy', ['accuracy'])"
      ],
      "metadata": {
        "id": "UsekApX_fbqM"
      },
      "execution_count": 13,
      "outputs": []
    },
    {
      "cell_type": "code",
      "source": [
        "hist2 = model2.fit(X_train, y_train, validation_split=0.2,\n",
        "                   epochs=100, batch_size=100, verbose=2)"
      ],
      "metadata": {
        "colab": {
          "base_uri": "https://localhost:8080/"
        },
        "id": "kXFGWpo7fweH",
        "outputId": "ed08c774-4742-4c1e-b093-6c3fb5658261"
      },
      "execution_count": 14,
      "outputs": [
        {
          "output_type": "stream",
          "name": "stdout",
          "text": [
            "Epoch 1/100\n",
            "4/4 - 1s - loss: 0.5740 - accuracy: 0.7610 - val_loss: 0.3880 - val_accuracy: 0.8901 - 1s/epoch - 327ms/step\n",
            "Epoch 2/100\n",
            "4/4 - 0s - loss: 0.3495 - accuracy: 0.9286 - val_loss: 0.2955 - val_accuracy: 0.9451 - 45ms/epoch - 11ms/step\n",
            "Epoch 3/100\n",
            "4/4 - 0s - loss: 0.2675 - accuracy: 0.9478 - val_loss: 0.2427 - val_accuracy: 0.9341 - 49ms/epoch - 12ms/step\n",
            "Epoch 4/100\n",
            "4/4 - 0s - loss: 0.2186 - accuracy: 0.9505 - val_loss: 0.2071 - val_accuracy: 0.9451 - 47ms/epoch - 12ms/step\n",
            "Epoch 5/100\n",
            "4/4 - 0s - loss: 0.1860 - accuracy: 0.9560 - val_loss: 0.1817 - val_accuracy: 0.9560 - 46ms/epoch - 12ms/step\n",
            "Epoch 6/100\n",
            "4/4 - 0s - loss: 0.1596 - accuracy: 0.9643 - val_loss: 0.1614 - val_accuracy: 0.9560 - 41ms/epoch - 10ms/step\n",
            "Epoch 7/100\n",
            "4/4 - 0s - loss: 0.1403 - accuracy: 0.9670 - val_loss: 0.1463 - val_accuracy: 0.9560 - 40ms/epoch - 10ms/step\n",
            "Epoch 8/100\n",
            "4/4 - 0s - loss: 0.1239 - accuracy: 0.9670 - val_loss: 0.1340 - val_accuracy: 0.9670 - 44ms/epoch - 11ms/step\n",
            "Epoch 9/100\n",
            "4/4 - 0s - loss: 0.1106 - accuracy: 0.9725 - val_loss: 0.1244 - val_accuracy: 0.9780 - 43ms/epoch - 11ms/step\n",
            "Epoch 10/100\n",
            "4/4 - 0s - loss: 0.0990 - accuracy: 0.9808 - val_loss: 0.1192 - val_accuracy: 0.9670 - 52ms/epoch - 13ms/step\n",
            "Epoch 11/100\n",
            "4/4 - 0s - loss: 0.0900 - accuracy: 0.9808 - val_loss: 0.1155 - val_accuracy: 0.9670 - 40ms/epoch - 10ms/step\n",
            "Epoch 12/100\n",
            "4/4 - 0s - loss: 0.0825 - accuracy: 0.9835 - val_loss: 0.1118 - val_accuracy: 0.9670 - 44ms/epoch - 11ms/step\n",
            "Epoch 13/100\n",
            "4/4 - 0s - loss: 0.0754 - accuracy: 0.9835 - val_loss: 0.1082 - val_accuracy: 0.9670 - 45ms/epoch - 11ms/step\n",
            "Epoch 14/100\n",
            "4/4 - 0s - loss: 0.0695 - accuracy: 0.9863 - val_loss: 0.1063 - val_accuracy: 0.9670 - 41ms/epoch - 10ms/step\n",
            "Epoch 15/100\n",
            "4/4 - 0s - loss: 0.0646 - accuracy: 0.9863 - val_loss: 0.1048 - val_accuracy: 0.9670 - 41ms/epoch - 10ms/step\n",
            "Epoch 16/100\n",
            "4/4 - 0s - loss: 0.0601 - accuracy: 0.9835 - val_loss: 0.1034 - val_accuracy: 0.9560 - 46ms/epoch - 11ms/step\n",
            "Epoch 17/100\n",
            "4/4 - 0s - loss: 0.0561 - accuracy: 0.9835 - val_loss: 0.0989 - val_accuracy: 0.9670 - 47ms/epoch - 12ms/step\n",
            "Epoch 18/100\n",
            "4/4 - 0s - loss: 0.0529 - accuracy: 0.9863 - val_loss: 0.0981 - val_accuracy: 0.9670 - 54ms/epoch - 13ms/step\n",
            "Epoch 19/100\n",
            "4/4 - 0s - loss: 0.0501 - accuracy: 0.9863 - val_loss: 0.1038 - val_accuracy: 0.9560 - 43ms/epoch - 11ms/step\n",
            "Epoch 20/100\n",
            "4/4 - 0s - loss: 0.0467 - accuracy: 0.9835 - val_loss: 0.0992 - val_accuracy: 0.9670 - 53ms/epoch - 13ms/step\n",
            "Epoch 21/100\n",
            "4/4 - 0s - loss: 0.0443 - accuracy: 0.9863 - val_loss: 0.0954 - val_accuracy: 0.9670 - 47ms/epoch - 12ms/step\n",
            "Epoch 22/100\n",
            "4/4 - 0s - loss: 0.0428 - accuracy: 0.9863 - val_loss: 0.0972 - val_accuracy: 0.9670 - 44ms/epoch - 11ms/step\n",
            "Epoch 23/100\n",
            "4/4 - 0s - loss: 0.0394 - accuracy: 0.9890 - val_loss: 0.0952 - val_accuracy: 0.9670 - 41ms/epoch - 10ms/step\n",
            "Epoch 24/100\n",
            "4/4 - 0s - loss: 0.0378 - accuracy: 0.9890 - val_loss: 0.0978 - val_accuracy: 0.9670 - 40ms/epoch - 10ms/step\n",
            "Epoch 25/100\n",
            "4/4 - 0s - loss: 0.0354 - accuracy: 0.9890 - val_loss: 0.0960 - val_accuracy: 0.9670 - 45ms/epoch - 11ms/step\n",
            "Epoch 26/100\n",
            "4/4 - 0s - loss: 0.0332 - accuracy: 0.9918 - val_loss: 0.0952 - val_accuracy: 0.9670 - 44ms/epoch - 11ms/step\n",
            "Epoch 27/100\n",
            "4/4 - 0s - loss: 0.0308 - accuracy: 0.9918 - val_loss: 0.0957 - val_accuracy: 0.9560 - 45ms/epoch - 11ms/step\n",
            "Epoch 28/100\n",
            "4/4 - 0s - loss: 0.0296 - accuracy: 0.9918 - val_loss: 0.0954 - val_accuracy: 0.9560 - 46ms/epoch - 11ms/step\n",
            "Epoch 29/100\n",
            "4/4 - 0s - loss: 0.0273 - accuracy: 0.9918 - val_loss: 0.0946 - val_accuracy: 0.9670 - 52ms/epoch - 13ms/step\n",
            "Epoch 30/100\n",
            "4/4 - 0s - loss: 0.0254 - accuracy: 0.9918 - val_loss: 0.0967 - val_accuracy: 0.9670 - 47ms/epoch - 12ms/step\n",
            "Epoch 31/100\n",
            "4/4 - 0s - loss: 0.0238 - accuracy: 0.9890 - val_loss: 0.0956 - val_accuracy: 0.9670 - 47ms/epoch - 12ms/step\n",
            "Epoch 32/100\n",
            "4/4 - 0s - loss: 0.0224 - accuracy: 0.9918 - val_loss: 0.0936 - val_accuracy: 0.9670 - 54ms/epoch - 13ms/step\n",
            "Epoch 33/100\n",
            "4/4 - 0s - loss: 0.0207 - accuracy: 0.9918 - val_loss: 0.0975 - val_accuracy: 0.9670 - 48ms/epoch - 12ms/step\n",
            "Epoch 34/100\n",
            "4/4 - 0s - loss: 0.0190 - accuracy: 0.9918 - val_loss: 0.1008 - val_accuracy: 0.9670 - 48ms/epoch - 12ms/step\n",
            "Epoch 35/100\n",
            "4/4 - 0s - loss: 0.0175 - accuracy: 0.9973 - val_loss: 0.1041 - val_accuracy: 0.9670 - 48ms/epoch - 12ms/step\n",
            "Epoch 36/100\n",
            "4/4 - 0s - loss: 0.0163 - accuracy: 1.0000 - val_loss: 0.1056 - val_accuracy: 0.9670 - 48ms/epoch - 12ms/step\n",
            "Epoch 37/100\n",
            "4/4 - 0s - loss: 0.0147 - accuracy: 1.0000 - val_loss: 0.0993 - val_accuracy: 0.9670 - 51ms/epoch - 13ms/step\n",
            "Epoch 38/100\n",
            "4/4 - 0s - loss: 0.0142 - accuracy: 0.9973 - val_loss: 0.1084 - val_accuracy: 0.9670 - 40ms/epoch - 10ms/step\n",
            "Epoch 39/100\n",
            "4/4 - 0s - loss: 0.0127 - accuracy: 1.0000 - val_loss: 0.1044 - val_accuracy: 0.9560 - 56ms/epoch - 14ms/step\n",
            "Epoch 40/100\n",
            "4/4 - 0s - loss: 0.0121 - accuracy: 1.0000 - val_loss: 0.1022 - val_accuracy: 0.9560 - 49ms/epoch - 12ms/step\n",
            "Epoch 41/100\n",
            "4/4 - 0s - loss: 0.0116 - accuracy: 0.9973 - val_loss: 0.1129 - val_accuracy: 0.9560 - 44ms/epoch - 11ms/step\n",
            "Epoch 42/100\n",
            "4/4 - 0s - loss: 0.0102 - accuracy: 1.0000 - val_loss: 0.1075 - val_accuracy: 0.9670 - 49ms/epoch - 12ms/step\n",
            "Epoch 43/100\n",
            "4/4 - 0s - loss: 0.0094 - accuracy: 1.0000 - val_loss: 0.1095 - val_accuracy: 0.9670 - 56ms/epoch - 14ms/step\n",
            "Epoch 44/100\n",
            "4/4 - 0s - loss: 0.0088 - accuracy: 1.0000 - val_loss: 0.1155 - val_accuracy: 0.9560 - 53ms/epoch - 13ms/step\n",
            "Epoch 45/100\n",
            "4/4 - 0s - loss: 0.0082 - accuracy: 1.0000 - val_loss: 0.1172 - val_accuracy: 0.9560 - 47ms/epoch - 12ms/step\n",
            "Epoch 46/100\n",
            "4/4 - 0s - loss: 0.0073 - accuracy: 1.0000 - val_loss: 0.1082 - val_accuracy: 0.9670 - 46ms/epoch - 11ms/step\n",
            "Epoch 47/100\n",
            "4/4 - 0s - loss: 0.0067 - accuracy: 1.0000 - val_loss: 0.1075 - val_accuracy: 0.9670 - 47ms/epoch - 12ms/step\n",
            "Epoch 48/100\n",
            "4/4 - 0s - loss: 0.0062 - accuracy: 1.0000 - val_loss: 0.1135 - val_accuracy: 0.9670 - 45ms/epoch - 11ms/step\n",
            "Epoch 49/100\n",
            "4/4 - 0s - loss: 0.0057 - accuracy: 1.0000 - val_loss: 0.1129 - val_accuracy: 0.9560 - 48ms/epoch - 12ms/step\n",
            "Epoch 50/100\n",
            "4/4 - 0s - loss: 0.0055 - accuracy: 1.0000 - val_loss: 0.1174 - val_accuracy: 0.9560 - 49ms/epoch - 12ms/step\n",
            "Epoch 51/100\n",
            "4/4 - 0s - loss: 0.0048 - accuracy: 1.0000 - val_loss: 0.1178 - val_accuracy: 0.9560 - 47ms/epoch - 12ms/step\n",
            "Epoch 52/100\n",
            "4/4 - 0s - loss: 0.0044 - accuracy: 1.0000 - val_loss: 0.1279 - val_accuracy: 0.9560 - 48ms/epoch - 12ms/step\n",
            "Epoch 53/100\n",
            "4/4 - 0s - loss: 0.0040 - accuracy: 1.0000 - val_loss: 0.1262 - val_accuracy: 0.9560 - 49ms/epoch - 12ms/step\n",
            "Epoch 54/100\n",
            "4/4 - 0s - loss: 0.0036 - accuracy: 1.0000 - val_loss: 0.1287 - val_accuracy: 0.9560 - 48ms/epoch - 12ms/step\n",
            "Epoch 55/100\n",
            "4/4 - 0s - loss: 0.0033 - accuracy: 1.0000 - val_loss: 0.1296 - val_accuracy: 0.9560 - 59ms/epoch - 15ms/step\n",
            "Epoch 56/100\n",
            "4/4 - 0s - loss: 0.0029 - accuracy: 1.0000 - val_loss: 0.1252 - val_accuracy: 0.9560 - 48ms/epoch - 12ms/step\n",
            "Epoch 57/100\n",
            "4/4 - 0s - loss: 0.0026 - accuracy: 1.0000 - val_loss: 0.1274 - val_accuracy: 0.9560 - 46ms/epoch - 12ms/step\n",
            "Epoch 58/100\n",
            "4/4 - 0s - loss: 0.0024 - accuracy: 1.0000 - val_loss: 0.1262 - val_accuracy: 0.9560 - 43ms/epoch - 11ms/step\n",
            "Epoch 59/100\n",
            "4/4 - 0s - loss: 0.0022 - accuracy: 1.0000 - val_loss: 0.1293 - val_accuracy: 0.9560 - 43ms/epoch - 11ms/step\n",
            "Epoch 60/100\n",
            "4/4 - 0s - loss: 0.0020 - accuracy: 1.0000 - val_loss: 0.1285 - val_accuracy: 0.9670 - 48ms/epoch - 12ms/step\n",
            "Epoch 61/100\n",
            "4/4 - 0s - loss: 0.0021 - accuracy: 1.0000 - val_loss: 0.1392 - val_accuracy: 0.9560 - 57ms/epoch - 14ms/step\n",
            "Epoch 62/100\n",
            "4/4 - 0s - loss: 0.0016 - accuracy: 1.0000 - val_loss: 0.1343 - val_accuracy: 0.9560 - 51ms/epoch - 13ms/step\n",
            "Epoch 63/100\n",
            "4/4 - 0s - loss: 0.0015 - accuracy: 1.0000 - val_loss: 0.1396 - val_accuracy: 0.9560 - 51ms/epoch - 13ms/step\n",
            "Epoch 64/100\n",
            "4/4 - 0s - loss: 0.0014 - accuracy: 1.0000 - val_loss: 0.1361 - val_accuracy: 0.9560 - 48ms/epoch - 12ms/step\n",
            "Epoch 65/100\n",
            "4/4 - 0s - loss: 0.0012 - accuracy: 1.0000 - val_loss: 0.1501 - val_accuracy: 0.9560 - 44ms/epoch - 11ms/step\n",
            "Epoch 66/100\n",
            "4/4 - 0s - loss: 0.0011 - accuracy: 1.0000 - val_loss: 0.1375 - val_accuracy: 0.9560 - 53ms/epoch - 13ms/step\n",
            "Epoch 67/100\n",
            "4/4 - 0s - loss: 9.1130e-04 - accuracy: 1.0000 - val_loss: 0.1422 - val_accuracy: 0.9560 - 48ms/epoch - 12ms/step\n",
            "Epoch 68/100\n",
            "4/4 - 0s - loss: 9.0329e-04 - accuracy: 1.0000 - val_loss: 0.1455 - val_accuracy: 0.9670 - 50ms/epoch - 12ms/step\n",
            "Epoch 69/100\n",
            "4/4 - 0s - loss: 7.7115e-04 - accuracy: 1.0000 - val_loss: 0.1517 - val_accuracy: 0.9670 - 152ms/epoch - 38ms/step\n",
            "Epoch 70/100\n",
            "4/4 - 0s - loss: 7.1716e-04 - accuracy: 1.0000 - val_loss: 0.1559 - val_accuracy: 0.9670 - 171ms/epoch - 43ms/step\n",
            "Epoch 71/100\n",
            "4/4 - 0s - loss: 6.1445e-04 - accuracy: 1.0000 - val_loss: 0.1615 - val_accuracy: 0.9560 - 145ms/epoch - 36ms/step\n",
            "Epoch 72/100\n",
            "4/4 - 0s - loss: 5.5660e-04 - accuracy: 1.0000 - val_loss: 0.1570 - val_accuracy: 0.9670 - 154ms/epoch - 38ms/step\n",
            "Epoch 73/100\n",
            "4/4 - 0s - loss: 4.7831e-04 - accuracy: 1.0000 - val_loss: 0.1588 - val_accuracy: 0.9670 - 132ms/epoch - 33ms/step\n",
            "Epoch 74/100\n",
            "4/4 - 0s - loss: 4.6240e-04 - accuracy: 1.0000 - val_loss: 0.1551 - val_accuracy: 0.9670 - 58ms/epoch - 14ms/step\n",
            "Epoch 75/100\n",
            "4/4 - 0s - loss: 3.7241e-04 - accuracy: 1.0000 - val_loss: 0.1588 - val_accuracy: 0.9670 - 55ms/epoch - 14ms/step\n",
            "Epoch 76/100\n",
            "4/4 - 0s - loss: 3.4985e-04 - accuracy: 1.0000 - val_loss: 0.1580 - val_accuracy: 0.9670 - 45ms/epoch - 11ms/step\n",
            "Epoch 77/100\n",
            "4/4 - 0s - loss: 3.3016e-04 - accuracy: 1.0000 - val_loss: 0.1642 - val_accuracy: 0.9670 - 55ms/epoch - 14ms/step\n",
            "Epoch 78/100\n",
            "4/4 - 0s - loss: 2.6880e-04 - accuracy: 1.0000 - val_loss: 0.1495 - val_accuracy: 0.9670 - 49ms/epoch - 12ms/step\n",
            "Epoch 79/100\n",
            "4/4 - 0s - loss: 2.3536e-04 - accuracy: 1.0000 - val_loss: 0.1569 - val_accuracy: 0.9670 - 49ms/epoch - 12ms/step\n",
            "Epoch 80/100\n",
            "4/4 - 0s - loss: 2.0347e-04 - accuracy: 1.0000 - val_loss: 0.1566 - val_accuracy: 0.9670 - 49ms/epoch - 12ms/step\n",
            "Epoch 81/100\n",
            "4/4 - 0s - loss: 1.9623e-04 - accuracy: 1.0000 - val_loss: 0.1514 - val_accuracy: 0.9670 - 49ms/epoch - 12ms/step\n",
            "Epoch 82/100\n",
            "4/4 - 0s - loss: 1.7743e-04 - accuracy: 1.0000 - val_loss: 0.1531 - val_accuracy: 0.9670 - 147ms/epoch - 37ms/step\n",
            "Epoch 83/100\n",
            "4/4 - 0s - loss: 1.7172e-04 - accuracy: 1.0000 - val_loss: 0.1626 - val_accuracy: 0.9670 - 152ms/epoch - 38ms/step\n",
            "Epoch 84/100\n",
            "4/4 - 0s - loss: 1.3627e-04 - accuracy: 1.0000 - val_loss: 0.1562 - val_accuracy: 0.9670 - 129ms/epoch - 32ms/step\n",
            "Epoch 85/100\n",
            "4/4 - 0s - loss: 1.0778e-04 - accuracy: 1.0000 - val_loss: 0.1607 - val_accuracy: 0.9670 - 164ms/epoch - 41ms/step\n",
            "Epoch 86/100\n",
            "4/4 - 0s - loss: 9.4055e-05 - accuracy: 1.0000 - val_loss: 0.1613 - val_accuracy: 0.9670 - 116ms/epoch - 29ms/step\n",
            "Epoch 87/100\n",
            "4/4 - 0s - loss: 9.2393e-05 - accuracy: 1.0000 - val_loss: 0.1616 - val_accuracy: 0.9670 - 67ms/epoch - 17ms/step\n",
            "Epoch 88/100\n",
            "4/4 - 0s - loss: 8.1561e-05 - accuracy: 1.0000 - val_loss: 0.1674 - val_accuracy: 0.9670 - 48ms/epoch - 12ms/step\n",
            "Epoch 89/100\n",
            "4/4 - 0s - loss: 7.5438e-05 - accuracy: 1.0000 - val_loss: 0.1699 - val_accuracy: 0.9670 - 52ms/epoch - 13ms/step\n",
            "Epoch 90/100\n",
            "4/4 - 0s - loss: 7.5071e-05 - accuracy: 1.0000 - val_loss: 0.1598 - val_accuracy: 0.9670 - 58ms/epoch - 15ms/step\n",
            "Epoch 91/100\n",
            "4/4 - 0s - loss: 5.1569e-05 - accuracy: 1.0000 - val_loss: 0.1676 - val_accuracy: 0.9670 - 50ms/epoch - 13ms/step\n",
            "Epoch 92/100\n",
            "4/4 - 0s - loss: 4.7396e-05 - accuracy: 1.0000 - val_loss: 0.1674 - val_accuracy: 0.9670 - 57ms/epoch - 14ms/step\n",
            "Epoch 93/100\n",
            "4/4 - 0s - loss: 4.4643e-05 - accuracy: 1.0000 - val_loss: 0.1629 - val_accuracy: 0.9670 - 48ms/epoch - 12ms/step\n",
            "Epoch 94/100\n",
            "4/4 - 0s - loss: 3.6364e-05 - accuracy: 1.0000 - val_loss: 0.1543 - val_accuracy: 0.9670 - 49ms/epoch - 12ms/step\n",
            "Epoch 95/100\n",
            "4/4 - 0s - loss: 3.3885e-05 - accuracy: 1.0000 - val_loss: 0.1677 - val_accuracy: 0.9670 - 152ms/epoch - 38ms/step\n",
            "Epoch 96/100\n",
            "4/4 - 0s - loss: 3.6902e-05 - accuracy: 1.0000 - val_loss: 0.1665 - val_accuracy: 0.9670 - 141ms/epoch - 35ms/step\n",
            "Epoch 97/100\n",
            "4/4 - 0s - loss: 2.6646e-05 - accuracy: 1.0000 - val_loss: 0.1686 - val_accuracy: 0.9670 - 131ms/epoch - 33ms/step\n",
            "Epoch 98/100\n",
            "4/4 - 0s - loss: 2.5261e-05 - accuracy: 1.0000 - val_loss: 0.1660 - val_accuracy: 0.9670 - 143ms/epoch - 36ms/step\n",
            "Epoch 99/100\n",
            "4/4 - 0s - loss: 1.9265e-05 - accuracy: 1.0000 - val_loss: 0.1647 - val_accuracy: 0.9670 - 123ms/epoch - 31ms/step\n",
            "Epoch 100/100\n",
            "4/4 - 0s - loss: 1.8170e-05 - accuracy: 1.0000 - val_loss: 0.1635 - val_accuracy: 0.9670 - 82ms/epoch - 21ms/step\n"
          ]
        }
      ]
    },
    {
      "cell_type": "code",
      "source": [
        "model2.evaluate(X_test, y_test)"
      ],
      "metadata": {
        "colab": {
          "base_uri": "https://localhost:8080/"
        },
        "id": "9a52hDHTgCui",
        "outputId": "d1540bd4-291e-4d6f-a026-334dee2ed8f8"
      },
      "execution_count": 15,
      "outputs": [
        {
          "output_type": "stream",
          "name": "stdout",
          "text": [
            "4/4 [==============================] - 0s 5ms/step - loss: 0.0611 - accuracy: 0.9737\n"
          ]
        },
        {
          "output_type": "execute_result",
          "data": {
            "text/plain": [
              "[0.06106353923678398, 0.9736841917037964]"
            ]
          },
          "metadata": {},
          "execution_count": 15
        }
      ]
    },
    {
      "cell_type": "code",
      "source": [
        "y_acc2 = hist2.history['accuracy']\n",
        "y_vloss2 = hist2.history['val_loss']\n",
        "xs = np.arange(1,len(y_acc2)+1)"
      ],
      "metadata": {
        "id": "li2mfnCWgQja"
      },
      "execution_count": 16,
      "outputs": []
    },
    {
      "cell_type": "code",
      "source": [
        "plt.figure(figsize=(20,8))\n",
        "plt.subplot(121)\n",
        "plt.plot(xs, y_acc, label='train accuracy')\n",
        "plt.plot(xs, y_vloss, label='validation loss')\n",
        "plt.legend()\n",
        "plt.grid()\n",
        "plt.ylim([0,1.1])\n",
        "plt.xlabel('Epoch')\n",
        "plt.title('Adam optimizer')\n",
        "\n",
        "plt.subplot(122)\n",
        "plt.plot(xs, y_acc2, label='train accuracy')\n",
        "plt.plot(xs, y_vloss2, label='validation loss')\n",
        "plt.legend()\n",
        "plt.grid()\n",
        "plt.ylim([0,1.1])\n",
        "plt.xlabel('Epoch')\n",
        "plt.title('RMSprop optimizer')\n",
        "plt.show()"
      ],
      "metadata": {
        "colab": {
          "base_uri": "https://localhost:8080/",
          "height": 508
        },
        "id": "jRvAsGL0gd1L",
        "outputId": "dfa45fcb-d3d8-40f1-e397-0122ea4e82b9"
      },
      "execution_count": 17,
      "outputs": [
        {
          "output_type": "display_data",
          "data": {
            "text/plain": [
              "<Figure size 1440x576 with 2 Axes>"
            ],
            "image/png": "[encoded data removed]"
          },
          "metadata": {
            "needs_background": "light"
          }
        }
      ]
    },
    {
      "cell_type": "code",
      "source": [
        ""
      ],
      "metadata": {
        "id": "GFzqRyKfg0n7"
      },
      "execution_count": null,
      "outputs": []
    }
  ]
}