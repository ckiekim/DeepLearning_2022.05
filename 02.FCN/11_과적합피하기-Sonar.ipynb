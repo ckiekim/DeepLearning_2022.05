{
  "nbformat": 4,
  "nbformat_minor": 0,
  "metadata": {
    "colab": {
      "name": "11_과적합피하기.ipynb",
      "provenance": [],
      "collapsed_sections": []
    },
    "kernelspec": {
      "name": "python3",
      "display_name": "Python 3"
    },
    "language_info": {
      "name": "python"
    }
  },
  "cells": [
    {
      "cell_type": "markdown",
      "source": [
        "# 과적합 피하기 - 초음파 광물 데이터"
      ],
      "metadata": {
        "id": "y-y67Uu3prsg"
      }
    },
    {
      "cell_type": "code",
      "execution_count": 31,
      "metadata": {
        "id": "ZD8J1fmGpSDJ"
      },
      "outputs": [],
      "source": [
        "import numpy as np\n",
        "import pandas as pd\n",
        "import matplotlib.pyplot as plt\n",
        "import tensorflow as tf\n",
        "seed = 2022\n",
        "np.random.seed(seed)\n",
        "tf.random.set_seed(seed)"
      ]
    },
    {
      "cell_type": "markdown",
      "source": [
        "- 데이터 전처리"
      ],
      "metadata": {
        "id": "g-JmcS5VqBmF"
      }
    },
    {
      "cell_type": "code",
      "source": [
        "from google.colab import files\n",
        "up = files.upload()"
      ],
      "metadata": {
        "colab": {
          "resources": {
            "http://localhost:8080/nbextensions/google.colab/files.js": {
              "data": "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",
              "ok": true,
              "headers": [
                [
                  "content-type",
                  "application/javascript"
                ]
              ],
              "status": 200,
              "status_text": ""
            }
          },
          "base_uri": "https://localhost:8080/",
          "height": 78
        },
        "id": "GwkVPGJ3p0i3",
        "outputId": "7e1dd623-d44a-48b9-f9d0-ee2a3bba2811"
      },
      "execution_count": 32,
      "outputs": [
        {
          "output_type": "display_data",
          "data": {
            "text/plain": [
              "<IPython.core.display.HTML object>"
            ],
            "text/html": [
              "\n",
              "     <input type=\"file\" id=\"files-6deece8a-b34c-4d4b-a1cf-85f45ed3c962\" name=\"files[]\" multiple disabled\n",
              "        style=\"border:none\" />\n",
              "     <output id=\"result-6deece8a-b34c-4d4b-a1cf-85f45ed3c962\">\n",
              "      Upload widget is only available when the cell has been executed in the\n",
              "      current browser session. Please rerun this cell to enable.\n",
              "      </output>\n",
              "      <script src=\"/nbextensions/google.colab/files.js\"></script> "
            ]
          },
          "metadata": {}
        },
        {
          "output_type": "stream",
          "name": "stdout",
          "text": [
            "Saving sonar.csv to sonar.csv\n"
          ]
        }
      ]
    },
    {
      "cell_type": "code",
      "source": [
        "df = pd.read_csv('sonar.csv', header=None)\n",
        "df.head(3)"
      ],
      "metadata": {
        "colab": {
          "base_uri": "https://localhost:8080/",
          "height": 237
        },
        "id": "lguoUjYpqKUX",
        "outputId": "05df3157-4562-42a8-d64e-214c7f1d93f4"
      },
      "execution_count": 33,
      "outputs": [
        {
          "output_type": "execute_result",
          "data": {
            "text/plain": [
              "       0       1       2       3       4       5       6       7       8   \\\n",
              "0  0.0200  0.0371  0.0428  0.0207  0.0954  0.0986  0.1539  0.1601  0.3109   \n",
              "1  0.0453  0.0523  0.0843  0.0689  0.1183  0.2583  0.2156  0.3481  0.3337   \n",
              "2  0.0262  0.0582  0.1099  0.1083  0.0974  0.2280  0.2431  0.3771  0.5598   \n",
              "\n",
              "       9   ...      51      52      53      54      55      56      57  \\\n",
              "0  0.2111  ...  0.0027  0.0065  0.0159  0.0072  0.0167  0.0180  0.0084   \n",
              "1  0.2872  ...  0.0084  0.0089  0.0048  0.0094  0.0191  0.0140  0.0049   \n",
              "2  0.6194  ...  0.0232  0.0166  0.0095  0.0180  0.0244  0.0316  0.0164   \n",
              "\n",
              "       58      59  60  \n",
              "0  0.0090  0.0032   R  \n",
              "1  0.0052  0.0044   R  \n",
              "2  0.0095  0.0078   R  \n",
              "\n",
              "[3 rows x 61 columns]"
            ],
            "text/html": [
              "\n",
              "  <div id=\"df-c4bbd03d-b136-41fe-bbfb-c31e1be9f1c0\">\n",
              "    <div class=\"colab-df-container\">\n",
              "      <div>\n",
              "<style scoped>\n",
              "    .dataframe tbody tr th:only-of-type {\n",
              "        vertical-align: middle;\n",
              "    }\n",
              "\n",
              "    .dataframe tbody tr th {\n",
              "        vertical-align: top;\n",
              "    }\n",
              "\n",
              "    .dataframe thead th {\n",
              "        text-align: right;\n",
              "    }\n",
              "</style>\n",
              "<table border=\"1\" class=\"dataframe\">\n",
              "  <thead>\n",
              "    <tr style=\"text-align: right;\">\n",
              "      <th></th>\n",
              "      <th>0</th>\n",
              "      <th>1</th>\n",
              "      <th>2</th>\n",
              "      <th>3</th>\n",
              "      <th>4</th>\n",
              "      <th>5</th>\n",
              "      <th>6</th>\n",
              "      <th>7</th>\n",
              "      <th>8</th>\n",
              "      <th>9</th>\n",
              "      <th>...</th>\n",
              "      <th>51</th>\n",
              "      <th>52</th>\n",
              "      <th>53</th>\n",
              "      <th>54</th>\n",
              "      <th>55</th>\n",
              "      <th>56</th>\n",
              "      <th>57</th>\n",
              "      <th>58</th>\n",
              "      <th>59</th>\n",
              "      <th>60</th>\n",
              "    </tr>\n",
              "  </thead>\n",
              "  <tbody>\n",
              "    <tr>\n",
              "      <th>0</th>\n",
              "      <td>0.0200</td>\n",
              "      <td>0.0371</td>\n",
              "      <td>0.0428</td>\n",
              "      <td>0.0207</td>\n",
              "      <td>0.0954</td>\n",
              "      <td>0.0986</td>\n",
              "      <td>0.1539</td>\n",
              "      <td>0.1601</td>\n",
              "      <td>0.3109</td>\n",
              "      <td>0.2111</td>\n",
              "      <td>...</td>\n",
              "      <td>0.0027</td>\n",
              "      <td>0.0065</td>\n",
              "      <td>0.0159</td>\n",
              "      <td>0.0072</td>\n",
              "      <td>0.0167</td>\n",
              "      <td>0.0180</td>\n",
              "      <td>0.0084</td>\n",
              "      <td>0.0090</td>\n",
              "      <td>0.0032</td>\n",
              "      <td>R</td>\n",
              "    </tr>\n",
              "    <tr>\n",
              "      <th>1</th>\n",
              "      <td>0.0453</td>\n",
              "      <td>0.0523</td>\n",
              "      <td>0.0843</td>\n",
              "      <td>0.0689</td>\n",
              "      <td>0.1183</td>\n",
              "      <td>0.2583</td>\n",
              "      <td>0.2156</td>\n",
              "      <td>0.3481</td>\n",
              "      <td>0.3337</td>\n",
              "      <td>0.2872</td>\n",
              "      <td>...</td>\n",
              "      <td>0.0084</td>\n",
              "      <td>0.0089</td>\n",
              "      <td>0.0048</td>\n",
              "      <td>0.0094</td>\n",
              "      <td>0.0191</td>\n",
              "      <td>0.0140</td>\n",
              "      <td>0.0049</td>\n",
              "      <td>0.0052</td>\n",
              "      <td>0.0044</td>\n",
              "      <td>R</td>\n",
              "    </tr>\n",
              "    <tr>\n",
              "      <th>2</th>\n",
              "      <td>0.0262</td>\n",
              "      <td>0.0582</td>\n",
              "      <td>0.1099</td>\n",
              "      <td>0.1083</td>\n",
              "      <td>0.0974</td>\n",
              "      <td>0.2280</td>\n",
              "      <td>0.2431</td>\n",
              "      <td>0.3771</td>\n",
              "      <td>0.5598</td>\n",
              "      <td>0.6194</td>\n",
              "      <td>...</td>\n",
              "      <td>0.0232</td>\n",
              "      <td>0.0166</td>\n",
              "      <td>0.0095</td>\n",
              "      <td>0.0180</td>\n",
              "      <td>0.0244</td>\n",
              "      <td>0.0316</td>\n",
              "      <td>0.0164</td>\n",
              "      <td>0.0095</td>\n",
              "      <td>0.0078</td>\n",
              "      <td>R</td>\n",
              "    </tr>\n",
              "  </tbody>\n",
              "</table>\n",
              "<p>3 rows × 61 columns</p>\n",
              "</div>\n",
              "      <button class=\"colab-df-convert\" onclick=\"convertToInteractive('df-c4bbd03d-b136-41fe-bbfb-c31e1be9f1c0')\"\n",
              "              title=\"Convert this dataframe to an interactive table.\"\n",
              "              style=\"display:none;\">\n",
              "        \n",
              "  <svg xmlns=\"http://www.w3.org/2000/svg\" height=\"24px\"viewBox=\"0 0 24 24\"\n",
              "       width=\"24px\">\n",
              "    <path d=\"M0 0h24v24H0V0z\" fill=\"none\"/>\n",
              "    <path d=\"M18.56 5.44l.94 2.06.94-2.06 2.06-.94-2.06-.94-.94-2.06-.94 2.06-2.06.94zm-11 1L8.5 8.5l.94-2.06 2.06-.94-2.06-.94L8.5 2.5l-.94 2.06-2.06.94zm10 10l.94 2.06.94-2.06 2.06-.94-2.06-.94-.94-2.06-.94 2.06-2.06.94z\"/><path d=\"M17.41 7.96l-1.37-1.37c-.4-.4-.92-.59-1.43-.59-.52 0-1.04.2-1.43.59L10.3 9.45l-7.72 7.72c-.78.78-.78 2.05 0 2.83L4 21.41c.39.39.9.59 1.41.59.51 0 1.02-.2 1.41-.59l7.78-7.78 2.81-2.81c.8-.78.8-2.07 0-2.86zM5.41 20L4 18.59l7.72-7.72 1.47 1.35L5.41 20z\"/>\n",
              "  </svg>\n",
              "      </button>\n",
              "      \n",
              "  <style>\n",
              "    .colab-df-container {\n",
              "      display:flex;\n",
              "      flex-wrap:wrap;\n",
              "      gap: 12px;\n",
              "    }\n",
              "\n",
              "    .colab-df-convert {\n",
              "      background-color: #E8F0FE;\n",
              "      border: none;\n",
              "      border-radius: 50%;\n",
              "      cursor: pointer;\n",
              "      display: none;\n",
              "      fill: #1967D2;\n",
              "      height: 32px;\n",
              "      padding: 0 0 0 0;\n",
              "      width: 32px;\n",
              "    }\n",
              "\n",
              "    .colab-df-convert:hover {\n",
              "      background-color: #E2EBFA;\n",
              "      box-shadow: 0px 1px 2px rgba(60, 64, 67, 0.3), 0px 1px 3px 1px rgba(60, 64, 67, 0.15);\n",
              "      fill: #174EA6;\n",
              "    }\n",
              "\n",
              "    [theme=dark] .colab-df-convert {\n",
              "      background-color: #3B4455;\n",
              "      fill: #D2E3FC;\n",
              "    }\n",
              "\n",
              "    [theme=dark] .colab-df-convert:hover {\n",
              "      background-color: #434B5C;\n",
              "      box-shadow: 0px 1px 3px 1px rgba(0, 0, 0, 0.15);\n",
              "      filter: drop-shadow(0px 1px 2px rgba(0, 0, 0, 0.3));\n",
              "      fill: #FFFFFF;\n",
              "    }\n",
              "  </style>\n",
              "\n",
              "      <script>\n",
              "        const buttonEl =\n",
              "          document.querySelector('#df-c4bbd03d-b136-41fe-bbfb-c31e1be9f1c0 button.colab-df-convert');\n",
              "        buttonEl.style.display =\n",
              "          google.colab.kernel.accessAllowed ? 'block' : 'none';\n",
              "\n",
              "        async function convertToInteractive(key) {\n",
              "          const element = document.querySelector('#df-c4bbd03d-b136-41fe-bbfb-c31e1be9f1c0');\n",
              "          const dataTable =\n",
              "            await google.colab.kernel.invokeFunction('convertToInteractive',\n",
              "                                                     [key], {});\n",
              "          if (!dataTable) return;\n",
              "\n",
              "          const docLinkHtml = 'Like what you see? Visit the ' +\n",
              "            '<a target=\"_blank\" href=https://colab.research.google.com/notebooks/data_table.ipynb>data table notebook</a>'\n",
              "            + ' to learn more about interactive tables.';\n",
              "          element.innerHTML = '';\n",
              "          dataTable['output_type'] = 'display_data';\n",
              "          await google.colab.output.renderOutput(dataTable, element);\n",
              "          const docLink = document.createElement('div');\n",
              "          docLink.innerHTML = docLinkHtml;\n",
              "          element.appendChild(docLink);\n",
              "        }\n",
              "      </script>\n",
              "    </div>\n",
              "  </div>\n",
              "  "
            ]
          },
          "metadata": {},
          "execution_count": 33
        }
      ]
    },
    {
      "cell_type": "code",
      "source": [
        "df[60].value_counts()"
      ],
      "metadata": {
        "colab": {
          "base_uri": "https://localhost:8080/"
        },
        "id": "a3ZER0Y3qbP-",
        "outputId": "a6474e44-56ae-4e70-fcd8-03fa2fadb74f"
      },
      "execution_count": 34,
      "outputs": [
        {
          "output_type": "execute_result",
          "data": {
            "text/plain": [
              "M    111\n",
              "R     97\n",
              "Name: 60, dtype: int64"
            ]
          },
          "metadata": {},
          "execution_count": 34
        }
      ]
    },
    {
      "cell_type": "code",
      "source": [
        "# X data: scaling\n",
        "from sklearn.preprocessing import StandardScaler\n",
        "X_scaled = StandardScaler().fit_transform(df.iloc[:,:-1].values)"
      ],
      "metadata": {
        "id": "8OHdF0tyqzjV"
      },
      "execution_count": 35,
      "outputs": []
    },
    {
      "cell_type": "code",
      "source": [
        "# Y data: label encoding\n",
        "from sklearn.preprocessing import LabelEncoder\n",
        "y_labeled = LabelEncoder().fit_transform(df[60].values)"
      ],
      "metadata": {
        "id": "qYo1-xOzrqze"
      },
      "execution_count": 36,
      "outputs": []
    },
    {
      "cell_type": "code",
      "source": [
        "from sklearn.model_selection import train_test_split\n",
        "X_train, X_test, y_train, y_test = train_test_split(\n",
        "    X_scaled, y_labeled, stratify=y_labeled, test_size=0.2, random_state=seed\n",
        ")"
      ],
      "metadata": {
        "id": "dtNlIzJGsEX8"
      },
      "execution_count": 37,
      "outputs": []
    },
    {
      "cell_type": "markdown",
      "source": [
        "### 모델 정의/설정/학습/평가"
      ],
      "metadata": {
        "id": "HRqkKmQosfrV"
      }
    },
    {
      "cell_type": "code",
      "source": [
        "from tensorflow.keras.models import Sequential\n",
        "from tensorflow.keras.layers import Dense"
      ],
      "metadata": {
        "id": "xKyEkEFGsbyW"
      },
      "execution_count": 38,
      "outputs": []
    },
    {
      "cell_type": "markdown",
      "source": [
        "- Case 1) 은닉층 2개"
      ],
      "metadata": {
        "id": "tWT5YS-Ys3x8"
      }
    },
    {
      "cell_type": "code",
      "source": [
        "model1 = Sequential([ \n",
        "    Dense(80, input_dim=60, activation='relu'),\n",
        "    Dense(12, activation='relu'),\n",
        "    Dense(1, activation='sigmoid')\n",
        "])\n",
        "model1.summary()"
      ],
      "metadata": {
        "colab": {
          "base_uri": "https://localhost:8080/"
        },
        "id": "pztrBub4szC1",
        "outputId": "67ba92a4-efe4-4d29-aba1-14a80b0ee0dc"
      },
      "execution_count": 39,
      "outputs": [
        {
          "output_type": "stream",
          "name": "stdout",
          "text": [
            "Model: \"sequential_5\"\n",
            "_________________________________________________________________\n",
            " Layer (type)                Output Shape              Param #   \n",
            "=================================================================\n",
            " dense_27 (Dense)            (None, 80)                4880      \n",
            "                                                                 \n",
            " dense_28 (Dense)            (None, 12)                972       \n",
            "                                                                 \n",
            " dense_29 (Dense)            (None, 1)                 13        \n",
            "                                                                 \n",
            "=================================================================\n",
            "Total params: 5,865\n",
            "Trainable params: 5,865\n",
            "Non-trainable params: 0\n",
            "_________________________________________________________________\n"
          ]
        }
      ]
    },
    {
      "cell_type": "code",
      "source": [
        "model1.compile('adam', 'binary_crossentropy', metrics=['accuracy'])\n",
        "hist1 = model1.fit(X_train, y_train, validation_split=0.2,\n",
        "                   epochs=200, batch_size=100, verbose=0)"
      ],
      "metadata": {
        "id": "8IPtSv7gtgS7"
      },
      "execution_count": 40,
      "outputs": []
    },
    {
      "cell_type": "code",
      "source": [
        "model1.evaluate(X_test, y_test)"
      ],
      "metadata": {
        "colab": {
          "base_uri": "https://localhost:8080/"
        },
        "id": "CkP6TC9huGFV",
        "outputId": "62ce86c9-ba1c-43ce-d589-1731cb03ff11"
      },
      "execution_count": 41,
      "outputs": [
        {
          "output_type": "stream",
          "name": "stdout",
          "text": [
            "2/2 [==============================] - 0s 5ms/step - loss: 0.3303 - accuracy: 0.9048\n"
          ]
        },
        {
          "output_type": "execute_result",
          "data": {
            "text/plain": [
              "[0.33029451966285706, 0.9047619104385376]"
            ]
          },
          "metadata": {},
          "execution_count": 41
        }
      ]
    },
    {
      "cell_type": "code",
      "source": [
        "params1, acc1 = 5865, 0.8333"
      ],
      "metadata": {
        "id": "m6KqIRcytY-F"
      },
      "execution_count": 42,
      "outputs": []
    },
    {
      "cell_type": "markdown",
      "source": [
        "- Case 2) 은닉층 4개"
      ],
      "metadata": {
        "id": "tKw1pRjnukwU"
      }
    },
    {
      "cell_type": "code",
      "source": [
        "model2 = Sequential([ \n",
        "    Dense(80, input_dim=60, activation='relu'),\n",
        "    Dense(48, activation='relu'),\n",
        "    Dense(20, activation='relu'),\n",
        "    Dense(8, activation='relu'),\n",
        "    Dense(1, activation='sigmoid'),\n",
        "])\n",
        "model2.summary()"
      ],
      "metadata": {
        "colab": {
          "base_uri": "https://localhost:8080/"
        },
        "id": "lDkloJj-uTqU",
        "outputId": "f54e8972-3ac7-4231-aa97-2124ba9a7e0f"
      },
      "execution_count": 43,
      "outputs": [
        {
          "output_type": "stream",
          "name": "stdout",
          "text": [
            "Model: \"sequential_6\"\n",
            "_________________________________________________________________\n",
            " Layer (type)                Output Shape              Param #   \n",
            "=================================================================\n",
            " dense_30 (Dense)            (None, 80)                4880      \n",
            "                                                                 \n",
            " dense_31 (Dense)            (None, 48)                3888      \n",
            "                                                                 \n",
            " dense_32 (Dense)            (None, 20)                980       \n",
            "                                                                 \n",
            " dense_33 (Dense)            (None, 8)                 168       \n",
            "                                                                 \n",
            " dense_34 (Dense)            (None, 1)                 9         \n",
            "                                                                 \n",
            "=================================================================\n",
            "Total params: 9,925\n",
            "Trainable params: 9,925\n",
            "Non-trainable params: 0\n",
            "_________________________________________________________________\n"
          ]
        }
      ]
    },
    {
      "cell_type": "code",
      "source": [
        "model2.compile('adam', 'binary_crossentropy', metrics=['accuracy'])\n",
        "hist2 = model2.fit(X_train, y_train, validation_split=0.2,\n",
        "                   epochs=200, batch_size=100, verbose=0)\n",
        "model2.evaluate(X_test, y_test)"
      ],
      "metadata": {
        "colab": {
          "base_uri": "https://localhost:8080/"
        },
        "id": "CB-xWo7OvMGG",
        "outputId": "0d85980a-9ba5-45eb-b47f-a1d7aa14a810"
      },
      "execution_count": 44,
      "outputs": [
        {
          "output_type": "stream",
          "name": "stdout",
          "text": [
            "2/2 [==============================] - 0s 7ms/step - loss: 0.4749 - accuracy: 0.8571\n"
          ]
        },
        {
          "output_type": "execute_result",
          "data": {
            "text/plain": [
              "[0.4749058187007904, 0.8571428656578064]"
            ]
          },
          "metadata": {},
          "execution_count": 44
        }
      ]
    },
    {
      "cell_type": "code",
      "source": [
        "params2, acc2 = 9925, 0.8333"
      ],
      "metadata": {
        "id": "pfTZOIIAvVxz"
      },
      "execution_count": 45,
      "outputs": []
    },
    {
      "cell_type": "markdown",
      "source": [
        "- Case 3) 은닉층 6개"
      ],
      "metadata": {
        "id": "i-_C6rKrvnd1"
      }
    },
    {
      "cell_type": "code",
      "source": [
        "model3 = Sequential([ \n",
        "    Dense(80, input_dim=60, activation='relu'),\n",
        "    Dense(64, activation='relu'),\n",
        "    Dense(40, activation='relu'),\n",
        "    Dense(24, activation='relu'),\n",
        "    Dense(10, activation='relu'),\n",
        "    Dense(4, activation='relu'),\n",
        "    Dense(1, activation='sigmoid'),\n",
        "])\n",
        "model3.summary()"
      ],
      "metadata": {
        "colab": {
          "base_uri": "https://localhost:8080/"
        },
        "id": "s2MDL_JMvhj-",
        "outputId": "c4f20816-5f9c-4266-ca8a-49606308a375"
      },
      "execution_count": 46,
      "outputs": [
        {
          "output_type": "stream",
          "name": "stdout",
          "text": [
            "Model: \"sequential_7\"\n",
            "_________________________________________________________________\n",
            " Layer (type)                Output Shape              Param #   \n",
            "=================================================================\n",
            " dense_35 (Dense)            (None, 80)                4880      \n",
            "                                                                 \n",
            " dense_36 (Dense)            (None, 64)                5184      \n",
            "                                                                 \n",
            " dense_37 (Dense)            (None, 40)                2600      \n",
            "                                                                 \n",
            " dense_38 (Dense)            (None, 24)                984       \n",
            "                                                                 \n",
            " dense_39 (Dense)            (None, 10)                250       \n",
            "                                                                 \n",
            " dense_40 (Dense)            (None, 4)                 44        \n",
            "                                                                 \n",
            " dense_41 (Dense)            (None, 1)                 5         \n",
            "                                                                 \n",
            "=================================================================\n",
            "Total params: 13,947\n",
            "Trainable params: 13,947\n",
            "Non-trainable params: 0\n",
            "_________________________________________________________________\n"
          ]
        }
      ]
    },
    {
      "cell_type": "code",
      "source": [
        "model3.compile('adam', 'binary_crossentropy', metrics=['accuracy'])\n",
        "hist3 = model3.fit(X_train, y_train, validation_split=0.2,\n",
        "                   epochs=200, batch_size=100, verbose=0)\n",
        "model3.evaluate(X_test, y_test)"
      ],
      "metadata": {
        "colab": {
          "base_uri": "https://localhost:8080/"
        },
        "id": "WX3J0P33v9SL",
        "outputId": "72e88554-f4aa-43eb-d31a-65c4eb044fef"
      },
      "execution_count": 47,
      "outputs": [
        {
          "output_type": "stream",
          "name": "stdout",
          "text": [
            "2/2 [==============================] - 0s 7ms/step - loss: 0.7921 - accuracy: 0.8571\n"
          ]
        },
        {
          "output_type": "execute_result",
          "data": {
            "text/plain": [
              "[0.7921215295791626, 0.8571428656578064]"
            ]
          },
          "metadata": {},
          "execution_count": 47
        }
      ]
    },
    {
      "cell_type": "code",
      "source": [
        "params3, acc3 = 13947, 0.8333"
      ],
      "metadata": {
        "id": "T3xWjPwlwD4V"
      },
      "execution_count": 48,
      "outputs": []
    },
    {
      "cell_type": "markdown",
      "source": [
        "- Case 4) 은닉층 8개"
      ],
      "metadata": {
        "id": "y1EVqJjPwPlH"
      }
    },
    {
      "cell_type": "code",
      "source": [
        "model4 = Sequential([ \n",
        "    Dense(80, input_dim=60, activation='relu'),\n",
        "    Dense(64, activation='relu'),\n",
        "    Dense(48, activation='relu'),\n",
        "    Dense(36, activation='relu'),\n",
        "    Dense(28, activation='relu'),\n",
        "    Dense(16, activation='relu'),\n",
        "    Dense(10, activation='relu'),\n",
        "    Dense(4, activation='relu'),\n",
        "    Dense(1, activation='sigmoid'),\n",
        "])\n",
        "model4.summary()"
      ],
      "metadata": {
        "colab": {
          "base_uri": "https://localhost:8080/"
        },
        "id": "mONX1LggwOjE",
        "outputId": "e2448f6d-54f5-4438-8340-49620a48f305"
      },
      "execution_count": 49,
      "outputs": [
        {
          "output_type": "stream",
          "name": "stdout",
          "text": [
            "Model: \"sequential_8\"\n",
            "_________________________________________________________________\n",
            " Layer (type)                Output Shape              Param #   \n",
            "=================================================================\n",
            " dense_42 (Dense)            (None, 80)                4880      \n",
            "                                                                 \n",
            " dense_43 (Dense)            (None, 64)                5184      \n",
            "                                                                 \n",
            " dense_44 (Dense)            (None, 48)                3120      \n",
            "                                                                 \n",
            " dense_45 (Dense)            (None, 36)                1764      \n",
            "                                                                 \n",
            " dense_46 (Dense)            (None, 28)                1036      \n",
            "                                                                 \n",
            " dense_47 (Dense)            (None, 16)                464       \n",
            "                                                                 \n",
            " dense_48 (Dense)            (None, 10)                170       \n",
            "                                                                 \n",
            " dense_49 (Dense)            (None, 4)                 44        \n",
            "                                                                 \n",
            " dense_50 (Dense)            (None, 1)                 5         \n",
            "                                                                 \n",
            "=================================================================\n",
            "Total params: 16,667\n",
            "Trainable params: 16,667\n",
            "Non-trainable params: 0\n",
            "_________________________________________________________________\n"
          ]
        }
      ]
    },
    {
      "cell_type": "code",
      "source": [
        "model4.compile('adam', 'binary_crossentropy', metrics=['accuracy'])\n",
        "hist4 = model4.fit(X_train, y_train, validation_split=0.2,\n",
        "                   epochs=200, batch_size=100, verbose=0)\n",
        "model4.evaluate(X_test, y_test)"
      ],
      "metadata": {
        "colab": {
          "base_uri": "https://localhost:8080/"
        },
        "id": "OThZ_e4cwh_U",
        "outputId": "fdcf8df7-18a1-4137-c5dc-8ce0e06ffa50"
      },
      "execution_count": 50,
      "outputs": [
        {
          "output_type": "stream",
          "name": "stdout",
          "text": [
            "2/2 [==============================] - 0s 8ms/step - loss: 0.7051 - accuracy: 0.8571\n"
          ]
        },
        {
          "output_type": "execute_result",
          "data": {
            "text/plain": [
              "[0.7051125764846802, 0.8571428656578064]"
            ]
          },
          "metadata": {},
          "execution_count": 50
        }
      ]
    },
    {
      "cell_type": "code",
      "source": [
        "params4, acc4 = 16667, 0.8333"
      ],
      "metadata": {
        "id": "8esK_cXAwou7"
      },
      "execution_count": 51,
      "outputs": []
    },
    {
      "cell_type": "markdown",
      "source": [
        "- 학습과정 시각화"
      ],
      "metadata": {
        "id": "x2j-nekYxRlZ"
      }
    },
    {
      "cell_type": "code",
      "source": [
        "y_acc1 = hist1.history['accuracy']\n",
        "y_acc2 = hist2.history['accuracy']\n",
        "y_acc3 = hist3.history['accuracy']\n",
        "y_acc4 = hist4.history['accuracy']\n",
        "y_vloss1 = hist1.history['val_loss']\n",
        "y_vloss2 = hist2.history['val_loss']\n",
        "y_vloss3 = hist3.history['val_loss']\n",
        "y_vloss4 = hist4.history['val_loss']\n",
        "xs = np.arange(1, len(y_acc1)+1)"
      ],
      "metadata": {
        "id": "FfuVUuYNxCrj"
      },
      "execution_count": 52,
      "outputs": []
    },
    {
      "cell_type": "code",
      "source": [
        "plt.figure(figsize=(12,8))\n",
        "plt.plot(xs, y_acc1, label='case 1')\n",
        "plt.plot(xs, y_acc2, label='case 2')\n",
        "plt.plot(xs, y_acc3, label='case 3')\n",
        "plt.plot(xs, y_acc4, label='case 4')\n",
        "plt.legend(), plt.grid()\n",
        "plt.xlabel('Epoch'), plt.title('Trainset Accuracy')\n",
        "plt.show()"
      ],
      "metadata": {
        "colab": {
          "base_uri": "https://localhost:8080/",
          "height": 513
        },
        "id": "DooeTudeyKfc",
        "outputId": "f6d0a656-d99a-4e6d-c35d-d409012952b5"
      },
      "execution_count": 53,
      "outputs": [
        {
          "output_type": "display_data",
          "data": {
            "text/plain": [
              "<Figure size 864x576 with 1 Axes>"
            ],
            "image/png": "[encoded data removed]"
          },
          "metadata": {
            "needs_background": "light"
          }
        }
      ]
    },
    {
      "cell_type": "code",
      "source": [
        "plt.figure(figsize=(12,8))\n",
        "plt.plot(xs, y_vloss1, label='case 1')\n",
        "plt.plot(xs, y_vloss2, label='case 2')\n",
        "plt.plot(xs, y_vloss3, label='case 3')\n",
        "plt.plot(xs, y_vloss4, label='case 4')\n",
        "plt.legend(), plt.grid()\n",
        "plt.xlabel('Epoch'), plt.title('Validation set loss')\n",
        "plt.show()"
      ],
      "metadata": {
        "colab": {
          "base_uri": "https://localhost:8080/",
          "height": 513
        },
        "id": "C2BKtVUbylZl",
        "outputId": "f95adea8-17a6-4b5c-e381-153e8c9a8308"
      },
      "execution_count": 54,
      "outputs": [
        {
          "output_type": "display_data",
          "data": {
            "text/plain": [
              "<Figure size 864x576 with 1 Axes>"
            ],
            "image/png": "[encoded data removed]"
          },
          "metadata": {
            "needs_background": "light"
          }
        }
      ]
    },
    {
      "cell_type": "markdown",
      "source": [
        "### Case 2에 대해서 베스트 모델"
      ],
      "metadata": {
        "id": "lGKV-ryIGHWx"
      }
    },
    {
      "cell_type": "code",
      "source": [
        "model = Sequential([ \n",
        "    Dense(80, input_dim=60, activation='relu'),\n",
        "    Dense(48, activation='relu'),\n",
        "    Dense(20, activation='relu'),\n",
        "    Dense(8, activation='relu'),\n",
        "    Dense(1, activation='sigmoid'),\n",
        "])\n",
        "model.summary()"
      ],
      "metadata": {
        "colab": {
          "base_uri": "https://localhost:8080/"
        },
        "id": "rFq5JdCry5si",
        "outputId": "37d001b0-4eae-4230-b166-1796a019355d"
      },
      "execution_count": 60,
      "outputs": [
        {
          "output_type": "stream",
          "name": "stdout",
          "text": [
            "Model: \"sequential_10\"\n",
            "_________________________________________________________________\n",
            " Layer (type)                Output Shape              Param #   \n",
            "=================================================================\n",
            " dense_56 (Dense)            (None, 80)                4880      \n",
            "                                                                 \n",
            " dense_57 (Dense)            (None, 48)                3888      \n",
            "                                                                 \n",
            " dense_58 (Dense)            (None, 20)                980       \n",
            "                                                                 \n",
            " dense_59 (Dense)            (None, 8)                 168       \n",
            "                                                                 \n",
            " dense_60 (Dense)            (None, 1)                 9         \n",
            "                                                                 \n",
            "=================================================================\n",
            "Total params: 9,925\n",
            "Trainable params: 9,925\n",
            "Non-trainable params: 0\n",
            "_________________________________________________________________\n"
          ]
        }
      ]
    },
    {
      "cell_type": "code",
      "source": [
        "model.compile('adam', 'binary_crossentropy', metrics=['accuracy'])"
      ],
      "metadata": {
        "id": "Eh3JcdPPGevn"
      },
      "execution_count": 61,
      "outputs": []
    },
    {
      "cell_type": "markdown",
      "source": [
        "- 베스트 모델만 저장하는 콜백 함수"
      ],
      "metadata": {
        "id": "eL14EkqOGlhN"
      }
    },
    {
      "cell_type": "code",
      "source": [
        "from tensorflow.keras.callbacks import ModelCheckpoint\n",
        "mc = ModelCheckpoint('sonar_best.h5', monitor='val_loss', \n",
        "                     verbose=1, save_best_only=True)"
      ],
      "metadata": {
        "id": "wG1Zezk-Gq2B"
      },
      "execution_count": 62,
      "outputs": []
    },
    {
      "cell_type": "code",
      "source": [
        "# epoch가 종료될 때마다 callback 함수를 실행하도록 설정\n",
        "hist = model.fit(X_train, y_train, validation_split=0.2,\n",
        "                 epochs=200, batch_size=100, verbose=0,\n",
        "                 callbacks=[mc])"
      ],
      "metadata": {
        "colab": {
          "base_uri": "https://localhost:8080/"
        },
        "id": "F5NbfWT8HMtA",
        "outputId": "5fb4cf6f-a07a-4606-c815-b7ba6d91b31d"
      },
      "execution_count": 63,
      "outputs": [
        {
          "output_type": "stream",
          "name": "stdout",
          "text": [
            "\n",
            "Epoch 1: val_loss improved from inf to 0.66613, saving model to sonar_best.h5\n",
            "\n",
            "Epoch 2: val_loss improved from 0.66613 to 0.64634, saving model to sonar_best.h5\n",
            "\n",
            "Epoch 3: val_loss improved from 0.64634 to 0.62463, saving model to sonar_best.h5\n",
            "\n",
            "Epoch 4: val_loss improved from 0.62463 to 0.60338, saving model to sonar_best.h5\n",
            "\n",
            "Epoch 5: val_loss improved from 0.60338 to 0.58048, saving model to sonar_best.h5\n",
            "\n",
            "Epoch 6: val_loss improved from 0.58048 to 0.55615, saving model to sonar_best.h5\n",
            "\n",
            "Epoch 7: val_loss improved from 0.55615 to 0.53275, saving model to sonar_best.h5\n",
            "\n",
            "Epoch 8: val_loss improved from 0.53275 to 0.50925, saving model to sonar_best.h5\n",
            "\n",
            "Epoch 9: val_loss improved from 0.50925 to 0.48522, saving model to sonar_best.h5\n",
            "\n",
            "Epoch 10: val_loss improved from 0.48522 to 0.46118, saving model to sonar_best.h5\n",
            "\n",
            "Epoch 11: val_loss improved from 0.46118 to 0.43863, saving model to sonar_best.h5\n",
            "\n",
            "Epoch 12: val_loss improved from 0.43863 to 0.41768, saving model to sonar_best.h5\n",
            "\n",
            "Epoch 13: val_loss improved from 0.41768 to 0.39770, saving model to sonar_best.h5\n",
            "\n",
            "Epoch 14: val_loss improved from 0.39770 to 0.37930, saving model to sonar_best.h5\n",
            "\n",
            "Epoch 15: val_loss improved from 0.37930 to 0.36283, saving model to sonar_best.h5\n",
            "\n",
            "Epoch 16: val_loss improved from 0.36283 to 0.34740, saving model to sonar_best.h5\n",
            "\n",
            "Epoch 17: val_loss improved from 0.34740 to 0.33323, saving model to sonar_best.h5\n",
            "\n",
            "Epoch 18: val_loss improved from 0.33323 to 0.32151, saving model to sonar_best.h5\n",
            "\n",
            "Epoch 19: val_loss improved from 0.32151 to 0.31377, saving model to sonar_best.h5\n",
            "\n",
            "Epoch 20: val_loss improved from 0.31377 to 0.30851, saving model to sonar_best.h5\n",
            "\n",
            "Epoch 21: val_loss improved from 0.30851 to 0.30451, saving model to sonar_best.h5\n",
            "\n",
            "Epoch 22: val_loss improved from 0.30451 to 0.30149, saving model to sonar_best.h5\n",
            "\n",
            "Epoch 23: val_loss improved from 0.30149 to 0.29965, saving model to sonar_best.h5\n",
            "\n",
            "Epoch 24: val_loss improved from 0.29965 to 0.29582, saving model to sonar_best.h5\n",
            "\n",
            "Epoch 25: val_loss improved from 0.29582 to 0.29039, saving model to sonar_best.h5\n",
            "\n",
            "Epoch 26: val_loss improved from 0.29039 to 0.28650, saving model to sonar_best.h5\n",
            "\n",
            "Epoch 27: val_loss improved from 0.28650 to 0.28569, saving model to sonar_best.h5\n",
            "\n",
            "Epoch 28: val_loss improved from 0.28569 to 0.28400, saving model to sonar_best.h5\n",
            "\n",
            "Epoch 29: val_loss improved from 0.28400 to 0.27922, saving model to sonar_best.h5\n",
            "\n",
            "Epoch 30: val_loss improved from 0.27922 to 0.27435, saving model to sonar_best.h5\n",
            "\n",
            "Epoch 31: val_loss improved from 0.27435 to 0.27021, saving model to sonar_best.h5\n",
            "\n",
            "Epoch 32: val_loss did not improve from 0.27021\n",
            "\n",
            "Epoch 33: val_loss did not improve from 0.27021\n",
            "\n",
            "Epoch 34: val_loss did not improve from 0.27021\n",
            "\n",
            "Epoch 35: val_loss did not improve from 0.27021\n",
            "\n",
            "Epoch 36: val_loss did not improve from 0.27021\n",
            "\n",
            "Epoch 37: val_loss did not improve from 0.27021\n",
            "\n",
            "Epoch 38: val_loss did not improve from 0.27021\n",
            "\n",
            "Epoch 39: val_loss improved from 0.27021 to 0.26837, saving model to sonar_best.h5\n",
            "\n",
            "Epoch 40: val_loss improved from 0.26837 to 0.26218, saving model to sonar_best.h5\n",
            "\n",
            "Epoch 41: val_loss improved from 0.26218 to 0.25731, saving model to sonar_best.h5\n",
            "\n",
            "Epoch 42: val_loss improved from 0.25731 to 0.25389, saving model to sonar_best.h5\n",
            "\n",
            "Epoch 43: val_loss improved from 0.25389 to 0.25147, saving model to sonar_best.h5\n",
            "\n",
            "Epoch 44: val_loss improved from 0.25147 to 0.25119, saving model to sonar_best.h5\n",
            "\n",
            "Epoch 45: val_loss improved from 0.25119 to 0.25076, saving model to sonar_best.h5\n",
            "\n",
            "Epoch 46: val_loss improved from 0.25076 to 0.24961, saving model to sonar_best.h5\n",
            "\n",
            "Epoch 47: val_loss did not improve from 0.24961\n",
            "\n",
            "Epoch 48: val_loss improved from 0.24961 to 0.24955, saving model to sonar_best.h5\n",
            "\n",
            "Epoch 49: val_loss improved from 0.24955 to 0.24875, saving model to sonar_best.h5\n",
            "\n",
            "Epoch 50: val_loss improved from 0.24875 to 0.24832, saving model to sonar_best.h5\n",
            "\n",
            "Epoch 51: val_loss improved from 0.24832 to 0.24798, saving model to sonar_best.h5\n",
            "\n",
            "Epoch 52: val_loss improved from 0.24798 to 0.24639, saving model to sonar_best.h5\n",
            "\n",
            "Epoch 53: val_loss improved from 0.24639 to 0.24510, saving model to sonar_best.h5\n",
            "\n",
            "Epoch 54: val_loss improved from 0.24510 to 0.24299, saving model to sonar_best.h5\n",
            "\n",
            "Epoch 55: val_loss improved from 0.24299 to 0.24068, saving model to sonar_best.h5\n",
            "\n",
            "Epoch 56: val_loss improved from 0.24068 to 0.23880, saving model to sonar_best.h5\n",
            "\n",
            "Epoch 57: val_loss improved from 0.23880 to 0.23692, saving model to sonar_best.h5\n",
            "\n",
            "Epoch 58: val_loss improved from 0.23692 to 0.23472, saving model to sonar_best.h5\n",
            "\n",
            "Epoch 59: val_loss improved from 0.23472 to 0.23234, saving model to sonar_best.h5\n",
            "\n",
            "Epoch 60: val_loss improved from 0.23234 to 0.23075, saving model to sonar_best.h5\n",
            "\n",
            "Epoch 61: val_loss improved from 0.23075 to 0.22890, saving model to sonar_best.h5\n",
            "\n",
            "Epoch 62: val_loss improved from 0.22890 to 0.22659, saving model to sonar_best.h5\n",
            "\n",
            "Epoch 63: val_loss improved from 0.22659 to 0.22432, saving model to sonar_best.h5\n",
            "\n",
            "Epoch 64: val_loss improved from 0.22432 to 0.22228, saving model to sonar_best.h5\n",
            "\n",
            "Epoch 65: val_loss improved from 0.22228 to 0.22115, saving model to sonar_best.h5\n",
            "\n",
            "Epoch 66: val_loss improved from 0.22115 to 0.22099, saving model to sonar_best.h5\n",
            "\n",
            "Epoch 67: val_loss did not improve from 0.22099\n",
            "\n",
            "Epoch 68: val_loss did not improve from 0.22099\n",
            "\n",
            "Epoch 69: val_loss did not improve from 0.22099\n",
            "\n",
            "Epoch 70: val_loss did not improve from 0.22099\n",
            "\n",
            "Epoch 71: val_loss did not improve from 0.22099\n",
            "\n",
            "Epoch 72: val_loss did not improve from 0.22099\n",
            "\n",
            "Epoch 73: val_loss did not improve from 0.22099\n",
            "\n",
            "Epoch 74: val_loss did not improve from 0.22099\n",
            "\n",
            "Epoch 75: val_loss did not improve from 0.22099\n",
            "\n",
            "Epoch 76: val_loss did not improve from 0.22099\n",
            "\n",
            "Epoch 77: val_loss did not improve from 0.22099\n",
            "\n",
            "Epoch 78: val_loss did not improve from 0.22099\n",
            "\n",
            "Epoch 79: val_loss did not improve from 0.22099\n",
            "\n",
            "Epoch 80: val_loss did not improve from 0.22099\n",
            "\n",
            "Epoch 81: val_loss did not improve from 0.22099\n",
            "\n",
            "Epoch 82: val_loss did not improve from 0.22099\n",
            "\n",
            "Epoch 83: val_loss improved from 0.22099 to 0.22099, saving model to sonar_best.h5\n",
            "\n",
            "Epoch 84: val_loss improved from 0.22099 to 0.22035, saving model to sonar_best.h5\n",
            "\n",
            "Epoch 85: val_loss improved from 0.22035 to 0.21970, saving model to sonar_best.h5\n",
            "\n",
            "Epoch 86: val_loss improved from 0.21970 to 0.21871, saving model to sonar_best.h5\n",
            "\n",
            "Epoch 87: val_loss improved from 0.21871 to 0.21762, saving model to sonar_best.h5\n",
            "\n",
            "Epoch 88: val_loss improved from 0.21762 to 0.21621, saving model to sonar_best.h5\n",
            "\n",
            "Epoch 89: val_loss improved from 0.21621 to 0.21509, saving model to sonar_best.h5\n",
            "\n",
            "Epoch 90: val_loss improved from 0.21509 to 0.21432, saving model to sonar_best.h5\n",
            "\n",
            "Epoch 91: val_loss improved from 0.21432 to 0.21367, saving model to sonar_best.h5\n",
            "\n",
            "Epoch 92: val_loss improved from 0.21367 to 0.21299, saving model to sonar_best.h5\n",
            "\n",
            "Epoch 93: val_loss improved from 0.21299 to 0.21219, saving model to sonar_best.h5\n",
            "\n",
            "Epoch 94: val_loss improved from 0.21219 to 0.21134, saving model to sonar_best.h5\n",
            "\n",
            "Epoch 95: val_loss improved from 0.21134 to 0.21099, saving model to sonar_best.h5\n",
            "\n",
            "Epoch 96: val_loss improved from 0.21099 to 0.21097, saving model to sonar_best.h5\n",
            "\n",
            "Epoch 97: val_loss did not improve from 0.21097\n",
            "\n",
            "Epoch 98: val_loss did not improve from 0.21097\n",
            "\n",
            "Epoch 99: val_loss did not improve from 0.21097\n",
            "\n",
            "Epoch 100: val_loss did not improve from 0.21097\n",
            "\n",
            "Epoch 101: val_loss did not improve from 0.21097\n",
            "\n",
            "Epoch 102: val_loss did not improve from 0.21097\n",
            "\n",
            "Epoch 103: val_loss did not improve from 0.21097\n",
            "\n",
            "Epoch 104: val_loss did not improve from 0.21097\n",
            "\n",
            "Epoch 105: val_loss did not improve from 0.21097\n",
            "\n",
            "Epoch 106: val_loss did not improve from 0.21097\n",
            "\n",
            "Epoch 107: val_loss did not improve from 0.21097\n",
            "\n",
            "Epoch 108: val_loss did not improve from 0.21097\n",
            "\n",
            "Epoch 109: val_loss did not improve from 0.21097\n",
            "\n",
            "Epoch 110: val_loss did not improve from 0.21097\n",
            "\n",
            "Epoch 111: val_loss did not improve from 0.21097\n",
            "\n",
            "Epoch 112: val_loss did not improve from 0.21097\n",
            "\n",
            "Epoch 113: val_loss did not improve from 0.21097\n",
            "\n",
            "Epoch 114: val_loss did not improve from 0.21097\n",
            "\n",
            "Epoch 115: val_loss did not improve from 0.21097\n",
            "\n",
            "Epoch 116: val_loss did not improve from 0.21097\n",
            "\n",
            "Epoch 117: val_loss did not improve from 0.21097\n",
            "\n",
            "Epoch 118: val_loss did not improve from 0.21097\n",
            "\n",
            "Epoch 119: val_loss did not improve from 0.21097\n",
            "\n",
            "Epoch 120: val_loss did not improve from 0.21097\n",
            "\n",
            "Epoch 121: val_loss did not improve from 0.21097\n",
            "\n",
            "Epoch 122: val_loss did not improve from 0.21097\n",
            "\n",
            "Epoch 123: val_loss did not improve from 0.21097\n",
            "\n",
            "Epoch 124: val_loss did not improve from 0.21097\n",
            "\n",
            "Epoch 125: val_loss did not improve from 0.21097\n",
            "\n",
            "Epoch 126: val_loss did not improve from 0.21097\n",
            "\n",
            "Epoch 127: val_loss did not improve from 0.21097\n",
            "\n",
            "Epoch 128: val_loss did not improve from 0.21097\n",
            "\n",
            "Epoch 129: val_loss did not improve from 0.21097\n",
            "\n",
            "Epoch 130: val_loss did not improve from 0.21097\n",
            "\n",
            "Epoch 131: val_loss did not improve from 0.21097\n",
            "\n",
            "Epoch 132: val_loss did not improve from 0.21097\n",
            "\n",
            "Epoch 133: val_loss did not improve from 0.21097\n",
            "\n",
            "Epoch 134: val_loss did not improve from 0.21097\n",
            "\n",
            "Epoch 135: val_loss did not improve from 0.21097\n",
            "\n",
            "Epoch 136: val_loss did not improve from 0.21097\n",
            "\n",
            "Epoch 137: val_loss did not improve from 0.21097\n",
            "\n",
            "Epoch 138: val_loss did not improve from 0.21097\n",
            "\n",
            "Epoch 139: val_loss did not improve from 0.21097\n",
            "\n",
            "Epoch 140: val_loss did not improve from 0.21097\n",
            "\n",
            "Epoch 141: val_loss did not improve from 0.21097\n",
            "\n",
            "Epoch 142: val_loss did not improve from 0.21097\n",
            "\n",
            "Epoch 143: val_loss did not improve from 0.21097\n",
            "\n",
            "Epoch 144: val_loss did not improve from 0.21097\n",
            "\n",
            "Epoch 145: val_loss did not improve from 0.21097\n",
            "\n",
            "Epoch 146: val_loss did not improve from 0.21097\n",
            "\n",
            "Epoch 147: val_loss did not improve from 0.21097\n",
            "\n",
            "Epoch 148: val_loss did not improve from 0.21097\n",
            "\n",
            "Epoch 149: val_loss did not improve from 0.21097\n",
            "\n",
            "Epoch 150: val_loss did not improve from 0.21097\n",
            "\n",
            "Epoch 151: val_loss did not improve from 0.21097\n",
            "\n",
            "Epoch 152: val_loss did not improve from 0.21097\n",
            "\n",
            "Epoch 153: val_loss did not improve from 0.21097\n",
            "\n",
            "Epoch 154: val_loss did not improve from 0.21097\n",
            "\n",
            "Epoch 155: val_loss did not improve from 0.21097\n",
            "\n",
            "Epoch 156: val_loss did not improve from 0.21097\n",
            "\n",
            "Epoch 157: val_loss did not improve from 0.21097\n",
            "\n",
            "Epoch 158: val_loss did not improve from 0.21097\n",
            "\n",
            "Epoch 159: val_loss did not improve from 0.21097\n",
            "\n",
            "Epoch 160: val_loss did not improve from 0.21097\n",
            "\n",
            "Epoch 161: val_loss did not improve from 0.21097\n",
            "\n",
            "Epoch 162: val_loss did not improve from 0.21097\n",
            "\n",
            "Epoch 163: val_loss did not improve from 0.21097\n",
            "\n",
            "Epoch 164: val_loss did not improve from 0.21097\n",
            "\n",
            "Epoch 165: val_loss did not improve from 0.21097\n",
            "\n",
            "Epoch 166: val_loss did not improve from 0.21097\n",
            "\n",
            "Epoch 167: val_loss did not improve from 0.21097\n",
            "\n",
            "Epoch 168: val_loss did not improve from 0.21097\n",
            "\n",
            "Epoch 169: val_loss did not improve from 0.21097\n",
            "\n",
            "Epoch 170: val_loss did not improve from 0.21097\n",
            "\n",
            "Epoch 171: val_loss did not improve from 0.21097\n",
            "\n",
            "Epoch 172: val_loss did not improve from 0.21097\n",
            "\n",
            "Epoch 173: val_loss did not improve from 0.21097\n",
            "\n",
            "Epoch 174: val_loss did not improve from 0.21097\n",
            "\n",
            "Epoch 175: val_loss did not improve from 0.21097\n",
            "\n",
            "Epoch 176: val_loss did not improve from 0.21097\n",
            "\n",
            "Epoch 177: val_loss did not improve from 0.21097\n",
            "\n",
            "Epoch 178: val_loss did not improve from 0.21097\n",
            "\n",
            "Epoch 179: val_loss did not improve from 0.21097\n",
            "\n",
            "Epoch 180: val_loss did not improve from 0.21097\n",
            "\n",
            "Epoch 181: val_loss did not improve from 0.21097\n",
            "\n",
            "Epoch 182: val_loss did not improve from 0.21097\n",
            "\n",
            "Epoch 183: val_loss did not improve from 0.21097\n",
            "\n",
            "Epoch 184: val_loss did not improve from 0.21097\n",
            "\n",
            "Epoch 185: val_loss did not improve from 0.21097\n",
            "\n",
            "Epoch 186: val_loss did not improve from 0.21097\n",
            "\n",
            "Epoch 187: val_loss did not improve from 0.21097\n",
            "\n",
            "Epoch 188: val_loss did not improve from 0.21097\n",
            "\n",
            "Epoch 189: val_loss did not improve from 0.21097\n",
            "\n",
            "Epoch 190: val_loss did not improve from 0.21097\n",
            "\n",
            "Epoch 191: val_loss did not improve from 0.21097\n",
            "\n",
            "Epoch 192: val_loss did not improve from 0.21097\n",
            "\n",
            "Epoch 193: val_loss did not improve from 0.21097\n",
            "\n",
            "Epoch 194: val_loss did not improve from 0.21097\n",
            "\n",
            "Epoch 195: val_loss did not improve from 0.21097\n",
            "\n",
            "Epoch 196: val_loss did not improve from 0.21097\n",
            "\n",
            "Epoch 197: val_loss did not improve from 0.21097\n",
            "\n",
            "Epoch 198: val_loss did not improve from 0.21097\n",
            "\n",
            "Epoch 199: val_loss did not improve from 0.21097\n",
            "\n",
            "Epoch 200: val_loss did not improve from 0.21097\n"
          ]
        }
      ]
    },
    {
      "cell_type": "code",
      "source": [
        "from tensorflow.keras.models import load_model\n",
        "\n",
        "best_model = load_model('sonar_best.h5')\n",
        "best_model.evaluate(X_test, y_test)"
      ],
      "metadata": {
        "colab": {
          "base_uri": "https://localhost:8080/"
        },
        "id": "GwHxQ4nnGZDH",
        "outputId": "40e4c01e-37fc-41c4-f56f-ad3971fe8b65"
      },
      "execution_count": 64,
      "outputs": [
        {
          "output_type": "stream",
          "name": "stdout",
          "text": [
            "2/2 [==============================] - 0s 13ms/step - loss: 0.4101 - accuracy: 0.8810\n"
          ]
        },
        {
          "output_type": "execute_result",
          "data": {
            "text/plain": [
              "[0.41005030274391174, 0.8809523582458496]"
            ]
          },
          "metadata": {},
          "execution_count": 64
        }
      ]
    },
    {
      "cell_type": "code",
      "source": [
        "y_acc = hist.history['accuracy']\n",
        "y_vloss = hist.history['val_loss']\n",
        "xs = np.arange(1, len(y_acc)+1)"
      ],
      "metadata": {
        "id": "47S5_8rQIsjH"
      },
      "execution_count": 65,
      "outputs": []
    },
    {
      "cell_type": "code",
      "source": [
        "plt.figure(figsize=(12,8))\n",
        "plt.plot(xs, y_acc, label='train accuracy')\n",
        "plt.plot(xs, y_vloss, label='validation loss')\n",
        "plt.legend(), plt.grid()\n",
        "plt.ylim([0,1.2])\n",
        "plt.xlabel('Epoch')\n",
        "plt.show()"
      ],
      "metadata": {
        "colab": {
          "base_uri": "https://localhost:8080/",
          "height": 501
        },
        "id": "k-H0NzGoJEnH",
        "outputId": "8d9d2164-54c8-4c23-b595-49dc4e3377f3"
      },
      "execution_count": 67,
      "outputs": [
        {
          "output_type": "display_data",
          "data": {
            "text/plain": [
              "<Figure size 864x576 with 1 Axes>"
            ],
            "image/png": "[encoded data removed]"
          },
          "metadata": {
            "needs_background": "light"
          }
        }
      ]
    },
    {
      "cell_type": "markdown",
      "source": [
        "- 조기 종료 콜백 함수"
      ],
      "metadata": {
        "id": "HObMwzVSJsHY"
      }
    },
    {
      "cell_type": "code",
      "source": [
        "del model"
      ],
      "metadata": {
        "id": "MMvrfa8mJ2ib"
      },
      "execution_count": 68,
      "outputs": []
    },
    {
      "cell_type": "code",
      "source": [
        "model = Sequential([ \n",
        "    Dense(80, input_dim=60, activation='relu'),\n",
        "    Dense(48, activation='relu'),\n",
        "    Dense(20, activation='relu'),\n",
        "    Dense(8, activation='relu'),\n",
        "    Dense(1, activation='sigmoid'),\n",
        "])\n",
        "model.summary()"
      ],
      "metadata": {
        "colab": {
          "base_uri": "https://localhost:8080/"
        },
        "id": "-Gnc3ZgZJL5J",
        "outputId": "3f4949fd-5f69-4218-eeec-f2fbdb2f7e14"
      },
      "execution_count": 69,
      "outputs": [
        {
          "output_type": "stream",
          "name": "stdout",
          "text": [
            "Model: \"sequential_11\"\n",
            "_________________________________________________________________\n",
            " Layer (type)                Output Shape              Param #   \n",
            "=================================================================\n",
            " dense_61 (Dense)            (None, 80)                4880      \n",
            "                                                                 \n",
            " dense_62 (Dense)            (None, 48)                3888      \n",
            "                                                                 \n",
            " dense_63 (Dense)            (None, 20)                980       \n",
            "                                                                 \n",
            " dense_64 (Dense)            (None, 8)                 168       \n",
            "                                                                 \n",
            " dense_65 (Dense)            (None, 1)                 9         \n",
            "                                                                 \n",
            "=================================================================\n",
            "Total params: 9,925\n",
            "Trainable params: 9,925\n",
            "Non-trainable params: 0\n",
            "_________________________________________________________________\n"
          ]
        }
      ]
    },
    {
      "cell_type": "code",
      "source": [
        "model.compile('adam', 'binary_crossentropy', metrics=['accuracy'])"
      ],
      "metadata": {
        "id": "Jz5WmZYwJ7Ci"
      },
      "execution_count": 70,
      "outputs": []
    },
    {
      "cell_type": "code",
      "source": [
        "from tensorflow.keras.callbacks import EarlyStopping\n",
        "mc = ModelCheckpoint('sonar_best.h5', monitor='val_loss', \n",
        "                     verbose=1, save_best_only=True)\n",
        "es = EarlyStopping(patience=20)"
      ],
      "metadata": {
        "id": "i0WR2upCJ_mH"
      },
      "execution_count": 71,
      "outputs": []
    },
    {
      "cell_type": "code",
      "source": [
        "# epoch가 종료될 때마다 callback 함수를 실행하도록 설정\n",
        "hist = model.fit(X_train, y_train, validation_split=0.2,\n",
        "                 epochs=200, batch_size=100, verbose=1,\n",
        "                 callbacks=[mc, es])"
      ],
      "metadata": {
        "colab": {
          "base_uri": "https://localhost:8080/"
        },
        "id": "o8eKRSyKKeCX",
        "outputId": "2a981d6e-1cef-4083-c1b2-4b72abf7e6a6"
      },
      "execution_count": 72,
      "outputs": [
        {
          "output_type": "stream",
          "name": "stdout",
          "text": [
            "Epoch 1/200\n",
            "1/2 [==============>...............] - ETA: 0s - loss: 0.7027 - accuracy: 0.5500\n",
            "Epoch 1: val_loss improved from inf to 0.68726, saving model to sonar_best.h5\n",
            "2/2 [==============================] - 1s 354ms/step - loss: 0.7242 - accuracy: 0.5227 - val_loss: 0.6873 - val_accuracy: 0.5882\n",
            "Epoch 2/200\n",
            "1/2 [==============>...............] - ETA: 0s - loss: 0.7005 - accuracy: 0.5000\n",
            "Epoch 2: val_loss improved from 0.68726 to 0.66609, saving model to sonar_best.h5\n",
            "2/2 [==============================] - 0s 111ms/step - loss: 0.6858 - accuracy: 0.5227 - val_loss: 0.6661 - val_accuracy: 0.5882\n",
            "Epoch 3/200\n",
            "1/2 [==============>...............] - ETA: 0s - loss: 0.6641 - accuracy: 0.5100\n",
            "Epoch 3: val_loss improved from 0.66609 to 0.64972, saving model to sonar_best.h5\n",
            "2/2 [==============================] - 0s 114ms/step - loss: 0.6589 - accuracy: 0.5227 - val_loss: 0.6497 - val_accuracy: 0.5882\n",
            "Epoch 4/200\n",
            "1/2 [==============>...............] - ETA: 0s - loss: 0.6385 - accuracy: 0.5400\n",
            "Epoch 4: val_loss improved from 0.64972 to 0.63728, saving model to sonar_best.h5\n",
            "2/2 [==============================] - 0s 96ms/step - loss: 0.6375 - accuracy: 0.5303 - val_loss: 0.6373 - val_accuracy: 0.5882\n",
            "Epoch 5/200\n",
            "1/2 [==============>...............] - ETA: 0s - loss: 0.6324 - accuracy: 0.5500\n",
            "Epoch 5: val_loss improved from 0.63728 to 0.62613, saving model to sonar_best.h5\n",
            "2/2 [==============================] - 0s 102ms/step - loss: 0.6179 - accuracy: 0.5758 - val_loss: 0.6261 - val_accuracy: 0.6176\n",
            "Epoch 6/200\n",
            "1/2 [==============>...............] - ETA: 0s - loss: 0.6034 - accuracy: 0.6100\n",
            "Epoch 6: val_loss improved from 0.62613 to 0.61564, saving model to sonar_best.h5\n",
            "2/2 [==============================] - 0s 94ms/step - loss: 0.5997 - accuracy: 0.6061 - val_loss: 0.6156 - val_accuracy: 0.6765\n",
            "Epoch 7/200\n",
            "1/2 [==============>...............] - ETA: 0s - loss: 0.5834 - accuracy: 0.6800\n",
            "Epoch 7: val_loss improved from 0.61564 to 0.60500, saving model to sonar_best.h5\n",
            "2/2 [==============================] - 0s 101ms/step - loss: 0.5833 - accuracy: 0.6742 - val_loss: 0.6050 - val_accuracy: 0.7353\n",
            "Epoch 8/200\n",
            "1/2 [==============>...............] - ETA: 0s - loss: 0.5596 - accuracy: 0.7100\n",
            "Epoch 8: val_loss improved from 0.60500 to 0.59313, saving model to sonar_best.h5\n",
            "2/2 [==============================] - 0s 92ms/step - loss: 0.5675 - accuracy: 0.7197 - val_loss: 0.5931 - val_accuracy: 0.7941\n",
            "Epoch 9/200\n",
            "1/2 [==============>...............] - ETA: 0s - loss: 0.5491 - accuracy: 0.7700\n",
            "Epoch 9: val_loss improved from 0.59313 to 0.58010, saving model to sonar_best.h5\n",
            "2/2 [==============================] - 0s 111ms/step - loss: 0.5522 - accuracy: 0.7576 - val_loss: 0.5801 - val_accuracy: 0.7941\n",
            "Epoch 10/200\n",
            "1/2 [==============>...............] - ETA: 0s - loss: 0.5343 - accuracy: 0.8200\n",
            "Epoch 10: val_loss improved from 0.58010 to 0.56719, saving model to sonar_best.h5\n",
            "2/2 [==============================] - 0s 96ms/step - loss: 0.5352 - accuracy: 0.8030 - val_loss: 0.5672 - val_accuracy: 0.7941\n",
            "Epoch 11/200\n",
            "1/2 [==============>...............] - ETA: 0s - loss: 0.5222 - accuracy: 0.8300\n",
            "Epoch 11: val_loss improved from 0.56719 to 0.55504, saving model to sonar_best.h5\n",
            "2/2 [==============================] - 0s 98ms/step - loss: 0.5177 - accuracy: 0.8409 - val_loss: 0.5550 - val_accuracy: 0.8235\n",
            "Epoch 12/200\n",
            "1/2 [==============>...............] - ETA: 0s - loss: 0.5052 - accuracy: 0.8700\n",
            "Epoch 12: val_loss improved from 0.55504 to 0.54255, saving model to sonar_best.h5\n",
            "2/2 [==============================] - 0s 99ms/step - loss: 0.5004 - accuracy: 0.8712 - val_loss: 0.5426 - val_accuracy: 0.7647\n",
            "Epoch 13/200\n",
            "1/2 [==============>...............] - ETA: 0s - loss: 0.4943 - accuracy: 0.8900\n",
            "Epoch 13: val_loss improved from 0.54255 to 0.52862, saving model to sonar_best.h5\n",
            "2/2 [==============================] - 0s 92ms/step - loss: 0.4837 - accuracy: 0.8939 - val_loss: 0.5286 - val_accuracy: 0.7647\n",
            "Epoch 14/200\n",
            "1/2 [==============>...............] - ETA: 0s - loss: 0.4753 - accuracy: 0.8900\n",
            "Epoch 14: val_loss improved from 0.52862 to 0.51451, saving model to sonar_best.h5\n",
            "2/2 [==============================] - 0s 93ms/step - loss: 0.4648 - accuracy: 0.8939 - val_loss: 0.5145 - val_accuracy: 0.7647\n",
            "Epoch 15/200\n",
            "1/2 [==============>...............] - ETA: 0s - loss: 0.4271 - accuracy: 0.9000\n",
            "Epoch 15: val_loss improved from 0.51451 to 0.50043, saving model to sonar_best.h5\n",
            "2/2 [==============================] - 0s 99ms/step - loss: 0.4458 - accuracy: 0.8939 - val_loss: 0.5004 - val_accuracy: 0.7941\n",
            "Epoch 16/200\n",
            "1/2 [==============>...............] - ETA: 0s - loss: 0.4275 - accuracy: 0.8900\n",
            "Epoch 16: val_loss improved from 0.50043 to 0.48398, saving model to sonar_best.h5\n",
            "2/2 [==============================] - 0s 114ms/step - loss: 0.4257 - accuracy: 0.9091 - val_loss: 0.4840 - val_accuracy: 0.7941\n",
            "Epoch 17/200\n",
            "1/2 [==============>...............] - ETA: 0s - loss: 0.4176 - accuracy: 0.9100\n",
            "Epoch 17: val_loss improved from 0.48398 to 0.46744, saving model to sonar_best.h5\n",
            "2/2 [==============================] - 0s 82ms/step - loss: 0.4057 - accuracy: 0.9167 - val_loss: 0.4674 - val_accuracy: 0.8235\n",
            "Epoch 18/200\n",
            "1/2 [==============>...............] - ETA: 0s - loss: 0.3919 - accuracy: 0.9400\n",
            "Epoch 18: val_loss improved from 0.46744 to 0.45232, saving model to sonar_best.h5\n",
            "2/2 [==============================] - 0s 65ms/step - loss: 0.3866 - accuracy: 0.9394 - val_loss: 0.4523 - val_accuracy: 0.8235\n",
            "Epoch 19/200\n",
            "1/2 [==============>...............] - ETA: 0s - loss: 0.3740 - accuracy: 0.9300\n",
            "Epoch 19: val_loss improved from 0.45232 to 0.43759, saving model to sonar_best.h5\n",
            "2/2 [==============================] - 0s 66ms/step - loss: 0.3670 - accuracy: 0.9394 - val_loss: 0.4376 - val_accuracy: 0.8529\n",
            "Epoch 20/200\n",
            "1/2 [==============>...............] - ETA: 0s - loss: 0.3159 - accuracy: 0.9600\n",
            "Epoch 20: val_loss improved from 0.43759 to 0.42308, saving model to sonar_best.h5\n",
            "2/2 [==============================] - 0s 66ms/step - loss: 0.3450 - accuracy: 0.9394 - val_loss: 0.4231 - val_accuracy: 0.8529\n",
            "Epoch 21/200\n",
            "1/2 [==============>...............] - ETA: 0s - loss: 0.3348 - accuracy: 0.9400\n",
            "Epoch 21: val_loss improved from 0.42308 to 0.40750, saving model to sonar_best.h5\n",
            "2/2 [==============================] - 0s 70ms/step - loss: 0.3233 - accuracy: 0.9394 - val_loss: 0.4075 - val_accuracy: 0.8529\n",
            "Epoch 22/200\n",
            "1/2 [==============>...............] - ETA: 0s - loss: 0.3001 - accuracy: 0.9500\n",
            "Epoch 22: val_loss improved from 0.40750 to 0.39232, saving model to sonar_best.h5\n",
            "2/2 [==============================] - 0s 61ms/step - loss: 0.3011 - accuracy: 0.9545 - val_loss: 0.3923 - val_accuracy: 0.8529\n",
            "Epoch 23/200\n",
            "1/2 [==============>...............] - ETA: 0s - loss: 0.2620 - accuracy: 0.9700\n",
            "Epoch 23: val_loss improved from 0.39232 to 0.37770, saving model to sonar_best.h5\n",
            "2/2 [==============================] - 0s 57ms/step - loss: 0.2785 - accuracy: 0.9621 - val_loss: 0.3777 - val_accuracy: 0.8529\n",
            "Epoch 24/200\n",
            "1/2 [==============>...............] - ETA: 0s - loss: 0.2472 - accuracy: 0.9900\n",
            "Epoch 24: val_loss improved from 0.37770 to 0.36401, saving model to sonar_best.h5\n",
            "2/2 [==============================] - 0s 61ms/step - loss: 0.2563 - accuracy: 0.9848 - val_loss: 0.3640 - val_accuracy: 0.8529\n",
            "Epoch 25/200\n",
            "1/2 [==============>...............] - ETA: 0s - loss: 0.2455 - accuracy: 0.9900\n",
            "Epoch 25: val_loss improved from 0.36401 to 0.35360, saving model to sonar_best.h5\n",
            "2/2 [==============================] - 0s 63ms/step - loss: 0.2337 - accuracy: 0.9848 - val_loss: 0.3536 - val_accuracy: 0.8529\n",
            "Epoch 26/200\n",
            "1/2 [==============>...............] - ETA: 0s - loss: 0.2141 - accuracy: 0.9700\n",
            "Epoch 26: val_loss improved from 0.35360 to 0.34630, saving model to sonar_best.h5\n",
            "2/2 [==============================] - 0s 57ms/step - loss: 0.2109 - accuracy: 0.9773 - val_loss: 0.3463 - val_accuracy: 0.8235\n",
            "Epoch 27/200\n",
            "1/2 [==============>...............] - ETA: 0s - loss: 0.1901 - accuracy: 0.9800\n",
            "Epoch 27: val_loss improved from 0.34630 to 0.34361, saving model to sonar_best.h5\n",
            "2/2 [==============================] - 0s 56ms/step - loss: 0.1896 - accuracy: 0.9773 - val_loss: 0.3436 - val_accuracy: 0.8235\n",
            "Epoch 28/200\n",
            "1/2 [==============>...............] - ETA: 0s - loss: 0.1736 - accuracy: 0.9800\n",
            "Epoch 28: val_loss improved from 0.34361 to 0.34074, saving model to sonar_best.h5\n",
            "2/2 [==============================] - 0s 62ms/step - loss: 0.1695 - accuracy: 0.9773 - val_loss: 0.3407 - val_accuracy: 0.8235\n",
            "Epoch 29/200\n",
            "1/2 [==============>...............] - ETA: 0s - loss: 0.1630 - accuracy: 0.9800\n",
            "Epoch 29: val_loss improved from 0.34074 to 0.33514, saving model to sonar_best.h5\n",
            "2/2 [==============================] - 0s 60ms/step - loss: 0.1503 - accuracy: 0.9848 - val_loss: 0.3351 - val_accuracy: 0.8235\n",
            "Epoch 30/200\n",
            "1/2 [==============>...............] - ETA: 0s - loss: 0.1301 - accuracy: 1.0000\n",
            "Epoch 30: val_loss improved from 0.33514 to 0.32719, saving model to sonar_best.h5\n",
            "2/2 [==============================] - 0s 67ms/step - loss: 0.1328 - accuracy: 0.9848 - val_loss: 0.3272 - val_accuracy: 0.8824\n",
            "Epoch 31/200\n",
            "1/2 [==============>...............] - ETA: 0s - loss: 0.1246 - accuracy: 0.9900\n",
            "Epoch 31: val_loss improved from 0.32719 to 0.31892, saving model to sonar_best.h5\n",
            "2/2 [==============================] - 0s 68ms/step - loss: 0.1170 - accuracy: 0.9924 - val_loss: 0.3189 - val_accuracy: 0.8529\n",
            "Epoch 32/200\n",
            "1/2 [==============>...............] - ETA: 0s - loss: 0.1125 - accuracy: 1.0000\n",
            "Epoch 32: val_loss improved from 0.31892 to 0.31378, saving model to sonar_best.h5\n",
            "2/2 [==============================] - 0s 80ms/step - loss: 0.1021 - accuracy: 1.0000 - val_loss: 0.3138 - val_accuracy: 0.8235\n",
            "Epoch 33/200\n",
            "1/2 [==============>...............] - ETA: 0s - loss: 0.0894 - accuracy: 1.0000\n",
            "Epoch 33: val_loss improved from 0.31378 to 0.30943, saving model to sonar_best.h5\n",
            "2/2 [==============================] - 0s 60ms/step - loss: 0.0883 - accuracy: 1.0000 - val_loss: 0.3094 - val_accuracy: 0.8235\n",
            "Epoch 34/200\n",
            "1/2 [==============>...............] - ETA: 0s - loss: 0.0738 - accuracy: 1.0000\n",
            "Epoch 34: val_loss improved from 0.30943 to 0.30842, saving model to sonar_best.h5\n",
            "2/2 [==============================] - 0s 61ms/step - loss: 0.0767 - accuracy: 1.0000 - val_loss: 0.3084 - val_accuracy: 0.8235\n",
            "Epoch 35/200\n",
            "1/2 [==============>...............] - ETA: 0s - loss: 0.0636 - accuracy: 1.0000\n",
            "Epoch 35: val_loss improved from 0.30842 to 0.30645, saving model to sonar_best.h5\n",
            "2/2 [==============================] - 0s 60ms/step - loss: 0.0667 - accuracy: 1.0000 - val_loss: 0.3064 - val_accuracy: 0.8235\n",
            "Epoch 36/200\n",
            "1/2 [==============>...............] - ETA: 0s - loss: 0.0570 - accuracy: 1.0000\n",
            "Epoch 36: val_loss improved from 0.30645 to 0.30263, saving model to sonar_best.h5\n",
            "2/2 [==============================] - 0s 59ms/step - loss: 0.0579 - accuracy: 1.0000 - val_loss: 0.3026 - val_accuracy: 0.8235\n",
            "Epoch 37/200\n",
            "1/2 [==============>...............] - ETA: 0s - loss: 0.0519 - accuracy: 1.0000\n",
            "Epoch 37: val_loss improved from 0.30263 to 0.29432, saving model to sonar_best.h5\n",
            "2/2 [==============================] - 0s 65ms/step - loss: 0.0499 - accuracy: 1.0000 - val_loss: 0.2943 - val_accuracy: 0.8235\n",
            "Epoch 38/200\n",
            "1/2 [==============>...............] - ETA: 0s - loss: 0.0445 - accuracy: 1.0000\n",
            "Epoch 38: val_loss improved from 0.29432 to 0.28500, saving model to sonar_best.h5\n",
            "2/2 [==============================] - 0s 65ms/step - loss: 0.0424 - accuracy: 1.0000 - val_loss: 0.2850 - val_accuracy: 0.8529\n",
            "Epoch 39/200\n",
            "1/2 [==============>...............] - ETA: 0s - loss: 0.0368 - accuracy: 1.0000\n",
            "Epoch 39: val_loss improved from 0.28500 to 0.27754, saving model to sonar_best.h5\n",
            "2/2 [==============================] - 0s 57ms/step - loss: 0.0362 - accuracy: 1.0000 - val_loss: 0.2775 - val_accuracy: 0.8529\n",
            "Epoch 40/200\n",
            "1/2 [==============>...............] - ETA: 0s - loss: 0.0336 - accuracy: 1.0000\n",
            "Epoch 40: val_loss improved from 0.27754 to 0.27295, saving model to sonar_best.h5\n",
            "2/2 [==============================] - 0s 58ms/step - loss: 0.0314 - accuracy: 1.0000 - val_loss: 0.2729 - val_accuracy: 0.8824\n",
            "Epoch 41/200\n",
            "1/2 [==============>...............] - ETA: 0s - loss: 0.0306 - accuracy: 1.0000\n",
            "Epoch 41: val_loss improved from 0.27295 to 0.27106, saving model to sonar_best.h5\n",
            "2/2 [==============================] - 0s 69ms/step - loss: 0.0275 - accuracy: 1.0000 - val_loss: 0.2711 - val_accuracy: 0.8529\n",
            "Epoch 42/200\n",
            "1/2 [==============>...............] - ETA: 0s - loss: 0.0283 - accuracy: 1.0000\n",
            "Epoch 42: val_loss improved from 0.27106 to 0.27057, saving model to sonar_best.h5\n",
            "2/2 [==============================] - 0s 61ms/step - loss: 0.0241 - accuracy: 1.0000 - val_loss: 0.2706 - val_accuracy: 0.8824\n",
            "Epoch 43/200\n",
            "1/2 [==============>...............] - ETA: 0s - loss: 0.0227 - accuracy: 1.0000\n",
            "Epoch 43: val_loss did not improve from 0.27057\n",
            "2/2 [==============================] - 0s 32ms/step - loss: 0.0210 - accuracy: 1.0000 - val_loss: 0.2712 - val_accuracy: 0.8824\n",
            "Epoch 44/200\n",
            "1/2 [==============>...............] - ETA: 0s - loss: 0.0191 - accuracy: 1.0000\n",
            "Epoch 44: val_loss did not improve from 0.27057\n",
            "2/2 [==============================] - 0s 31ms/step - loss: 0.0184 - accuracy: 1.0000 - val_loss: 0.2734 - val_accuracy: 0.8824\n",
            "Epoch 45/200\n",
            "1/2 [==============>...............] - ETA: 0s - loss: 0.0164 - accuracy: 1.0000\n",
            "Epoch 45: val_loss did not improve from 0.27057\n",
            "2/2 [==============================] - 0s 47ms/step - loss: 0.0162 - accuracy: 1.0000 - val_loss: 0.2754 - val_accuracy: 0.8824\n",
            "Epoch 46/200\n",
            "1/2 [==============>...............] - ETA: 0s - loss: 0.0152 - accuracy: 1.0000\n",
            "Epoch 46: val_loss did not improve from 0.27057\n",
            "2/2 [==============================] - 0s 35ms/step - loss: 0.0143 - accuracy: 1.0000 - val_loss: 0.2765 - val_accuracy: 0.8824\n",
            "Epoch 47/200\n",
            "1/2 [==============>...............] - ETA: 0s - loss: 0.0142 - accuracy: 1.0000\n",
            "Epoch 47: val_loss did not improve from 0.27057\n",
            "2/2 [==============================] - 0s 34ms/step - loss: 0.0127 - accuracy: 1.0000 - val_loss: 0.2783 - val_accuracy: 0.8824\n",
            "Epoch 48/200\n",
            "1/2 [==============>...............] - ETA: 0s - loss: 0.0114 - accuracy: 1.0000\n",
            "Epoch 48: val_loss did not improve from 0.27057\n",
            "2/2 [==============================] - 0s 30ms/step - loss: 0.0113 - accuracy: 1.0000 - val_loss: 0.2804 - val_accuracy: 0.8824\n",
            "Epoch 49/200\n",
            "1/2 [==============>...............] - ETA: 0s - loss: 0.0111 - accuracy: 1.0000\n",
            "Epoch 49: val_loss did not improve from 0.27057\n",
            "2/2 [==============================] - 0s 33ms/step - loss: 0.0103 - accuracy: 1.0000 - val_loss: 0.2823 - val_accuracy: 0.8824\n",
            "Epoch 50/200\n",
            "1/2 [==============>...............] - ETA: 0s - loss: 0.0100 - accuracy: 1.0000\n",
            "Epoch 50: val_loss did not improve from 0.27057\n",
            "2/2 [==============================] - 0s 33ms/step - loss: 0.0093 - accuracy: 1.0000 - val_loss: 0.2847 - val_accuracy: 0.8824\n",
            "Epoch 51/200\n",
            "1/2 [==============>...............] - ETA: 0s - loss: 0.0084 - accuracy: 1.0000\n",
            "Epoch 51: val_loss did not improve from 0.27057\n",
            "2/2 [==============================] - 0s 41ms/step - loss: 0.0085 - accuracy: 1.0000 - val_loss: 0.2871 - val_accuracy: 0.8824\n",
            "Epoch 52/200\n",
            "1/2 [==============>...............] - ETA: 0s - loss: 0.0078 - accuracy: 1.0000\n",
            "Epoch 52: val_loss did not improve from 0.27057\n",
            "2/2 [==============================] - 0s 30ms/step - loss: 0.0078 - accuracy: 1.0000 - val_loss: 0.2882 - val_accuracy: 0.8824\n",
            "Epoch 53/200\n",
            "1/2 [==============>...............] - ETA: 0s - loss: 0.0065 - accuracy: 1.0000\n",
            "Epoch 53: val_loss did not improve from 0.27057\n",
            "2/2 [==============================] - 0s 31ms/step - loss: 0.0072 - accuracy: 1.0000 - val_loss: 0.2892 - val_accuracy: 0.8824\n",
            "Epoch 54/200\n",
            "1/2 [==============>...............] - ETA: 0s - loss: 0.0055 - accuracy: 1.0000\n",
            "Epoch 54: val_loss did not improve from 0.27057\n",
            "2/2 [==============================] - 0s 30ms/step - loss: 0.0067 - accuracy: 1.0000 - val_loss: 0.2891 - val_accuracy: 0.8824\n",
            "Epoch 55/200\n",
            "1/2 [==============>...............] - ETA: 0s - loss: 0.0067 - accuracy: 1.0000\n",
            "Epoch 55: val_loss did not improve from 0.27057\n",
            "2/2 [==============================] - 0s 32ms/step - loss: 0.0062 - accuracy: 1.0000 - val_loss: 0.2884 - val_accuracy: 0.8824\n",
            "Epoch 56/200\n",
            "1/2 [==============>...............] - ETA: 0s - loss: 0.0053 - accuracy: 1.0000\n",
            "Epoch 56: val_loss did not improve from 0.27057\n",
            "2/2 [==============================] - 0s 31ms/step - loss: 0.0057 - accuracy: 1.0000 - val_loss: 0.2874 - val_accuracy: 0.8824\n",
            "Epoch 57/200\n",
            "1/2 [==============>...............] - ETA: 0s - loss: 0.0054 - accuracy: 1.0000\n",
            "Epoch 57: val_loss did not improve from 0.27057\n",
            "2/2 [==============================] - 0s 30ms/step - loss: 0.0054 - accuracy: 1.0000 - val_loss: 0.2859 - val_accuracy: 0.8824\n",
            "Epoch 58/200\n",
            "1/2 [==============>...............] - ETA: 0s - loss: 0.0048 - accuracy: 1.0000\n",
            "Epoch 58: val_loss did not improve from 0.27057\n",
            "2/2 [==============================] - 0s 33ms/step - loss: 0.0050 - accuracy: 1.0000 - val_loss: 0.2846 - val_accuracy: 0.8824\n",
            "Epoch 59/200\n",
            "1/2 [==============>...............] - ETA: 0s - loss: 0.0047 - accuracy: 1.0000\n",
            "Epoch 59: val_loss did not improve from 0.27057\n",
            "2/2 [==============================] - 0s 30ms/step - loss: 0.0047 - accuracy: 1.0000 - val_loss: 0.2826 - val_accuracy: 0.8824\n",
            "Epoch 60/200\n",
            "1/2 [==============>...............] - ETA: 0s - loss: 0.0046 - accuracy: 1.0000\n",
            "Epoch 60: val_loss did not improve from 0.27057\n",
            "2/2 [==============================] - 0s 32ms/step - loss: 0.0044 - accuracy: 1.0000 - val_loss: 0.2811 - val_accuracy: 0.8824\n",
            "Epoch 61/200\n",
            "1/2 [==============>...............] - ETA: 0s - loss: 0.0043 - accuracy: 1.0000\n",
            "Epoch 61: val_loss did not improve from 0.27057\n",
            "2/2 [==============================] - 0s 31ms/step - loss: 0.0042 - accuracy: 1.0000 - val_loss: 0.2791 - val_accuracy: 0.8824\n",
            "Epoch 62/200\n",
            "1/2 [==============>...............] - ETA: 0s - loss: 0.0039 - accuracy: 1.0000\n",
            "Epoch 62: val_loss did not improve from 0.27057\n",
            "2/2 [==============================] - 0s 31ms/step - loss: 0.0040 - accuracy: 1.0000 - val_loss: 0.2768 - val_accuracy: 0.8824\n"
          ]
        }
      ]
    },
    {
      "cell_type": "code",
      "source": [
        "best_model = load_model('sonar_best.h5')\n",
        "best_model.evaluate(X_test, y_test)"
      ],
      "metadata": {
        "colab": {
          "base_uri": "https://localhost:8080/"
        },
        "id": "P8DT3-u6KyI2",
        "outputId": "5b75a86b-bdda-4e1e-fa40-46abd2d12925"
      },
      "execution_count": 73,
      "outputs": [
        {
          "output_type": "stream",
          "name": "stdout",
          "text": [
            "2/2 [==============================] - 0s 6ms/step - loss: 0.5469 - accuracy: 0.7857\n"
          ]
        },
        {
          "output_type": "execute_result",
          "data": {
            "text/plain": [
              "[0.5469105243682861, 0.7857142686843872]"
            ]
          },
          "metadata": {},
          "execution_count": 73
        }
      ]
    },
    {
      "cell_type": "code",
      "source": [
        ""
      ],
      "metadata": {
        "id": "lY7XC3lzLFcO"
      },
      "execution_count": null,
      "outputs": []
    }
  ]
}