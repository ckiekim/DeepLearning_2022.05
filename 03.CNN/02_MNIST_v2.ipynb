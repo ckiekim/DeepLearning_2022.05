{
  "nbformat": 4,
  "nbformat_minor": 0,
  "metadata": {
    "colab": {
      "name": "02_MNIST_v2.ipynb",
      "provenance": [],
      "collapsed_sections": []
    },
    "kernelspec": {
      "name": "python3",
      "display_name": "Python 3"
    },
    "language_info": {
      "name": "python"
    },
    "accelerator": "GPU"
  },
  "cells": [
    {
      "cell_type": "markdown",
      "source": [
        "# MNIST 손글씨 - CNN v2\n",
        "- 2 x Conv2D layers\n",
        "- 1 MaxPooling2D layer\n",
        "- 1 FCN layer\n",
        "- 1 Output layer"
      ],
      "metadata": {
        "id": "hEdgalJddvic"
      }
    },
    {
      "cell_type": "code",
      "execution_count": 1,
      "metadata": {
        "id": "EhX0ER4MTAD2"
      },
      "outputs": [],
      "source": [
        "import numpy as np\n",
        "import matplotlib.pyplot as plt\n",
        "import tensorflow as tf\n",
        "seed = 2022\n",
        "np.random.seed(seed)\n",
        "tf.random.set_seed(seed)"
      ]
    },
    {
      "cell_type": "markdown",
      "source": [
        "- 데이터 전처리"
      ],
      "metadata": {
        "id": "C0nzkvhsfKoN"
      }
    },
    {
      "cell_type": "code",
      "source": [
        "from tensorflow.keras.datasets import mnist\n",
        "(X_train, y_train), (X_test, y_test) = mnist.load_data()\n",
        "X_train.shape, y_train.shape, X_test.shape, y_test.shape"
      ],
      "metadata": {
        "colab": {
          "base_uri": "https://localhost:8080/"
        },
        "id": "PWpl4Tn6eG_1",
        "outputId": "8d27ee5f-0745-41d3-fb70-878af64a8fbc"
      },
      "execution_count": 2,
      "outputs": [
        {
          "output_type": "stream",
          "name": "stdout",
          "text": [
            "Downloading data from https://storage.googleapis.com/tensorflow/tf-keras-datasets/mnist.npz\n",
            "11493376/11490434 [==============================] - 1s 0us/step\n",
            "11501568/11490434 [==============================] - 1s 0us/step\n"
          ]
        },
        {
          "output_type": "execute_result",
          "data": {
            "text/plain": [
              "((60000, 28, 28), (60000,), (10000, 28, 28), (10000,))"
            ]
          },
          "metadata": {},
          "execution_count": 2
        }
      ]
    },
    {
      "cell_type": "code",
      "source": [
        "# X_train, X_test 정규화(0 ~ 1), 이미지 차원 변경: 2차원 --> 3차원\n",
        "X_train = X_train.reshape(-1, 28, 28, 1) / 255.\n",
        "X_test = X_test.reshape(-1, 28, 28, 1) / 255.\n",
        "X_train.shape, X_test.shape"
      ],
      "metadata": {
        "colab": {
          "base_uri": "https://localhost:8080/"
        },
        "id": "6GHAnhTXeOh0",
        "outputId": "85263307-2ce3-4b36-ae24-9b69b6b433ed"
      },
      "execution_count": 3,
      "outputs": [
        {
          "output_type": "execute_result",
          "data": {
            "text/plain": [
              "((60000, 28, 28, 1), (10000, 28, 28, 1))"
            ]
          },
          "metadata": {},
          "execution_count": 3
        }
      ]
    },
    {
      "cell_type": "code",
      "source": [
        "# One hot encoding\n",
        "from tensorflow.keras.utils import to_categorical\n",
        "Y_train = to_categorical(y_train)\n",
        "Y_test = to_categorical(y_test)\n",
        "Y_train.shape, Y_test.shape"
      ],
      "metadata": {
        "colab": {
          "base_uri": "https://localhost:8080/"
        },
        "id": "v3_y1tMCey6r",
        "outputId": "5b0adeae-7c2f-494b-aebf-f3d162499cae"
      },
      "execution_count": 4,
      "outputs": [
        {
          "output_type": "execute_result",
          "data": {
            "text/plain": [
              "((60000, 10), (10000, 10))"
            ]
          },
          "metadata": {},
          "execution_count": 4
        }
      ]
    },
    {
      "cell_type": "markdown",
      "source": [
        "- 모델 정의/설정/학습/평가"
      ],
      "metadata": {
        "id": "UDICIi-WfFFe"
      }
    },
    {
      "cell_type": "code",
      "source": [
        "from tensorflow.keras.models import Sequential, load_model\n",
        "from tensorflow.keras.layers import Dense, Conv2D, Flatten, MaxPooling2D\n",
        "from tensorflow.keras.callbacks import ModelCheckpoint, EarlyStopping"
      ],
      "metadata": {
        "id": "tAl9qCAre_vD"
      },
      "execution_count": 5,
      "outputs": []
    },
    {
      "cell_type": "code",
      "source": [
        "model = Sequential([\n",
        "    Conv2D(32, kernel_size=(3,3), input_shape=(28,28,1), activation='relu'),\n",
        "    Conv2D(64, (3,3), activation='relu'),\n",
        "    MaxPooling2D(),                         # MaxPooling2D(pool_size=(2,2))\n",
        "    Flatten(),\n",
        "    Dense(512, activation='relu'),\n",
        "    Dense(10, activation='softmax')\n",
        "])\n",
        "model.summary()"
      ],
      "metadata": {
        "colab": {
          "base_uri": "https://localhost:8080/"
        },
        "id": "MfsGsDt0friu",
        "outputId": "0057d8de-8373-4362-f30b-0a978ad4fd5a"
      },
      "execution_count": 6,
      "outputs": [
        {
          "output_type": "stream",
          "name": "stdout",
          "text": [
            "Model: \"sequential\"\n",
            "_________________________________________________________________\n",
            " Layer (type)                Output Shape              Param #   \n",
            "=================================================================\n",
            " conv2d (Conv2D)             (None, 26, 26, 32)        320       \n",
            "                                                                 \n",
            " conv2d_1 (Conv2D)           (None, 24, 24, 64)        18496     \n",
            "                                                                 \n",
            " max_pooling2d (MaxPooling2D  (None, 12, 12, 64)       0         \n",
            " )                                                               \n",
            "                                                                 \n",
            " flatten (Flatten)           (None, 9216)              0         \n",
            "                                                                 \n",
            " dense (Dense)               (None, 512)               4719104   \n",
            "                                                                 \n",
            " dense_1 (Dense)             (None, 10)                5130      \n",
            "                                                                 \n",
            "=================================================================\n",
            "Total params: 4,743,050\n",
            "Trainable params: 4,743,050\n",
            "Non-trainable params: 0\n",
            "_________________________________________________________________\n"
          ]
        }
      ]
    },
    {
      "cell_type": "code",
      "source": [
        "model.compile('adam', 'categorical_crossentropy', ['accuracy'])"
      ],
      "metadata": {
        "id": "hSV35OnJhl-s"
      },
      "execution_count": 7,
      "outputs": []
    },
    {
      "cell_type": "code",
      "source": [
        "model_path = 'best-mnist-cnn-v2.h5'\n",
        "mc = ModelCheckpoint(model_path, save_best_only=True, verbose=1)\n",
        "es = EarlyStopping(patience=10)"
      ],
      "metadata": {
        "id": "r9wrToHLi54y"
      },
      "execution_count": 8,
      "outputs": []
    },
    {
      "cell_type": "code",
      "source": [
        "hist = model.fit(\n",
        "    X_train, Y_train, validation_split=0.2, epochs=100, batch_size=200,\n",
        "    callbacks=[mc, es]\n",
        ")"
      ],
      "metadata": {
        "colab": {
          "base_uri": "https://localhost:8080/"
        },
        "id": "NTOqa64Blh0v",
        "outputId": "5918acdb-30ce-4d85-c409-5fd1d2eb9ff6"
      },
      "execution_count": 9,
      "outputs": [
        {
          "output_type": "stream",
          "name": "stdout",
          "text": [
            "Epoch 1/100\n",
            "239/240 [============================>.] - ETA: 0s - loss: 0.1832 - accuracy: 0.9437\n",
            "Epoch 1: val_loss improved from inf to 0.06058, saving model to best-mnist-cnn-v2.h5\n",
            "240/240 [==============================] - 15s 16ms/step - loss: 0.1828 - accuracy: 0.9438 - val_loss: 0.0606 - val_accuracy: 0.9817\n",
            "Epoch 2/100\n",
            "239/240 [============================>.] - ETA: 0s - loss: 0.0438 - accuracy: 0.9865\n",
            "Epoch 2: val_loss improved from 0.06058 to 0.05573, saving model to best-mnist-cnn-v2.h5\n",
            "240/240 [==============================] - 3s 15ms/step - loss: 0.0437 - accuracy: 0.9865 - val_loss: 0.0557 - val_accuracy: 0.9852\n",
            "Epoch 3/100\n",
            "240/240 [==============================] - ETA: 0s - loss: 0.0260 - accuracy: 0.9916\n",
            "Epoch 3: val_loss improved from 0.05573 to 0.03810, saving model to best-mnist-cnn-v2.h5\n",
            "240/240 [==============================] - 4s 15ms/step - loss: 0.0260 - accuracy: 0.9916 - val_loss: 0.0381 - val_accuracy: 0.9885\n",
            "Epoch 4/100\n",
            "237/240 [============================>.] - ETA: 0s - loss: 0.0174 - accuracy: 0.9943\n",
            "Epoch 4: val_loss did not improve from 0.03810\n",
            "240/240 [==============================] - 4s 16ms/step - loss: 0.0174 - accuracy: 0.9943 - val_loss: 0.0441 - val_accuracy: 0.9868\n",
            "Epoch 5/100\n",
            "239/240 [============================>.] - ETA: 0s - loss: 0.0109 - accuracy: 0.9964\n",
            "Epoch 5: val_loss did not improve from 0.03810\n",
            "240/240 [==============================] - 3s 14ms/step - loss: 0.0109 - accuracy: 0.9964 - val_loss: 0.0561 - val_accuracy: 0.9870\n",
            "Epoch 6/100\n",
            "239/240 [============================>.] - ETA: 0s - loss: 0.0083 - accuracy: 0.9972\n",
            "Epoch 6: val_loss did not improve from 0.03810\n",
            "240/240 [==============================] - 3s 13ms/step - loss: 0.0083 - accuracy: 0.9972 - val_loss: 0.0423 - val_accuracy: 0.9892\n",
            "Epoch 7/100\n",
            "238/240 [============================>.] - ETA: 0s - loss: 0.0071 - accuracy: 0.9975\n",
            "Epoch 7: val_loss did not improve from 0.03810\n",
            "240/240 [==============================] - 3s 14ms/step - loss: 0.0071 - accuracy: 0.9975 - val_loss: 0.0542 - val_accuracy: 0.9862\n",
            "Epoch 8/100\n",
            "239/240 [============================>.] - ETA: 0s - loss: 0.0052 - accuracy: 0.9983\n",
            "Epoch 8: val_loss did not improve from 0.03810\n",
            "240/240 [==============================] - 3s 14ms/step - loss: 0.0052 - accuracy: 0.9983 - val_loss: 0.0511 - val_accuracy: 0.9895\n",
            "Epoch 9/100\n",
            "238/240 [============================>.] - ETA: 0s - loss: 0.0045 - accuracy: 0.9985\n",
            "Epoch 9: val_loss did not improve from 0.03810\n",
            "240/240 [==============================] - 3s 14ms/step - loss: 0.0046 - accuracy: 0.9985 - val_loss: 0.0631 - val_accuracy: 0.9862\n",
            "Epoch 10/100\n",
            "239/240 [============================>.] - ETA: 0s - loss: 0.0059 - accuracy: 0.9980\n",
            "Epoch 10: val_loss did not improve from 0.03810\n",
            "240/240 [==============================] - 3s 14ms/step - loss: 0.0059 - accuracy: 0.9980 - val_loss: 0.0546 - val_accuracy: 0.9896\n",
            "Epoch 11/100\n",
            "237/240 [============================>.] - ETA: 0s - loss: 0.0020 - accuracy: 0.9996\n",
            "Epoch 11: val_loss did not improve from 0.03810\n",
            "240/240 [==============================] - 3s 14ms/step - loss: 0.0020 - accuracy: 0.9996 - val_loss: 0.0593 - val_accuracy: 0.9897\n",
            "Epoch 12/100\n",
            "237/240 [============================>.] - ETA: 0s - loss: 0.0044 - accuracy: 0.9987\n",
            "Epoch 12: val_loss did not improve from 0.03810\n",
            "240/240 [==============================] - 3s 14ms/step - loss: 0.0044 - accuracy: 0.9987 - val_loss: 0.0545 - val_accuracy: 0.9887\n",
            "Epoch 13/100\n",
            "239/240 [============================>.] - ETA: 0s - loss: 0.0038 - accuracy: 0.9987\n",
            "Epoch 13: val_loss did not improve from 0.03810\n",
            "240/240 [==============================] - 3s 14ms/step - loss: 0.0038 - accuracy: 0.9987 - val_loss: 0.0637 - val_accuracy: 0.9875\n"
          ]
        }
      ]
    },
    {
      "cell_type": "code",
      "source": [
        "best_model = load_model(model_path)\n",
        "best_model.evaluate(X_test, Y_test)"
      ],
      "metadata": {
        "colab": {
          "base_uri": "https://localhost:8080/"
        },
        "id": "_FdYx4itl3tE",
        "outputId": "c1c27e40-4192-437e-d550-576ca6b6580f"
      },
      "execution_count": 10,
      "outputs": [
        {
          "output_type": "stream",
          "name": "stdout",
          "text": [
            "313/313 [==============================] - 1s 3ms/step - loss: 0.0364 - accuracy: 0.9879\n"
          ]
        },
        {
          "output_type": "execute_result",
          "data": {
            "text/plain": [
              "[0.03641289472579956, 0.9879000186920166]"
            ]
          },
          "metadata": {},
          "execution_count": 10
        }
      ]
    },
    {
      "cell_type": "markdown",
      "source": [
        "- 학습과정 시각화"
      ],
      "metadata": {
        "id": "tDT-gFhTnPDm"
      }
    },
    {
      "cell_type": "code",
      "source": [
        "y_acc = hist.history['accuracy']\n",
        "y_vloss = hist.history['val_loss']\n",
        "xs = np.arange(1, len(y_acc)+1)"
      ],
      "metadata": {
        "id": "t1gntYfSnR_V"
      },
      "execution_count": 11,
      "outputs": []
    },
    {
      "cell_type": "code",
      "source": [
        "plt.figure(figsize=(12,8))\n",
        "plt.plot(xs, y_acc, label='train accuracy')\n",
        "plt.plot(xs, y_vloss, label='validation loss')\n",
        "plt.legend(), plt.grid()\n",
        "plt.xlabel('Epoch')\n",
        "plt.title('MNIST CNN model v2')\n",
        "plt.show()"
      ],
      "metadata": {
        "colab": {
          "base_uri": "https://localhost:8080/",
          "height": 513
        },
        "id": "BupJwgcqnZt-",
        "outputId": "188b99d9-72b8-40dc-89af-48b3e74f69b8"
      },
      "execution_count": 12,
      "outputs": [
        {
          "output_type": "display_data",
          "data": {
            "text/plain": [
              "<Figure size 864x576 with 1 Axes>"
            ],
            "image/png": "[encoded data removed]"
          },
          "metadata": {
            "needs_background": "light"
          }
        }
      ]
    }
  ]
}