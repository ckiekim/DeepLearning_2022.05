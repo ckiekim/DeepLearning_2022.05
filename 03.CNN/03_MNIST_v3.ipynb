{
  "nbformat": 4,
  "nbformat_minor": 0,
  "metadata": {
    "colab": {
      "name": "03_MNIST_v3.ipynb",
      "provenance": [],
      "collapsed_sections": []
    },
    "kernelspec": {
      "name": "python3",
      "display_name": "Python 3"
    },
    "language_info": {
      "name": "python"
    },
    "accelerator": "GPU"
  },
  "cells": [
    {
      "cell_type": "markdown",
      "source": [
        "# MNIST 손글씨 - CNN v3\n",
        "- 2 x Conv2D layers\n",
        "- 1 MaxPooling2D layer\n",
        "- 1 Dropout(0.25) layer\n",
        "- 1 FCN layer\n",
        "- 1 Dropout(0.5) layer\n",
        "- 1 Output layer"
      ],
      "metadata": {
        "id": "hEdgalJddvic"
      }
    },
    {
      "cell_type": "code",
      "execution_count": 1,
      "metadata": {
        "id": "EhX0ER4MTAD2"
      },
      "outputs": [],
      "source": [
        "import numpy as np\n",
        "import matplotlib.pyplot as plt\n",
        "import tensorflow as tf\n",
        "seed = 2022\n",
        "np.random.seed(seed)\n",
        "tf.random.set_seed(seed)"
      ]
    },
    {
      "cell_type": "markdown",
      "source": [
        "- 데이터 전처리"
      ],
      "metadata": {
        "id": "C0nzkvhsfKoN"
      }
    },
    {
      "cell_type": "code",
      "source": [
        "from tensorflow.keras.datasets import mnist\n",
        "(X_train, y_train), (X_test, y_test) = mnist.load_data()\n",
        "X_train.shape, y_train.shape, X_test.shape, y_test.shape"
      ],
      "metadata": {
        "colab": {
          "base_uri": "https://localhost:8080/"
        },
        "id": "PWpl4Tn6eG_1",
        "outputId": "cb359880-bf67-4bd4-c67e-fd86246f5584"
      },
      "execution_count": 2,
      "outputs": [
        {
          "output_type": "stream",
          "name": "stdout",
          "text": [
            "Downloading data from https://storage.googleapis.com/tensorflow/tf-keras-datasets/mnist.npz\n",
            "11493376/11490434 [==============================] - 1s 0us/step\n",
            "11501568/11490434 [==============================] - 1s 0us/step\n"
          ]
        },
        {
          "output_type": "execute_result",
          "data": {
            "text/plain": [
              "((60000, 28, 28), (60000,), (10000, 28, 28), (10000,))"
            ]
          },
          "metadata": {},
          "execution_count": 2
        }
      ]
    },
    {
      "cell_type": "code",
      "source": [
        "# X_train, X_test 정규화(0 ~ 1), 이미지 차원 변경: 2차원 --> 3차원\n",
        "X_train = X_train.reshape(-1, 28, 28, 1) / 255.\n",
        "X_test = X_test.reshape(-1, 28, 28, 1) / 255.\n",
        "X_train.shape, X_test.shape"
      ],
      "metadata": {
        "colab": {
          "base_uri": "https://localhost:8080/"
        },
        "id": "6GHAnhTXeOh0",
        "outputId": "0aaed97a-6a8e-4551-b0c6-420a43f8728b"
      },
      "execution_count": 3,
      "outputs": [
        {
          "output_type": "execute_result",
          "data": {
            "text/plain": [
              "((60000, 28, 28, 1), (10000, 28, 28, 1))"
            ]
          },
          "metadata": {},
          "execution_count": 3
        }
      ]
    },
    {
      "cell_type": "code",
      "source": [
        "# One hot encoding\n",
        "from tensorflow.keras.utils import to_categorical\n",
        "Y_train = to_categorical(y_train)\n",
        "Y_test = to_categorical(y_test)\n",
        "Y_train.shape, Y_test.shape"
      ],
      "metadata": {
        "colab": {
          "base_uri": "https://localhost:8080/"
        },
        "id": "v3_y1tMCey6r",
        "outputId": "ffd74d11-cc48-448b-a1a7-67ad8fe55845"
      },
      "execution_count": 4,
      "outputs": [
        {
          "output_type": "execute_result",
          "data": {
            "text/plain": [
              "((60000, 10), (10000, 10))"
            ]
          },
          "metadata": {},
          "execution_count": 4
        }
      ]
    },
    {
      "cell_type": "markdown",
      "source": [
        "- 모델 정의/설정/학습/평가"
      ],
      "metadata": {
        "id": "UDICIi-WfFFe"
      }
    },
    {
      "cell_type": "code",
      "source": [
        "from tensorflow.keras.models import Sequential, load_model\n",
        "from tensorflow.keras.layers import Dense, Conv2D, Flatten, MaxPooling2D, Dropout\n",
        "from tensorflow.keras.callbacks import ModelCheckpoint, EarlyStopping"
      ],
      "metadata": {
        "id": "tAl9qCAre_vD"
      },
      "execution_count": 5,
      "outputs": []
    },
    {
      "cell_type": "code",
      "source": [
        "model = Sequential([\n",
        "    Conv2D(32, kernel_size=(3,3), input_shape=(28,28,1), activation='relu'),\n",
        "    Conv2D(64, (3,3), activation='relu'),\n",
        "    MaxPooling2D(),                         # MaxPooling2D(pool_size=(2,2))\n",
        "    Dropout(0.25),\n",
        "    Flatten(),\n",
        "    Dense(512, activation='relu'),\n",
        "    Dropout(0.5),\n",
        "    Dense(10, activation='softmax')\n",
        "])\n",
        "model.summary()"
      ],
      "metadata": {
        "colab": {
          "base_uri": "https://localhost:8080/"
        },
        "id": "MfsGsDt0friu",
        "outputId": "0813c20b-ad0a-4148-be9d-c9b780394d29"
      },
      "execution_count": 6,
      "outputs": [
        {
          "output_type": "stream",
          "name": "stdout",
          "text": [
            "Model: \"sequential\"\n",
            "_________________________________________________________________\n",
            " Layer (type)                Output Shape              Param #   \n",
            "=================================================================\n",
            " conv2d (Conv2D)             (None, 26, 26, 32)        320       \n",
            "                                                                 \n",
            " conv2d_1 (Conv2D)           (None, 24, 24, 64)        18496     \n",
            "                                                                 \n",
            " max_pooling2d (MaxPooling2D  (None, 12, 12, 64)       0         \n",
            " )                                                               \n",
            "                                                                 \n",
            " dropout (Dropout)           (None, 12, 12, 64)        0         \n",
            "                                                                 \n",
            " flatten (Flatten)           (None, 9216)              0         \n",
            "                                                                 \n",
            " dense (Dense)               (None, 512)               4719104   \n",
            "                                                                 \n",
            " dropout_1 (Dropout)         (None, 512)               0         \n",
            "                                                                 \n",
            " dense_1 (Dense)             (None, 10)                5130      \n",
            "                                                                 \n",
            "=================================================================\n",
            "Total params: 4,743,050\n",
            "Trainable params: 4,743,050\n",
            "Non-trainable params: 0\n",
            "_________________________________________________________________\n"
          ]
        }
      ]
    },
    {
      "cell_type": "code",
      "source": [
        "model.compile('adam', 'categorical_crossentropy', ['accuracy'])"
      ],
      "metadata": {
        "id": "hSV35OnJhl-s"
      },
      "execution_count": 7,
      "outputs": []
    },
    {
      "cell_type": "code",
      "source": [
        "model_path = 'best-mnist-cnn-v3.h5'\n",
        "mc = ModelCheckpoint(model_path, save_best_only=True, verbose=1)\n",
        "es = EarlyStopping(patience=10)"
      ],
      "metadata": {
        "id": "r9wrToHLi54y"
      },
      "execution_count": 8,
      "outputs": []
    },
    {
      "cell_type": "code",
      "source": [
        "hist = model.fit(\n",
        "    X_train, Y_train, validation_split=0.2, epochs=100, batch_size=200,\n",
        "    callbacks=[mc, es]\n",
        ")"
      ],
      "metadata": {
        "colab": {
          "base_uri": "https://localhost:8080/"
        },
        "id": "NTOqa64Blh0v",
        "outputId": "6c236936-4f3e-4fef-de8c-753f17477241"
      },
      "execution_count": 9,
      "outputs": [
        {
          "output_type": "stream",
          "name": "stdout",
          "text": [
            "Epoch 1/100\n",
            "240/240 [==============================] - ETA: 0s - loss: 0.2201 - accuracy: 0.9321\n",
            "Epoch 1: val_loss improved from inf to 0.05623, saving model to best-mnist-cnn-v3.h5\n",
            "240/240 [==============================] - 15s 15ms/step - loss: 0.2201 - accuracy: 0.9321 - val_loss: 0.0562 - val_accuracy: 0.9833\n",
            "Epoch 2/100\n",
            "237/240 [============================>.] - ETA: 0s - loss: 0.0629 - accuracy: 0.9809\n",
            "Epoch 2: val_loss improved from 0.05623 to 0.04891, saving model to best-mnist-cnn-v3.h5\n",
            "240/240 [==============================] - 3s 14ms/step - loss: 0.0627 - accuracy: 0.9810 - val_loss: 0.0489 - val_accuracy: 0.9858\n",
            "Epoch 3/100\n",
            "240/240 [==============================] - ETA: 0s - loss: 0.0428 - accuracy: 0.9865\n",
            "Epoch 3: val_loss improved from 0.04891 to 0.03878, saving model to best-mnist-cnn-v3.h5\n",
            "240/240 [==============================] - 3s 14ms/step - loss: 0.0428 - accuracy: 0.9865 - val_loss: 0.0388 - val_accuracy: 0.9888\n",
            "Epoch 4/100\n",
            "239/240 [============================>.] - ETA: 0s - loss: 0.0339 - accuracy: 0.9890\n",
            "Epoch 4: val_loss improved from 0.03878 to 0.03676, saving model to best-mnist-cnn-v3.h5\n",
            "240/240 [==============================] - 3s 14ms/step - loss: 0.0339 - accuracy: 0.9890 - val_loss: 0.0368 - val_accuracy: 0.9894\n",
            "Epoch 5/100\n",
            "239/240 [============================>.] - ETA: 0s - loss: 0.0276 - accuracy: 0.9909\n",
            "Epoch 5: val_loss did not improve from 0.03676\n",
            "240/240 [==============================] - 3s 13ms/step - loss: 0.0275 - accuracy: 0.9909 - val_loss: 0.0397 - val_accuracy: 0.9884\n",
            "Epoch 6/100\n",
            "238/240 [============================>.] - ETA: 0s - loss: 0.0227 - accuracy: 0.9928\n",
            "Epoch 6: val_loss improved from 0.03676 to 0.03408, saving model to best-mnist-cnn-v3.h5\n",
            "240/240 [==============================] - 3s 14ms/step - loss: 0.0227 - accuracy: 0.9928 - val_loss: 0.0341 - val_accuracy: 0.9890\n",
            "Epoch 7/100\n",
            "236/240 [============================>.] - ETA: 0s - loss: 0.0187 - accuracy: 0.9941\n",
            "Epoch 7: val_loss improved from 0.03408 to 0.03372, saving model to best-mnist-cnn-v3.h5\n",
            "240/240 [==============================] - 3s 14ms/step - loss: 0.0185 - accuracy: 0.9941 - val_loss: 0.0337 - val_accuracy: 0.9912\n",
            "Epoch 8/100\n",
            "237/240 [============================>.] - ETA: 0s - loss: 0.0172 - accuracy: 0.9942\n",
            "Epoch 8: val_loss did not improve from 0.03372\n",
            "240/240 [==============================] - 3s 13ms/step - loss: 0.0172 - accuracy: 0.9942 - val_loss: 0.0351 - val_accuracy: 0.9912\n",
            "Epoch 9/100\n",
            "238/240 [============================>.] - ETA: 0s - loss: 0.0150 - accuracy: 0.9950\n",
            "Epoch 9: val_loss did not improve from 0.03372\n",
            "240/240 [==============================] - 3s 14ms/step - loss: 0.0149 - accuracy: 0.9950 - val_loss: 0.0346 - val_accuracy: 0.9901\n",
            "Epoch 10/100\n",
            "239/240 [============================>.] - ETA: 0s - loss: 0.0146 - accuracy: 0.9949\n",
            "Epoch 10: val_loss did not improve from 0.03372\n",
            "240/240 [==============================] - 3s 14ms/step - loss: 0.0145 - accuracy: 0.9949 - val_loss: 0.0374 - val_accuracy: 0.9902\n",
            "Epoch 11/100\n",
            "239/240 [============================>.] - ETA: 0s - loss: 0.0127 - accuracy: 0.9953\n",
            "Epoch 11: val_loss did not improve from 0.03372\n",
            "240/240 [==============================] - 3s 14ms/step - loss: 0.0127 - accuracy: 0.9954 - val_loss: 0.0353 - val_accuracy: 0.9899\n",
            "Epoch 12/100\n",
            "240/240 [==============================] - ETA: 0s - loss: 0.0100 - accuracy: 0.9966\n",
            "Epoch 12: val_loss did not improve from 0.03372\n",
            "240/240 [==============================] - 3s 13ms/step - loss: 0.0100 - accuracy: 0.9966 - val_loss: 0.0338 - val_accuracy: 0.9912\n",
            "Epoch 13/100\n",
            "239/240 [============================>.] - ETA: 0s - loss: 0.0105 - accuracy: 0.9964\n",
            "Epoch 13: val_loss did not improve from 0.03372\n",
            "240/240 [==============================] - 3s 14ms/step - loss: 0.0106 - accuracy: 0.9964 - val_loss: 0.0386 - val_accuracy: 0.9906\n",
            "Epoch 14/100\n",
            "240/240 [==============================] - ETA: 0s - loss: 0.0101 - accuracy: 0.9962\n",
            "Epoch 14: val_loss did not improve from 0.03372\n",
            "240/240 [==============================] - 3s 14ms/step - loss: 0.0101 - accuracy: 0.9962 - val_loss: 0.0364 - val_accuracy: 0.9903\n",
            "Epoch 15/100\n",
            "237/240 [============================>.] - ETA: 0s - loss: 0.0085 - accuracy: 0.9970\n",
            "Epoch 15: val_loss did not improve from 0.03372\n",
            "240/240 [==============================] - 3s 14ms/step - loss: 0.0085 - accuracy: 0.9970 - val_loss: 0.0396 - val_accuracy: 0.9907\n",
            "Epoch 16/100\n",
            "237/240 [============================>.] - ETA: 0s - loss: 0.0090 - accuracy: 0.9968\n",
            "Epoch 16: val_loss improved from 0.03372 to 0.03262, saving model to best-mnist-cnn-v3.h5\n",
            "240/240 [==============================] - 3s 14ms/step - loss: 0.0090 - accuracy: 0.9967 - val_loss: 0.0326 - val_accuracy: 0.9920\n",
            "Epoch 17/100\n",
            "238/240 [============================>.] - ETA: 0s - loss: 0.0080 - accuracy: 0.9974\n",
            "Epoch 17: val_loss did not improve from 0.03262\n",
            "240/240 [==============================] - 3s 14ms/step - loss: 0.0081 - accuracy: 0.9974 - val_loss: 0.0361 - val_accuracy: 0.9923\n",
            "Epoch 18/100\n",
            "239/240 [============================>.] - ETA: 0s - loss: 0.0067 - accuracy: 0.9978\n",
            "Epoch 18: val_loss did not improve from 0.03262\n",
            "240/240 [==============================] - 3s 14ms/step - loss: 0.0067 - accuracy: 0.9978 - val_loss: 0.0432 - val_accuracy: 0.9908\n",
            "Epoch 19/100\n",
            "239/240 [============================>.] - ETA: 0s - loss: 0.0078 - accuracy: 0.9972\n",
            "Epoch 19: val_loss did not improve from 0.03262\n",
            "240/240 [==============================] - 3s 14ms/step - loss: 0.0079 - accuracy: 0.9972 - val_loss: 0.0335 - val_accuracy: 0.9906\n",
            "Epoch 20/100\n",
            "239/240 [============================>.] - ETA: 0s - loss: 0.0071 - accuracy: 0.9977\n",
            "Epoch 20: val_loss improved from 0.03262 to 0.03225, saving model to best-mnist-cnn-v3.h5\n",
            "240/240 [==============================] - 3s 14ms/step - loss: 0.0071 - accuracy: 0.9977 - val_loss: 0.0323 - val_accuracy: 0.9923\n",
            "Epoch 21/100\n",
            "238/240 [============================>.] - ETA: 0s - loss: 0.0068 - accuracy: 0.9977\n",
            "Epoch 21: val_loss did not improve from 0.03225\n",
            "240/240 [==============================] - 3s 14ms/step - loss: 0.0068 - accuracy: 0.9977 - val_loss: 0.0402 - val_accuracy: 0.9911\n",
            "Epoch 22/100\n",
            "239/240 [============================>.] - ETA: 0s - loss: 0.0053 - accuracy: 0.9983\n",
            "Epoch 22: val_loss did not improve from 0.03225\n",
            "240/240 [==============================] - 3s 14ms/step - loss: 0.0053 - accuracy: 0.9983 - val_loss: 0.0377 - val_accuracy: 0.9919\n",
            "Epoch 23/100\n",
            "237/240 [============================>.] - ETA: 0s - loss: 0.0056 - accuracy: 0.9982\n",
            "Epoch 23: val_loss did not improve from 0.03225\n",
            "240/240 [==============================] - 3s 14ms/step - loss: 0.0057 - accuracy: 0.9981 - val_loss: 0.0376 - val_accuracy: 0.9919\n",
            "Epoch 24/100\n",
            "240/240 [==============================] - ETA: 0s - loss: 0.0063 - accuracy: 0.9980\n",
            "Epoch 24: val_loss did not improve from 0.03225\n",
            "240/240 [==============================] - 3s 14ms/step - loss: 0.0063 - accuracy: 0.9980 - val_loss: 0.0401 - val_accuracy: 0.9923\n",
            "Epoch 25/100\n",
            "239/240 [============================>.] - ETA: 0s - loss: 0.0056 - accuracy: 0.9981\n",
            "Epoch 25: val_loss did not improve from 0.03225\n",
            "240/240 [==============================] - 3s 14ms/step - loss: 0.0055 - accuracy: 0.9981 - val_loss: 0.0419 - val_accuracy: 0.9918\n",
            "Epoch 26/100\n",
            "238/240 [============================>.] - ETA: 0s - loss: 0.0065 - accuracy: 0.9980\n",
            "Epoch 26: val_loss did not improve from 0.03225\n",
            "240/240 [==============================] - 3s 14ms/step - loss: 0.0065 - accuracy: 0.9980 - val_loss: 0.0369 - val_accuracy: 0.9923\n",
            "Epoch 27/100\n",
            "240/240 [==============================] - ETA: 0s - loss: 0.0050 - accuracy: 0.9983\n",
            "Epoch 27: val_loss did not improve from 0.03225\n",
            "240/240 [==============================] - 3s 14ms/step - loss: 0.0050 - accuracy: 0.9983 - val_loss: 0.0426 - val_accuracy: 0.9911\n",
            "Epoch 28/100\n",
            "239/240 [============================>.] - ETA: 0s - loss: 0.0052 - accuracy: 0.9982\n",
            "Epoch 28: val_loss did not improve from 0.03225\n",
            "240/240 [==============================] - 3s 14ms/step - loss: 0.0052 - accuracy: 0.9982 - val_loss: 0.0431 - val_accuracy: 0.9914\n",
            "Epoch 29/100\n",
            "237/240 [============================>.] - ETA: 0s - loss: 0.0054 - accuracy: 0.9980\n",
            "Epoch 29: val_loss did not improve from 0.03225\n",
            "240/240 [==============================] - 3s 14ms/step - loss: 0.0053 - accuracy: 0.9980 - val_loss: 0.0452 - val_accuracy: 0.9915\n",
            "Epoch 30/100\n",
            "240/240 [==============================] - ETA: 0s - loss: 0.0049 - accuracy: 0.9983\n",
            "Epoch 30: val_loss did not improve from 0.03225\n",
            "240/240 [==============================] - 3s 14ms/step - loss: 0.0049 - accuracy: 0.9983 - val_loss: 0.0379 - val_accuracy: 0.9922\n"
          ]
        }
      ]
    },
    {
      "cell_type": "code",
      "source": [
        "best_model = load_model(model_path)\n",
        "best_model.evaluate(X_test, Y_test)"
      ],
      "metadata": {
        "colab": {
          "base_uri": "https://localhost:8080/"
        },
        "id": "_FdYx4itl3tE",
        "outputId": "39d086bd-ecba-4571-d43b-a759de91304b"
      },
      "execution_count": 10,
      "outputs": [
        {
          "output_type": "stream",
          "name": "stdout",
          "text": [
            "313/313 [==============================] - 1s 3ms/step - loss: 0.0317 - accuracy: 0.9921\n"
          ]
        },
        {
          "output_type": "execute_result",
          "data": {
            "text/plain": [
              "[0.031699299812316895, 0.9921000003814697]"
            ]
          },
          "metadata": {},
          "execution_count": 10
        }
      ]
    },
    {
      "cell_type": "markdown",
      "source": [
        "- 학습과정 시각화"
      ],
      "metadata": {
        "id": "tDT-gFhTnPDm"
      }
    },
    {
      "cell_type": "code",
      "source": [
        "y_acc = hist.history['accuracy']\n",
        "y_vloss = hist.history['val_loss']\n",
        "xs = np.arange(1, len(y_acc)+1)"
      ],
      "metadata": {
        "id": "t1gntYfSnR_V"
      },
      "execution_count": 11,
      "outputs": []
    },
    {
      "cell_type": "code",
      "source": [
        "plt.figure(figsize=(12,8))\n",
        "plt.plot(xs, y_acc, label='train accuracy')\n",
        "plt.plot(xs, y_vloss, label='validation loss')\n",
        "plt.legend(), plt.grid()\n",
        "plt.xlabel('Epoch')\n",
        "plt.title('MNIST CNN model v3')\n",
        "plt.show()"
      ],
      "metadata": {
        "colab": {
          "base_uri": "https://localhost:8080/",
          "height": 513
        },
        "id": "BupJwgcqnZt-",
        "outputId": "da62c323-2d69-4b23-d8af-a24ae30257c8"
      },
      "execution_count": 13,
      "outputs": [
        {
          "output_type": "display_data",
          "data": {
            "text/plain": [
              "<Figure size 864x576 with 1 Axes>"
            ],
            "image/png": "[encoded data removed]"
          },
          "metadata": {
            "needs_background": "light"
          }
        }
      ]
    }
  ]
}