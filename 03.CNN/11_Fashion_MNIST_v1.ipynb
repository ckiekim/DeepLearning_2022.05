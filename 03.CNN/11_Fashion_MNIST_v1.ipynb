{
  "nbformat": 4,
  "nbformat_minor": 0,
  "metadata": {
    "colab": {
      "name": "11_Fashion_MNIST_v1.ipynb",
      "provenance": [],
      "collapsed_sections": []
    },
    "kernelspec": {
      "name": "python3",
      "display_name": "Python 3"
    },
    "language_info": {
      "name": "python"
    },
    "accelerator": "GPU"
  },
  "cells": [
    {
      "cell_type": "markdown",
      "source": [
        "# Fashion MNIST - CNN v1\n",
        "- 2 x Conv2D layers\n",
        "- 1 MaxPooling2D layer\n",
        "- 1 Dropout(0.25) layer\n",
        "- 1 FCN layer\n",
        "- 1 Dropout(0.5) layer\n",
        "- 1 Output layer"
      ],
      "metadata": {
        "id": "hEdgalJddvic"
      }
    },
    {
      "cell_type": "code",
      "execution_count": 1,
      "metadata": {
        "id": "EhX0ER4MTAD2"
      },
      "outputs": [],
      "source": [
        "import numpy as np\n",
        "import matplotlib.pyplot as plt\n",
        "import tensorflow as tf\n",
        "seed = 2022\n",
        "np.random.seed(seed)\n",
        "tf.random.set_seed(seed)"
      ]
    },
    {
      "cell_type": "markdown",
      "source": [
        "- 데이터 전처리"
      ],
      "metadata": {
        "id": "C0nzkvhsfKoN"
      }
    },
    {
      "cell_type": "code",
      "source": [
        "from tensorflow.keras.datasets import fashion_mnist\n",
        "(X_train, y_train), (X_test, y_test) = fashion_mnist.load_data()\n",
        "X_train.shape, y_train.shape, X_test.shape, y_test.shape"
      ],
      "metadata": {
        "colab": {
          "base_uri": "https://localhost:8080/"
        },
        "id": "PWpl4Tn6eG_1",
        "outputId": "54efadf6-6c1d-4360-f8a2-a2e44d7de49e"
      },
      "execution_count": 2,
      "outputs": [
        {
          "output_type": "stream",
          "name": "stdout",
          "text": [
            "Downloading data from https://storage.googleapis.com/tensorflow/tf-keras-datasets/train-labels-idx1-ubyte.gz\n",
            "32768/29515 [=================================] - 0s 0us/step\n",
            "40960/29515 [=========================================] - 0s 0us/step\n",
            "Downloading data from https://storage.googleapis.com/tensorflow/tf-keras-datasets/train-images-idx3-ubyte.gz\n",
            "26427392/26421880 [==============================] - 0s 0us/step\n",
            "26435584/26421880 [==============================] - 0s 0us/step\n",
            "Downloading data from https://storage.googleapis.com/tensorflow/tf-keras-datasets/t10k-labels-idx1-ubyte.gz\n",
            "16384/5148 [===============================================================================================] - 0s 0us/step\n",
            "Downloading data from https://storage.googleapis.com/tensorflow/tf-keras-datasets/t10k-images-idx3-ubyte.gz\n",
            "4423680/4422102 [==============================] - 0s 0us/step\n",
            "4431872/4422102 [==============================] - 0s 0us/step\n"
          ]
        },
        {
          "output_type": "execute_result",
          "data": {
            "text/plain": [
              "((60000, 28, 28), (60000,), (10000, 28, 28), (10000,))"
            ]
          },
          "metadata": {},
          "execution_count": 2
        }
      ]
    },
    {
      "cell_type": "code",
      "source": [
        "plt.imshow(X_train[0], cmap='Greys');"
      ],
      "metadata": {
        "colab": {
          "base_uri": "https://localhost:8080/",
          "height": 265
        },
        "id": "2_D_44MCzZfz",
        "outputId": "edd83e79-4ef2-4ecb-a507-59698c439411"
      },
      "execution_count": 3,
      "outputs": [
        {
          "output_type": "display_data",
          "data": {
            "text/plain": [
              "<Figure size 432x288 with 1 Axes>"
            ],
            "image/png": "[encoded data removed]"
          },
          "metadata": {
            "needs_background": "light"
          }
        }
      ]
    },
    {
      "cell_type": "code",
      "source": [
        "class_names = ['T-shirt/top', 'Trouser', 'Pullover', 'Dress', 'Coat',\n",
        "               'Sandal', 'Shirt', 'Sneaker', 'Bag', 'Ankle boot']"
      ],
      "metadata": {
        "id": "k1N8_e8MzlDA"
      },
      "execution_count": 4,
      "outputs": []
    },
    {
      "cell_type": "code",
      "source": [
        "plt.figure(figsize=(13,5))\n",
        "for i in range(1, 11):\n",
        "    plt.subplot(2, 5, i)\n",
        "    plt.imshow(X_train[i], cmap='Greys')\n",
        "    plt.title(class_names[y_train[i]])\n",
        "    plt.xticks([]), plt.yticks([])\n",
        "plt.show()"
      ],
      "metadata": {
        "colab": {
          "base_uri": "https://localhost:8080/",
          "height": 322
        },
        "id": "meHRR-16zr3f",
        "outputId": "be83acde-a1b9-416c-ede0-1945ffde725f"
      },
      "execution_count": 5,
      "outputs": [
        {
          "output_type": "display_data",
          "data": {
            "text/plain": [
              "<Figure size 936x360 with 10 Axes>"
            ],
            "image/png": "[encoded data removed]"
          },
          "metadata": {}
        }
      ]
    },
    {
      "cell_type": "code",
      "source": [
        "# X_train, X_test 정규화(0 ~ 1), 이미지 차원 변경: 2차원 --> 3차원\n",
        "X_train = X_train.reshape(-1, 28, 28, 1) / 255.\n",
        "X_test = X_test.reshape(-1, 28, 28, 1) / 255.\n",
        "X_train.shape, X_test.shape"
      ],
      "metadata": {
        "colab": {
          "base_uri": "https://localhost:8080/"
        },
        "id": "6GHAnhTXeOh0",
        "outputId": "92566dd9-d261-4240-d525-0fb917865ea2"
      },
      "execution_count": 6,
      "outputs": [
        {
          "output_type": "execute_result",
          "data": {
            "text/plain": [
              "((60000, 28, 28, 1), (10000, 28, 28, 1))"
            ]
          },
          "metadata": {},
          "execution_count": 6
        }
      ]
    },
    {
      "cell_type": "code",
      "source": [
        "# One hot encoding\n",
        "from tensorflow.keras.utils import to_categorical\n",
        "Y_train = to_categorical(y_train)\n",
        "Y_test = to_categorical(y_test)\n",
        "Y_train.shape, Y_test.shape"
      ],
      "metadata": {
        "colab": {
          "base_uri": "https://localhost:8080/"
        },
        "id": "v3_y1tMCey6r",
        "outputId": "1d3a21e3-1fea-4c10-9d8e-5b3c2d270052"
      },
      "execution_count": 7,
      "outputs": [
        {
          "output_type": "execute_result",
          "data": {
            "text/plain": [
              "((60000, 10), (10000, 10))"
            ]
          },
          "metadata": {},
          "execution_count": 7
        }
      ]
    },
    {
      "cell_type": "markdown",
      "source": [
        "- 모델 정의/설정/학습/평가"
      ],
      "metadata": {
        "id": "UDICIi-WfFFe"
      }
    },
    {
      "cell_type": "code",
      "source": [
        "from tensorflow.keras.models import Sequential, load_model\n",
        "from tensorflow.keras.layers import Dense, Conv2D, Flatten, MaxPooling2D, Dropout\n",
        "from tensorflow.keras.callbacks import ModelCheckpoint, EarlyStopping"
      ],
      "metadata": {
        "id": "tAl9qCAre_vD"
      },
      "execution_count": 8,
      "outputs": []
    },
    {
      "cell_type": "code",
      "source": [
        "model = Sequential([\n",
        "    Conv2D(32, kernel_size=(3,3), input_shape=(28,28,1), activation='relu'),\n",
        "    Conv2D(64, (3,3), activation='relu'),\n",
        "    MaxPooling2D(),                         # MaxPooling2D(pool_size=(2,2))\n",
        "    Dropout(0.25),\n",
        "    Flatten(),\n",
        "    Dense(512, activation='relu'),\n",
        "    Dropout(0.5),\n",
        "    Dense(10, activation='softmax')\n",
        "])\n",
        "model.summary()"
      ],
      "metadata": {
        "colab": {
          "base_uri": "https://localhost:8080/"
        },
        "id": "MfsGsDt0friu",
        "outputId": "a6d7b219-9d8f-4482-85c7-a283684fe1fb"
      },
      "execution_count": 9,
      "outputs": [
        {
          "output_type": "stream",
          "name": "stdout",
          "text": [
            "Model: \"sequential\"\n",
            "_________________________________________________________________\n",
            " Layer (type)                Output Shape              Param #   \n",
            "=================================================================\n",
            " conv2d (Conv2D)             (None, 26, 26, 32)        320       \n",
            "                                                                 \n",
            " conv2d_1 (Conv2D)           (None, 24, 24, 64)        18496     \n",
            "                                                                 \n",
            " max_pooling2d (MaxPooling2D  (None, 12, 12, 64)       0         \n",
            " )                                                               \n",
            "                                                                 \n",
            " dropout (Dropout)           (None, 12, 12, 64)        0         \n",
            "                                                                 \n",
            " flatten (Flatten)           (None, 9216)              0         \n",
            "                                                                 \n",
            " dense (Dense)               (None, 512)               4719104   \n",
            "                                                                 \n",
            " dropout_1 (Dropout)         (None, 512)               0         \n",
            "                                                                 \n",
            " dense_1 (Dense)             (None, 10)                5130      \n",
            "                                                                 \n",
            "=================================================================\n",
            "Total params: 4,743,050\n",
            "Trainable params: 4,743,050\n",
            "Non-trainable params: 0\n",
            "_________________________________________________________________\n"
          ]
        }
      ]
    },
    {
      "cell_type": "code",
      "source": [
        "model.compile('adam', 'categorical_crossentropy', ['accuracy'])"
      ],
      "metadata": {
        "id": "hSV35OnJhl-s"
      },
      "execution_count": 10,
      "outputs": []
    },
    {
      "cell_type": "code",
      "source": [
        "model_path = 'best-fashion-mnist-cnn-v1.h5'\n",
        "mc = ModelCheckpoint(model_path, save_best_only=True, verbose=1)\n",
        "es = EarlyStopping(patience=10)"
      ],
      "metadata": {
        "id": "r9wrToHLi54y"
      },
      "execution_count": 11,
      "outputs": []
    },
    {
      "cell_type": "code",
      "source": [
        "hist = model.fit(\n",
        "    X_train, Y_train, validation_split=0.2, epochs=100, batch_size=200,\n",
        "    callbacks=[mc, es]\n",
        ")"
      ],
      "metadata": {
        "colab": {
          "base_uri": "https://localhost:8080/"
        },
        "id": "NTOqa64Blh0v",
        "outputId": "95ec66eb-61b0-44fb-ed5c-73b838a632c8"
      },
      "execution_count": 12,
      "outputs": [
        {
          "output_type": "stream",
          "name": "stdout",
          "text": [
            "Epoch 1/100\n",
            "236/240 [============================>.] - ETA: 0s - loss: 0.5037 - accuracy: 0.8214\n",
            "Epoch 1: val_loss improved from inf to 0.32176, saving model to best-fashion-mnist-cnn-v1.h5\n",
            "240/240 [==============================] - 15s 15ms/step - loss: 0.5018 - accuracy: 0.8220 - val_loss: 0.3218 - val_accuracy: 0.8822\n",
            "Epoch 2/100\n",
            "240/240 [==============================] - ETA: 0s - loss: 0.3133 - accuracy: 0.8864\n",
            "Epoch 2: val_loss improved from 0.32176 to 0.27233, saving model to best-fashion-mnist-cnn-v1.h5\n",
            "240/240 [==============================] - 3s 14ms/step - loss: 0.3133 - accuracy: 0.8864 - val_loss: 0.2723 - val_accuracy: 0.9017\n",
            "Epoch 3/100\n",
            "238/240 [============================>.] - ETA: 0s - loss: 0.2606 - accuracy: 0.9051\n",
            "Epoch 3: val_loss improved from 0.27233 to 0.23819, saving model to best-fashion-mnist-cnn-v1.h5\n",
            "240/240 [==============================] - 3s 14ms/step - loss: 0.2612 - accuracy: 0.9048 - val_loss: 0.2382 - val_accuracy: 0.9112\n",
            "Epoch 4/100\n",
            "240/240 [==============================] - ETA: 0s - loss: 0.2266 - accuracy: 0.9159\n",
            "Epoch 4: val_loss improved from 0.23819 to 0.23171, saving model to best-fashion-mnist-cnn-v1.h5\n",
            "240/240 [==============================] - 3s 14ms/step - loss: 0.2266 - accuracy: 0.9159 - val_loss: 0.2317 - val_accuracy: 0.9133\n",
            "Epoch 5/100\n",
            "237/240 [============================>.] - ETA: 0s - loss: 0.2026 - accuracy: 0.9248\n",
            "Epoch 5: val_loss improved from 0.23171 to 0.23086, saving model to best-fashion-mnist-cnn-v1.h5\n",
            "240/240 [==============================] - 3s 14ms/step - loss: 0.2025 - accuracy: 0.9247 - val_loss: 0.2309 - val_accuracy: 0.9136\n",
            "Epoch 6/100\n",
            "237/240 [============================>.] - ETA: 0s - loss: 0.1805 - accuracy: 0.9337\n",
            "Epoch 6: val_loss improved from 0.23086 to 0.21176, saving model to best-fashion-mnist-cnn-v1.h5\n",
            "240/240 [==============================] - 3s 14ms/step - loss: 0.1807 - accuracy: 0.9336 - val_loss: 0.2118 - val_accuracy: 0.9227\n",
            "Epoch 7/100\n",
            "239/240 [============================>.] - ETA: 0s - loss: 0.1582 - accuracy: 0.9419\n",
            "Epoch 7: val_loss improved from 0.21176 to 0.20243, saving model to best-fashion-mnist-cnn-v1.h5\n",
            "240/240 [==============================] - 3s 14ms/step - loss: 0.1585 - accuracy: 0.9417 - val_loss: 0.2024 - val_accuracy: 0.9302\n",
            "Epoch 8/100\n",
            "239/240 [============================>.] - ETA: 0s - loss: 0.1403 - accuracy: 0.9492\n",
            "Epoch 8: val_loss did not improve from 0.20243\n",
            "240/240 [==============================] - 3s 13ms/step - loss: 0.1403 - accuracy: 0.9491 - val_loss: 0.2055 - val_accuracy: 0.9261\n",
            "Epoch 9/100\n",
            "237/240 [============================>.] - ETA: 0s - loss: 0.1289 - accuracy: 0.9519\n",
            "Epoch 9: val_loss improved from 0.20243 to 0.19935, saving model to best-fashion-mnist-cnn-v1.h5\n",
            "240/240 [==============================] - 3s 14ms/step - loss: 0.1289 - accuracy: 0.9518 - val_loss: 0.1994 - val_accuracy: 0.9298\n",
            "Epoch 10/100\n",
            "237/240 [============================>.] - ETA: 0s - loss: 0.1099 - accuracy: 0.9595\n",
            "Epoch 10: val_loss did not improve from 0.19935\n",
            "240/240 [==============================] - 3s 14ms/step - loss: 0.1098 - accuracy: 0.9595 - val_loss: 0.2212 - val_accuracy: 0.9263\n",
            "Epoch 11/100\n",
            "240/240 [==============================] - ETA: 0s - loss: 0.0975 - accuracy: 0.9641\n",
            "Epoch 11: val_loss did not improve from 0.19935\n",
            "240/240 [==============================] - 3s 14ms/step - loss: 0.0975 - accuracy: 0.9641 - val_loss: 0.2076 - val_accuracy: 0.9317\n",
            "Epoch 12/100\n",
            "237/240 [============================>.] - ETA: 0s - loss: 0.0888 - accuracy: 0.9666\n",
            "Epoch 12: val_loss did not improve from 0.19935\n",
            "240/240 [==============================] - 3s 14ms/step - loss: 0.0889 - accuracy: 0.9666 - val_loss: 0.2088 - val_accuracy: 0.9301\n",
            "Epoch 13/100\n",
            "239/240 [============================>.] - ETA: 0s - loss: 0.0771 - accuracy: 0.9712\n",
            "Epoch 13: val_loss did not improve from 0.19935\n",
            "240/240 [==============================] - 3s 14ms/step - loss: 0.0771 - accuracy: 0.9711 - val_loss: 0.2210 - val_accuracy: 0.9317\n",
            "Epoch 14/100\n",
            "238/240 [============================>.] - ETA: 0s - loss: 0.0723 - accuracy: 0.9736\n",
            "Epoch 14: val_loss did not improve from 0.19935\n",
            "240/240 [==============================] - 3s 14ms/step - loss: 0.0724 - accuracy: 0.9735 - val_loss: 0.2296 - val_accuracy: 0.9310\n",
            "Epoch 15/100\n",
            "237/240 [============================>.] - ETA: 0s - loss: 0.0674 - accuracy: 0.9758\n",
            "Epoch 15: val_loss did not improve from 0.19935\n",
            "240/240 [==============================] - 3s 14ms/step - loss: 0.0679 - accuracy: 0.9755 - val_loss: 0.2303 - val_accuracy: 0.9298\n",
            "Epoch 16/100\n",
            "239/240 [============================>.] - ETA: 0s - loss: 0.0611 - accuracy: 0.9778\n",
            "Epoch 16: val_loss did not improve from 0.19935\n",
            "240/240 [==============================] - 3s 13ms/step - loss: 0.0610 - accuracy: 0.9778 - val_loss: 0.2270 - val_accuracy: 0.9316\n",
            "Epoch 17/100\n",
            "236/240 [============================>.] - ETA: 0s - loss: 0.0534 - accuracy: 0.9805\n",
            "Epoch 17: val_loss did not improve from 0.19935\n",
            "240/240 [==============================] - 3s 14ms/step - loss: 0.0534 - accuracy: 0.9806 - val_loss: 0.2508 - val_accuracy: 0.9292\n",
            "Epoch 18/100\n",
            "238/240 [============================>.] - ETA: 0s - loss: 0.0503 - accuracy: 0.9817\n",
            "Epoch 18: val_loss did not improve from 0.19935\n",
            "240/240 [==============================] - 3s 14ms/step - loss: 0.0505 - accuracy: 0.9816 - val_loss: 0.2489 - val_accuracy: 0.9312\n",
            "Epoch 19/100\n",
            "239/240 [============================>.] - ETA: 0s - loss: 0.0460 - accuracy: 0.9835\n",
            "Epoch 19: val_loss did not improve from 0.19935\n",
            "240/240 [==============================] - 3s 14ms/step - loss: 0.0460 - accuracy: 0.9834 - val_loss: 0.2665 - val_accuracy: 0.9310\n"
          ]
        }
      ]
    },
    {
      "cell_type": "code",
      "source": [
        "best_model = load_model(model_path)\n",
        "best_model.evaluate(X_test, Y_test)"
      ],
      "metadata": {
        "colab": {
          "base_uri": "https://localhost:8080/"
        },
        "id": "_FdYx4itl3tE",
        "outputId": "b1cf57c9-bea3-4e4f-fb1b-180fe2b46b3e"
      },
      "execution_count": 13,
      "outputs": [
        {
          "output_type": "stream",
          "name": "stdout",
          "text": [
            "313/313 [==============================] - 1s 3ms/step - loss: 0.2148 - accuracy: 0.9256\n"
          ]
        },
        {
          "output_type": "execute_result",
          "data": {
            "text/plain": [
              "[0.2147769331932068, 0.925599992275238]"
            ]
          },
          "metadata": {},
          "execution_count": 13
        }
      ]
    },
    {
      "cell_type": "markdown",
      "source": [
        "- 학습과정 시각화"
      ],
      "metadata": {
        "id": "tDT-gFhTnPDm"
      }
    },
    {
      "cell_type": "code",
      "source": [
        "y_acc = hist.history['accuracy']\n",
        "y_vloss = hist.history['val_loss']\n",
        "xs = np.arange(1, len(y_acc)+1)"
      ],
      "metadata": {
        "id": "t1gntYfSnR_V"
      },
      "execution_count": 14,
      "outputs": []
    },
    {
      "cell_type": "code",
      "source": [
        "plt.figure(figsize=(12,8))\n",
        "plt.plot(xs, y_acc, label='train accuracy')\n",
        "plt.plot(xs, y_vloss, label='validation loss')\n",
        "plt.legend(), plt.grid()\n",
        "plt.xlabel('Epoch')\n",
        "plt.title('Fashion MNIST CNN model v1')\n",
        "plt.show()"
      ],
      "metadata": {
        "colab": {
          "base_uri": "https://localhost:8080/",
          "height": 513
        },
        "id": "BupJwgcqnZt-",
        "outputId": "36d9e369-855d-4e46-82fd-98cb7464ab63"
      },
      "execution_count": 16,
      "outputs": [
        {
          "output_type": "display_data",
          "data": {
            "text/plain": [
              "<Figure size 864x576 with 1 Axes>"
            ],
            "image/png": "[encoded data removed]"
          },
          "metadata": {
            "needs_background": "light"
          }
        }
      ]
    },
    {
      "cell_type": "code",
      "source": [
        ""
      ],
      "metadata": {
        "id": "xN9LclyO1czf"
      },
      "execution_count": null,
      "outputs": []
    }
  ]
}