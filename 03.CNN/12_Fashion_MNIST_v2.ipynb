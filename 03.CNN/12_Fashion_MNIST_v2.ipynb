{
  "nbformat": 4,
  "nbformat_minor": 0,
  "metadata": {
    "colab": {
      "name": "12_Fashion_MNIST_v2.ipynb",
      "provenance": [],
      "collapsed_sections": []
    },
    "kernelspec": {
      "name": "python3",
      "display_name": "Python 3"
    },
    "language_info": {
      "name": "python"
    },
    "accelerator": "GPU"
  },
  "cells": [
    {
      "cell_type": "markdown",
      "source": [
        "# Fashion MNIST - CNN v2\n",
        "- 2 x Conv2D layers with padding\n",
        "- 1 MaxPooling2D layer\n",
        "- 1 Dropout(0.25) layer\n",
        "- 1 FCN layer\n",
        "- 1 Dropout(0.5) layer\n",
        "- 1 Output layer"
      ],
      "metadata": {
        "id": "hEdgalJddvic"
      }
    },
    {
      "cell_type": "code",
      "execution_count": 1,
      "metadata": {
        "id": "EhX0ER4MTAD2"
      },
      "outputs": [],
      "source": [
        "import numpy as np\n",
        "import matplotlib.pyplot as plt\n",
        "import tensorflow as tf\n",
        "seed = 2022\n",
        "np.random.seed(seed)\n",
        "tf.random.set_seed(seed)"
      ]
    },
    {
      "cell_type": "markdown",
      "source": [
        "- 데이터 전처리"
      ],
      "metadata": {
        "id": "C0nzkvhsfKoN"
      }
    },
    {
      "cell_type": "code",
      "source": [
        "from tensorflow.keras.datasets import fashion_mnist\n",
        "(X_train, y_train), (X_test, y_test) = fashion_mnist.load_data()\n",
        "X_train.shape, y_train.shape, X_test.shape, y_test.shape"
      ],
      "metadata": {
        "colab": {
          "base_uri": "https://localhost:8080/"
        },
        "id": "PWpl4Tn6eG_1",
        "outputId": "2333b4dd-de08-4763-f704-1f26eabc5067"
      },
      "execution_count": 2,
      "outputs": [
        {
          "output_type": "stream",
          "name": "stdout",
          "text": [
            "Downloading data from https://storage.googleapis.com/tensorflow/tf-keras-datasets/train-labels-idx1-ubyte.gz\n",
            "32768/29515 [=================================] - 0s 0us/step\n",
            "40960/29515 [=========================================] - 0s 0us/step\n",
            "Downloading data from https://storage.googleapis.com/tensorflow/tf-keras-datasets/train-images-idx3-ubyte.gz\n",
            "26427392/26421880 [==============================] - 0s 0us/step\n",
            "26435584/26421880 [==============================] - 0s 0us/step\n",
            "Downloading data from https://storage.googleapis.com/tensorflow/tf-keras-datasets/t10k-labels-idx1-ubyte.gz\n",
            "16384/5148 [===============================================================================================] - 0s 0us/step\n",
            "Downloading data from https://storage.googleapis.com/tensorflow/tf-keras-datasets/t10k-images-idx3-ubyte.gz\n",
            "4423680/4422102 [==============================] - 0s 0us/step\n",
            "4431872/4422102 [==============================] - 0s 0us/step\n"
          ]
        },
        {
          "output_type": "execute_result",
          "data": {
            "text/plain": [
              "((60000, 28, 28), (60000,), (10000, 28, 28), (10000,))"
            ]
          },
          "metadata": {},
          "execution_count": 2
        }
      ]
    },
    {
      "cell_type": "code",
      "source": [
        "# X_train, X_test 정규화(0 ~ 1), 이미지 차원 변경: 2차원 --> 3차원\n",
        "X_train = X_train.reshape(-1, 28, 28, 1) / 255.\n",
        "X_test = X_test.reshape(-1, 28, 28, 1) / 255.\n",
        "X_train.shape, X_test.shape"
      ],
      "metadata": {
        "colab": {
          "base_uri": "https://localhost:8080/"
        },
        "id": "6GHAnhTXeOh0",
        "outputId": "1f1cfe74-ed86-49f5-c06c-4ef81efa8b16"
      },
      "execution_count": 3,
      "outputs": [
        {
          "output_type": "execute_result",
          "data": {
            "text/plain": [
              "((60000, 28, 28, 1), (10000, 28, 28, 1))"
            ]
          },
          "metadata": {},
          "execution_count": 3
        }
      ]
    },
    {
      "cell_type": "code",
      "source": [
        "# One hot encoding\n",
        "from tensorflow.keras.utils import to_categorical\n",
        "Y_train = to_categorical(y_train)\n",
        "Y_test = to_categorical(y_test)\n",
        "Y_train.shape, Y_test.shape"
      ],
      "metadata": {
        "colab": {
          "base_uri": "https://localhost:8080/"
        },
        "id": "v3_y1tMCey6r",
        "outputId": "0482c06c-168e-4c88-a0fe-a3ce79164620"
      },
      "execution_count": 4,
      "outputs": [
        {
          "output_type": "execute_result",
          "data": {
            "text/plain": [
              "((60000, 10), (10000, 10))"
            ]
          },
          "metadata": {},
          "execution_count": 4
        }
      ]
    },
    {
      "cell_type": "markdown",
      "source": [
        "- 모델 정의/설정/학습/평가"
      ],
      "metadata": {
        "id": "UDICIi-WfFFe"
      }
    },
    {
      "cell_type": "code",
      "source": [
        "from tensorflow.keras.models import Sequential, load_model\n",
        "from tensorflow.keras.layers import Dense, Conv2D, Flatten, MaxPooling2D, Dropout\n",
        "from tensorflow.keras.callbacks import ModelCheckpoint, EarlyStopping"
      ],
      "metadata": {
        "id": "tAl9qCAre_vD"
      },
      "execution_count": 5,
      "outputs": []
    },
    {
      "cell_type": "code",
      "source": [
        "model = Sequential([\n",
        "    Conv2D(32, kernel_size=(3,3), padding='same', input_shape=(28,28,1), activation='relu'),\n",
        "    Conv2D(64, (3,3), padding='same', activation='relu'),\n",
        "    MaxPooling2D(),                         # MaxPooling2D(pool_size=(2,2))\n",
        "    Dropout(0.25),\n",
        "    Flatten(),\n",
        "    Dense(512, activation='relu'),\n",
        "    Dropout(0.5),\n",
        "    Dense(10, activation='softmax')\n",
        "])\n",
        "model.summary()"
      ],
      "metadata": {
        "colab": {
          "base_uri": "https://localhost:8080/"
        },
        "id": "MfsGsDt0friu",
        "outputId": "d30622d2-48dd-4ffc-fc17-5cf469b220a1"
      },
      "execution_count": 6,
      "outputs": [
        {
          "output_type": "stream",
          "name": "stdout",
          "text": [
            "Model: \"sequential\"\n",
            "_________________________________________________________________\n",
            " Layer (type)                Output Shape              Param #   \n",
            "=================================================================\n",
            " conv2d (Conv2D)             (None, 28, 28, 32)        320       \n",
            "                                                                 \n",
            " conv2d_1 (Conv2D)           (None, 28, 28, 64)        18496     \n",
            "                                                                 \n",
            " max_pooling2d (MaxPooling2D  (None, 14, 14, 64)       0         \n",
            " )                                                               \n",
            "                                                                 \n",
            " dropout (Dropout)           (None, 14, 14, 64)        0         \n",
            "                                                                 \n",
            " flatten (Flatten)           (None, 12544)             0         \n",
            "                                                                 \n",
            " dense (Dense)               (None, 512)               6423040   \n",
            "                                                                 \n",
            " dropout_1 (Dropout)         (None, 512)               0         \n",
            "                                                                 \n",
            " dense_1 (Dense)             (None, 10)                5130      \n",
            "                                                                 \n",
            "=================================================================\n",
            "Total params: 6,446,986\n",
            "Trainable params: 6,446,986\n",
            "Non-trainable params: 0\n",
            "_________________________________________________________________\n"
          ]
        }
      ]
    },
    {
      "cell_type": "code",
      "source": [
        "model.compile('adam', 'categorical_crossentropy', ['accuracy'])"
      ],
      "metadata": {
        "id": "hSV35OnJhl-s"
      },
      "execution_count": 7,
      "outputs": []
    },
    {
      "cell_type": "code",
      "source": [
        "model_path = 'best-fashion-mnist-cnn-v2.h5'\n",
        "mc = ModelCheckpoint(model_path, save_best_only=True, verbose=1)\n",
        "es = EarlyStopping(patience=10)"
      ],
      "metadata": {
        "id": "r9wrToHLi54y"
      },
      "execution_count": 8,
      "outputs": []
    },
    {
      "cell_type": "code",
      "source": [
        "hist = model.fit(\n",
        "    X_train, Y_train, validation_split=0.2, epochs=100, batch_size=200,\n",
        "    callbacks=[mc, es]\n",
        ")"
      ],
      "metadata": {
        "colab": {
          "base_uri": "https://localhost:8080/"
        },
        "id": "NTOqa64Blh0v",
        "outputId": "8bd69827-1c85-4f93-a573-659f1a76321e"
      },
      "execution_count": 9,
      "outputs": [
        {
          "output_type": "stream",
          "name": "stdout",
          "text": [
            "Epoch 1/100\n",
            "240/240 [==============================] - ETA: 0s - loss: 0.4794 - accuracy: 0.8295\n",
            "Epoch 1: val_loss improved from inf to 0.30690, saving model to best-fashion-mnist-cnn-v2.h5\n",
            "240/240 [==============================] - 16s 19ms/step - loss: 0.4794 - accuracy: 0.8295 - val_loss: 0.3069 - val_accuracy: 0.8867\n",
            "Epoch 2/100\n",
            "237/240 [============================>.] - ETA: 0s - loss: 0.3020 - accuracy: 0.8908\n",
            "Epoch 2: val_loss improved from 0.30690 to 0.26331, saving model to best-fashion-mnist-cnn-v2.h5\n",
            "240/240 [==============================] - 4s 17ms/step - loss: 0.3018 - accuracy: 0.8908 - val_loss: 0.2633 - val_accuracy: 0.9039\n",
            "Epoch 3/100\n",
            "240/240 [==============================] - ETA: 0s - loss: 0.2466 - accuracy: 0.9100\n",
            "Epoch 3: val_loss improved from 0.26331 to 0.23186, saving model to best-fashion-mnist-cnn-v2.h5\n",
            "240/240 [==============================] - 4s 18ms/step - loss: 0.2466 - accuracy: 0.9100 - val_loss: 0.2319 - val_accuracy: 0.9136\n",
            "Epoch 4/100\n",
            "237/240 [============================>.] - ETA: 0s - loss: 0.2112 - accuracy: 0.9220\n",
            "Epoch 4: val_loss improved from 0.23186 to 0.21815, saving model to best-fashion-mnist-cnn-v2.h5\n",
            "240/240 [==============================] - 4s 17ms/step - loss: 0.2113 - accuracy: 0.9219 - val_loss: 0.2182 - val_accuracy: 0.9187\n",
            "Epoch 5/100\n",
            "239/240 [============================>.] - ETA: 0s - loss: 0.1848 - accuracy: 0.9313\n",
            "Epoch 5: val_loss improved from 0.21815 to 0.21020, saving model to best-fashion-mnist-cnn-v2.h5\n",
            "240/240 [==============================] - 4s 17ms/step - loss: 0.1849 - accuracy: 0.9312 - val_loss: 0.2102 - val_accuracy: 0.9224\n",
            "Epoch 6/100\n",
            "240/240 [==============================] - ETA: 0s - loss: 0.1616 - accuracy: 0.9404\n",
            "Epoch 6: val_loss improved from 0.21020 to 0.20735, saving model to best-fashion-mnist-cnn-v2.h5\n",
            "240/240 [==============================] - 4s 18ms/step - loss: 0.1616 - accuracy: 0.9404 - val_loss: 0.2074 - val_accuracy: 0.9254\n",
            "Epoch 7/100\n",
            "237/240 [============================>.] - ETA: 0s - loss: 0.1421 - accuracy: 0.9457\n",
            "Epoch 7: val_loss improved from 0.20735 to 0.20455, saving model to best-fashion-mnist-cnn-v2.h5\n",
            "240/240 [==============================] - 4s 17ms/step - loss: 0.1424 - accuracy: 0.9456 - val_loss: 0.2045 - val_accuracy: 0.9286\n",
            "Epoch 8/100\n",
            "237/240 [============================>.] - ETA: 0s - loss: 0.1251 - accuracy: 0.9531\n",
            "Epoch 8: val_loss improved from 0.20455 to 0.20230, saving model to best-fashion-mnist-cnn-v2.h5\n",
            "240/240 [==============================] - 4s 17ms/step - loss: 0.1256 - accuracy: 0.9529 - val_loss: 0.2023 - val_accuracy: 0.9282\n",
            "Epoch 9/100\n",
            "237/240 [============================>.] - ETA: 0s - loss: 0.1118 - accuracy: 0.9581\n",
            "Epoch 9: val_loss did not improve from 0.20230\n",
            "240/240 [==============================] - 4s 16ms/step - loss: 0.1120 - accuracy: 0.9581 - val_loss: 0.2041 - val_accuracy: 0.9305\n",
            "Epoch 10/100\n",
            "239/240 [============================>.] - ETA: 0s - loss: 0.0961 - accuracy: 0.9645\n",
            "Epoch 10: val_loss did not improve from 0.20230\n",
            "240/240 [==============================] - 4s 16ms/step - loss: 0.0961 - accuracy: 0.9644 - val_loss: 0.2296 - val_accuracy: 0.9262\n",
            "Epoch 11/100\n",
            "239/240 [============================>.] - ETA: 0s - loss: 0.0826 - accuracy: 0.9698\n",
            "Epoch 11: val_loss did not improve from 0.20230\n",
            "240/240 [==============================] - 4s 16ms/step - loss: 0.0827 - accuracy: 0.9698 - val_loss: 0.2227 - val_accuracy: 0.9284\n",
            "Epoch 12/100\n",
            "240/240 [==============================] - ETA: 0s - loss: 0.0767 - accuracy: 0.9723\n",
            "Epoch 12: val_loss did not improve from 0.20230\n",
            "240/240 [==============================] - 4s 16ms/step - loss: 0.0767 - accuracy: 0.9723 - val_loss: 0.2392 - val_accuracy: 0.9287\n",
            "Epoch 13/100\n",
            "239/240 [============================>.] - ETA: 0s - loss: 0.0654 - accuracy: 0.9758\n",
            "Epoch 13: val_loss did not improve from 0.20230\n",
            "240/240 [==============================] - 4s 18ms/step - loss: 0.0654 - accuracy: 0.9758 - val_loss: 0.2408 - val_accuracy: 0.9296\n",
            "Epoch 14/100\n",
            "240/240 [==============================] - ETA: 0s - loss: 0.0600 - accuracy: 0.9775\n",
            "Epoch 14: val_loss did not improve from 0.20230\n",
            "240/240 [==============================] - 4s 16ms/step - loss: 0.0600 - accuracy: 0.9775 - val_loss: 0.2475 - val_accuracy: 0.9300\n",
            "Epoch 15/100\n",
            "237/240 [============================>.] - ETA: 0s - loss: 0.0535 - accuracy: 0.9807\n",
            "Epoch 15: val_loss did not improve from 0.20230\n",
            "240/240 [==============================] - 4s 16ms/step - loss: 0.0536 - accuracy: 0.9806 - val_loss: 0.2518 - val_accuracy: 0.9310\n",
            "Epoch 16/100\n",
            "237/240 [============================>.] - ETA: 0s - loss: 0.0482 - accuracy: 0.9821\n",
            "Epoch 16: val_loss did not improve from 0.20230\n",
            "240/240 [==============================] - 4s 18ms/step - loss: 0.0485 - accuracy: 0.9821 - val_loss: 0.2484 - val_accuracy: 0.9333\n",
            "Epoch 17/100\n",
            "237/240 [============================>.] - ETA: 0s - loss: 0.0456 - accuracy: 0.9832\n",
            "Epoch 17: val_loss did not improve from 0.20230\n",
            "240/240 [==============================] - 4s 16ms/step - loss: 0.0455 - accuracy: 0.9832 - val_loss: 0.2580 - val_accuracy: 0.9319\n",
            "Epoch 18/100\n",
            "240/240 [==============================] - ETA: 0s - loss: 0.0394 - accuracy: 0.9859\n",
            "Epoch 18: val_loss did not improve from 0.20230\n",
            "240/240 [==============================] - 4s 18ms/step - loss: 0.0394 - accuracy: 0.9859 - val_loss: 0.2665 - val_accuracy: 0.9308\n"
          ]
        }
      ]
    },
    {
      "cell_type": "code",
      "source": [
        "best_model = load_model(model_path)\n",
        "best_model.evaluate(X_test, Y_test)"
      ],
      "metadata": {
        "colab": {
          "base_uri": "https://localhost:8080/"
        },
        "id": "_FdYx4itl3tE",
        "outputId": "667593ee-f96a-49ba-8474-0dbf65a7ac26"
      },
      "execution_count": 10,
      "outputs": [
        {
          "output_type": "stream",
          "name": "stdout",
          "text": [
            "313/313 [==============================] - 1s 3ms/step - loss: 0.2184 - accuracy: 0.9247\n"
          ]
        },
        {
          "output_type": "execute_result",
          "data": {
            "text/plain": [
              "[0.21835188567638397, 0.9247000217437744]"
            ]
          },
          "metadata": {},
          "execution_count": 10
        }
      ]
    },
    {
      "cell_type": "markdown",
      "source": [
        "- 학습과정 시각화"
      ],
      "metadata": {
        "id": "tDT-gFhTnPDm"
      }
    },
    {
      "cell_type": "code",
      "source": [
        "y_acc = hist.history['accuracy']\n",
        "y_vloss = hist.history['val_loss']\n",
        "xs = np.arange(1, len(y_acc)+1)"
      ],
      "metadata": {
        "id": "t1gntYfSnR_V"
      },
      "execution_count": 11,
      "outputs": []
    },
    {
      "cell_type": "code",
      "source": [
        "plt.figure(figsize=(12,8))\n",
        "plt.plot(xs, y_acc, label='train accuracy')\n",
        "plt.plot(xs, y_vloss, label='validation loss')\n",
        "plt.legend(), plt.grid()\n",
        "plt.xlabel('Epoch')\n",
        "plt.title('Fashion MNIST CNN model v2')\n",
        "plt.show()"
      ],
      "metadata": {
        "colab": {
          "base_uri": "https://localhost:8080/",
          "height": 513
        },
        "id": "BupJwgcqnZt-",
        "outputId": "34e5a22a-33c8-42f8-9d76-272cdb9dda59"
      },
      "execution_count": 12,
      "outputs": [
        {
          "output_type": "display_data",
          "data": {
            "text/plain": [
              "<Figure size 864x576 with 1 Axes>"
            ],
            "image/png": "[encoded data removed]"
          },
          "metadata": {
            "needs_background": "light"
          }
        }
      ]
    },
    {
      "cell_type": "code",
      "source": [
        ""
      ],
      "metadata": {
        "id": "xN9LclyO1czf"
      },
      "execution_count": null,
      "outputs": []
    }
  ]
}