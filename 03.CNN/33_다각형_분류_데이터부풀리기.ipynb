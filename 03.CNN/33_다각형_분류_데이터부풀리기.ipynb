{
  "nbformat": 4,
  "nbformat_minor": 0,
  "metadata": {
    "colab": {
      "name": "33_다각형 분류_데이터부풀리기.ipynb",
      "provenance": [],
      "collapsed_sections": []
    },
    "kernelspec": {
      "name": "python3",
      "display_name": "Python 3"
    },
    "language_info": {
      "name": "python"
    }
  },
  "cells": [
    {
      "cell_type": "markdown",
      "source": [
        "# 원, 사각형, 삼각형 구분하기\n",
        "- 어려운 테스트 문제를 데이터 부풀리기를 이용하여 데이터를 많이 생성\n",
        "- 기존 CNN 모델 사용"
      ],
      "metadata": {
        "id": "hBj_RQxPi6RC"
      }
    },
    {
      "cell_type": "code",
      "execution_count": 1,
      "metadata": {
        "colab": {
          "resources": {
            "http://localhost:8080/nbextensions/google.colab/files.js": {
              "data": "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",
              "ok": true,
              "headers": [
                [
                  "content-type",
                  "application/javascript"
                ]
              ],
              "status": 200,
              "status_text": ""
            }
          },
          "base_uri": "https://localhost:8080/",
          "height": 78
        },
        "id": "297UgSryizU7",
        "outputId": "14df059e-1a50-4730-c768-be5c624c85f3"
      },
      "outputs": [
        {
          "output_type": "display_data",
          "data": {
            "text/plain": [
              "<IPython.core.display.HTML object>"
            ],
            "text/html": [
              "\n",
              "     <input type=\"file\" id=\"files-950852a6-ebb2-493c-a2a5-8804450c850e\" name=\"files[]\" multiple disabled\n",
              "        style=\"border:none\" />\n",
              "     <output id=\"result-950852a6-ebb2-493c-a2a5-8804450c850e\">\n",
              "      Upload widget is only available when the cell has been executed in the\n",
              "      current browser session. Please rerun this cell to enable.\n",
              "      </output>\n",
              "      <script src=\"/nbextensions/google.colab/files.js\"></script> "
            ]
          },
          "metadata": {}
        },
        {
          "output_type": "stream",
          "name": "stdout",
          "text": [
            "Saving hard_handwriting_shape.zip to hard_handwriting_shape.zip\n"
          ]
        }
      ],
      "source": [
        "from google.colab import files\n",
        "up = files.upload()"
      ]
    },
    {
      "cell_type": "code",
      "source": [
        "!unzip hard_handwriting_shape.zip -d hard_handwriting > /dev/null"
      ],
      "metadata": {
        "id": "jgqKZ3a4jVDf"
      },
      "execution_count": 2,
      "outputs": []
    },
    {
      "cell_type": "markdown",
      "source": [
        "- 데이터셋 생성하기"
      ],
      "metadata": {
        "id": "Hb1C2XDpjn5N"
      }
    },
    {
      "cell_type": "code",
      "source": [
        "from tensorflow.keras.preprocessing.image import ImageDataGenerator\n",
        "\n",
        "train_datagen = ImageDataGenerator(\n",
        "    rescale=1/255.,\n",
        "    rotation_range=15,          # randomly rotate images in the range 15 degree\n",
        "    width_shift_range=0.1,      # randomly shift images horizontally \n",
        "    height_shift_range=0.1,     # randomly shift images vertically\n",
        "    shear_range=0.5,            # 도형의 기울기\n",
        "    zoom_range=[0.8,1.5],       # 0.8~1.5 배 크기로 임의로 확대/축소\n",
        "    horizontal_flip=True,       # randomly flip images\n",
        "    vertical_flip=False,        # randomly flip images\n",
        "    fill_mode='nearest'         # set mode for filling points outside the input boundaries\n",
        ")"
      ],
      "metadata": {
        "id": "P2ua9r9Njlgd"
      },
      "execution_count": 1,
      "outputs": []
    },
    {
      "cell_type": "code",
      "source": [
        "from tensorflow.keras.preprocessing.image import img_to_array, load_img\n",
        "\n",
        "img = load_img('hard_handwriting/train/triangle/triangle001.png')\n",
        "x = img_to_array(img)\n",
        "x.shape"
      ],
      "metadata": {
        "colab": {
          "base_uri": "https://localhost:8080/"
        },
        "id": "zV3pR7VDk_Cv",
        "outputId": "bedf1956-cafd-42c0-b0d8-63e93f3b6dde"
      },
      "execution_count": 2,
      "outputs": [
        {
          "output_type": "execute_result",
          "data": {
            "text/plain": [
              "(24, 24, 3)"
            ]
          },
          "metadata": {},
          "execution_count": 2
        }
      ]
    },
    {
      "cell_type": "code",
      "source": [
        "#x.reshape(1, 24, 24, 3)\n",
        "x = x.reshape((1,) + x.shape)\n",
        "x.shape"
      ],
      "metadata": {
        "colab": {
          "base_uri": "https://localhost:8080/"
        },
        "id": "ojWrqYDdlt9_",
        "outputId": "2c5feaaa-9145-4ec1-8e24-3df786364f3d"
      },
      "execution_count": 3,
      "outputs": [
        {
          "output_type": "execute_result",
          "data": {
            "text/plain": [
              "(1, 24, 24, 3)"
            ]
          },
          "metadata": {},
          "execution_count": 3
        }
      ]
    },
    {
      "cell_type": "markdown",
      "source": [
        "- 데이터 부풀리기를 통하여 만들어지는 새로운 도형 이미지"
      ],
      "metadata": {
        "id": "N0PiGAnwmOL9"
      }
    },
    {
      "cell_type": "code",
      "source": [
        "from PIL import Image\n",
        "from glob import glob\n",
        "import matplotlib.pyplot as plt"
      ],
      "metadata": {
        "id": "SYMHjMEsjfCm"
      },
      "execution_count": 4,
      "outputs": []
    },
    {
      "cell_type": "code",
      "source": [
        "import os\n",
        "if not os.path.exists('preview'):\n",
        "    os.mkdir('preview')"
      ],
      "metadata": {
        "id": "ATEQp0mLmGrV"
      },
      "execution_count": 5,
      "outputs": []
    },
    {
      "cell_type": "code",
      "source": [
        "count = 0\n",
        "for _ in train_datagen.flow(x, batch_size=1, save_to_dir='./preview', save_prefix='pre'):\n",
        "    count += 1\n",
        "    if count >= 30:\n",
        "        break"
      ],
      "metadata": {
        "id": "fS86iWkWmb5O"
      },
      "execution_count": 6,
      "outputs": []
    },
    {
      "cell_type": "code",
      "source": [
        "plt.figure(figsize=(10,3))\n",
        "for i, fname in enumerate(glob('preview/*.png')):\n",
        "    img = Image.open(fname)\n",
        "    plt.subplot(3, 10, i+1)\n",
        "    plt.imshow(img), plt.xticks([]), plt.yticks([])\n",
        "plt.show()"
      ],
      "metadata": {
        "colab": {
          "base_uri": "https://localhost:8080/",
          "height": 197
        },
        "id": "eId40OlEt_wg",
        "outputId": "afe1bb3d-b462-4ed1-b55d-ed32e5b6b68d"
      },
      "execution_count": 7,
      "outputs": [
        {
          "output_type": "display_data",
          "data": {
            "text/plain": [
              "<Figure size 720x216 with 30 Axes>"
            ],
            "image/png": "[encoded data removed]"
          },
          "metadata": {}
        }
      ]
    },
    {
      "cell_type": "markdown",
      "source": [
        "- data generator"
      ],
      "metadata": {
        "id": "iehSxCDFq2od"
      }
    },
    {
      "cell_type": "code",
      "source": [
        "train_data_generator = train_datagen.flow_from_directory(\n",
        "    'hard_handwriting/train', target_size=(24,24),\n",
        "    batch_size=3, class_mode='categorical'\n",
        ")"
      ],
      "metadata": {
        "colab": {
          "base_uri": "https://localhost:8080/"
        },
        "id": "B2FAi14DoN4m",
        "outputId": "af71bd98-70d9-47b9-d6fe-d308db87973a"
      },
      "execution_count": 8,
      "outputs": [
        {
          "output_type": "stream",
          "name": "stdout",
          "text": [
            "Found 45 images belonging to 3 classes.\n"
          ]
        }
      ]
    },
    {
      "cell_type": "code",
      "source": [
        "test_datagen = ImageDataGenerator(rescale=1/255.)\n",
        "test_data_generator = test_datagen.flow_from_directory(\n",
        "    'hard_handwriting/test', target_size=(24,24),\n",
        "    batch_size=3, class_mode='categorical'\n",
        ")"
      ],
      "metadata": {
        "colab": {
          "base_uri": "https://localhost:8080/"
        },
        "id": "f_dWnimurTL9",
        "outputId": "dd04bed7-fb20-4052-e94a-00b73653fee6"
      },
      "execution_count": 9,
      "outputs": [
        {
          "output_type": "stream",
          "name": "stdout",
          "text": [
            "Found 15 images belonging to 3 classes.\n"
          ]
        }
      ]
    },
    {
      "cell_type": "markdown",
      "source": [
        "- 모델 정의/설정/학습"
      ],
      "metadata": {
        "id": "tIVuE5QQrsZ_"
      }
    },
    {
      "cell_type": "code",
      "source": [
        "import numpy as np\n",
        "import tensorflow as tf\n",
        "seed = 2022\n",
        "tf.random.set_seed(seed)\n",
        "np.random.seed(seed)"
      ],
      "metadata": {
        "id": "9rjzmFSnrqYi"
      },
      "execution_count": 10,
      "outputs": []
    },
    {
      "cell_type": "code",
      "source": [
        "from tensorflow.keras.models import Sequential\n",
        "from tensorflow.keras.layers import Conv2D, MaxPooling2D, Flatten, Dense"
      ],
      "metadata": {
        "id": "FJgZTpWCry8W"
      },
      "execution_count": 11,
      "outputs": []
    },
    {
      "cell_type": "code",
      "source": [
        "model = Sequential([ \n",
        "    Conv2D(32, (3,3), input_shape=(24,24,3), activation='relu'),\n",
        "    Conv2D(64, (3,3), activation='relu'),\n",
        "    MaxPooling2D(),\n",
        "    Flatten(),\n",
        "    Dense(128, activation='relu'),\n",
        "    Dense(3, activation='softmax')\n",
        "])\n",
        "model.summary()"
      ],
      "metadata": {
        "colab": {
          "base_uri": "https://localhost:8080/"
        },
        "id": "f4n0kwnyr1V_",
        "outputId": "cdae1348-5f68-4c95-fe13-1a64de47c0a2"
      },
      "execution_count": 12,
      "outputs": [
        {
          "output_type": "stream",
          "name": "stdout",
          "text": [
            "Model: \"sequential\"\n",
            "_________________________________________________________________\n",
            " Layer (type)                Output Shape              Param #   \n",
            "=================================================================\n",
            " conv2d (Conv2D)             (None, 22, 22, 32)        896       \n",
            "                                                                 \n",
            " conv2d_1 (Conv2D)           (None, 20, 20, 64)        18496     \n",
            "                                                                 \n",
            " max_pooling2d (MaxPooling2D  (None, 10, 10, 64)       0         \n",
            " )                                                               \n",
            "                                                                 \n",
            " flatten (Flatten)           (None, 6400)              0         \n",
            "                                                                 \n",
            " dense (Dense)               (None, 128)               819328    \n",
            "                                                                 \n",
            " dense_1 (Dense)             (None, 3)                 387       \n",
            "                                                                 \n",
            "=================================================================\n",
            "Total params: 839,107\n",
            "Trainable params: 839,107\n",
            "Non-trainable params: 0\n",
            "_________________________________________________________________\n"
          ]
        }
      ]
    },
    {
      "cell_type": "code",
      "source": [
        "model.compile('adam', 'categorical_crossentropy', ['accuracy'])"
      ],
      "metadata": {
        "id": "WGIcbszIr4GN"
      },
      "execution_count": 13,
      "outputs": []
    },
    {
      "cell_type": "code",
      "source": [
        "model.fit(\n",
        "    train_data_generator, steps_per_epoch=15, epochs=300,\n",
        "    validation_data=test_data_generator, validation_steps=5\n",
        ")"
      ],
      "metadata": {
        "colab": {
          "base_uri": "https://localhost:8080/"
        },
        "id": "NUSSs96yr7-d",
        "outputId": "22a68d09-57ea-4228-f2f8-b14beeabc7dc"
      },
      "execution_count": 14,
      "outputs": [
        {
          "output_type": "stream",
          "name": "stdout",
          "text": [
            "Epoch 1/300\n",
            "15/15 [==============================] - 1s 48ms/step - loss: 1.1925 - accuracy: 0.3333 - val_loss: 1.0862 - val_accuracy: 0.3333\n",
            "Epoch 2/300\n",
            "15/15 [==============================] - 1s 47ms/step - loss: 0.9003 - accuracy: 0.6667 - val_loss: 1.0499 - val_accuracy: 0.4667\n",
            "Epoch 3/300\n",
            "15/15 [==============================] - 1s 52ms/step - loss: 0.6245 - accuracy: 0.6889 - val_loss: 1.1566 - val_accuracy: 0.5333\n",
            "Epoch 4/300\n",
            "15/15 [==============================] - 0s 30ms/step - loss: 0.6117 - accuracy: 0.6667 - val_loss: 1.3192 - val_accuracy: 0.4667\n",
            "Epoch 5/300\n",
            "15/15 [==============================] - 0s 31ms/step - loss: 0.4103 - accuracy: 0.8000 - val_loss: 1.2658 - val_accuracy: 0.6000\n",
            "Epoch 6/300\n",
            "15/15 [==============================] - 0s 29ms/step - loss: 0.2807 - accuracy: 0.9111 - val_loss: 1.3457 - val_accuracy: 0.6000\n",
            "Epoch 7/300\n",
            "15/15 [==============================] - 0s 30ms/step - loss: 0.2360 - accuracy: 0.9111 - val_loss: 1.3696 - val_accuracy: 0.5333\n",
            "Epoch 8/300\n",
            "15/15 [==============================] - 0s 29ms/step - loss: 0.1591 - accuracy: 0.9556 - val_loss: 2.1366 - val_accuracy: 0.4667\n",
            "Epoch 9/300\n",
            "15/15 [==============================] - 1s 33ms/step - loss: 0.1009 - accuracy: 0.9556 - val_loss: 2.1861 - val_accuracy: 0.5333\n",
            "Epoch 10/300\n",
            "15/15 [==============================] - 0s 29ms/step - loss: 0.1409 - accuracy: 0.9778 - val_loss: 1.8741 - val_accuracy: 0.6000\n",
            "Epoch 11/300\n",
            "15/15 [==============================] - 0s 29ms/step - loss: 0.1480 - accuracy: 0.9333 - val_loss: 1.5969 - val_accuracy: 0.6000\n",
            "Epoch 12/300\n",
            "15/15 [==============================] - 0s 31ms/step - loss: 0.1123 - accuracy: 0.9556 - val_loss: 2.9572 - val_accuracy: 0.5333\n",
            "Epoch 13/300\n",
            "15/15 [==============================] - 0s 30ms/step - loss: 0.1412 - accuracy: 0.9556 - val_loss: 2.2225 - val_accuracy: 0.5333\n",
            "Epoch 14/300\n",
            "15/15 [==============================] - 0s 29ms/step - loss: 0.0960 - accuracy: 0.9556 - val_loss: 3.6658 - val_accuracy: 0.4000\n",
            "Epoch 15/300\n",
            "15/15 [==============================] - 0s 29ms/step - loss: 0.2025 - accuracy: 0.9556 - val_loss: 1.1935 - val_accuracy: 0.5333\n",
            "Epoch 16/300\n",
            "15/15 [==============================] - 0s 30ms/step - loss: 0.1151 - accuracy: 0.9333 - val_loss: 1.2388 - val_accuracy: 0.5333\n",
            "Epoch 17/300\n",
            "15/15 [==============================] - 0s 28ms/step - loss: 0.0336 - accuracy: 1.0000 - val_loss: 1.4992 - val_accuracy: 0.5333\n",
            "Epoch 18/300\n",
            "15/15 [==============================] - 0s 32ms/step - loss: 0.0800 - accuracy: 0.9556 - val_loss: 1.5625 - val_accuracy: 0.6000\n",
            "Epoch 19/300\n",
            "15/15 [==============================] - 0s 31ms/step - loss: 0.0800 - accuracy: 0.9556 - val_loss: 1.3868 - val_accuracy: 0.6667\n",
            "Epoch 20/300\n",
            "15/15 [==============================] - 0s 30ms/step - loss: 0.1584 - accuracy: 0.9556 - val_loss: 1.6920 - val_accuracy: 0.6000\n",
            "Epoch 21/300\n",
            "15/15 [==============================] - 0s 30ms/step - loss: 0.0449 - accuracy: 1.0000 - val_loss: 1.7576 - val_accuracy: 0.6000\n",
            "Epoch 22/300\n",
            "15/15 [==============================] - 0s 29ms/step - loss: 0.0587 - accuracy: 0.9556 - val_loss: 1.8013 - val_accuracy: 0.6000\n",
            "Epoch 23/300\n",
            "15/15 [==============================] - 0s 32ms/step - loss: 0.0339 - accuracy: 0.9778 - val_loss: 1.8855 - val_accuracy: 0.6000\n",
            "Epoch 24/300\n",
            "15/15 [==============================] - 0s 32ms/step - loss: 0.1477 - accuracy: 0.9333 - val_loss: 2.6194 - val_accuracy: 0.4667\n",
            "Epoch 25/300\n",
            "15/15 [==============================] - 0s 32ms/step - loss: 0.1418 - accuracy: 0.9333 - val_loss: 2.0801 - val_accuracy: 0.5333\n",
            "Epoch 26/300\n",
            "15/15 [==============================] - 0s 33ms/step - loss: 0.1462 - accuracy: 0.9333 - val_loss: 2.3619 - val_accuracy: 0.4667\n",
            "Epoch 27/300\n",
            "15/15 [==============================] - 0s 30ms/step - loss: 0.0966 - accuracy: 0.9778 - val_loss: 2.1527 - val_accuracy: 0.4667\n",
            "Epoch 28/300\n",
            "15/15 [==============================] - 1s 33ms/step - loss: 0.0286 - accuracy: 1.0000 - val_loss: 2.0253 - val_accuracy: 0.4667\n",
            "Epoch 29/300\n",
            "15/15 [==============================] - 0s 29ms/step - loss: 0.0518 - accuracy: 0.9778 - val_loss: 2.0175 - val_accuracy: 0.5333\n",
            "Epoch 30/300\n",
            "15/15 [==============================] - 0s 29ms/step - loss: 0.0445 - accuracy: 0.9778 - val_loss: 2.3783 - val_accuracy: 0.4667\n",
            "Epoch 31/300\n",
            "15/15 [==============================] - 0s 30ms/step - loss: 0.0363 - accuracy: 1.0000 - val_loss: 2.3535 - val_accuracy: 0.5333\n",
            "Epoch 32/300\n",
            "15/15 [==============================] - 0s 27ms/step - loss: 0.0600 - accuracy: 0.9778 - val_loss: 2.0772 - val_accuracy: 0.6000\n",
            "Epoch 33/300\n",
            "15/15 [==============================] - 0s 30ms/step - loss: 0.0431 - accuracy: 0.9778 - val_loss: 2.2541 - val_accuracy: 0.6000\n",
            "Epoch 34/300\n",
            "15/15 [==============================] - 1s 33ms/step - loss: 0.0676 - accuracy: 0.9778 - val_loss: 2.3059 - val_accuracy: 0.6000\n",
            "Epoch 35/300\n",
            "15/15 [==============================] - 0s 31ms/step - loss: 0.0099 - accuracy: 1.0000 - val_loss: 2.2219 - val_accuracy: 0.6000\n",
            "Epoch 36/300\n",
            "15/15 [==============================] - 0s 30ms/step - loss: 0.0679 - accuracy: 0.9556 - val_loss: 2.3552 - val_accuracy: 0.6000\n",
            "Epoch 37/300\n",
            "15/15 [==============================] - 0s 31ms/step - loss: 0.0571 - accuracy: 0.9778 - val_loss: 2.6151 - val_accuracy: 0.6000\n",
            "Epoch 38/300\n",
            "15/15 [==============================] - 0s 28ms/step - loss: 0.1201 - accuracy: 0.9556 - val_loss: 2.3781 - val_accuracy: 0.5333\n",
            "Epoch 39/300\n",
            "15/15 [==============================] - 0s 31ms/step - loss: 0.1422 - accuracy: 0.8889 - val_loss: 2.0367 - val_accuracy: 0.6000\n",
            "Epoch 40/300\n",
            "15/15 [==============================] - 0s 29ms/step - loss: 0.0448 - accuracy: 0.9778 - val_loss: 1.8190 - val_accuracy: 0.6000\n",
            "Epoch 41/300\n",
            "15/15 [==============================] - 0s 30ms/step - loss: 0.0677 - accuracy: 0.9778 - val_loss: 1.8756 - val_accuracy: 0.7333\n",
            "Epoch 42/300\n",
            "15/15 [==============================] - 0s 29ms/step - loss: 0.1798 - accuracy: 0.9333 - val_loss: 1.8544 - val_accuracy: 0.6667\n",
            "Epoch 43/300\n",
            "15/15 [==============================] - 0s 29ms/step - loss: 0.1109 - accuracy: 0.9778 - val_loss: 1.6819 - val_accuracy: 0.6667\n",
            "Epoch 44/300\n",
            "15/15 [==============================] - 0s 30ms/step - loss: 0.0837 - accuracy: 0.9778 - val_loss: 1.8522 - val_accuracy: 0.6000\n",
            "Epoch 45/300\n",
            "15/15 [==============================] - 0s 29ms/step - loss: 0.0681 - accuracy: 0.9778 - val_loss: 1.7983 - val_accuracy: 0.6667\n",
            "Epoch 46/300\n",
            "15/15 [==============================] - 0s 31ms/step - loss: 0.0126 - accuracy: 1.0000 - val_loss: 1.8288 - val_accuracy: 0.6667\n",
            "Epoch 47/300\n",
            "15/15 [==============================] - 0s 28ms/step - loss: 0.0084 - accuracy: 1.0000 - val_loss: 1.8132 - val_accuracy: 0.6667\n",
            "Epoch 48/300\n",
            "15/15 [==============================] - 0s 30ms/step - loss: 0.0128 - accuracy: 1.0000 - val_loss: 1.8424 - val_accuracy: 0.6667\n",
            "Epoch 49/300\n",
            "15/15 [==============================] - 0s 29ms/step - loss: 0.0390 - accuracy: 0.9778 - val_loss: 1.7972 - val_accuracy: 0.6667\n",
            "Epoch 50/300\n",
            "15/15 [==============================] - 0s 31ms/step - loss: 0.0099 - accuracy: 1.0000 - val_loss: 1.8192 - val_accuracy: 0.7333\n",
            "Epoch 51/300\n",
            "15/15 [==============================] - 0s 29ms/step - loss: 0.0193 - accuracy: 1.0000 - val_loss: 2.0332 - val_accuracy: 0.6000\n",
            "Epoch 52/300\n",
            "15/15 [==============================] - 0s 32ms/step - loss: 0.0080 - accuracy: 1.0000 - val_loss: 2.1709 - val_accuracy: 0.6000\n",
            "Epoch 53/300\n",
            "15/15 [==============================] - 0s 27ms/step - loss: 0.0036 - accuracy: 1.0000 - val_loss: 2.2768 - val_accuracy: 0.6000\n",
            "Epoch 54/300\n",
            "15/15 [==============================] - 0s 30ms/step - loss: 0.0021 - accuracy: 1.0000 - val_loss: 2.3239 - val_accuracy: 0.6000\n",
            "Epoch 55/300\n",
            "15/15 [==============================] - 0s 27ms/step - loss: 0.0451 - accuracy: 0.9778 - val_loss: 2.2169 - val_accuracy: 0.6000\n",
            "Epoch 56/300\n",
            "15/15 [==============================] - 0s 29ms/step - loss: 0.0020 - accuracy: 1.0000 - val_loss: 1.7052 - val_accuracy: 0.7333\n",
            "Epoch 57/300\n",
            "15/15 [==============================] - 0s 31ms/step - loss: 0.0225 - accuracy: 0.9778 - val_loss: 1.5757 - val_accuracy: 0.6667\n",
            "Epoch 58/300\n",
            "15/15 [==============================] - 0s 32ms/step - loss: 0.0033 - accuracy: 1.0000 - val_loss: 1.6470 - val_accuracy: 0.7333\n",
            "Epoch 59/300\n",
            "15/15 [==============================] - 0s 31ms/step - loss: 0.0077 - accuracy: 1.0000 - val_loss: 1.6664 - val_accuracy: 0.7333\n",
            "Epoch 60/300\n",
            "15/15 [==============================] - 0s 29ms/step - loss: 0.0217 - accuracy: 1.0000 - val_loss: 1.9005 - val_accuracy: 0.7333\n",
            "Epoch 61/300\n",
            "15/15 [==============================] - 0s 31ms/step - loss: 0.0022 - accuracy: 1.0000 - val_loss: 2.0455 - val_accuracy: 0.7333\n",
            "Epoch 62/300\n",
            "15/15 [==============================] - 0s 32ms/step - loss: 0.0059 - accuracy: 1.0000 - val_loss: 2.0862 - val_accuracy: 0.7333\n",
            "Epoch 63/300\n",
            "15/15 [==============================] - 0s 30ms/step - loss: 0.0062 - accuracy: 1.0000 - val_loss: 2.2100 - val_accuracy: 0.7333\n",
            "Epoch 64/300\n",
            "15/15 [==============================] - 0s 30ms/step - loss: 0.0083 - accuracy: 1.0000 - val_loss: 2.4341 - val_accuracy: 0.6667\n",
            "Epoch 65/300\n",
            "15/15 [==============================] - 0s 30ms/step - loss: 0.0995 - accuracy: 0.9556 - val_loss: 2.2439 - val_accuracy: 0.6667\n",
            "Epoch 66/300\n",
            "15/15 [==============================] - 0s 29ms/step - loss: 0.1381 - accuracy: 0.9556 - val_loss: 1.7208 - val_accuracy: 0.7333\n",
            "Epoch 67/300\n",
            "15/15 [==============================] - 0s 29ms/step - loss: 0.0346 - accuracy: 0.9778 - val_loss: 1.8635 - val_accuracy: 0.6667\n",
            "Epoch 68/300\n",
            "15/15 [==============================] - 0s 30ms/step - loss: 0.0106 - accuracy: 1.0000 - val_loss: 1.7428 - val_accuracy: 0.6667\n",
            "Epoch 69/300\n",
            "15/15 [==============================] - 0s 30ms/step - loss: 0.0057 - accuracy: 1.0000 - val_loss: 1.7670 - val_accuracy: 0.6667\n",
            "Epoch 70/300\n",
            "15/15 [==============================] - 0s 29ms/step - loss: 0.0066 - accuracy: 1.0000 - val_loss: 1.6581 - val_accuracy: 0.6667\n",
            "Epoch 71/300\n",
            "15/15 [==============================] - 0s 30ms/step - loss: 0.0650 - accuracy: 0.9556 - val_loss: 1.5592 - val_accuracy: 0.6667\n",
            "Epoch 72/300\n",
            "15/15 [==============================] - 0s 31ms/step - loss: 0.0014 - accuracy: 1.0000 - val_loss: 1.4773 - val_accuracy: 0.6667\n",
            "Epoch 73/300\n",
            "15/15 [==============================] - 0s 29ms/step - loss: 0.0044 - accuracy: 1.0000 - val_loss: 1.5685 - val_accuracy: 0.6667\n",
            "Epoch 74/300\n",
            "15/15 [==============================] - 0s 28ms/step - loss: 0.0132 - accuracy: 1.0000 - val_loss: 1.8773 - val_accuracy: 0.6667\n",
            "Epoch 75/300\n",
            "15/15 [==============================] - 0s 31ms/step - loss: 0.0369 - accuracy: 1.0000 - val_loss: 1.8374 - val_accuracy: 0.6667\n",
            "Epoch 76/300\n",
            "15/15 [==============================] - 1s 33ms/step - loss: 0.0131 - accuracy: 1.0000 - val_loss: 1.9844 - val_accuracy: 0.6667\n",
            "Epoch 77/300\n",
            "15/15 [==============================] - 0s 31ms/step - loss: 0.0047 - accuracy: 1.0000 - val_loss: 1.9997 - val_accuracy: 0.7333\n",
            "Epoch 78/300\n",
            "15/15 [==============================] - 1s 33ms/step - loss: 0.0143 - accuracy: 1.0000 - val_loss: 1.9682 - val_accuracy: 0.7333\n",
            "Epoch 79/300\n",
            "15/15 [==============================] - 0s 32ms/step - loss: 0.0027 - accuracy: 1.0000 - val_loss: 1.9041 - val_accuracy: 0.7333\n",
            "Epoch 80/300\n",
            "15/15 [==============================] - 0s 31ms/step - loss: 0.0017 - accuracy: 1.0000 - val_loss: 1.9458 - val_accuracy: 0.7333\n",
            "Epoch 81/300\n",
            "15/15 [==============================] - 0s 30ms/step - loss: 1.3816e-04 - accuracy: 1.0000 - val_loss: 1.9738 - val_accuracy: 0.7333\n",
            "Epoch 82/300\n",
            "15/15 [==============================] - 0s 29ms/step - loss: 4.6398e-04 - accuracy: 1.0000 - val_loss: 1.9998 - val_accuracy: 0.7333\n",
            "Epoch 83/300\n",
            "15/15 [==============================] - 0s 29ms/step - loss: 0.0013 - accuracy: 1.0000 - val_loss: 2.0786 - val_accuracy: 0.7333\n",
            "Epoch 84/300\n",
            "15/15 [==============================] - 0s 31ms/step - loss: 0.0013 - accuracy: 1.0000 - val_loss: 2.1046 - val_accuracy: 0.7333\n",
            "Epoch 85/300\n",
            "15/15 [==============================] - 0s 31ms/step - loss: 0.0043 - accuracy: 1.0000 - val_loss: 2.1293 - val_accuracy: 0.8000\n",
            "Epoch 86/300\n",
            "15/15 [==============================] - 0s 30ms/step - loss: 0.0090 - accuracy: 1.0000 - val_loss: 2.3101 - val_accuracy: 0.7333\n",
            "Epoch 87/300\n",
            "15/15 [==============================] - 0s 30ms/step - loss: 5.9074e-04 - accuracy: 1.0000 - val_loss: 2.3986 - val_accuracy: 0.6667\n",
            "Epoch 88/300\n",
            "15/15 [==============================] - 0s 30ms/step - loss: 3.2465e-04 - accuracy: 1.0000 - val_loss: 2.4278 - val_accuracy: 0.6667\n",
            "Epoch 89/300\n",
            "15/15 [==============================] - 0s 29ms/step - loss: 0.0113 - accuracy: 1.0000 - val_loss: 2.4005 - val_accuracy: 0.6667\n",
            "Epoch 90/300\n",
            "15/15 [==============================] - 0s 30ms/step - loss: 0.0284 - accuracy: 0.9778 - val_loss: 2.2280 - val_accuracy: 0.7333\n",
            "Epoch 91/300\n",
            "15/15 [==============================] - 0s 29ms/step - loss: 0.0138 - accuracy: 1.0000 - val_loss: 2.1257 - val_accuracy: 0.7333\n",
            "Epoch 92/300\n",
            "15/15 [==============================] - 0s 31ms/step - loss: 0.0077 - accuracy: 1.0000 - val_loss: 2.2591 - val_accuracy: 0.8000\n",
            "Epoch 93/300\n",
            "15/15 [==============================] - 0s 30ms/step - loss: 0.0126 - accuracy: 1.0000 - val_loss: 1.9090 - val_accuracy: 0.7333\n",
            "Epoch 94/300\n",
            "15/15 [==============================] - 0s 30ms/step - loss: 0.0112 - accuracy: 1.0000 - val_loss: 1.9602 - val_accuracy: 0.8000\n",
            "Epoch 95/300\n",
            "15/15 [==============================] - 0s 30ms/step - loss: 8.9068e-04 - accuracy: 1.0000 - val_loss: 2.0062 - val_accuracy: 0.8000\n",
            "Epoch 96/300\n",
            "15/15 [==============================] - 0s 29ms/step - loss: 0.0039 - accuracy: 1.0000 - val_loss: 2.0992 - val_accuracy: 0.8000\n",
            "Epoch 97/300\n",
            "15/15 [==============================] - 0s 30ms/step - loss: 9.6891e-04 - accuracy: 1.0000 - val_loss: 2.1305 - val_accuracy: 0.8000\n",
            "Epoch 98/300\n",
            "15/15 [==============================] - 0s 32ms/step - loss: 0.0116 - accuracy: 1.0000 - val_loss: 2.2164 - val_accuracy: 0.6667\n",
            "Epoch 99/300\n",
            "15/15 [==============================] - 0s 29ms/step - loss: 0.0158 - accuracy: 1.0000 - val_loss: 2.8374 - val_accuracy: 0.6667\n",
            "Epoch 100/300\n",
            "15/15 [==============================] - 0s 31ms/step - loss: 0.0597 - accuracy: 0.9778 - val_loss: 2.8610 - val_accuracy: 0.5333\n",
            "Epoch 101/300\n",
            "15/15 [==============================] - 0s 29ms/step - loss: 0.3770 - accuracy: 0.9333 - val_loss: 2.8388 - val_accuracy: 0.6000\n",
            "Epoch 102/300\n",
            "15/15 [==============================] - 0s 33ms/step - loss: 0.0568 - accuracy: 0.9556 - val_loss: 1.7637 - val_accuracy: 0.7333\n",
            "Epoch 103/300\n",
            "15/15 [==============================] - 0s 29ms/step - loss: 0.0286 - accuracy: 1.0000 - val_loss: 1.4819 - val_accuracy: 0.6667\n",
            "Epoch 104/300\n",
            "15/15 [==============================] - 0s 29ms/step - loss: 0.0499 - accuracy: 0.9778 - val_loss: 1.5412 - val_accuracy: 0.6667\n",
            "Epoch 105/300\n",
            "15/15 [==============================] - 0s 31ms/step - loss: 0.0272 - accuracy: 1.0000 - val_loss: 1.8444 - val_accuracy: 0.7333\n",
            "Epoch 106/300\n",
            "15/15 [==============================] - 0s 27ms/step - loss: 0.1363 - accuracy: 0.9556 - val_loss: 2.8631 - val_accuracy: 0.4667\n",
            "Epoch 107/300\n",
            "15/15 [==============================] - 0s 30ms/step - loss: 0.2124 - accuracy: 0.9556 - val_loss: 2.0692 - val_accuracy: 0.6000\n",
            "Epoch 108/300\n",
            "15/15 [==============================] - 0s 31ms/step - loss: 0.0208 - accuracy: 1.0000 - val_loss: 1.7566 - val_accuracy: 0.6667\n",
            "Epoch 109/300\n",
            "15/15 [==============================] - 0s 31ms/step - loss: 0.0046 - accuracy: 1.0000 - val_loss: 1.7637 - val_accuracy: 0.6667\n",
            "Epoch 110/300\n",
            "15/15 [==============================] - 0s 30ms/step - loss: 0.0112 - accuracy: 1.0000 - val_loss: 1.8434 - val_accuracy: 0.6000\n",
            "Epoch 111/300\n",
            "15/15 [==============================] - 0s 28ms/step - loss: 0.0073 - accuracy: 1.0000 - val_loss: 1.9272 - val_accuracy: 0.6667\n",
            "Epoch 112/300\n",
            "15/15 [==============================] - 0s 28ms/step - loss: 0.0154 - accuracy: 1.0000 - val_loss: 2.0255 - val_accuracy: 0.6667\n",
            "Epoch 113/300\n",
            "15/15 [==============================] - 0s 31ms/step - loss: 0.0159 - accuracy: 1.0000 - val_loss: 2.0543 - val_accuracy: 0.6667\n",
            "Epoch 114/300\n",
            "15/15 [==============================] - 0s 32ms/step - loss: 0.0030 - accuracy: 1.0000 - val_loss: 2.0539 - val_accuracy: 0.6667\n",
            "Epoch 115/300\n",
            "15/15 [==============================] - 0s 29ms/step - loss: 0.0087 - accuracy: 1.0000 - val_loss: 2.0977 - val_accuracy: 0.6667\n",
            "Epoch 116/300\n",
            "15/15 [==============================] - 0s 31ms/step - loss: 5.8269e-04 - accuracy: 1.0000 - val_loss: 2.1251 - val_accuracy: 0.6667\n",
            "Epoch 117/300\n",
            "15/15 [==============================] - 0s 31ms/step - loss: 0.0011 - accuracy: 1.0000 - val_loss: 2.1466 - val_accuracy: 0.6667\n",
            "Epoch 118/300\n",
            "15/15 [==============================] - 0s 30ms/step - loss: 0.0385 - accuracy: 0.9778 - val_loss: 2.0464 - val_accuracy: 0.6667\n",
            "Epoch 119/300\n",
            "15/15 [==============================] - 0s 32ms/step - loss: 0.0325 - accuracy: 0.9778 - val_loss: 1.8523 - val_accuracy: 0.6667\n",
            "Epoch 120/300\n",
            "15/15 [==============================] - 0s 30ms/step - loss: 0.0074 - accuracy: 1.0000 - val_loss: 1.9615 - val_accuracy: 0.6667\n",
            "Epoch 121/300\n",
            "15/15 [==============================] - 0s 30ms/step - loss: 0.0042 - accuracy: 1.0000 - val_loss: 2.0856 - val_accuracy: 0.6667\n",
            "Epoch 122/300\n",
            "15/15 [==============================] - 0s 30ms/step - loss: 0.0346 - accuracy: 0.9778 - val_loss: 2.0466 - val_accuracy: 0.6667\n",
            "Epoch 123/300\n",
            "15/15 [==============================] - 0s 29ms/step - loss: 0.0929 - accuracy: 0.9778 - val_loss: 1.7638 - val_accuracy: 0.6000\n",
            "Epoch 124/300\n",
            "15/15 [==============================] - 0s 31ms/step - loss: 0.0015 - accuracy: 1.0000 - val_loss: 2.2754 - val_accuracy: 0.6000\n",
            "Epoch 125/300\n",
            "15/15 [==============================] - 0s 30ms/step - loss: 0.0354 - accuracy: 1.0000 - val_loss: 2.4612 - val_accuracy: 0.6000\n",
            "Epoch 126/300\n",
            "15/15 [==============================] - 0s 30ms/step - loss: 0.0138 - accuracy: 1.0000 - val_loss: 1.8359 - val_accuracy: 0.6000\n",
            "Epoch 127/300\n",
            "15/15 [==============================] - 0s 28ms/step - loss: 0.0074 - accuracy: 1.0000 - val_loss: 1.8296 - val_accuracy: 0.6667\n",
            "Epoch 128/300\n",
            "15/15 [==============================] - 0s 31ms/step - loss: 8.7247e-04 - accuracy: 1.0000 - val_loss: 1.8486 - val_accuracy: 0.6000\n",
            "Epoch 129/300\n",
            "15/15 [==============================] - 0s 29ms/step - loss: 0.0908 - accuracy: 0.9778 - val_loss: 2.4205 - val_accuracy: 0.5333\n",
            "Epoch 130/300\n",
            "15/15 [==============================] - 0s 30ms/step - loss: 0.0506 - accuracy: 0.9778 - val_loss: 2.7019 - val_accuracy: 0.5333\n",
            "Epoch 131/300\n",
            "15/15 [==============================] - 0s 29ms/step - loss: 0.0014 - accuracy: 1.0000 - val_loss: 2.5026 - val_accuracy: 0.5333\n",
            "Epoch 132/300\n",
            "15/15 [==============================] - 0s 31ms/step - loss: 0.0019 - accuracy: 1.0000 - val_loss: 2.4848 - val_accuracy: 0.6000\n",
            "Epoch 133/300\n",
            "15/15 [==============================] - 0s 29ms/step - loss: 0.0017 - accuracy: 1.0000 - val_loss: 2.4518 - val_accuracy: 0.6000\n",
            "Epoch 134/300\n",
            "15/15 [==============================] - 0s 32ms/step - loss: 0.0024 - accuracy: 1.0000 - val_loss: 2.4301 - val_accuracy: 0.6000\n",
            "Epoch 135/300\n",
            "15/15 [==============================] - 0s 31ms/step - loss: 0.0011 - accuracy: 1.0000 - val_loss: 2.2777 - val_accuracy: 0.6000\n",
            "Epoch 136/300\n",
            "15/15 [==============================] - 0s 32ms/step - loss: 0.0336 - accuracy: 0.9778 - val_loss: 2.3542 - val_accuracy: 0.7333\n",
            "Epoch 137/300\n",
            "15/15 [==============================] - 0s 30ms/step - loss: 0.0372 - accuracy: 0.9778 - val_loss: 3.5640 - val_accuracy: 0.5333\n",
            "Epoch 138/300\n",
            "15/15 [==============================] - 0s 30ms/step - loss: 0.0301 - accuracy: 0.9778 - val_loss: 3.8736 - val_accuracy: 0.5333\n",
            "Epoch 139/300\n",
            "15/15 [==============================] - 0s 29ms/step - loss: 0.0354 - accuracy: 0.9778 - val_loss: 4.2489 - val_accuracy: 0.5333\n",
            "Epoch 140/300\n",
            "15/15 [==============================] - 0s 30ms/step - loss: 0.0080 - accuracy: 1.0000 - val_loss: 3.1955 - val_accuracy: 0.6000\n",
            "Epoch 141/300\n",
            "15/15 [==============================] - 0s 28ms/step - loss: 0.0031 - accuracy: 1.0000 - val_loss: 3.9471 - val_accuracy: 0.5333\n",
            "Epoch 142/300\n",
            "15/15 [==============================] - 0s 29ms/step - loss: 0.0117 - accuracy: 1.0000 - val_loss: 4.0995 - val_accuracy: 0.5333\n",
            "Epoch 143/300\n",
            "15/15 [==============================] - 0s 31ms/step - loss: 0.0590 - accuracy: 0.9778 - val_loss: 2.4573 - val_accuracy: 0.7333\n",
            "Epoch 144/300\n",
            "15/15 [==============================] - 0s 31ms/step - loss: 0.1388 - accuracy: 0.9556 - val_loss: 2.7932 - val_accuracy: 0.6000\n",
            "Epoch 145/300\n",
            "15/15 [==============================] - 0s 29ms/step - loss: 0.1389 - accuracy: 0.9556 - val_loss: 2.2168 - val_accuracy: 0.7333\n",
            "Epoch 146/300\n",
            "15/15 [==============================] - 0s 29ms/step - loss: 0.0166 - accuracy: 1.0000 - val_loss: 2.5120 - val_accuracy: 0.6667\n",
            "Epoch 147/300\n",
            "15/15 [==============================] - 0s 30ms/step - loss: 0.3581 - accuracy: 0.9556 - val_loss: 3.6891 - val_accuracy: 0.5333\n",
            "Epoch 148/300\n",
            "15/15 [==============================] - 0s 28ms/step - loss: 0.1027 - accuracy: 0.9778 - val_loss: 2.5146 - val_accuracy: 0.5333\n",
            "Epoch 149/300\n",
            "15/15 [==============================] - 0s 28ms/step - loss: 0.0036 - accuracy: 1.0000 - val_loss: 2.3573 - val_accuracy: 0.5333\n",
            "Epoch 150/300\n",
            "15/15 [==============================] - 0s 30ms/step - loss: 0.0433 - accuracy: 0.9778 - val_loss: 2.1570 - val_accuracy: 0.6000\n",
            "Epoch 151/300\n",
            "15/15 [==============================] - 0s 32ms/step - loss: 0.0545 - accuracy: 0.9778 - val_loss: 1.7758 - val_accuracy: 0.7333\n",
            "Epoch 152/300\n",
            "15/15 [==============================] - 0s 31ms/step - loss: 0.0513 - accuracy: 0.9778 - val_loss: 2.1740 - val_accuracy: 0.6000\n",
            "Epoch 153/300\n",
            "15/15 [==============================] - 0s 32ms/step - loss: 0.0449 - accuracy: 0.9778 - val_loss: 2.8282 - val_accuracy: 0.5333\n",
            "Epoch 154/300\n",
            "15/15 [==============================] - 0s 30ms/step - loss: 0.0077 - accuracy: 1.0000 - val_loss: 2.7491 - val_accuracy: 0.5333\n",
            "Epoch 155/300\n",
            "15/15 [==============================] - 0s 30ms/step - loss: 0.0435 - accuracy: 0.9778 - val_loss: 2.7647 - val_accuracy: 0.5333\n",
            "Epoch 156/300\n",
            "15/15 [==============================] - 0s 29ms/step - loss: 0.0067 - accuracy: 1.0000 - val_loss: 2.8607 - val_accuracy: 0.5333\n",
            "Epoch 157/300\n",
            "15/15 [==============================] - 0s 28ms/step - loss: 0.0191 - accuracy: 1.0000 - val_loss: 3.0511 - val_accuracy: 0.6000\n",
            "Epoch 158/300\n",
            "15/15 [==============================] - 0s 29ms/step - loss: 0.0279 - accuracy: 0.9778 - val_loss: 2.8652 - val_accuracy: 0.5333\n",
            "Epoch 159/300\n",
            "15/15 [==============================] - 0s 29ms/step - loss: 0.0080 - accuracy: 1.0000 - val_loss: 2.9516 - val_accuracy: 0.5333\n",
            "Epoch 160/300\n",
            "15/15 [==============================] - 0s 31ms/step - loss: 0.0121 - accuracy: 1.0000 - val_loss: 2.7530 - val_accuracy: 0.5333\n",
            "Epoch 161/300\n",
            "15/15 [==============================] - 0s 30ms/step - loss: 0.0027 - accuracy: 1.0000 - val_loss: 2.6322 - val_accuracy: 0.6000\n",
            "Epoch 162/300\n",
            "15/15 [==============================] - 0s 30ms/step - loss: 0.0048 - accuracy: 1.0000 - val_loss: 2.7943 - val_accuracy: 0.6000\n",
            "Epoch 163/300\n",
            "15/15 [==============================] - 0s 30ms/step - loss: 3.0939e-04 - accuracy: 1.0000 - val_loss: 2.8740 - val_accuracy: 0.6000\n",
            "Epoch 164/300\n",
            "15/15 [==============================] - 0s 31ms/step - loss: 0.0110 - accuracy: 1.0000 - val_loss: 2.9891 - val_accuracy: 0.6000\n",
            "Epoch 165/300\n",
            "15/15 [==============================] - 0s 30ms/step - loss: 0.0015 - accuracy: 1.0000 - val_loss: 3.0404 - val_accuracy: 0.6000\n",
            "Epoch 166/300\n",
            "15/15 [==============================] - 0s 31ms/step - loss: 0.0045 - accuracy: 1.0000 - val_loss: 3.0935 - val_accuracy: 0.6000\n",
            "Epoch 167/300\n",
            "15/15 [==============================] - 0s 31ms/step - loss: 0.0055 - accuracy: 1.0000 - val_loss: 3.2298 - val_accuracy: 0.5333\n",
            "Epoch 168/300\n",
            "15/15 [==============================] - 1s 34ms/step - loss: 0.0969 - accuracy: 0.9778 - val_loss: 2.9243 - val_accuracy: 0.6000\n",
            "Epoch 169/300\n",
            "15/15 [==============================] - 0s 32ms/step - loss: 0.0173 - accuracy: 1.0000 - val_loss: 3.0233 - val_accuracy: 0.6667\n",
            "Epoch 170/300\n",
            "15/15 [==============================] - 0s 29ms/step - loss: 0.0325 - accuracy: 0.9778 - val_loss: 3.5533 - val_accuracy: 0.5333\n",
            "Epoch 171/300\n",
            "15/15 [==============================] - 1s 33ms/step - loss: 0.0790 - accuracy: 0.9556 - val_loss: 3.0908 - val_accuracy: 0.5333\n",
            "Epoch 172/300\n",
            "15/15 [==============================] - 0s 29ms/step - loss: 0.0046 - accuracy: 1.0000 - val_loss: 2.9205 - val_accuracy: 0.6667\n",
            "Epoch 173/300\n",
            "15/15 [==============================] - 0s 28ms/step - loss: 0.1642 - accuracy: 0.9778 - val_loss: 2.7920 - val_accuracy: 0.5333\n",
            "Epoch 174/300\n",
            "15/15 [==============================] - 0s 31ms/step - loss: 0.0017 - accuracy: 1.0000 - val_loss: 2.7901 - val_accuracy: 0.5333\n",
            "Epoch 175/300\n",
            "15/15 [==============================] - 0s 31ms/step - loss: 8.4908e-04 - accuracy: 1.0000 - val_loss: 2.8490 - val_accuracy: 0.5333\n",
            "Epoch 176/300\n",
            "15/15 [==============================] - 0s 30ms/step - loss: 0.0041 - accuracy: 1.0000 - val_loss: 2.8893 - val_accuracy: 0.5333\n",
            "Epoch 177/300\n",
            "15/15 [==============================] - 0s 29ms/step - loss: 0.0039 - accuracy: 1.0000 - val_loss: 2.9725 - val_accuracy: 0.5333\n",
            "Epoch 178/300\n",
            "15/15 [==============================] - 0s 30ms/step - loss: 0.0033 - accuracy: 1.0000 - val_loss: 3.0068 - val_accuracy: 0.5333\n",
            "Epoch 179/300\n",
            "15/15 [==============================] - 0s 29ms/step - loss: 0.0384 - accuracy: 0.9778 - val_loss: 3.2256 - val_accuracy: 0.6000\n",
            "Epoch 180/300\n",
            "15/15 [==============================] - 0s 32ms/step - loss: 0.0358 - accuracy: 0.9778 - val_loss: 3.3795 - val_accuracy: 0.5333\n",
            "Epoch 181/300\n",
            "15/15 [==============================] - 1s 33ms/step - loss: 0.0092 - accuracy: 1.0000 - val_loss: 3.2659 - val_accuracy: 0.5333\n",
            "Epoch 182/300\n",
            "15/15 [==============================] - 0s 30ms/step - loss: 0.0020 - accuracy: 1.0000 - val_loss: 3.2729 - val_accuracy: 0.5333\n",
            "Epoch 183/300\n",
            "15/15 [==============================] - 0s 32ms/step - loss: 3.9094e-04 - accuracy: 1.0000 - val_loss: 3.3085 - val_accuracy: 0.5333\n",
            "Epoch 184/300\n",
            "15/15 [==============================] - 0s 29ms/step - loss: 0.0337 - accuracy: 0.9778 - val_loss: 3.5126 - val_accuracy: 0.5333\n",
            "Epoch 185/300\n",
            "15/15 [==============================] - 0s 31ms/step - loss: 0.0311 - accuracy: 0.9778 - val_loss: 3.8353 - val_accuracy: 0.5333\n",
            "Epoch 186/300\n",
            "15/15 [==============================] - 0s 31ms/step - loss: 8.5719e-04 - accuracy: 1.0000 - val_loss: 4.0257 - val_accuracy: 0.5333\n",
            "Epoch 187/300\n",
            "15/15 [==============================] - 0s 31ms/step - loss: 4.9987e-04 - accuracy: 1.0000 - val_loss: 4.0736 - val_accuracy: 0.5333\n",
            "Epoch 188/300\n",
            "15/15 [==============================] - 0s 29ms/step - loss: 0.0645 - accuracy: 0.9778 - val_loss: 4.0978 - val_accuracy: 0.5333\n",
            "Epoch 189/300\n",
            "15/15 [==============================] - 0s 31ms/step - loss: 0.0226 - accuracy: 0.9778 - val_loss: 3.9761 - val_accuracy: 0.5333\n",
            "Epoch 190/300\n",
            "15/15 [==============================] - 0s 30ms/step - loss: 0.0180 - accuracy: 1.0000 - val_loss: 3.3443 - val_accuracy: 0.6000\n",
            "Epoch 191/300\n",
            "15/15 [==============================] - 0s 30ms/step - loss: 0.0052 - accuracy: 1.0000 - val_loss: 3.0085 - val_accuracy: 0.6000\n",
            "Epoch 192/300\n",
            "15/15 [==============================] - 0s 30ms/step - loss: 0.0218 - accuracy: 0.9778 - val_loss: 4.8348 - val_accuracy: 0.5333\n",
            "Epoch 193/300\n",
            "15/15 [==============================] - 0s 29ms/step - loss: 0.0017 - accuracy: 1.0000 - val_loss: 5.5388 - val_accuracy: 0.4667\n",
            "Epoch 194/300\n",
            "15/15 [==============================] - 0s 29ms/step - loss: 6.4212e-04 - accuracy: 1.0000 - val_loss: 5.5986 - val_accuracy: 0.4667\n",
            "Epoch 195/300\n",
            "15/15 [==============================] - 0s 31ms/step - loss: 0.0344 - accuracy: 0.9778 - val_loss: 6.3919 - val_accuracy: 0.4667\n",
            "Epoch 196/300\n",
            "15/15 [==============================] - 0s 29ms/step - loss: 0.0505 - accuracy: 0.9556 - val_loss: 3.7806 - val_accuracy: 0.6000\n",
            "Epoch 197/300\n",
            "15/15 [==============================] - 0s 30ms/step - loss: 5.9195e-04 - accuracy: 1.0000 - val_loss: 3.7168 - val_accuracy: 0.6000\n",
            "Epoch 198/300\n",
            "15/15 [==============================] - 0s 31ms/step - loss: 3.2862e-04 - accuracy: 1.0000 - val_loss: 3.7027 - val_accuracy: 0.6000\n",
            "Epoch 199/300\n",
            "15/15 [==============================] - 0s 31ms/step - loss: 0.0077 - accuracy: 1.0000 - val_loss: 3.6783 - val_accuracy: 0.5333\n",
            "Epoch 200/300\n",
            "15/15 [==============================] - 0s 32ms/step - loss: 1.2602e-04 - accuracy: 1.0000 - val_loss: 3.9745 - val_accuracy: 0.5333\n",
            "Epoch 201/300\n",
            "15/15 [==============================] - 0s 32ms/step - loss: 0.0017 - accuracy: 1.0000 - val_loss: 3.8072 - val_accuracy: 0.5333\n",
            "Epoch 202/300\n",
            "15/15 [==============================] - 0s 31ms/step - loss: 0.0397 - accuracy: 0.9778 - val_loss: 3.6324 - val_accuracy: 0.5333\n",
            "Epoch 203/300\n",
            "15/15 [==============================] - 0s 27ms/step - loss: 0.0089 - accuracy: 1.0000 - val_loss: 3.9266 - val_accuracy: 0.5333\n",
            "Epoch 204/300\n",
            "15/15 [==============================] - 0s 30ms/step - loss: 0.0412 - accuracy: 0.9778 - val_loss: 2.2515 - val_accuracy: 0.6667\n",
            "Epoch 205/300\n",
            "15/15 [==============================] - 0s 32ms/step - loss: 0.0297 - accuracy: 0.9778 - val_loss: 2.6238 - val_accuracy: 0.6000\n",
            "Epoch 206/300\n",
            "15/15 [==============================] - 0s 29ms/step - loss: 0.0270 - accuracy: 0.9778 - val_loss: 2.7973 - val_accuracy: 0.6000\n",
            "Epoch 207/300\n",
            "15/15 [==============================] - 0s 31ms/step - loss: 0.0172 - accuracy: 0.9778 - val_loss: 2.3699 - val_accuracy: 0.6667\n",
            "Epoch 208/300\n",
            "15/15 [==============================] - 0s 29ms/step - loss: 0.0438 - accuracy: 0.9778 - val_loss: 2.5573 - val_accuracy: 0.6667\n",
            "Epoch 209/300\n",
            "15/15 [==============================] - 0s 29ms/step - loss: 0.0169 - accuracy: 0.9778 - val_loss: 2.5423 - val_accuracy: 0.7333\n",
            "Epoch 210/300\n",
            "15/15 [==============================] - 0s 29ms/step - loss: 2.7418e-04 - accuracy: 1.0000 - val_loss: 2.5422 - val_accuracy: 0.7333\n",
            "Epoch 211/300\n",
            "15/15 [==============================] - 0s 30ms/step - loss: 0.0705 - accuracy: 0.9556 - val_loss: 2.7196 - val_accuracy: 0.6667\n",
            "Epoch 212/300\n",
            "15/15 [==============================] - 0s 30ms/step - loss: 0.0527 - accuracy: 0.9778 - val_loss: 3.1101 - val_accuracy: 0.6000\n",
            "Epoch 213/300\n",
            "15/15 [==============================] - 0s 29ms/step - loss: 0.0068 - accuracy: 1.0000 - val_loss: 3.5010 - val_accuracy: 0.6000\n",
            "Epoch 214/300\n",
            "15/15 [==============================] - 0s 30ms/step - loss: 0.0046 - accuracy: 1.0000 - val_loss: 3.5028 - val_accuracy: 0.6000\n",
            "Epoch 215/300\n",
            "15/15 [==============================] - 0s 30ms/step - loss: 0.0379 - accuracy: 0.9778 - val_loss: 3.0308 - val_accuracy: 0.6667\n",
            "Epoch 216/300\n",
            "15/15 [==============================] - 1s 32ms/step - loss: 1.4979e-04 - accuracy: 1.0000 - val_loss: 3.0601 - val_accuracy: 0.6667\n",
            "Epoch 217/300\n",
            "15/15 [==============================] - 0s 31ms/step - loss: 0.1371 - accuracy: 0.9778 - val_loss: 3.4456 - val_accuracy: 0.6000\n",
            "Epoch 218/300\n",
            "15/15 [==============================] - 0s 31ms/step - loss: 0.0269 - accuracy: 1.0000 - val_loss: 3.4094 - val_accuracy: 0.6667\n",
            "Epoch 219/300\n",
            "15/15 [==============================] - 0s 31ms/step - loss: 7.1857e-04 - accuracy: 1.0000 - val_loss: 3.3022 - val_accuracy: 0.7333\n",
            "Epoch 220/300\n",
            "15/15 [==============================] - 1s 32ms/step - loss: 0.0039 - accuracy: 1.0000 - val_loss: 3.3137 - val_accuracy: 0.7333\n",
            "Epoch 221/300\n",
            "15/15 [==============================] - 1s 33ms/step - loss: 7.5550e-05 - accuracy: 1.0000 - val_loss: 3.3420 - val_accuracy: 0.7333\n",
            "Epoch 222/300\n",
            "15/15 [==============================] - 0s 31ms/step - loss: 2.4120e-04 - accuracy: 1.0000 - val_loss: 3.3540 - val_accuracy: 0.7333\n",
            "Epoch 223/300\n",
            "15/15 [==============================] - 0s 31ms/step - loss: 0.0074 - accuracy: 1.0000 - val_loss: 3.5807 - val_accuracy: 0.6667\n",
            "Epoch 224/300\n",
            "15/15 [==============================] - 0s 32ms/step - loss: 0.0024 - accuracy: 1.0000 - val_loss: 3.6832 - val_accuracy: 0.6000\n",
            "Epoch 225/300\n",
            "15/15 [==============================] - 1s 34ms/step - loss: 1.4481e-04 - accuracy: 1.0000 - val_loss: 3.6355 - val_accuracy: 0.6000\n",
            "Epoch 226/300\n",
            "15/15 [==============================] - 0s 30ms/step - loss: 0.0221 - accuracy: 0.9778 - val_loss: 3.1044 - val_accuracy: 0.7333\n",
            "Epoch 227/300\n",
            "15/15 [==============================] - 1s 33ms/step - loss: 4.1420e-05 - accuracy: 1.0000 - val_loss: 3.0228 - val_accuracy: 0.7333\n",
            "Epoch 228/300\n",
            "15/15 [==============================] - 0s 30ms/step - loss: 0.0024 - accuracy: 1.0000 - val_loss: 3.0232 - val_accuracy: 0.7333\n",
            "Epoch 229/300\n",
            "15/15 [==============================] - 0s 31ms/step - loss: 5.1319e-04 - accuracy: 1.0000 - val_loss: 3.0392 - val_accuracy: 0.7333\n",
            "Epoch 230/300\n",
            "15/15 [==============================] - 0s 31ms/step - loss: 0.0234 - accuracy: 0.9778 - val_loss: 3.3600 - val_accuracy: 0.6667\n",
            "Epoch 231/300\n",
            "15/15 [==============================] - 0s 31ms/step - loss: 0.0805 - accuracy: 0.9778 - val_loss: 4.2473 - val_accuracy: 0.6000\n",
            "Epoch 232/300\n",
            "15/15 [==============================] - 1s 34ms/step - loss: 0.0150 - accuracy: 1.0000 - val_loss: 5.1557 - val_accuracy: 0.5333\n",
            "Epoch 233/300\n",
            "15/15 [==============================] - 0s 30ms/step - loss: 0.0739 - accuracy: 0.9778 - val_loss: 3.7609 - val_accuracy: 0.6000\n",
            "Epoch 234/300\n",
            "15/15 [==============================] - 0s 30ms/step - loss: 0.0617 - accuracy: 0.9778 - val_loss: 3.3713 - val_accuracy: 0.6000\n",
            "Epoch 235/300\n",
            "15/15 [==============================] - 1s 35ms/step - loss: 0.0369 - accuracy: 0.9778 - val_loss: 3.5383 - val_accuracy: 0.6000\n",
            "Epoch 236/300\n",
            "15/15 [==============================] - 0s 30ms/step - loss: 0.0085 - accuracy: 1.0000 - val_loss: 3.5612 - val_accuracy: 0.6000\n",
            "Epoch 237/300\n",
            "15/15 [==============================] - 0s 32ms/step - loss: 0.0010 - accuracy: 1.0000 - val_loss: 3.1968 - val_accuracy: 0.6000\n",
            "Epoch 238/300\n",
            "15/15 [==============================] - 1s 34ms/step - loss: 6.3008e-04 - accuracy: 1.0000 - val_loss: 3.1910 - val_accuracy: 0.6000\n",
            "Epoch 239/300\n",
            "15/15 [==============================] - 0s 31ms/step - loss: 0.0033 - accuracy: 1.0000 - val_loss: 3.1865 - val_accuracy: 0.6000\n",
            "Epoch 240/300\n",
            "15/15 [==============================] - 0s 32ms/step - loss: 0.0012 - accuracy: 1.0000 - val_loss: 3.1545 - val_accuracy: 0.6000\n",
            "Epoch 241/300\n",
            "15/15 [==============================] - 0s 30ms/step - loss: 0.0036 - accuracy: 1.0000 - val_loss: 3.2416 - val_accuracy: 0.6000\n",
            "Epoch 242/300\n",
            "15/15 [==============================] - 0s 32ms/step - loss: 1.0942e-04 - accuracy: 1.0000 - val_loss: 3.2693 - val_accuracy: 0.6000\n",
            "Epoch 243/300\n",
            "15/15 [==============================] - 0s 31ms/step - loss: 0.0239 - accuracy: 0.9778 - val_loss: 2.7555 - val_accuracy: 0.6667\n",
            "Epoch 244/300\n",
            "15/15 [==============================] - 1s 34ms/step - loss: 0.0018 - accuracy: 1.0000 - val_loss: 2.7845 - val_accuracy: 0.7333\n",
            "Epoch 245/300\n",
            "15/15 [==============================] - 0s 31ms/step - loss: 2.1127e-04 - accuracy: 1.0000 - val_loss: 2.8318 - val_accuracy: 0.7333\n",
            "Epoch 246/300\n",
            "15/15 [==============================] - 0s 31ms/step - loss: 0.0054 - accuracy: 1.0000 - val_loss: 2.8775 - val_accuracy: 0.7333\n",
            "Epoch 247/300\n",
            "15/15 [==============================] - 0s 31ms/step - loss: 0.0149 - accuracy: 1.0000 - val_loss: 2.9485 - val_accuracy: 0.7333\n",
            "Epoch 248/300\n",
            "15/15 [==============================] - 1s 34ms/step - loss: 0.0023 - accuracy: 1.0000 - val_loss: 2.9895 - val_accuracy: 0.7333\n",
            "Epoch 249/300\n",
            "15/15 [==============================] - 0s 32ms/step - loss: 8.4442e-04 - accuracy: 1.0000 - val_loss: 3.0081 - val_accuracy: 0.7333\n",
            "Epoch 250/300\n",
            "15/15 [==============================] - 1s 34ms/step - loss: 0.0011 - accuracy: 1.0000 - val_loss: 3.0314 - val_accuracy: 0.7333\n",
            "Epoch 251/300\n",
            "15/15 [==============================] - 1s 33ms/step - loss: 3.2371e-04 - accuracy: 1.0000 - val_loss: 3.0690 - val_accuracy: 0.7333\n",
            "Epoch 252/300\n",
            "15/15 [==============================] - 1s 33ms/step - loss: 0.0190 - accuracy: 1.0000 - val_loss: 3.2421 - val_accuracy: 0.7333\n",
            "Epoch 253/300\n",
            "15/15 [==============================] - 0s 32ms/step - loss: 0.0044 - accuracy: 1.0000 - val_loss: 3.6601 - val_accuracy: 0.6000\n",
            "Epoch 254/300\n",
            "15/15 [==============================] - 0s 32ms/step - loss: 4.2946e-04 - accuracy: 1.0000 - val_loss: 3.9106 - val_accuracy: 0.6000\n",
            "Epoch 255/300\n",
            "15/15 [==============================] - 1s 33ms/step - loss: 1.0539e-04 - accuracy: 1.0000 - val_loss: 3.9732 - val_accuracy: 0.6000\n",
            "Epoch 256/300\n",
            "15/15 [==============================] - 0s 32ms/step - loss: 8.0213e-05 - accuracy: 1.0000 - val_loss: 3.9851 - val_accuracy: 0.6000\n",
            "Epoch 257/300\n",
            "15/15 [==============================] - 0s 32ms/step - loss: 0.0017 - accuracy: 1.0000 - val_loss: 3.9153 - val_accuracy: 0.6000\n",
            "Epoch 258/300\n",
            "15/15 [==============================] - 0s 30ms/step - loss: 0.1043 - accuracy: 0.9556 - val_loss: 3.5181 - val_accuracy: 0.7333\n",
            "Epoch 259/300\n",
            "15/15 [==============================] - 1s 34ms/step - loss: 0.0299 - accuracy: 0.9778 - val_loss: 3.7236 - val_accuracy: 0.7333\n",
            "Epoch 260/300\n",
            "15/15 [==============================] - 0s 31ms/step - loss: 0.0401 - accuracy: 0.9778 - val_loss: 3.5233 - val_accuracy: 0.7333\n",
            "Epoch 261/300\n",
            "15/15 [==============================] - 0s 31ms/step - loss: 2.6817e-04 - accuracy: 1.0000 - val_loss: 3.7046 - val_accuracy: 0.6667\n",
            "Epoch 262/300\n",
            "15/15 [==============================] - 0s 32ms/step - loss: 0.0119 - accuracy: 1.0000 - val_loss: 3.8083 - val_accuracy: 0.6667\n",
            "Epoch 263/300\n",
            "15/15 [==============================] - 1s 32ms/step - loss: 7.5738e-05 - accuracy: 1.0000 - val_loss: 3.8938 - val_accuracy: 0.6000\n",
            "Epoch 264/300\n",
            "15/15 [==============================] - 0s 31ms/step - loss: 1.3627e-04 - accuracy: 1.0000 - val_loss: 3.9308 - val_accuracy: 0.6000\n",
            "Epoch 265/300\n",
            "15/15 [==============================] - 0s 30ms/step - loss: 1.1222e-04 - accuracy: 1.0000 - val_loss: 3.9327 - val_accuracy: 0.6000\n",
            "Epoch 266/300\n",
            "15/15 [==============================] - 0s 32ms/step - loss: 9.8832e-05 - accuracy: 1.0000 - val_loss: 3.9291 - val_accuracy: 0.6000\n",
            "Epoch 267/300\n",
            "15/15 [==============================] - 0s 32ms/step - loss: 1.4994e-06 - accuracy: 1.0000 - val_loss: 3.9244 - val_accuracy: 0.6000\n",
            "Epoch 268/300\n",
            "15/15 [==============================] - 0s 31ms/step - loss: 1.6586e-05 - accuracy: 1.0000 - val_loss: 3.9226 - val_accuracy: 0.6000\n",
            "Epoch 269/300\n",
            "15/15 [==============================] - 0s 32ms/step - loss: 2.7326e-04 - accuracy: 1.0000 - val_loss: 3.9403 - val_accuracy: 0.6000\n",
            "Epoch 270/300\n",
            "15/15 [==============================] - 1s 33ms/step - loss: 4.3866e-06 - accuracy: 1.0000 - val_loss: 3.9473 - val_accuracy: 0.6000\n",
            "Epoch 271/300\n",
            "15/15 [==============================] - 0s 32ms/step - loss: 8.9827e-04 - accuracy: 1.0000 - val_loss: 3.9715 - val_accuracy: 0.6000\n",
            "Epoch 272/300\n",
            "15/15 [==============================] - 0s 32ms/step - loss: 0.0834 - accuracy: 0.9778 - val_loss: 3.3257 - val_accuracy: 0.7333\n",
            "Epoch 273/300\n",
            "15/15 [==============================] - 0s 32ms/step - loss: 0.0433 - accuracy: 0.9778 - val_loss: 3.6529 - val_accuracy: 0.7333\n",
            "Epoch 274/300\n",
            "15/15 [==============================] - 0s 31ms/step - loss: 0.0154 - accuracy: 1.0000 - val_loss: 4.4554 - val_accuracy: 0.6000\n",
            "Epoch 275/300\n",
            "15/15 [==============================] - 1s 33ms/step - loss: 0.0103 - accuracy: 1.0000 - val_loss: 4.3324 - val_accuracy: 0.7333\n",
            "Epoch 276/300\n",
            "15/15 [==============================] - 0s 32ms/step - loss: 1.6064e-05 - accuracy: 1.0000 - val_loss: 4.2728 - val_accuracy: 0.7333\n",
            "Epoch 277/300\n",
            "15/15 [==============================] - 0s 31ms/step - loss: 0.1019 - accuracy: 0.9556 - val_loss: 4.0079 - val_accuracy: 0.6667\n",
            "Epoch 278/300\n",
            "15/15 [==============================] - 0s 32ms/step - loss: 0.0781 - accuracy: 0.9778 - val_loss: 4.1073 - val_accuracy: 0.6000\n",
            "Epoch 279/300\n",
            "15/15 [==============================] - 0s 31ms/step - loss: 0.3060 - accuracy: 0.9778 - val_loss: 3.7641 - val_accuracy: 0.6000\n",
            "Epoch 280/300\n",
            "15/15 [==============================] - 0s 29ms/step - loss: 0.0069 - accuracy: 1.0000 - val_loss: 3.4412 - val_accuracy: 0.6000\n",
            "Epoch 281/300\n",
            "15/15 [==============================] - 0s 31ms/step - loss: 7.8275e-04 - accuracy: 1.0000 - val_loss: 3.2040 - val_accuracy: 0.6667\n",
            "Epoch 282/300\n",
            "15/15 [==============================] - 0s 29ms/step - loss: 8.0407e-04 - accuracy: 1.0000 - val_loss: 3.1568 - val_accuracy: 0.6667\n",
            "Epoch 283/300\n",
            "15/15 [==============================] - 0s 29ms/step - loss: 5.5268e-04 - accuracy: 1.0000 - val_loss: 3.1459 - val_accuracy: 0.6667\n",
            "Epoch 284/300\n",
            "15/15 [==============================] - 1s 35ms/step - loss: 0.0037 - accuracy: 1.0000 - val_loss: 3.1359 - val_accuracy: 0.7333\n",
            "Epoch 285/300\n",
            "15/15 [==============================] - 0s 31ms/step - loss: 0.0728 - accuracy: 0.9778 - val_loss: 2.9757 - val_accuracy: 0.7333\n",
            "Epoch 286/300\n",
            "15/15 [==============================] - 1s 33ms/step - loss: 0.0409 - accuracy: 0.9778 - val_loss: 2.5904 - val_accuracy: 0.7333\n",
            "Epoch 287/300\n",
            "15/15 [==============================] - 0s 30ms/step - loss: 0.0852 - accuracy: 0.9778 - val_loss: 2.4714 - val_accuracy: 0.7333\n",
            "Epoch 288/300\n",
            "15/15 [==============================] - 0s 30ms/step - loss: 0.0570 - accuracy: 0.9778 - val_loss: 2.7515 - val_accuracy: 0.7333\n",
            "Epoch 289/300\n",
            "15/15 [==============================] - 0s 31ms/step - loss: 2.5670e-04 - accuracy: 1.0000 - val_loss: 2.7913 - val_accuracy: 0.7333\n",
            "Epoch 290/300\n",
            "15/15 [==============================] - 0s 32ms/step - loss: 4.0136e-04 - accuracy: 1.0000 - val_loss: 2.8096 - val_accuracy: 0.7333\n",
            "Epoch 291/300\n",
            "15/15 [==============================] - 0s 32ms/step - loss: 0.0038 - accuracy: 1.0000 - val_loss: 2.8471 - val_accuracy: 0.7333\n",
            "Epoch 292/300\n",
            "15/15 [==============================] - 0s 31ms/step - loss: 2.1164e-04 - accuracy: 1.0000 - val_loss: 2.8896 - val_accuracy: 0.7333\n",
            "Epoch 293/300\n",
            "15/15 [==============================] - 0s 31ms/step - loss: 0.0255 - accuracy: 0.9778 - val_loss: 3.2007 - val_accuracy: 0.6667\n",
            "Epoch 294/300\n",
            "15/15 [==============================] - 0s 31ms/step - loss: 0.0023 - accuracy: 1.0000 - val_loss: 3.4866 - val_accuracy: 0.6667\n",
            "Epoch 295/300\n",
            "15/15 [==============================] - 0s 32ms/step - loss: 0.0014 - accuracy: 1.0000 - val_loss: 3.5450 - val_accuracy: 0.6667\n",
            "Epoch 296/300\n",
            "15/15 [==============================] - 0s 29ms/step - loss: 0.0054 - accuracy: 1.0000 - val_loss: 3.4306 - val_accuracy: 0.6667\n",
            "Epoch 297/300\n",
            "15/15 [==============================] - 0s 31ms/step - loss: 0.0407 - accuracy: 0.9778 - val_loss: 3.2956 - val_accuracy: 0.7333\n",
            "Epoch 298/300\n",
            "15/15 [==============================] - 0s 31ms/step - loss: 4.2666e-04 - accuracy: 1.0000 - val_loss: 3.2516 - val_accuracy: 0.7333\n",
            "Epoch 299/300\n",
            "15/15 [==============================] - 0s 31ms/step - loss: 4.1275e-04 - accuracy: 1.0000 - val_loss: 3.2550 - val_accuracy: 0.7333\n",
            "Epoch 300/300\n",
            "15/15 [==============================] - 0s 32ms/step - loss: 0.0033 - accuracy: 1.0000 - val_loss: 3.2845 - val_accuracy: 0.7333\n"
          ]
        },
        {
          "output_type": "execute_result",
          "data": {
            "text/plain": [
              "<keras.callbacks.History at 0x7fc080405a10>"
            ]
          },
          "metadata": {},
          "execution_count": 14
        }
      ]
    },
    {
      "cell_type": "code",
      "source": [
        "model.evaluate(test_data_generator)"
      ],
      "metadata": {
        "colab": {
          "base_uri": "https://localhost:8080/"
        },
        "id": "b56WGCnGsQFc",
        "outputId": "385eca02-d446-49c8-bc94-a228c51007ea"
      },
      "execution_count": 15,
      "outputs": [
        {
          "output_type": "stream",
          "name": "stdout",
          "text": [
            "5/5 [==============================] - 0s 8ms/step - loss: 3.2845 - accuracy: 0.7333\n"
          ]
        },
        {
          "output_type": "execute_result",
          "data": {
            "text/plain": [
              "[3.2845327854156494, 0.7333333492279053]"
            ]
          },
          "metadata": {},
          "execution_count": 15
        }
      ]
    },
    {
      "cell_type": "code",
      "source": [
        ""
      ],
      "metadata": {
        "id": "k_sumUF_xVwF"
      },
      "execution_count": null,
      "outputs": []
    }
  ]
}