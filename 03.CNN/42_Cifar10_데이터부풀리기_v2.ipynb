{
  "nbformat": 4,
  "nbformat_minor": 0,
  "metadata": {
    "colab": {
      "name": "42_Cifar10_데이터부풀리기_v2.ipynb",
      "provenance": [],
      "collapsed_sections": []
    },
    "kernelspec": {
      "name": "python3",
      "display_name": "Python 3"
    },
    "language_info": {
      "name": "python"
    },
    "accelerator": "GPU"
  },
  "cells": [
    {
      "cell_type": "markdown",
      "source": [
        "# Cifar-10 이미지 분류 - v2\n",
        "- 데이터 부풀리기 적용"
      ],
      "metadata": {
        "id": "8uuNGatf8RlF"
      }
    },
    {
      "cell_type": "code",
      "execution_count": 1,
      "metadata": {
        "id": "SigU6HN98LB7"
      },
      "outputs": [],
      "source": [
        "import numpy as np\n",
        "import matplotlib.pyplot as plt\n",
        "import tensorflow as tf\n",
        "seed = 2022\n",
        "np.random.seed(seed)\n",
        "tf.random.set_seed(seed)"
      ]
    },
    {
      "cell_type": "markdown",
      "source": [
        "- 데이터 전처리"
      ],
      "metadata": {
        "id": "lqfkJqBT8eBM"
      }
    },
    {
      "cell_type": "code",
      "source": [
        "from tensorflow.keras.datasets import cifar10\n",
        "(X_train, y_train), (X_test, y_test) = cifar10.load_data()"
      ],
      "metadata": {
        "colab": {
          "base_uri": "https://localhost:8080/"
        },
        "id": "6dQs9Pfd8bms",
        "outputId": "d2347d9e-9e4f-4a95-d774-07f66babe26a"
      },
      "execution_count": 2,
      "outputs": [
        {
          "output_type": "stream",
          "name": "stdout",
          "text": [
            "Downloading data from https://www.cs.toronto.edu/~kriz/cifar-10-python.tar.gz\n",
            "170500096/170498071 [==============================] - 10s 0us/step\n",
            "170508288/170498071 [==============================] - 10s 0us/step\n"
          ]
        }
      ]
    },
    {
      "cell_type": "code",
      "source": [
        "# X_data: scaling\n",
        "X_train = X_train/255.\n",
        "X_test = X_test/255."
      ],
      "metadata": {
        "id": "lr7Sae2T8huc"
      },
      "execution_count": 3,
      "outputs": []
    },
    {
      "cell_type": "code",
      "source": [
        "# y_data: one hot encoding\n",
        "from tensorflow.keras.utils import to_categorical\n",
        "Y_train = to_categorical(y_train)\n",
        "Y_test = to_categorical(y_test)"
      ],
      "metadata": {
        "id": "GlxeveDU8nk8"
      },
      "execution_count": 4,
      "outputs": []
    },
    {
      "cell_type": "markdown",
      "source": [
        "- 모델 정의/설정"
      ],
      "metadata": {
        "id": "bfgediNZ8rb0"
      }
    },
    {
      "cell_type": "code",
      "source": [
        "from tensorflow.keras.models import Sequential, load_model\n",
        "from tensorflow.keras.layers import Dense, Conv2D, Flatten, MaxPooling2D, Dropout\n",
        "from tensorflow.keras.callbacks import ModelCheckpoint, EarlyStopping\n",
        "from tensorflow.keras.optimizers import RMSprop"
      ],
      "metadata": {
        "id": "UpZISc_S8p8E"
      },
      "execution_count": 5,
      "outputs": []
    },
    {
      "cell_type": "code",
      "source": [
        "model = Sequential([ \n",
        "    Conv2D(32, (3,3), input_shape=X_train.shape[1:], padding='same', activation='relu'),\n",
        "    Conv2D(32, (3,3), activation='relu'),\n",
        "    MaxPooling2D(),\n",
        "    Dropout(0.25),\n",
        "    Conv2D(64, (3,3), padding='same', activation='relu'),\n",
        "    Conv2D(64, (3,3), activation='relu'),\n",
        "    MaxPooling2D(),\n",
        "    Dropout(0.25),\n",
        "    Flatten(),\n",
        "    Dense(512, activation='relu'),\n",
        "    Dropout(0.5),\n",
        "    Dense(10, activation='softmax')\n",
        "])\n",
        "model.summary()"
      ],
      "metadata": {
        "colab": {
          "base_uri": "https://localhost:8080/"
        },
        "id": "0n6KZati80_U",
        "outputId": "13fe24a5-0ebd-4cb1-ee6a-4ccdb7d4a539"
      },
      "execution_count": 6,
      "outputs": [
        {
          "output_type": "stream",
          "name": "stdout",
          "text": [
            "Model: \"sequential\"\n",
            "_________________________________________________________________\n",
            " Layer (type)                Output Shape              Param #   \n",
            "=================================================================\n",
            " conv2d (Conv2D)             (None, 32, 32, 32)        896       \n",
            "                                                                 \n",
            " conv2d_1 (Conv2D)           (None, 30, 30, 32)        9248      \n",
            "                                                                 \n",
            " max_pooling2d (MaxPooling2D  (None, 15, 15, 32)       0         \n",
            " )                                                               \n",
            "                                                                 \n",
            " dropout (Dropout)           (None, 15, 15, 32)        0         \n",
            "                                                                 \n",
            " conv2d_2 (Conv2D)           (None, 15, 15, 64)        18496     \n",
            "                                                                 \n",
            " conv2d_3 (Conv2D)           (None, 13, 13, 64)        36928     \n",
            "                                                                 \n",
            " max_pooling2d_1 (MaxPooling  (None, 6, 6, 64)         0         \n",
            " 2D)                                                             \n",
            "                                                                 \n",
            " dropout_1 (Dropout)         (None, 6, 6, 64)          0         \n",
            "                                                                 \n",
            " flatten (Flatten)           (None, 2304)              0         \n",
            "                                                                 \n",
            " dense (Dense)               (None, 512)               1180160   \n",
            "                                                                 \n",
            " dropout_2 (Dropout)         (None, 512)               0         \n",
            "                                                                 \n",
            " dense_1 (Dense)             (None, 10)                5130      \n",
            "                                                                 \n",
            "=================================================================\n",
            "Total params: 1,250,858\n",
            "Trainable params: 1,250,858\n",
            "Non-trainable params: 0\n",
            "_________________________________________________________________\n"
          ]
        }
      ]
    },
    {
      "cell_type": "code",
      "source": [
        "model.compile(\n",
        "    optimizer=RMSprop(learning_rate=0.0001, decay=1e-6),\n",
        "    loss='categorical_crossentropy', metrics=['accuracy']\n",
        ")"
      ],
      "metadata": {
        "id": "dwO2_HhH85a_"
      },
      "execution_count": 7,
      "outputs": []
    },
    {
      "cell_type": "code",
      "source": [
        "model_path = 'best-cifar10-v2.h5'\n",
        "mc = ModelCheckpoint(model_path, save_best_only=True, verbose=1)\n",
        "es = EarlyStopping(patience=10)"
      ],
      "metadata": {
        "id": "_5w-3IOE897E"
      },
      "execution_count": 8,
      "outputs": []
    },
    {
      "cell_type": "markdown",
      "source": [
        "- 데이터 부풀리기"
      ],
      "metadata": {
        "id": "yCwhpQhj9DWd"
      }
    },
    {
      "cell_type": "code",
      "source": [
        "from sklearn.model_selection import train_test_split\n",
        "X_train, X_valid, Y_train, Y_valid = train_test_split(\n",
        "    X_train, Y_train, stratify=Y_train, test_size=0.2, random_state=seed\n",
        ")"
      ],
      "metadata": {
        "id": "t-kJCJjo9Bd-"
      },
      "execution_count": 9,
      "outputs": []
    },
    {
      "cell_type": "code",
      "source": [
        "from tensorflow.keras.preprocessing.image import ImageDataGenerator\n",
        "\n",
        "datagen = ImageDataGenerator(\n",
        "    rotation_range=10,          # randomly rotate images in the range 15 degree\n",
        "    width_shift_range=0.1,      # randomly shift images horizontally \n",
        "    height_shift_range=0.1,     # randomly shift images vertically\n",
        "    shear_range=0.1,            # 도형의 기울기\n",
        "    zoom_range=[0.8,1.2],       # 0.8~1.2 배 크기로 임의로 확대/축소\n",
        "    horizontal_flip=True,       # randomly flip images\n",
        "    vertical_flip=False,        # randomly flip images\n",
        "    fill_mode='nearest'         # set mode for filling points outside the input boundaries\n",
        ")"
      ],
      "metadata": {
        "id": "Dp7j6PTV9rOE"
      },
      "execution_count": 10,
      "outputs": []
    },
    {
      "cell_type": "code",
      "source": [
        "datagen.fit(X_train)"
      ],
      "metadata": {
        "id": "dewpA34H-bTj"
      },
      "execution_count": 11,
      "outputs": []
    },
    {
      "cell_type": "markdown",
      "source": [
        "- 데이터 부풀리기 한 결과로 학습"
      ],
      "metadata": {
        "id": "hQvbIMq1-o0e"
      }
    },
    {
      "cell_type": "code",
      "source": [
        "hist = model.fit(\n",
        "    datagen.flow(X_train, Y_train, batch_size=32),\n",
        "    validation_data=(X_valid, Y_valid),\n",
        "    epochs=100, callbacks=[mc, es]\n",
        ")"
      ],
      "metadata": {
        "colab": {
          "base_uri": "https://localhost:8080/"
        },
        "id": "fBCE0e0d-mCU",
        "outputId": "2a853905-971e-47de-9d0f-ef5bcfe3305e"
      },
      "execution_count": 12,
      "outputs": [
        {
          "output_type": "stream",
          "name": "stdout",
          "text": [
            "Epoch 1/100\n",
            "1250/1250 [==============================] - ETA: 0s - loss: 1.8946 - accuracy: 0.2984\n",
            "Epoch 1: val_loss improved from inf to 1.70990, saving model to best-cifar10-v2.h5\n",
            "1250/1250 [==============================] - 35s 20ms/step - loss: 1.8946 - accuracy: 0.2984 - val_loss: 1.7099 - val_accuracy: 0.3856\n",
            "Epoch 2/100\n",
            "1249/1250 [============================>.] - ETA: 0s - loss: 1.6424 - accuracy: 0.3985\n",
            "Epoch 2: val_loss improved from 1.70990 to 1.46442, saving model to best-cifar10-v2.h5\n",
            "1250/1250 [==============================] - 25s 20ms/step - loss: 1.6422 - accuracy: 0.3986 - val_loss: 1.4644 - val_accuracy: 0.4650\n",
            "Epoch 3/100\n",
            "1250/1250 [==============================] - ETA: 0s - loss: 1.5438 - accuracy: 0.4392\n",
            "Epoch 3: val_loss improved from 1.46442 to 1.35131, saving model to best-cifar10-v2.h5\n",
            "1250/1250 [==============================] - 24s 19ms/step - loss: 1.5438 - accuracy: 0.4392 - val_loss: 1.3513 - val_accuracy: 0.5148\n",
            "Epoch 4/100\n",
            "1249/1250 [============================>.] - ETA: 0s - loss: 1.4744 - accuracy: 0.4676\n",
            "Epoch 4: val_loss improved from 1.35131 to 1.30357, saving model to best-cifar10-v2.h5\n",
            "1250/1250 [==============================] - 24s 19ms/step - loss: 1.4745 - accuracy: 0.4676 - val_loss: 1.3036 - val_accuracy: 0.5329\n",
            "Epoch 5/100\n",
            "1249/1250 [============================>.] - ETA: 0s - loss: 1.4098 - accuracy: 0.4923\n",
            "Epoch 5: val_loss did not improve from 1.30357\n",
            "1250/1250 [==============================] - 24s 19ms/step - loss: 1.4096 - accuracy: 0.4924 - val_loss: 1.3916 - val_accuracy: 0.5125\n",
            "Epoch 6/100\n",
            "1249/1250 [============================>.] - ETA: 0s - loss: 1.3612 - accuracy: 0.5109\n",
            "Epoch 6: val_loss improved from 1.30357 to 1.24774, saving model to best-cifar10-v2.h5\n",
            "1250/1250 [==============================] - 24s 19ms/step - loss: 1.3609 - accuracy: 0.5111 - val_loss: 1.2477 - val_accuracy: 0.5526\n",
            "Epoch 7/100\n",
            "1248/1250 [============================>.] - ETA: 0s - loss: 1.3173 - accuracy: 0.5294\n",
            "Epoch 7: val_loss improved from 1.24774 to 1.21396, saving model to best-cifar10-v2.h5\n",
            "1250/1250 [==============================] - 26s 21ms/step - loss: 1.3170 - accuracy: 0.5296 - val_loss: 1.2140 - val_accuracy: 0.5742\n",
            "Epoch 8/100\n",
            "1250/1250 [==============================] - ETA: 0s - loss: 1.2769 - accuracy: 0.5466\n",
            "Epoch 8: val_loss improved from 1.21396 to 1.15116, saving model to best-cifar10-v2.h5\n",
            "1250/1250 [==============================] - 33s 26ms/step - loss: 1.2769 - accuracy: 0.5466 - val_loss: 1.1512 - val_accuracy: 0.5879\n",
            "Epoch 9/100\n",
            "1248/1250 [============================>.] - ETA: 0s - loss: 1.2456 - accuracy: 0.5610\n",
            "Epoch 9: val_loss improved from 1.15116 to 1.12747, saving model to best-cifar10-v2.h5\n",
            "1250/1250 [==============================] - 25s 20ms/step - loss: 1.2453 - accuracy: 0.5611 - val_loss: 1.1275 - val_accuracy: 0.5984\n",
            "Epoch 10/100\n",
            "1248/1250 [============================>.] - ETA: 0s - loss: 1.2142 - accuracy: 0.5669\n",
            "Epoch 10: val_loss improved from 1.12747 to 1.09083, saving model to best-cifar10-v2.h5\n",
            "1250/1250 [==============================] - 24s 19ms/step - loss: 1.2145 - accuracy: 0.5669 - val_loss: 1.0908 - val_accuracy: 0.6121\n",
            "Epoch 11/100\n",
            "1250/1250 [==============================] - ETA: 0s - loss: 1.1890 - accuracy: 0.5805\n",
            "Epoch 11: val_loss improved from 1.09083 to 1.02975, saving model to best-cifar10-v2.h5\n",
            "1250/1250 [==============================] - 25s 20ms/step - loss: 1.1890 - accuracy: 0.5805 - val_loss: 1.0298 - val_accuracy: 0.6359\n",
            "Epoch 12/100\n",
            "1249/1250 [============================>.] - ETA: 0s - loss: 1.1557 - accuracy: 0.5957\n",
            "Epoch 12: val_loss improved from 1.02975 to 1.02913, saving model to best-cifar10-v2.h5\n",
            "1250/1250 [==============================] - 24s 19ms/step - loss: 1.1558 - accuracy: 0.5957 - val_loss: 1.0291 - val_accuracy: 0.6387\n",
            "Epoch 13/100\n",
            "1249/1250 [============================>.] - ETA: 0s - loss: 1.1324 - accuracy: 0.5980\n",
            "Epoch 13: val_loss improved from 1.02913 to 0.98800, saving model to best-cifar10-v2.h5\n",
            "1250/1250 [==============================] - 24s 19ms/step - loss: 1.1322 - accuracy: 0.5980 - val_loss: 0.9880 - val_accuracy: 0.6497\n",
            "Epoch 14/100\n",
            "1249/1250 [============================>.] - ETA: 0s - loss: 1.1131 - accuracy: 0.6057\n",
            "Epoch 14: val_loss did not improve from 0.98800\n",
            "1250/1250 [==============================] - 24s 19ms/step - loss: 1.1131 - accuracy: 0.6057 - val_loss: 0.9883 - val_accuracy: 0.6535\n",
            "Epoch 15/100\n",
            "1248/1250 [============================>.] - ETA: 0s - loss: 1.0952 - accuracy: 0.6159\n",
            "Epoch 15: val_loss improved from 0.98800 to 0.95084, saving model to best-cifar10-v2.h5\n",
            "1250/1250 [==============================] - 24s 19ms/step - loss: 1.0948 - accuracy: 0.6158 - val_loss: 0.9508 - val_accuracy: 0.6646\n",
            "Epoch 16/100\n",
            "1250/1250 [==============================] - ETA: 0s - loss: 1.0773 - accuracy: 0.6229\n",
            "Epoch 16: val_loss did not improve from 0.95084\n",
            "1250/1250 [==============================] - 24s 19ms/step - loss: 1.0773 - accuracy: 0.6229 - val_loss: 0.9770 - val_accuracy: 0.6590\n",
            "Epoch 17/100\n",
            "1249/1250 [============================>.] - ETA: 0s - loss: 1.0565 - accuracy: 0.6281\n",
            "Epoch 17: val_loss improved from 0.95084 to 0.94623, saving model to best-cifar10-v2.h5\n",
            "1250/1250 [==============================] - 24s 19ms/step - loss: 1.0565 - accuracy: 0.6281 - val_loss: 0.9462 - val_accuracy: 0.6692\n",
            "Epoch 18/100\n",
            "1248/1250 [============================>.] - ETA: 0s - loss: 1.0406 - accuracy: 0.6353\n",
            "Epoch 18: val_loss improved from 0.94623 to 0.92577, saving model to best-cifar10-v2.h5\n",
            "1250/1250 [==============================] - 24s 19ms/step - loss: 1.0405 - accuracy: 0.6354 - val_loss: 0.9258 - val_accuracy: 0.6745\n",
            "Epoch 19/100\n",
            "1250/1250 [==============================] - ETA: 0s - loss: 1.0316 - accuracy: 0.6374\n",
            "Epoch 19: val_loss improved from 0.92577 to 0.87299, saving model to best-cifar10-v2.h5\n",
            "1250/1250 [==============================] - 24s 19ms/step - loss: 1.0316 - accuracy: 0.6374 - val_loss: 0.8730 - val_accuracy: 0.6932\n",
            "Epoch 20/100\n",
            "1248/1250 [============================>.] - ETA: 0s - loss: 1.0160 - accuracy: 0.6443\n",
            "Epoch 20: val_loss did not improve from 0.87299\n",
            "1250/1250 [==============================] - 24s 19ms/step - loss: 1.0163 - accuracy: 0.6443 - val_loss: 0.9026 - val_accuracy: 0.6858\n",
            "Epoch 21/100\n",
            "1249/1250 [============================>.] - ETA: 0s - loss: 1.0054 - accuracy: 0.6483\n",
            "Epoch 21: val_loss did not improve from 0.87299\n",
            "1250/1250 [==============================] - 24s 19ms/step - loss: 1.0055 - accuracy: 0.6482 - val_loss: 0.8822 - val_accuracy: 0.6937\n",
            "Epoch 22/100\n",
            "1248/1250 [============================>.] - ETA: 0s - loss: 0.9942 - accuracy: 0.6536\n",
            "Epoch 22: val_loss did not improve from 0.87299\n",
            "1250/1250 [==============================] - 24s 19ms/step - loss: 0.9939 - accuracy: 0.6538 - val_loss: 0.8864 - val_accuracy: 0.6958\n",
            "Epoch 23/100\n",
            "1250/1250 [==============================] - ETA: 0s - loss: 0.9816 - accuracy: 0.6576\n",
            "Epoch 23: val_loss improved from 0.87299 to 0.86615, saving model to best-cifar10-v2.h5\n",
            "1250/1250 [==============================] - 24s 19ms/step - loss: 0.9816 - accuracy: 0.6576 - val_loss: 0.8662 - val_accuracy: 0.7052\n",
            "Epoch 24/100\n",
            "1247/1250 [============================>.] - ETA: 0s - loss: 0.9732 - accuracy: 0.6612\n",
            "Epoch 24: val_loss improved from 0.86615 to 0.83437, saving model to best-cifar10-v2.h5\n",
            "1250/1250 [==============================] - 24s 19ms/step - loss: 0.9732 - accuracy: 0.6612 - val_loss: 0.8344 - val_accuracy: 0.7154\n",
            "Epoch 25/100\n",
            "1248/1250 [============================>.] - ETA: 0s - loss: 0.9713 - accuracy: 0.6613\n",
            "Epoch 25: val_loss did not improve from 0.83437\n",
            "1250/1250 [==============================] - 24s 19ms/step - loss: 0.9712 - accuracy: 0.6614 - val_loss: 0.8776 - val_accuracy: 0.6986\n",
            "Epoch 26/100\n",
            "1248/1250 [============================>.] - ETA: 0s - loss: 0.9636 - accuracy: 0.6656\n",
            "Epoch 26: val_loss improved from 0.83437 to 0.80545, saving model to best-cifar10-v2.h5\n",
            "1250/1250 [==============================] - 24s 19ms/step - loss: 0.9635 - accuracy: 0.6656 - val_loss: 0.8055 - val_accuracy: 0.7192\n",
            "Epoch 27/100\n",
            "1249/1250 [============================>.] - ETA: 0s - loss: 0.9524 - accuracy: 0.6678\n",
            "Epoch 27: val_loss did not improve from 0.80545\n",
            "1250/1250 [==============================] - 24s 19ms/step - loss: 0.9522 - accuracy: 0.6679 - val_loss: 0.8112 - val_accuracy: 0.7180\n",
            "Epoch 28/100\n",
            "1249/1250 [============================>.] - ETA: 0s - loss: 0.9474 - accuracy: 0.6709\n",
            "Epoch 28: val_loss did not improve from 0.80545\n",
            "1250/1250 [==============================] - 24s 19ms/step - loss: 0.9473 - accuracy: 0.6709 - val_loss: 0.9142 - val_accuracy: 0.6878\n",
            "Epoch 29/100\n",
            "1248/1250 [============================>.] - ETA: 0s - loss: 0.9352 - accuracy: 0.6749\n",
            "Epoch 29: val_loss did not improve from 0.80545\n",
            "1250/1250 [==============================] - 24s 19ms/step - loss: 0.9349 - accuracy: 0.6749 - val_loss: 0.8605 - val_accuracy: 0.7109\n",
            "Epoch 30/100\n",
            "1249/1250 [============================>.] - ETA: 0s - loss: 0.9363 - accuracy: 0.6756\n",
            "Epoch 30: val_loss improved from 0.80545 to 0.77658, saving model to best-cifar10-v2.h5\n",
            "1250/1250 [==============================] - 24s 19ms/step - loss: 0.9363 - accuracy: 0.6757 - val_loss: 0.7766 - val_accuracy: 0.7323\n",
            "Epoch 31/100\n",
            "1250/1250 [==============================] - ETA: 0s - loss: 0.9235 - accuracy: 0.6783\n",
            "Epoch 31: val_loss did not improve from 0.77658\n",
            "1250/1250 [==============================] - 24s 19ms/step - loss: 0.9235 - accuracy: 0.6783 - val_loss: 0.7981 - val_accuracy: 0.7314\n",
            "Epoch 32/100\n",
            "1250/1250 [==============================] - ETA: 0s - loss: 0.9218 - accuracy: 0.6805\n",
            "Epoch 32: val_loss did not improve from 0.77658\n",
            "1250/1250 [==============================] - 24s 19ms/step - loss: 0.9218 - accuracy: 0.6805 - val_loss: 0.7887 - val_accuracy: 0.7377\n",
            "Epoch 33/100\n",
            "1250/1250 [==============================] - ETA: 0s - loss: 0.9183 - accuracy: 0.6832\n",
            "Epoch 33: val_loss improved from 0.77658 to 0.77352, saving model to best-cifar10-v2.h5\n",
            "1250/1250 [==============================] - 24s 19ms/step - loss: 0.9183 - accuracy: 0.6832 - val_loss: 0.7735 - val_accuracy: 0.7370\n",
            "Epoch 34/100\n",
            "1249/1250 [============================>.] - ETA: 0s - loss: 0.9143 - accuracy: 0.6846\n",
            "Epoch 34: val_loss did not improve from 0.77352\n",
            "1250/1250 [==============================] - 24s 19ms/step - loss: 0.9142 - accuracy: 0.6847 - val_loss: 0.8412 - val_accuracy: 0.7211\n",
            "Epoch 35/100\n",
            "1250/1250 [==============================] - ETA: 0s - loss: 0.9131 - accuracy: 0.6840\n",
            "Epoch 35: val_loss did not improve from 0.77352\n",
            "1250/1250 [==============================] - 24s 19ms/step - loss: 0.9131 - accuracy: 0.6840 - val_loss: 0.8213 - val_accuracy: 0.7274\n",
            "Epoch 36/100\n",
            "1249/1250 [============================>.] - ETA: 0s - loss: 0.9019 - accuracy: 0.6895\n",
            "Epoch 36: val_loss did not improve from 0.77352\n",
            "1250/1250 [==============================] - 24s 19ms/step - loss: 0.9022 - accuracy: 0.6895 - val_loss: 0.7850 - val_accuracy: 0.7347\n",
            "Epoch 37/100\n",
            "1250/1250 [==============================] - ETA: 0s - loss: 0.9035 - accuracy: 0.6869\n",
            "Epoch 37: val_loss improved from 0.77352 to 0.74615, saving model to best-cifar10-v2.h5\n",
            "1250/1250 [==============================] - 24s 19ms/step - loss: 0.9035 - accuracy: 0.6869 - val_loss: 0.7462 - val_accuracy: 0.7445\n",
            "Epoch 38/100\n",
            "1249/1250 [============================>.] - ETA: 0s - loss: 0.9007 - accuracy: 0.6899\n",
            "Epoch 38: val_loss did not improve from 0.74615\n",
            "1250/1250 [==============================] - 24s 19ms/step - loss: 0.9006 - accuracy: 0.6899 - val_loss: 0.7909 - val_accuracy: 0.7367\n",
            "Epoch 39/100\n",
            "1248/1250 [============================>.] - ETA: 0s - loss: 0.9020 - accuracy: 0.6915\n",
            "Epoch 39: val_loss did not improve from 0.74615\n",
            "1250/1250 [==============================] - 24s 19ms/step - loss: 0.9018 - accuracy: 0.6916 - val_loss: 0.7708 - val_accuracy: 0.7424\n",
            "Epoch 40/100\n",
            "1248/1250 [============================>.] - ETA: 0s - loss: 0.8901 - accuracy: 0.6939\n",
            "Epoch 40: val_loss did not improve from 0.74615\n",
            "1250/1250 [==============================] - 24s 19ms/step - loss: 0.8899 - accuracy: 0.6939 - val_loss: 0.8284 - val_accuracy: 0.7234\n",
            "Epoch 41/100\n",
            "1250/1250 [==============================] - ETA: 0s - loss: 0.8921 - accuracy: 0.6935\n",
            "Epoch 41: val_loss did not improve from 0.74615\n",
            "1250/1250 [==============================] - 24s 19ms/step - loss: 0.8921 - accuracy: 0.6935 - val_loss: 0.8235 - val_accuracy: 0.7213\n",
            "Epoch 42/100\n",
            "1249/1250 [============================>.] - ETA: 0s - loss: 0.8830 - accuracy: 0.6951\n",
            "Epoch 42: val_loss did not improve from 0.74615\n",
            "1250/1250 [==============================] - 24s 19ms/step - loss: 0.8831 - accuracy: 0.6951 - val_loss: 0.7640 - val_accuracy: 0.7404\n",
            "Epoch 43/100\n",
            "1250/1250 [==============================] - ETA: 0s - loss: 0.8849 - accuracy: 0.6961\n",
            "Epoch 43: val_loss did not improve from 0.74615\n",
            "1250/1250 [==============================] - 24s 19ms/step - loss: 0.8849 - accuracy: 0.6961 - val_loss: 0.8267 - val_accuracy: 0.7253\n",
            "Epoch 44/100\n",
            "1249/1250 [============================>.] - ETA: 0s - loss: 0.8767 - accuracy: 0.6995\n",
            "Epoch 44: val_loss did not improve from 0.74615\n",
            "1250/1250 [==============================] - 25s 20ms/step - loss: 0.8766 - accuracy: 0.6995 - val_loss: 0.8173 - val_accuracy: 0.7312\n",
            "Epoch 45/100\n",
            "1249/1250 [============================>.] - ETA: 0s - loss: 0.8786 - accuracy: 0.6973\n",
            "Epoch 45: val_loss did not improve from 0.74615\n",
            "1250/1250 [==============================] - 24s 19ms/step - loss: 0.8783 - accuracy: 0.6974 - val_loss: 0.8030 - val_accuracy: 0.7292\n",
            "Epoch 46/100\n",
            "1247/1250 [============================>.] - ETA: 0s - loss: 0.8785 - accuracy: 0.6990\n",
            "Epoch 46: val_loss did not improve from 0.74615\n",
            "1250/1250 [==============================] - 24s 19ms/step - loss: 0.8783 - accuracy: 0.6990 - val_loss: 0.8235 - val_accuracy: 0.7288\n",
            "Epoch 47/100\n",
            "1250/1250 [==============================] - ETA: 0s - loss: 0.8721 - accuracy: 0.6999\n",
            "Epoch 47: val_loss did not improve from 0.74615\n",
            "1250/1250 [==============================] - 24s 19ms/step - loss: 0.8721 - accuracy: 0.6999 - val_loss: 0.7773 - val_accuracy: 0.7413\n"
          ]
        }
      ]
    },
    {
      "cell_type": "code",
      "source": [
        "best_model = load_model(model_path)\n",
        "best_model.evaluate(X_test, Y_test)"
      ],
      "metadata": {
        "colab": {
          "base_uri": "https://localhost:8080/"
        },
        "id": "KRyf0vPT_FJE",
        "outputId": "131cc4fa-0db4-441d-e342-62f3c8f576e4"
      },
      "execution_count": 13,
      "outputs": [
        {
          "output_type": "stream",
          "name": "stdout",
          "text": [
            "313/313 [==============================] - 1s 4ms/step - loss: 0.7629 - accuracy: 0.7377\n"
          ]
        },
        {
          "output_type": "execute_result",
          "data": {
            "text/plain": [
              "[0.7628846764564514, 0.7376999855041504]"
            ]
          },
          "metadata": {},
          "execution_count": 13
        }
      ]
    },
    {
      "cell_type": "markdown",
      "source": [
        "- 학습과정 시각화"
      ],
      "metadata": {
        "id": "49RZfPt7AEKP"
      }
    },
    {
      "cell_type": "code",
      "source": [
        "y_acc = hist.history['accuracy']\n",
        "y_vloss = hist.history['val_loss']\n",
        "xs = np.arange(1, len(y_acc)+1)"
      ],
      "metadata": {
        "id": "TTN3--nt_8qN"
      },
      "execution_count": 14,
      "outputs": []
    },
    {
      "cell_type": "code",
      "source": [
        "plt.figure(figsize=(12,8))\n",
        "plt.plot(xs, y_acc, label='train accuracy')\n",
        "plt.plot(xs, y_vloss, label='validation loss')\n",
        "plt.legend(), plt.grid(), plt.ylim(0,1.2),\n",
        "plt.xlabel('Epoch')\n",
        "plt.title('Cifar-10 CNN model v2')\n",
        "plt.show()"
      ],
      "metadata": {
        "colab": {
          "base_uri": "https://localhost:8080/",
          "height": 513
        },
        "id": "2iRoAF6FAAn-",
        "outputId": "a19c0e46-cba9-4fa3-9d5d-cd4e0f4bd7f8"
      },
      "execution_count": 15,
      "outputs": [
        {
          "output_type": "display_data",
          "data": {
            "text/plain": [
              "<Figure size 864x576 with 1 Axes>"
            ],
            "image/png": "[encoded data removed]"
          },
          "metadata": {
            "needs_background": "light"
          }
        }
      ]
    }
  ]
}