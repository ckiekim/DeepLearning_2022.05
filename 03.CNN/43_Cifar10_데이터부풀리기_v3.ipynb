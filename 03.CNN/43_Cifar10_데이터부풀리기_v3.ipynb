{
  "nbformat": 4,
  "nbformat_minor": 0,
  "metadata": {
    "colab": {
      "name": "43_Cifar10_데이터부풀리기_v3.ipynb",
      "provenance": [],
      "collapsed_sections": []
    },
    "kernelspec": {
      "name": "python3",
      "display_name": "Python 3"
    },
    "language_info": {
      "name": "python"
    },
    "accelerator": "GPU"
  },
  "cells": [
    {
      "cell_type": "markdown",
      "source": [
        "# Cifar-10 이미지 분류 - v3\n",
        "- 데이터 부풀리기 적용\n",
        "- 파라메터 변경"
      ],
      "metadata": {
        "id": "8uuNGatf8RlF"
      }
    },
    {
      "cell_type": "code",
      "execution_count": 1,
      "metadata": {
        "id": "SigU6HN98LB7"
      },
      "outputs": [],
      "source": [
        "import numpy as np\n",
        "import matplotlib.pyplot as plt\n",
        "import tensorflow as tf\n",
        "seed = 2022\n",
        "np.random.seed(seed)\n",
        "tf.random.set_seed(seed)"
      ]
    },
    {
      "cell_type": "markdown",
      "source": [
        "- 데이터 전처리"
      ],
      "metadata": {
        "id": "lqfkJqBT8eBM"
      }
    },
    {
      "cell_type": "code",
      "source": [
        "from tensorflow.keras.datasets import cifar10\n",
        "(X_train, y_train), (X_test, y_test) = cifar10.load_data()"
      ],
      "metadata": {
        "colab": {
          "base_uri": "https://localhost:8080/"
        },
        "id": "6dQs9Pfd8bms",
        "outputId": "7f5962ef-4031-4083-cca8-6ae575f4c18f"
      },
      "execution_count": 2,
      "outputs": [
        {
          "output_type": "stream",
          "name": "stdout",
          "text": [
            "Downloading data from https://www.cs.toronto.edu/~kriz/cifar-10-python.tar.gz\n",
            "170500096/170498071 [==============================] - 4s 0us/step\n",
            "170508288/170498071 [==============================] - 4s 0us/step\n"
          ]
        }
      ]
    },
    {
      "cell_type": "code",
      "source": [
        "# X_data: scaling\n",
        "X_train = X_train/255.\n",
        "X_test = X_test/255."
      ],
      "metadata": {
        "id": "lr7Sae2T8huc"
      },
      "execution_count": 3,
      "outputs": []
    },
    {
      "cell_type": "code",
      "source": [
        "# y_data: one hot encoding\n",
        "from tensorflow.keras.utils import to_categorical\n",
        "Y_train = to_categorical(y_train)\n",
        "Y_test = to_categorical(y_test)"
      ],
      "metadata": {
        "id": "GlxeveDU8nk8"
      },
      "execution_count": 4,
      "outputs": []
    },
    {
      "cell_type": "markdown",
      "source": [
        "- 모델 정의/설정"
      ],
      "metadata": {
        "id": "bfgediNZ8rb0"
      }
    },
    {
      "cell_type": "code",
      "source": [
        "from tensorflow.keras.models import Sequential, load_model\n",
        "from tensorflow.keras.layers import Dense, Conv2D, Flatten, MaxPooling2D, Dropout\n",
        "from tensorflow.keras.callbacks import ModelCheckpoint, EarlyStopping\n",
        "from tensorflow.keras.optimizers import RMSprop"
      ],
      "metadata": {
        "id": "UpZISc_S8p8E"
      },
      "execution_count": 5,
      "outputs": []
    },
    {
      "cell_type": "code",
      "source": [
        "model = Sequential([ \n",
        "    Conv2D(32, (3,3), input_shape=X_train.shape[1:], padding='same', activation='relu'),\n",
        "    Conv2D(32, (3,3), activation='relu'),\n",
        "    MaxPooling2D(),\n",
        "    Dropout(0.25),\n",
        "    Conv2D(64, (3,3), padding='same', activation='relu'),\n",
        "    Conv2D(64, (3,3), activation='relu'),\n",
        "    MaxPooling2D(),\n",
        "    Dropout(0.25),\n",
        "    Flatten(),\n",
        "    Dense(512, activation='relu'),\n",
        "    Dropout(0.5),\n",
        "    Dense(10, activation='softmax')\n",
        "])\n",
        "model.summary()"
      ],
      "metadata": {
        "colab": {
          "base_uri": "https://localhost:8080/"
        },
        "id": "0n6KZati80_U",
        "outputId": "7ba8f536-cfa3-4b75-9f05-c24bc49b115a"
      },
      "execution_count": 6,
      "outputs": [
        {
          "output_type": "stream",
          "name": "stdout",
          "text": [
            "Model: \"sequential\"\n",
            "_________________________________________________________________\n",
            " Layer (type)                Output Shape              Param #   \n",
            "=================================================================\n",
            " conv2d (Conv2D)             (None, 32, 32, 32)        896       \n",
            "                                                                 \n",
            " conv2d_1 (Conv2D)           (None, 30, 30, 32)        9248      \n",
            "                                                                 \n",
            " max_pooling2d (MaxPooling2D  (None, 15, 15, 32)       0         \n",
            " )                                                               \n",
            "                                                                 \n",
            " dropout (Dropout)           (None, 15, 15, 32)        0         \n",
            "                                                                 \n",
            " conv2d_2 (Conv2D)           (None, 15, 15, 64)        18496     \n",
            "                                                                 \n",
            " conv2d_3 (Conv2D)           (None, 13, 13, 64)        36928     \n",
            "                                                                 \n",
            " max_pooling2d_1 (MaxPooling  (None, 6, 6, 64)         0         \n",
            " 2D)                                                             \n",
            "                                                                 \n",
            " dropout_1 (Dropout)         (None, 6, 6, 64)          0         \n",
            "                                                                 \n",
            " flatten (Flatten)           (None, 2304)              0         \n",
            "                                                                 \n",
            " dense (Dense)               (None, 512)               1180160   \n",
            "                                                                 \n",
            " dropout_2 (Dropout)         (None, 512)               0         \n",
            "                                                                 \n",
            " dense_1 (Dense)             (None, 10)                5130      \n",
            "                                                                 \n",
            "=================================================================\n",
            "Total params: 1,250,858\n",
            "Trainable params: 1,250,858\n",
            "Non-trainable params: 0\n",
            "_________________________________________________________________\n"
          ]
        }
      ]
    },
    {
      "cell_type": "code",
      "source": [
        "model.compile(\n",
        "    optimizer=RMSprop(learning_rate=0.0001, decay=1e-6),\n",
        "    loss='categorical_crossentropy', metrics=['accuracy']\n",
        ")"
      ],
      "metadata": {
        "id": "dwO2_HhH85a_"
      },
      "execution_count": 7,
      "outputs": []
    },
    {
      "cell_type": "code",
      "source": [
        "model_path = 'best-cifar10-v2.h5'\n",
        "mc = ModelCheckpoint(model_path, save_best_only=True, verbose=1)\n",
        "es = EarlyStopping(patience=10)"
      ],
      "metadata": {
        "id": "_5w-3IOE897E"
      },
      "execution_count": 8,
      "outputs": []
    },
    {
      "cell_type": "markdown",
      "source": [
        "- 데이터 부풀리기"
      ],
      "metadata": {
        "id": "yCwhpQhj9DWd"
      }
    },
    {
      "cell_type": "code",
      "source": [
        "from sklearn.model_selection import train_test_split\n",
        "X_train, X_valid, Y_train, Y_valid = train_test_split(\n",
        "    X_train, Y_train, stratify=Y_train, test_size=0.2, random_state=seed\n",
        ")"
      ],
      "metadata": {
        "id": "t-kJCJjo9Bd-"
      },
      "execution_count": 9,
      "outputs": []
    },
    {
      "cell_type": "code",
      "source": [
        "from tensorflow.keras.preprocessing.image import ImageDataGenerator\n",
        "\n",
        "datagen = ImageDataGenerator(\n",
        "    featurewise_center=False,   # set input mean to 0 over the dataset\n",
        "    samplewise_center=False,    # set each sample mean to 0\n",
        "    featurewise_std_normalization=False,    # divide inputs by std of dataset\n",
        "    samplewise_std_normalization=False,     # divide each input by its std\n",
        "    zca_whitening=False,    # apply ZCA whitening\n",
        "    zca_epsilon=1e-06,      # epsilon for ZCA whitening\n",
        "    rotation_range=0,       # randomly rotate images in the range (deg 0 to 180)\n",
        "    width_shift_range=0.1,  # randomly shift images horizontally\n",
        "    height_shift_range=0.1, # randomly shift images vertically\n",
        "    shear_range=0.,         # set range for random shear\n",
        "    zoom_range=0.1,         # set range for random zoom\n",
        "    channel_shift_range=0., # set range for random channel shifts\n",
        "    fill_mode='nearest',    # set mode for filling points outside the input boundaries\n",
        "    cval=0.,                # value used for fill_mode = \"constant\"\n",
        "    horizontal_flip=True,   # randomly flip images\n",
        "    vertical_flip=False,    # randomly flip images\n",
        "    rescale=None,           # set rescaling factor (applied before any other transformation)\n",
        "    preprocessing_function=None,    # set function that will be applied on each input\n",
        "    data_format=None,       # image data format, either \"channels_first\" or \"channels_last\"\n",
        "    validation_split=0.0    # fraction of images reserved for validation\n",
        ")"
      ],
      "metadata": {
        "id": "Dp7j6PTV9rOE"
      },
      "execution_count": 10,
      "outputs": []
    },
    {
      "cell_type": "code",
      "source": [
        "datagen.fit(X_train)"
      ],
      "metadata": {
        "id": "dewpA34H-bTj"
      },
      "execution_count": 11,
      "outputs": []
    },
    {
      "cell_type": "markdown",
      "source": [
        "- 데이터 부풀리기 한 결과로 학습"
      ],
      "metadata": {
        "id": "hQvbIMq1-o0e"
      }
    },
    {
      "cell_type": "code",
      "source": [
        "hist = model.fit(\n",
        "    datagen.flow(X_train, Y_train, batch_size=32),\n",
        "    validation_data=(X_valid, Y_valid),\n",
        "    epochs=100, callbacks=[mc, es]\n",
        ")"
      ],
      "metadata": {
        "colab": {
          "base_uri": "https://localhost:8080/"
        },
        "id": "fBCE0e0d-mCU",
        "outputId": "aa579fd4-a05a-4a5d-98d8-816536ee0e9b"
      },
      "execution_count": 12,
      "outputs": [
        {
          "output_type": "stream",
          "name": "stdout",
          "text": [
            "Epoch 1/100\n",
            "1250/1250 [==============================] - ETA: 0s - loss: 1.8871 - accuracy: 0.3015\n",
            "Epoch 1: val_loss improved from inf to 1.63602, saving model to best-cifar10-v2.h5\n",
            "1250/1250 [==============================] - 35s 19ms/step - loss: 1.8871 - accuracy: 0.3015 - val_loss: 1.6360 - val_accuracy: 0.4028\n",
            "Epoch 2/100\n",
            "1249/1250 [============================>.] - ETA: 0s - loss: 1.6105 - accuracy: 0.4083\n",
            "Epoch 2: val_loss improved from 1.63602 to 1.58024, saving model to best-cifar10-v2.h5\n",
            "1250/1250 [==============================] - 24s 19ms/step - loss: 1.6101 - accuracy: 0.4085 - val_loss: 1.5802 - val_accuracy: 0.4349\n",
            "Epoch 3/100\n",
            "1250/1250 [==============================] - ETA: 0s - loss: 1.4996 - accuracy: 0.4518\n",
            "Epoch 3: val_loss improved from 1.58024 to 1.43643, saving model to best-cifar10-v2.h5\n",
            "1250/1250 [==============================] - 23s 18ms/step - loss: 1.4996 - accuracy: 0.4518 - val_loss: 1.4364 - val_accuracy: 0.4920\n",
            "Epoch 4/100\n",
            "1248/1250 [============================>.] - ETA: 0s - loss: 1.4231 - accuracy: 0.4845\n",
            "Epoch 4: val_loss improved from 1.43643 to 1.28714, saving model to best-cifar10-v2.h5\n",
            "1250/1250 [==============================] - 23s 19ms/step - loss: 1.4228 - accuracy: 0.4847 - val_loss: 1.2871 - val_accuracy: 0.5402\n",
            "Epoch 5/100\n",
            "1248/1250 [============================>.] - ETA: 0s - loss: 1.3569 - accuracy: 0.5143\n",
            "Epoch 5: val_loss improved from 1.28714 to 1.26687, saving model to best-cifar10-v2.h5\n",
            "1250/1250 [==============================] - 23s 18ms/step - loss: 1.3569 - accuracy: 0.5143 - val_loss: 1.2669 - val_accuracy: 0.5507\n",
            "Epoch 6/100\n",
            "1248/1250 [============================>.] - ETA: 0s - loss: 1.2986 - accuracy: 0.5376\n",
            "Epoch 6: val_loss improved from 1.26687 to 1.15869, saving model to best-cifar10-v2.h5\n",
            "1250/1250 [==============================] - 23s 18ms/step - loss: 1.2986 - accuracy: 0.5375 - val_loss: 1.1587 - val_accuracy: 0.5836\n",
            "Epoch 7/100\n",
            "1248/1250 [============================>.] - ETA: 0s - loss: 1.2567 - accuracy: 0.5554\n",
            "Epoch 7: val_loss did not improve from 1.15869\n",
            "1250/1250 [==============================] - 23s 18ms/step - loss: 1.2565 - accuracy: 0.5556 - val_loss: 1.2487 - val_accuracy: 0.5612\n",
            "Epoch 8/100\n",
            "1249/1250 [============================>.] - ETA: 0s - loss: 1.2139 - accuracy: 0.5685\n",
            "Epoch 8: val_loss did not improve from 1.15869\n",
            "1250/1250 [==============================] - 23s 18ms/step - loss: 1.2137 - accuracy: 0.5686 - val_loss: 1.1864 - val_accuracy: 0.5780\n",
            "Epoch 9/100\n",
            "1247/1250 [============================>.] - ETA: 0s - loss: 1.1810 - accuracy: 0.5829\n",
            "Epoch 9: val_loss improved from 1.15869 to 1.04291, saving model to best-cifar10-v2.h5\n",
            "1250/1250 [==============================] - 23s 18ms/step - loss: 1.1807 - accuracy: 0.5829 - val_loss: 1.0429 - val_accuracy: 0.6272\n",
            "Epoch 10/100\n",
            "1249/1250 [============================>.] - ETA: 0s - loss: 1.1502 - accuracy: 0.5938\n",
            "Epoch 10: val_loss improved from 1.04291 to 1.01125, saving model to best-cifar10-v2.h5\n",
            "1250/1250 [==============================] - 23s 18ms/step - loss: 1.1501 - accuracy: 0.5938 - val_loss: 1.0113 - val_accuracy: 0.6427\n",
            "Epoch 11/100\n",
            "1248/1250 [============================>.] - ETA: 0s - loss: 1.1240 - accuracy: 0.5996\n",
            "Epoch 11: val_loss did not improve from 1.01125\n",
            "1250/1250 [==============================] - 23s 18ms/step - loss: 1.1242 - accuracy: 0.5996 - val_loss: 1.0218 - val_accuracy: 0.6421\n",
            "Epoch 12/100\n",
            "1250/1250 [==============================] - ETA: 0s - loss: 1.0934 - accuracy: 0.6147\n",
            "Epoch 12: val_loss improved from 1.01125 to 0.98468, saving model to best-cifar10-v2.h5\n",
            "1250/1250 [==============================] - 23s 18ms/step - loss: 1.0934 - accuracy: 0.6147 - val_loss: 0.9847 - val_accuracy: 0.6466\n",
            "Epoch 13/100\n",
            "1247/1250 [============================>.] - ETA: 0s - loss: 1.0713 - accuracy: 0.6228\n",
            "Epoch 13: val_loss improved from 0.98468 to 0.94316, saving model to best-cifar10-v2.h5\n",
            "1250/1250 [==============================] - 23s 18ms/step - loss: 1.0713 - accuracy: 0.6228 - val_loss: 0.9432 - val_accuracy: 0.6687\n",
            "Epoch 14/100\n",
            "1250/1250 [==============================] - ETA: 0s - loss: 1.0552 - accuracy: 0.6276\n",
            "Epoch 14: val_loss improved from 0.94316 to 0.90496, saving model to best-cifar10-v2.h5\n",
            "1250/1250 [==============================] - 23s 18ms/step - loss: 1.0552 - accuracy: 0.6276 - val_loss: 0.9050 - val_accuracy: 0.6812\n",
            "Epoch 15/100\n",
            "1250/1250 [==============================] - ETA: 0s - loss: 1.0334 - accuracy: 0.6373\n",
            "Epoch 15: val_loss did not improve from 0.90496\n",
            "1250/1250 [==============================] - 23s 18ms/step - loss: 1.0334 - accuracy: 0.6373 - val_loss: 0.9535 - val_accuracy: 0.6614\n",
            "Epoch 16/100\n",
            "1248/1250 [============================>.] - ETA: 0s - loss: 1.0187 - accuracy: 0.6431\n",
            "Epoch 16: val_loss did not improve from 0.90496\n",
            "1250/1250 [==============================] - 23s 18ms/step - loss: 1.0185 - accuracy: 0.6431 - val_loss: 0.9297 - val_accuracy: 0.6735\n",
            "Epoch 17/100\n",
            "1249/1250 [============================>.] - ETA: 0s - loss: 1.0058 - accuracy: 0.6467\n",
            "Epoch 17: val_loss did not improve from 0.90496\n",
            "1250/1250 [==============================] - 23s 18ms/step - loss: 1.0056 - accuracy: 0.6468 - val_loss: 0.9208 - val_accuracy: 0.6816\n",
            "Epoch 18/100\n",
            "1250/1250 [==============================] - ETA: 0s - loss: 0.9861 - accuracy: 0.6532\n",
            "Epoch 18: val_loss improved from 0.90496 to 0.89686, saving model to best-cifar10-v2.h5\n",
            "1250/1250 [==============================] - 23s 18ms/step - loss: 0.9861 - accuracy: 0.6532 - val_loss: 0.8969 - val_accuracy: 0.6841\n",
            "Epoch 19/100\n",
            "1249/1250 [============================>.] - ETA: 0s - loss: 0.9726 - accuracy: 0.6610\n",
            "Epoch 19: val_loss improved from 0.89686 to 0.88389, saving model to best-cifar10-v2.h5\n",
            "1250/1250 [==============================] - 23s 18ms/step - loss: 0.9725 - accuracy: 0.6609 - val_loss: 0.8839 - val_accuracy: 0.6906\n",
            "Epoch 20/100\n",
            "1248/1250 [============================>.] - ETA: 0s - loss: 0.9594 - accuracy: 0.6644\n",
            "Epoch 20: val_loss improved from 0.88389 to 0.85284, saving model to best-cifar10-v2.h5\n",
            "1250/1250 [==============================] - 23s 18ms/step - loss: 0.9594 - accuracy: 0.6643 - val_loss: 0.8528 - val_accuracy: 0.7014\n",
            "Epoch 21/100\n",
            "1248/1250 [============================>.] - ETA: 0s - loss: 0.9443 - accuracy: 0.6710\n",
            "Epoch 21: val_loss did not improve from 0.85284\n",
            "1250/1250 [==============================] - 23s 18ms/step - loss: 0.9442 - accuracy: 0.6711 - val_loss: 0.8614 - val_accuracy: 0.7018\n",
            "Epoch 22/100\n",
            "1250/1250 [==============================] - ETA: 0s - loss: 0.9410 - accuracy: 0.6733\n",
            "Epoch 22: val_loss improved from 0.85284 to 0.81925, saving model to best-cifar10-v2.h5\n",
            "1250/1250 [==============================] - 23s 18ms/step - loss: 0.9410 - accuracy: 0.6733 - val_loss: 0.8193 - val_accuracy: 0.7176\n",
            "Epoch 23/100\n",
            "1247/1250 [============================>.] - ETA: 0s - loss: 0.9282 - accuracy: 0.6784\n",
            "Epoch 23: val_loss did not improve from 0.81925\n",
            "1250/1250 [==============================] - 23s 19ms/step - loss: 0.9284 - accuracy: 0.6783 - val_loss: 0.8442 - val_accuracy: 0.7099\n",
            "Epoch 24/100\n",
            "1248/1250 [============================>.] - ETA: 0s - loss: 0.9246 - accuracy: 0.6759\n",
            "Epoch 24: val_loss did not improve from 0.81925\n",
            "1250/1250 [==============================] - 23s 18ms/step - loss: 0.9241 - accuracy: 0.6762 - val_loss: 0.8455 - val_accuracy: 0.7033\n",
            "Epoch 25/100\n",
            "1249/1250 [============================>.] - ETA: 0s - loss: 0.9048 - accuracy: 0.6852\n",
            "Epoch 25: val_loss did not improve from 0.81925\n",
            "1250/1250 [==============================] - 23s 18ms/step - loss: 0.9049 - accuracy: 0.6852 - val_loss: 0.8674 - val_accuracy: 0.7096\n",
            "Epoch 26/100\n",
            "1250/1250 [==============================] - ETA: 0s - loss: 0.9023 - accuracy: 0.6858\n",
            "Epoch 26: val_loss did not improve from 0.81925\n",
            "1250/1250 [==============================] - 23s 18ms/step - loss: 0.9023 - accuracy: 0.6858 - val_loss: 0.8288 - val_accuracy: 0.7170\n",
            "Epoch 27/100\n",
            "1249/1250 [============================>.] - ETA: 0s - loss: 0.9027 - accuracy: 0.6869\n",
            "Epoch 27: val_loss did not improve from 0.81925\n",
            "1250/1250 [==============================] - 23s 18ms/step - loss: 0.9024 - accuracy: 0.6870 - val_loss: 0.8610 - val_accuracy: 0.7057\n",
            "Epoch 28/100\n",
            "1247/1250 [============================>.] - ETA: 0s - loss: 0.8915 - accuracy: 0.6937\n",
            "Epoch 28: val_loss improved from 0.81925 to 0.77718, saving model to best-cifar10-v2.h5\n",
            "1250/1250 [==============================] - 23s 18ms/step - loss: 0.8918 - accuracy: 0.6935 - val_loss: 0.7772 - val_accuracy: 0.7290\n",
            "Epoch 29/100\n",
            "1248/1250 [============================>.] - ETA: 0s - loss: 0.8865 - accuracy: 0.6931\n",
            "Epoch 29: val_loss improved from 0.77718 to 0.76825, saving model to best-cifar10-v2.h5\n",
            "1250/1250 [==============================] - 23s 18ms/step - loss: 0.8866 - accuracy: 0.6930 - val_loss: 0.7683 - val_accuracy: 0.7385\n",
            "Epoch 30/100\n",
            "1248/1250 [============================>.] - ETA: 0s - loss: 0.8796 - accuracy: 0.6958\n",
            "Epoch 30: val_loss did not improve from 0.76825\n",
            "1250/1250 [==============================] - 23s 19ms/step - loss: 0.8794 - accuracy: 0.6959 - val_loss: 0.7708 - val_accuracy: 0.7368\n",
            "Epoch 31/100\n",
            "1247/1250 [============================>.] - ETA: 0s - loss: 0.8816 - accuracy: 0.6947\n",
            "Epoch 31: val_loss did not improve from 0.76825\n",
            "1250/1250 [==============================] - 23s 18ms/step - loss: 0.8819 - accuracy: 0.6945 - val_loss: 0.7795 - val_accuracy: 0.7341\n",
            "Epoch 32/100\n",
            "1250/1250 [==============================] - ETA: 0s - loss: 0.8707 - accuracy: 0.7002\n",
            "Epoch 32: val_loss did not improve from 0.76825\n",
            "1250/1250 [==============================] - 23s 18ms/step - loss: 0.8707 - accuracy: 0.7002 - val_loss: 0.8143 - val_accuracy: 0.7227\n",
            "Epoch 33/100\n",
            "1248/1250 [============================>.] - ETA: 0s - loss: 0.8651 - accuracy: 0.7024\n",
            "Epoch 33: val_loss improved from 0.76825 to 0.74868, saving model to best-cifar10-v2.h5\n",
            "1250/1250 [==============================] - 23s 18ms/step - loss: 0.8652 - accuracy: 0.7024 - val_loss: 0.7487 - val_accuracy: 0.7393\n",
            "Epoch 34/100\n",
            "1247/1250 [============================>.] - ETA: 0s - loss: 0.8686 - accuracy: 0.7021\n",
            "Epoch 34: val_loss improved from 0.74868 to 0.72571, saving model to best-cifar10-v2.h5\n",
            "1250/1250 [==============================] - 23s 19ms/step - loss: 0.8685 - accuracy: 0.7020 - val_loss: 0.7257 - val_accuracy: 0.7527\n",
            "Epoch 35/100\n",
            "1249/1250 [============================>.] - ETA: 0s - loss: 0.8547 - accuracy: 0.7027\n",
            "Epoch 35: val_loss did not improve from 0.72571\n",
            "1250/1250 [==============================] - 23s 19ms/step - loss: 0.8549 - accuracy: 0.7028 - val_loss: 0.7274 - val_accuracy: 0.7534\n",
            "Epoch 36/100\n",
            "1247/1250 [============================>.] - ETA: 0s - loss: 0.8506 - accuracy: 0.7082\n",
            "Epoch 36: val_loss did not improve from 0.72571\n",
            "1250/1250 [==============================] - 23s 18ms/step - loss: 0.8499 - accuracy: 0.7085 - val_loss: 0.8261 - val_accuracy: 0.7306\n",
            "Epoch 37/100\n",
            "1250/1250 [==============================] - ETA: 0s - loss: 0.8513 - accuracy: 0.7083\n",
            "Epoch 37: val_loss did not improve from 0.72571\n",
            "1250/1250 [==============================] - 23s 18ms/step - loss: 0.8513 - accuracy: 0.7083 - val_loss: 0.7402 - val_accuracy: 0.7523\n",
            "Epoch 38/100\n",
            "1250/1250 [==============================] - ETA: 0s - loss: 0.8476 - accuracy: 0.7096\n",
            "Epoch 38: val_loss did not improve from 0.72571\n",
            "1250/1250 [==============================] - 23s 18ms/step - loss: 0.8476 - accuracy: 0.7096 - val_loss: 0.7308 - val_accuracy: 0.7497\n",
            "Epoch 39/100\n",
            "1250/1250 [==============================] - ETA: 0s - loss: 0.8440 - accuracy: 0.7092\n",
            "Epoch 39: val_loss improved from 0.72571 to 0.71392, saving model to best-cifar10-v2.h5\n",
            "1250/1250 [==============================] - 23s 18ms/step - loss: 0.8440 - accuracy: 0.7092 - val_loss: 0.7139 - val_accuracy: 0.7566\n",
            "Epoch 40/100\n",
            "1250/1250 [==============================] - ETA: 0s - loss: 0.8393 - accuracy: 0.7140\n",
            "Epoch 40: val_loss did not improve from 0.71392\n",
            "1250/1250 [==============================] - 23s 19ms/step - loss: 0.8393 - accuracy: 0.7140 - val_loss: 0.7460 - val_accuracy: 0.7441\n",
            "Epoch 41/100\n",
            "1250/1250 [==============================] - ETA: 0s - loss: 0.8303 - accuracy: 0.7123\n",
            "Epoch 41: val_loss did not improve from 0.71392\n",
            "1250/1250 [==============================] - 23s 18ms/step - loss: 0.8303 - accuracy: 0.7123 - val_loss: 0.7828 - val_accuracy: 0.7310\n",
            "Epoch 42/100\n",
            "1248/1250 [============================>.] - ETA: 0s - loss: 0.8379 - accuracy: 0.7120\n",
            "Epoch 42: val_loss did not improve from 0.71392\n",
            "1250/1250 [==============================] - 23s 19ms/step - loss: 0.8378 - accuracy: 0.7120 - val_loss: 0.7679 - val_accuracy: 0.7415\n",
            "Epoch 43/100\n",
            "1250/1250 [==============================] - ETA: 0s - loss: 0.8328 - accuracy: 0.7156\n",
            "Epoch 43: val_loss did not improve from 0.71392\n",
            "1250/1250 [==============================] - 23s 18ms/step - loss: 0.8328 - accuracy: 0.7156 - val_loss: 0.7723 - val_accuracy: 0.7405\n",
            "Epoch 44/100\n",
            "1250/1250 [==============================] - ETA: 0s - loss: 0.8308 - accuracy: 0.7147\n",
            "Epoch 44: val_loss did not improve from 0.71392\n",
            "1250/1250 [==============================] - 23s 18ms/step - loss: 0.8308 - accuracy: 0.7147 - val_loss: 0.7411 - val_accuracy: 0.7518\n",
            "Epoch 45/100\n",
            "1248/1250 [============================>.] - ETA: 0s - loss: 0.8300 - accuracy: 0.7134\n",
            "Epoch 45: val_loss did not improve from 0.71392\n",
            "1250/1250 [==============================] - 23s 18ms/step - loss: 0.8298 - accuracy: 0.7134 - val_loss: 0.7202 - val_accuracy: 0.7567\n",
            "Epoch 46/100\n",
            "1249/1250 [============================>.] - ETA: 0s - loss: 0.8242 - accuracy: 0.7179\n",
            "Epoch 46: val_loss did not improve from 0.71392\n",
            "1250/1250 [==============================] - 23s 18ms/step - loss: 0.8243 - accuracy: 0.7179 - val_loss: 0.7371 - val_accuracy: 0.7477\n",
            "Epoch 47/100\n",
            "1249/1250 [============================>.] - ETA: 0s - loss: 0.8229 - accuracy: 0.7197\n",
            "Epoch 47: val_loss did not improve from 0.71392\n",
            "1250/1250 [==============================] - 23s 18ms/step - loss: 0.8229 - accuracy: 0.7196 - val_loss: 0.7166 - val_accuracy: 0.7574\n",
            "Epoch 48/100\n",
            "1248/1250 [============================>.] - ETA: 0s - loss: 0.8227 - accuracy: 0.7194\n",
            "Epoch 48: val_loss did not improve from 0.71392\n",
            "1250/1250 [==============================] - 23s 19ms/step - loss: 0.8222 - accuracy: 0.7196 - val_loss: 0.7326 - val_accuracy: 0.7543\n",
            "Epoch 49/100\n",
            "1249/1250 [============================>.] - ETA: 0s - loss: 0.8177 - accuracy: 0.7223\n",
            "Epoch 49: val_loss did not improve from 0.71392\n",
            "1250/1250 [==============================] - 23s 18ms/step - loss: 0.8180 - accuracy: 0.7222 - val_loss: 0.7333 - val_accuracy: 0.7497\n"
          ]
        }
      ]
    },
    {
      "cell_type": "code",
      "source": [
        "best_model = load_model(model_path)\n",
        "best_model.evaluate(X_test, Y_test)"
      ],
      "metadata": {
        "colab": {
          "base_uri": "https://localhost:8080/"
        },
        "id": "KRyf0vPT_FJE",
        "outputId": "78f66800-58a3-4e92-bcfc-78e619d498ca"
      },
      "execution_count": 13,
      "outputs": [
        {
          "output_type": "stream",
          "name": "stdout",
          "text": [
            "313/313 [==============================] - 1s 4ms/step - loss: 0.7296 - accuracy: 0.7542\n"
          ]
        },
        {
          "output_type": "execute_result",
          "data": {
            "text/plain": [
              "[0.7295534610748291, 0.7541999816894531]"
            ]
          },
          "metadata": {},
          "execution_count": 13
        }
      ]
    },
    {
      "cell_type": "markdown",
      "source": [
        "- 학습과정 시각화"
      ],
      "metadata": {
        "id": "49RZfPt7AEKP"
      }
    },
    {
      "cell_type": "code",
      "source": [
        "y_acc = hist.history['accuracy']\n",
        "y_vloss = hist.history['val_loss']\n",
        "xs = np.arange(1, len(y_acc)+1)"
      ],
      "metadata": {
        "id": "TTN3--nt_8qN"
      },
      "execution_count": 14,
      "outputs": []
    },
    {
      "cell_type": "code",
      "source": [
        "plt.figure(figsize=(12,8))\n",
        "plt.plot(xs, y_acc, label='train accuracy')\n",
        "plt.plot(xs, y_vloss, label='validation loss')\n",
        "plt.legend(), plt.grid(), plt.ylim(0,1.2),\n",
        "plt.xlabel('Epoch')\n",
        "plt.title('Cifar-10 CNN model v3')\n",
        "plt.show()"
      ],
      "metadata": {
        "colab": {
          "base_uri": "https://localhost:8080/",
          "height": 513
        },
        "id": "2iRoAF6FAAn-",
        "outputId": "0fdc9040-ae9c-469e-d9ff-b72b90974350"
      },
      "execution_count": 15,
      "outputs": [
        {
          "output_type": "display_data",
          "data": {
            "text/plain": [
              "<Figure size 864x576 with 1 Axes>"
            ],
            "image/png": "[encoded data removed]"
          },
          "metadata": {
            "needs_background": "light"
          }
        }
      ]
    }
  ]
}