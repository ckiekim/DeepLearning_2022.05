{
  "nbformat": 4,
  "nbformat_minor": 0,
  "metadata": {
    "colab": {
      "name": "01_SineWave.ipynb",
      "provenance": [],
      "collapsed_sections": []
    },
    "kernelspec": {
      "name": "python3",
      "display_name": "Python 3"
    },
    "language_info": {
      "name": "python"
    }
  },
  "cells": [
    {
      "cell_type": "markdown",
      "source": [
        "# Simple RNN (many-to-one 문제)\n",
        "- 사인파형 시계열을 입력으로 받아 다음 스텝의 출력을 예측\n",
        "- 3개의 순셔열을 입력한 후 출력값이 target과 일치하게 만든다"
      ],
      "metadata": {
        "id": "WCcMxtpeuVoX"
      }
    },
    {
      "cell_type": "markdown",
      "source": [
        "- 데이터 준비"
      ],
      "metadata": {
        "id": "AQHdC2xxus3B"
      }
    },
    {
      "cell_type": "code",
      "source": [
        "import numpy as np\n",
        "import matplotlib.pyplot as plt"
      ],
      "metadata": {
        "id": "C-y-UIJSoyfc"
      },
      "execution_count": 1,
      "outputs": []
    },
    {
      "cell_type": "code",
      "source": [
        "s = np.sin(np.arange(21) * np.pi/4)         # 2 * pi = 360 degree\n",
        "s"
      ],
      "metadata": {
        "colab": {
          "base_uri": "https://localhost:8080/"
        },
        "id": "VPr7pq4yu0zB",
        "outputId": "b43c5e71-e5ea-4aef-a818-5370da75ea18"
      },
      "execution_count": 2,
      "outputs": [
        {
          "output_type": "execute_result",
          "data": {
            "text/plain": [
              "array([ 0.00000000e+00,  7.07106781e-01,  1.00000000e+00,  7.07106781e-01,\n",
              "        1.22464680e-16, -7.07106781e-01, -1.00000000e+00, -7.07106781e-01,\n",
              "       -2.44929360e-16,  7.07106781e-01,  1.00000000e+00,  7.07106781e-01,\n",
              "        3.67394040e-16, -7.07106781e-01, -1.00000000e+00, -7.07106781e-01,\n",
              "       -4.89858720e-16,  7.07106781e-01,  1.00000000e+00,  7.07106781e-01,\n",
              "        6.12323400e-16])"
            ]
          },
          "metadata": {},
          "execution_count": 2
        }
      ]
    },
    {
      "cell_type": "code",
      "source": [
        "plt.plot(s, 'ro-')\n",
        "plt.xlim(-0.5, 20.5), plt.grid()\n",
        "plt.show()"
      ],
      "metadata": {
        "colab": {
          "base_uri": "https://localhost:8080/",
          "height": 265
        },
        "id": "F1-Mu9p1vAm4",
        "outputId": "0816ba21-2830-49f3-aec5-255aab77c2e1"
      },
      "execution_count": 3,
      "outputs": [
        {
          "output_type": "display_data",
          "data": {
            "text/plain": [
              "<Figure size 432x288 with 1 Axes>"
            ],
            "image/png": "[encoded data removed]"
          },
          "metadata": {
            "needs_background": "light"
          }
        }
      ]
    },
    {
      "cell_type": "markdown",
      "source": [
        "- X_train, y_train 데이터 생성"
      ],
      "metadata": {
        "id": "WYb037Zkv8wx"
      }
    },
    {
      "cell_type": "code",
      "source": [
        "X_train = []\n",
        "y_train = np.empty(len(s) - 3)\n",
        "for i in range(len(s)-3):\n",
        "    X_train.append(s[i:i+3])\n",
        "    y_train[i] = s[i+3]\n",
        "y_train"
      ],
      "metadata": {
        "colab": {
          "base_uri": "https://localhost:8080/"
        },
        "id": "UlcCe2IRvtIb",
        "outputId": "b8518b9b-86b2-47f3-c05a-39039553bdfd"
      },
      "execution_count": 5,
      "outputs": [
        {
          "output_type": "execute_result",
          "data": {
            "text/plain": [
              "array([ 7.07106781e-01,  1.22464680e-16, -7.07106781e-01, -1.00000000e+00,\n",
              "       -7.07106781e-01, -2.44929360e-16,  7.07106781e-01,  1.00000000e+00,\n",
              "        7.07106781e-01,  3.67394040e-16, -7.07106781e-01, -1.00000000e+00,\n",
              "       -7.07106781e-01, -4.89858720e-16,  7.07106781e-01,  1.00000000e+00,\n",
              "        7.07106781e-01,  6.12323400e-16])"
            ]
          },
          "metadata": {},
          "execution_count": 5
        }
      ]
    },
    {
      "cell_type": "code",
      "source": [
        "np.array(X_train).shape"
      ],
      "metadata": {
        "colab": {
          "base_uri": "https://localhost:8080/"
        },
        "id": "Vsj0D20TwGsg",
        "outputId": "52086ff8-0910-4d9f-ec5a-eb2b1f05dcfd"
      },
      "execution_count": 6,
      "outputs": [
        {
          "output_type": "execute_result",
          "data": {
            "text/plain": [
              "(18, 3)"
            ]
          },
          "metadata": {},
          "execution_count": 6
        }
      ]
    },
    {
      "cell_type": "code",
      "source": [
        "# 입력 데이터 갯수, timesteps, input dim\n",
        "X_train = np.array(X_train).reshape(-1,3,1)\n",
        "X_train.shape"
      ],
      "metadata": {
        "colab": {
          "base_uri": "https://localhost:8080/"
        },
        "id": "HtrPB6UIxBaA",
        "outputId": "0ba8dada-8feb-419f-f523-af34167bc8d0"
      },
      "execution_count": 7,
      "outputs": [
        {
          "output_type": "execute_result",
          "data": {
            "text/plain": [
              "(18, 3, 1)"
            ]
          },
          "metadata": {},
          "execution_count": 7
        }
      ]
    },
    {
      "cell_type": "code",
      "source": [
        "X_train[0], y_train[0]"
      ],
      "metadata": {
        "colab": {
          "base_uri": "https://localhost:8080/"
        },
        "id": "pQ-jW2YyxtCw",
        "outputId": "583f5003-4b74-40ff-d1ae-b330c8794187"
      },
      "execution_count": 8,
      "outputs": [
        {
          "output_type": "execute_result",
          "data": {
            "text/plain": [
              "(array([[0.        ],\n",
              "        [0.70710678],\n",
              "        [1.        ]]), 0.7071067811865476)"
            ]
          },
          "metadata": {},
          "execution_count": 8
        }
      ]
    },
    {
      "cell_type": "code",
      "source": [
        "X_train[1], y_train[1]"
      ],
      "metadata": {
        "colab": {
          "base_uri": "https://localhost:8080/"
        },
        "id": "LKzTOOkQyBmh",
        "outputId": "1eae0ea5-4547-4bc3-a705-f275451aa7fb"
      },
      "execution_count": 9,
      "outputs": [
        {
          "output_type": "execute_result",
          "data": {
            "text/plain": [
              "(array([[0.70710678],\n",
              "        [1.        ],\n",
              "        [0.70710678]]), 1.2246467991473532e-16)"
            ]
          },
          "metadata": {},
          "execution_count": 9
        }
      ]
    },
    {
      "cell_type": "markdown",
      "source": [
        "- 순환 신경망 모델 정의/설정"
      ],
      "metadata": {
        "id": "msyqkjIfyWVj"
      }
    },
    {
      "cell_type": "code",
      "source": [
        "import tensorflow as tf\n",
        "seed = 2022\n",
        "np.random.seed(seed)\n",
        "tf.random.set_seed(seed)"
      ],
      "metadata": {
        "id": "r9MI8uwMyPpR"
      },
      "execution_count": 10,
      "outputs": []
    },
    {
      "cell_type": "code",
      "source": [
        "from tensorflow.keras.models import Sequential\n",
        "from tensorflow.keras.layers import SimpleRNN, Dense"
      ],
      "metadata": {
        "id": "f4xNaaxgyieA"
      },
      "execution_count": 11,
      "outputs": []
    },
    {
      "cell_type": "code",
      "source": [
        "model = Sequential([ \n",
        "    SimpleRNN(10, input_shape=X_train.shape[1:], activation='tanh'),\n",
        "    Dense(1, activation='linear')\n",
        "])\n",
        "model.summary()"
      ],
      "metadata": {
        "colab": {
          "base_uri": "https://localhost:8080/"
        },
        "id": "-M34Y-K_ywc_",
        "outputId": "a72ff1ad-bd93-49cb-fdb8-f15d8fbe05f1"
      },
      "execution_count": 12,
      "outputs": [
        {
          "output_type": "stream",
          "name": "stdout",
          "text": [
            "Model: \"sequential\"\n",
            "_________________________________________________________________\n",
            " Layer (type)                Output Shape              Param #   \n",
            "=================================================================\n",
            " simple_rnn (SimpleRNN)      (None, 10)                120       \n",
            "                                                                 \n",
            " dense (Dense)               (None, 1)                 11        \n",
            "                                                                 \n",
            "=================================================================\n",
            "Total params: 131\n",
            "Trainable params: 131\n",
            "Non-trainable params: 0\n",
            "_________________________________________________________________\n"
          ]
        }
      ]
    },
    {
      "cell_type": "code",
      "source": [
        "model.compile('adam', loss='mse')"
      ],
      "metadata": {
        "id": "BjPSFQFuzkDA"
      },
      "execution_count": 13,
      "outputs": []
    },
    {
      "cell_type": "markdown",
      "source": [
        "- 모델 학습전"
      ],
      "metadata": {
        "id": "LSeRblA-4Y_d"
      }
    },
    {
      "cell_type": "code",
      "source": [
        "plt.plot(np.arange(3,21), y_train, 'ro-', label='target')\n",
        "plt.plot(np.arange(3,21), model.predict(X_train), 'bo-', label='predict')\n",
        "plt.xlim(-0.5,20.5), plt.grid()\n",
        "plt.legend(), plt.title('Before training')\n",
        "plt.show()"
      ],
      "metadata": {
        "colab": {
          "base_uri": "https://localhost:8080/",
          "height": 281
        },
        "id": "jI5o-tUO1oi4",
        "outputId": "153ae19d-d51e-4c87-983a-cb17bc750dc5"
      },
      "execution_count": 14,
      "outputs": [
        {
          "output_type": "display_data",
          "data": {
            "text/plain": [
              "<Figure size 432x288 with 1 Axes>"
            ],
            "image/png": "[encoded data removed]"
          },
          "metadata": {
            "needs_background": "light"
          }
        }
      ]
    },
    {
      "cell_type": "markdown",
      "source": [
        "- 모델 학습"
      ],
      "metadata": {
        "id": "B7xuE61Q5KLU"
      }
    },
    {
      "cell_type": "code",
      "source": [
        "hist = model.fit(X_train, y_train, epochs=100, verbose=0)"
      ],
      "metadata": {
        "id": "WCH-_uCY5AkN"
      },
      "execution_count": 15,
      "outputs": []
    },
    {
      "cell_type": "markdown",
      "source": [
        "- 모델 학습후"
      ],
      "metadata": {
        "id": "22un7i5P5cQ1"
      }
    },
    {
      "cell_type": "code",
      "source": [
        "plt.plot(np.arange(3,21), y_train, 'ro-', label='target')\n",
        "plt.plot(np.arange(3,21), model.predict(X_train), 'bo-', label='predict')\n",
        "plt.xlim(-0.5,20.5), plt.grid()\n",
        "plt.legend(), plt.title('After training')\n",
        "plt.show()"
      ],
      "metadata": {
        "colab": {
          "base_uri": "https://localhost:8080/",
          "height": 281
        },
        "id": "kbaQqmmp5Ync",
        "outputId": "e002c855-db86-488b-9026-7b7b15b1859d"
      },
      "execution_count": 17,
      "outputs": [
        {
          "output_type": "display_data",
          "data": {
            "text/plain": [
              "<Figure size 432x288 with 1 Axes>"
            ],
            "image/png": "[encoded data removed]"
          },
          "metadata": {
            "needs_background": "light"
          }
        }
      ]
    },
    {
      "cell_type": "code",
      "source": [
        ""
      ],
      "metadata": {
        "id": "s2ctV-4J5kGP"
      },
      "execution_count": null,
      "outputs": []
    }
  ]
}