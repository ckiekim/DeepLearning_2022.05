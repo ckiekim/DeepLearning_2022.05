{
  "nbformat": 4,
  "nbformat_minor": 0,
  "metadata": {
    "colab": {
      "name": "31_ReutersNews_LSTM.ipynb",
      "provenance": [],
      "collapsed_sections": []
    },
    "kernelspec": {
      "name": "python3",
      "display_name": "Python 3"
    },
    "language_info": {
      "name": "python"
    },
    "accelerator": "GPU"
  },
  "cells": [
    {
      "cell_type": "markdown",
      "source": [
        "# 로이터 뉴스 분류하기 - LSTM"
      ],
      "metadata": {
        "id": "PlCJI52NLJgR"
      }
    },
    {
      "cell_type": "markdown",
      "source": [
        "### 데이터 탐색"
      ],
      "metadata": {
        "id": "-2-yTMSULSir"
      }
    },
    {
      "cell_type": "code",
      "execution_count": 1,
      "metadata": {
        "id": "k3Qu77AZKt1y"
      },
      "outputs": [],
      "source": [
        "import numpy as np\n",
        "import seaborn as sns\n",
        "import matplotlib.pyplot as plt\n",
        "from tensorflow.keras.datasets import reuters"
      ]
    },
    {
      "cell_type": "code",
      "source": [
        "(X_train, y_train), (X_test, y_test) = reuters.load_data()\n",
        "len(X_train), len(X_test)"
      ],
      "metadata": {
        "colab": {
          "base_uri": "https://localhost:8080/"
        },
        "id": "gieA6zx3LfsJ",
        "outputId": "90a99b7c-61ec-47de-8c38-4d2831f646f1"
      },
      "execution_count": 2,
      "outputs": [
        {
          "output_type": "stream",
          "name": "stdout",
          "text": [
            "Downloading data from https://storage.googleapis.com/tensorflow/tf-keras-datasets/reuters.npz\n",
            "2113536/2110848 [==============================] - 0s 0us/step\n",
            "2121728/2110848 [==============================] - 0s 0us/step\n"
          ]
        },
        {
          "output_type": "execute_result",
          "data": {
            "text/plain": [
              "(8982, 2246)"
            ]
          },
          "metadata": {},
          "execution_count": 2
        }
      ]
    },
    {
      "cell_type": "code",
      "source": [
        "# 카테고리 갯수\n",
        "max(y_train) + 1"
      ],
      "metadata": {
        "colab": {
          "base_uri": "https://localhost:8080/"
        },
        "id": "4jRRDuNCLsox",
        "outputId": "01e05f73-b9a1-4ac4-ec87-8261874e5964"
      },
      "execution_count": 3,
      "outputs": [
        {
          "output_type": "execute_result",
          "data": {
            "text/plain": [
              "46"
            ]
          },
          "metadata": {},
          "execution_count": 3
        }
      ]
    },
    {
      "cell_type": "code",
      "source": [
        "# 첫번째 뉴스\n",
        "print(X_train[0])"
      ],
      "metadata": {
        "colab": {
          "base_uri": "https://localhost:8080/"
        },
        "id": "HSBoDv17L5Mr",
        "outputId": "c76a3a95-93e3-4cd1-e8a2-fbb5544649a9"
      },
      "execution_count": 4,
      "outputs": [
        {
          "output_type": "stream",
          "name": "stdout",
          "text": [
            "[1, 27595, 28842, 8, 43, 10, 447, 5, 25, 207, 270, 5, 3095, 111, 16, 369, 186, 90, 67, 7, 89, 5, 19, 102, 6, 19, 124, 15, 90, 67, 84, 22, 482, 26, 7, 48, 4, 49, 8, 864, 39, 209, 154, 6, 151, 6, 83, 11, 15, 22, 155, 11, 15, 7, 48, 9, 4579, 1005, 504, 6, 258, 6, 272, 11, 15, 22, 134, 44, 11, 15, 16, 8, 197, 1245, 90, 67, 52, 29, 209, 30, 32, 132, 6, 109, 15, 17, 12]\n"
          ]
        }
      ]
    },
    {
      "cell_type": "code",
      "source": [
        "type(reuters.get_word_index())"
      ],
      "metadata": {
        "colab": {
          "base_uri": "https://localhost:8080/"
        },
        "id": "AjZEzAxYL_FA",
        "outputId": "729d6825-c372-4250-a065-4d7e5bdcf4b8"
      },
      "execution_count": 5,
      "outputs": [
        {
          "output_type": "stream",
          "name": "stdout",
          "text": [
            "Downloading data from https://storage.googleapis.com/tensorflow/tf-keras-datasets/reuters_word_index.json\n",
            "557056/550378 [==============================] - 0s 0us/step\n",
            "565248/550378 [==============================] - 0s 0us/step\n"
          ]
        },
        {
          "output_type": "execute_result",
          "data": {
            "text/plain": [
              "dict"
            ]
          },
          "metadata": {},
          "execution_count": 5
        }
      ]
    },
    {
      "cell_type": "code",
      "source": [
        "reuters.get_word_index()['the']"
      ],
      "metadata": {
        "colab": {
          "base_uri": "https://localhost:8080/"
        },
        "id": "I6EfCZ09MSCl",
        "outputId": "5c424d9e-b929-45b8-80c8-c1e77ae5b675"
      },
      "execution_count": 6,
      "outputs": [
        {
          "output_type": "execute_result",
          "data": {
            "text/plain": [
              "1"
            ]
          },
          "metadata": {},
          "execution_count": 6
        }
      ]
    },
    {
      "cell_type": "code",
      "source": [
        "index_word = {}\n",
        "for key, value in reuters.get_word_index().items():\n",
        "    index_word[value] = key\n",
        "len(index_word)"
      ],
      "metadata": {
        "colab": {
          "base_uri": "https://localhost:8080/"
        },
        "id": "m-L-JIuXMZLk",
        "outputId": "bef04780-48b0-4be9-88f9-4502d550f25a"
      },
      "execution_count": 7,
      "outputs": [
        {
          "output_type": "execute_result",
          "data": {
            "text/plain": [
              "30979"
            ]
          },
          "metadata": {},
          "execution_count": 7
        }
      ]
    },
    {
      "cell_type": "code",
      "source": [
        "# 첫번째 기사 복원\n",
        "' '.join(index_word[index] for index in X_train[0])"
      ],
      "metadata": {
        "colab": {
          "base_uri": "https://localhost:8080/",
          "height": 72
        },
        "id": "0WaNIq1JMwja",
        "outputId": "2db32c66-8781-429a-b92f-dad8d326d151"
      },
      "execution_count": 8,
      "outputs": [
        {
          "output_type": "execute_result",
          "data": {
            "text/plain": [
              "'the wattie nondiscriminatory mln loss for plc said at only ended said commonwealth could 1 traders now april 0 a after said from 1985 and from foreign 000 april 0 prices its account year a but in this mln home an states earlier and rise and revs vs 000 its 16 vs 000 a but 3 psbr oils several and shareholders and dividend vs 000 its all 4 vs 000 1 mln agreed largely april 0 are 2 states will billion total and against 000 pct dlrs'"
            ],
            "application/vnd.google.colaboratory.intrinsic+json": {
              "type": "string"
            }
          },
          "metadata": {},
          "execution_count": 8
        }
      ]
    },
    {
      "cell_type": "code",
      "source": [
        "# 뉴스 기사의 최대/평균 길이\n",
        "max(len(s) for s in X_train), sum(map(len, X_train)) / len(X_train)"
      ],
      "metadata": {
        "colab": {
          "base_uri": "https://localhost:8080/"
        },
        "id": "1OWu6UKANFnH",
        "outputId": "c5acbcb5-1280-49de-85bb-c44e3339a26c"
      },
      "execution_count": 9,
      "outputs": [
        {
          "output_type": "execute_result",
          "data": {
            "text/plain": [
              "(2376, 145.5398574927633)"
            ]
          },
          "metadata": {},
          "execution_count": 9
        }
      ]
    },
    {
      "cell_type": "code",
      "source": [
        "# 뉴스 기사 단어수의 분포\n",
        "plt.hist([len(s) for s in X_train], bins=50)\n",
        "plt.xlabel('length of samples')\n",
        "plt.ylabel('number of samples')\n",
        "plt.show()"
      ],
      "metadata": {
        "colab": {
          "base_uri": "https://localhost:8080/",
          "height": 279
        },
        "id": "MkTzEbnoNlFX",
        "outputId": "5612443a-acb9-43c9-d0b5-61cdafc5fe2d"
      },
      "execution_count": 10,
      "outputs": [
        {
          "output_type": "display_data",
          "data": {
            "text/plain": [
              "<Figure size 432x288 with 1 Axes>"
            ],
            "image/png": "[encoded data removed]"
          },
          "metadata": {
            "needs_background": "light"
          }
        }
      ]
    },
    {
      "cell_type": "code",
      "source": [
        "# 뉴스 그룹의 분포\n",
        "import warnings\n",
        "warnings.filterwarnings('ignore')\n",
        "plt.figure(figsize=(12,5))\n",
        "sns.countplot(y_train);"
      ],
      "metadata": {
        "colab": {
          "base_uri": "https://localhost:8080/",
          "height": 320
        },
        "id": "IoVP0gU1OHLA",
        "outputId": "1d997650-d803-4707-fcfc-1f9ecad964e6"
      },
      "execution_count": 11,
      "outputs": [
        {
          "output_type": "display_data",
          "data": {
            "text/plain": [
              "<Figure size 864x360 with 1 Axes>"
            ],
            "image/png": "[encoded data removed]"
          },
          "metadata": {
            "needs_background": "light"
          }
        }
      ]
    },
    {
      "cell_type": "markdown",
      "source": [
        "### LSTM으로 로이터 뉴스 분류\n",
        "- 문장길이: 100 단어 까지 (최대: 2,376)\n",
        "- 단어: 빈도수 기준 1,000 단어 (총단어수: 30,979)"
      ],
      "metadata": {
        "id": "fA9avvQcOu_z"
      }
    },
    {
      "cell_type": "code",
      "source": [
        "max_words = 1000\n",
        "max_len = 100"
      ],
      "metadata": {
        "id": "4Bkg-eqeObav"
      },
      "execution_count": 12,
      "outputs": []
    },
    {
      "cell_type": "code",
      "source": [
        "(X_train, y_train), (X_test, y_test) = reuters.load_data(\n",
        "    num_words=max_words, test_split=0.2\n",
        ")"
      ],
      "metadata": {
        "id": "Udc7eTclQihg"
      },
      "execution_count": 13,
      "outputs": []
    },
    {
      "cell_type": "code",
      "source": [
        "import tensorflow as tf\n",
        "seed = 2022\n",
        "np.random.seed(seed)\n",
        "tf.random.set_seed(seed)"
      ],
      "metadata": {
        "id": "qBi_JsYdQ3D4"
      },
      "execution_count": 14,
      "outputs": []
    },
    {
      "cell_type": "code",
      "source": [
        "from tensorflow.keras.models import Sequential, load_model\n",
        "from tensorflow.keras.layers import Embedding, LSTM, Dense\n",
        "from tensorflow.keras.callbacks import ModelCheckpoint, EarlyStopping\n",
        "from tensorflow.keras.preprocessing.sequence import pad_sequences\n",
        "from tensorflow.keras.utils import to_categorical"
      ],
      "metadata": {
        "id": "fdIdAWdFRMe3"
      },
      "execution_count": 15,
      "outputs": []
    },
    {
      "cell_type": "code",
      "source": [
        "X_train = pad_sequences(X_train, maxlen=max_len)\n",
        "X_test = pad_sequences(X_test, maxlen=max_len)\n",
        "Y_train = to_categorical(y_train)\n",
        "Y_test = to_categorical(y_test)\n",
        "X_train.shape, X_test.shape, Y_train.shape, Y_test.shape"
      ],
      "metadata": {
        "colab": {
          "base_uri": "https://localhost:8080/"
        },
        "id": "is7uPqiSRcN_",
        "outputId": "e0c25e88-3e10-42b8-de7f-74fba118e025"
      },
      "execution_count": 16,
      "outputs": [
        {
          "output_type": "execute_result",
          "data": {
            "text/plain": [
              "((8982, 100), (2246, 100), (8982, 46), (2246, 46))"
            ]
          },
          "metadata": {},
          "execution_count": 16
        }
      ]
    },
    {
      "cell_type": "markdown",
      "source": [
        "- 모델 정의/설정/학습"
      ],
      "metadata": {
        "id": "PMX2h-Q4SDGA"
      }
    },
    {
      "cell_type": "code",
      "source": [
        "model = Sequential([ \n",
        "    Embedding(max_words, 64, input_length=max_len),\n",
        "    LSTM(100),\n",
        "    Dense(46, activation='softmax')\n",
        "])\n",
        "model.summary()"
      ],
      "metadata": {
        "colab": {
          "base_uri": "https://localhost:8080/"
        },
        "id": "OExjjrwxR6gW",
        "outputId": "f96b2312-c327-4097-e4a0-db3dbbce62e1"
      },
      "execution_count": 17,
      "outputs": [
        {
          "output_type": "stream",
          "name": "stdout",
          "text": [
            "Model: \"sequential\"\n",
            "_________________________________________________________________\n",
            " Layer (type)                Output Shape              Param #   \n",
            "=================================================================\n",
            " embedding (Embedding)       (None, 100, 64)           64000     \n",
            "                                                                 \n",
            " lstm (LSTM)                 (None, 100)               66000     \n",
            "                                                                 \n",
            " dense (Dense)               (None, 46)                4646      \n",
            "                                                                 \n",
            "=================================================================\n",
            "Total params: 134,646\n",
            "Trainable params: 134,646\n",
            "Non-trainable params: 0\n",
            "_________________________________________________________________\n"
          ]
        }
      ]
    },
    {
      "cell_type": "code",
      "source": [
        "model.compile('adam', 'categorical_crossentropy', ['accuracy'])"
      ],
      "metadata": {
        "id": "0d3NH3m6SwWp"
      },
      "execution_count": 18,
      "outputs": []
    },
    {
      "cell_type": "code",
      "source": [
        "model_path = 'best-reuters-lstm.h5'\n",
        "mc = ModelCheckpoint(model_path, verbose=1, save_best_only=True)\n",
        "es = EarlyStopping(patience=10)"
      ],
      "metadata": {
        "id": "D5r9d_fmS7gm"
      },
      "execution_count": 19,
      "outputs": []
    },
    {
      "cell_type": "code",
      "source": [
        "hist = model.fit(\n",
        "    X_train, Y_train, validation_split=0.2, epochs=100, batch_size=128, callbacks=[mc,es]\n",
        ")"
      ],
      "metadata": {
        "colab": {
          "base_uri": "https://localhost:8080/"
        },
        "id": "r_G_mQhJTCyh",
        "outputId": "c09f483b-4f3e-4f08-8df9-dc0f46d7a88c"
      },
      "execution_count": 20,
      "outputs": [
        {
          "output_type": "stream",
          "name": "stdout",
          "text": [
            "Epoch 1/100\n",
            "56/57 [============================>.] - ETA: 0s - loss: 2.7173 - accuracy: 0.3312\n",
            "Epoch 1: val_loss improved from inf to 2.40400, saving model to best-reuters-lstm.h5\n",
            "57/57 [==============================] - 8s 21ms/step - loss: 2.7159 - accuracy: 0.3317 - val_loss: 2.4040 - val_accuracy: 0.3450\n",
            "Epoch 2/100\n",
            "52/57 [==========================>...] - ETA: 0s - loss: 2.4127 - accuracy: 0.3508\n",
            "Epoch 2: val_loss improved from 2.40400 to 2.38775, saving model to best-reuters-lstm.h5\n",
            "57/57 [==============================] - 1s 11ms/step - loss: 2.4047 - accuracy: 0.3534 - val_loss: 2.3877 - val_accuracy: 0.3450\n",
            "Epoch 3/100\n",
            "53/57 [==========================>...] - ETA: 0s - loss: 2.2861 - accuracy: 0.4172\n",
            "Epoch 3: val_loss improved from 2.38775 to 2.09472, saving model to best-reuters-lstm.h5\n",
            "57/57 [==============================] - 1s 13ms/step - loss: 2.2743 - accuracy: 0.4216 - val_loss: 2.0947 - val_accuracy: 0.4741\n",
            "Epoch 4/100\n",
            "54/57 [===========================>..] - ETA: 0s - loss: 2.0400 - accuracy: 0.4910\n",
            "Epoch 4: val_loss improved from 2.09472 to 2.02624, saving model to best-reuters-lstm.h5\n",
            "57/57 [==============================] - 1s 11ms/step - loss: 2.0393 - accuracy: 0.4910 - val_loss: 2.0262 - val_accuracy: 0.4897\n",
            "Epoch 5/100\n",
            "53/57 [==========================>...] - ETA: 0s - loss: 1.9630 - accuracy: 0.4962\n",
            "Epoch 5: val_loss improved from 2.02624 to 1.88454, saving model to best-reuters-lstm.h5\n",
            "57/57 [==============================] - 1s 11ms/step - loss: 1.9541 - accuracy: 0.4977 - val_loss: 1.8845 - val_accuracy: 0.5153\n",
            "Epoch 6/100\n",
            "54/57 [===========================>..] - ETA: 0s - loss: 1.8227 - accuracy: 0.5299\n",
            "Epoch 6: val_loss improved from 1.88454 to 1.79268, saving model to best-reuters-lstm.h5\n",
            "57/57 [==============================] - 1s 11ms/step - loss: 1.8252 - accuracy: 0.5282 - val_loss: 1.7927 - val_accuracy: 0.5275\n",
            "Epoch 7/100\n",
            "54/57 [===========================>..] - ETA: 0s - loss: 1.7648 - accuracy: 0.5446\n",
            "Epoch 7: val_loss improved from 1.79268 to 1.77048, saving model to best-reuters-lstm.h5\n",
            "57/57 [==============================] - 1s 11ms/step - loss: 1.7556 - accuracy: 0.5470 - val_loss: 1.7705 - val_accuracy: 0.5337\n",
            "Epoch 8/100\n",
            "52/57 [==========================>...] - ETA: 0s - loss: 1.7073 - accuracy: 0.5608\n",
            "Epoch 8: val_loss improved from 1.77048 to 1.68889, saving model to best-reuters-lstm.h5\n",
            "57/57 [==============================] - 1s 12ms/step - loss: 1.7023 - accuracy: 0.5627 - val_loss: 1.6889 - val_accuracy: 0.5682\n",
            "Epoch 9/100\n",
            "53/57 [==========================>...] - ETA: 0s - loss: 1.6676 - accuracy: 0.5622\n",
            "Epoch 9: val_loss improved from 1.68889 to 1.67402, saving model to best-reuters-lstm.h5\n",
            "57/57 [==============================] - 1s 11ms/step - loss: 1.6746 - accuracy: 0.5608 - val_loss: 1.6740 - val_accuracy: 0.5704\n",
            "Epoch 10/100\n",
            "54/57 [===========================>..] - ETA: 0s - loss: 1.6315 - accuracy: 0.5872\n",
            "Epoch 10: val_loss improved from 1.67402 to 1.64566, saving model to best-reuters-lstm.h5\n",
            "57/57 [==============================] - 1s 11ms/step - loss: 1.6270 - accuracy: 0.5884 - val_loss: 1.6457 - val_accuracy: 0.5804\n",
            "Epoch 11/100\n",
            "53/57 [==========================>...] - ETA: 0s - loss: 1.5688 - accuracy: 0.6020\n",
            "Epoch 11: val_loss improved from 1.64566 to 1.59274, saving model to best-reuters-lstm.h5\n",
            "57/57 [==============================] - 1s 11ms/step - loss: 1.5701 - accuracy: 0.6029 - val_loss: 1.5927 - val_accuracy: 0.6082\n",
            "Epoch 12/100\n",
            "53/57 [==========================>...] - ETA: 0s - loss: 1.5238 - accuracy: 0.6190\n",
            "Epoch 12: val_loss improved from 1.59274 to 1.55207, saving model to best-reuters-lstm.h5\n",
            "57/57 [==============================] - 1s 13ms/step - loss: 1.5181 - accuracy: 0.6203 - val_loss: 1.5521 - val_accuracy: 0.6160\n",
            "Epoch 13/100\n",
            "53/57 [==========================>...] - ETA: 0s - loss: 1.4530 - accuracy: 0.6331\n",
            "Epoch 13: val_loss improved from 1.55207 to 1.50791, saving model to best-reuters-lstm.h5\n",
            "57/57 [==============================] - 1s 11ms/step - loss: 1.4524 - accuracy: 0.6335 - val_loss: 1.5079 - val_accuracy: 0.6205\n",
            "Epoch 14/100\n",
            "54/57 [===========================>..] - ETA: 0s - loss: 1.4054 - accuracy: 0.6521\n",
            "Epoch 14: val_loss improved from 1.50791 to 1.43602, saving model to best-reuters-lstm.h5\n",
            "57/57 [==============================] - 1s 11ms/step - loss: 1.3985 - accuracy: 0.6541 - val_loss: 1.4360 - val_accuracy: 0.6600\n",
            "Epoch 15/100\n",
            "52/57 [==========================>...] - ETA: 0s - loss: 1.3500 - accuracy: 0.6544\n",
            "Epoch 15: val_loss improved from 1.43602 to 1.42755, saving model to best-reuters-lstm.h5\n",
            "57/57 [==============================] - 1s 11ms/step - loss: 1.3543 - accuracy: 0.6529 - val_loss: 1.4275 - val_accuracy: 0.6572\n",
            "Epoch 16/100\n",
            "57/57 [==============================] - ETA: 0s - loss: 1.2930 - accuracy: 0.6809\n",
            "Epoch 16: val_loss improved from 1.42755 to 1.40272, saving model to best-reuters-lstm.h5\n",
            "57/57 [==============================] - 1s 12ms/step - loss: 1.2930 - accuracy: 0.6809 - val_loss: 1.4027 - val_accuracy: 0.6566\n",
            "Epoch 17/100\n",
            "54/57 [===========================>..] - ETA: 0s - loss: 1.2578 - accuracy: 0.6830\n",
            "Epoch 17: val_loss did not improve from 1.40272\n",
            "57/57 [==============================] - 1s 11ms/step - loss: 1.2594 - accuracy: 0.6824 - val_loss: 1.4064 - val_accuracy: 0.6511\n",
            "Epoch 18/100\n",
            "54/57 [===========================>..] - ETA: 0s - loss: 1.2161 - accuracy: 0.6972\n",
            "Epoch 18: val_loss did not improve from 1.40272\n",
            "57/57 [==============================] - 1s 11ms/step - loss: 1.2232 - accuracy: 0.6938 - val_loss: 1.4135 - val_accuracy: 0.6566\n",
            "Epoch 19/100\n",
            "53/57 [==========================>...] - ETA: 0s - loss: 1.1974 - accuracy: 0.7000\n",
            "Epoch 19: val_loss improved from 1.40272 to 1.33627, saving model to best-reuters-lstm.h5\n",
            "57/57 [==============================] - 1s 11ms/step - loss: 1.1909 - accuracy: 0.7006 - val_loss: 1.3363 - val_accuracy: 0.6772\n",
            "Epoch 20/100\n",
            "53/57 [==========================>...] - ETA: 0s - loss: 1.1369 - accuracy: 0.7121\n",
            "Epoch 20: val_loss improved from 1.33627 to 1.33002, saving model to best-reuters-lstm.h5\n",
            "57/57 [==============================] - 1s 11ms/step - loss: 1.1352 - accuracy: 0.7119 - val_loss: 1.3300 - val_accuracy: 0.6817\n",
            "Epoch 21/100\n",
            "53/57 [==========================>...] - ETA: 0s - loss: 1.1333 - accuracy: 0.7095\n",
            "Epoch 21: val_loss improved from 1.33002 to 1.32998, saving model to best-reuters-lstm.h5\n",
            "57/57 [==============================] - 1s 11ms/step - loss: 1.1188 - accuracy: 0.7132 - val_loss: 1.3300 - val_accuracy: 0.6767\n",
            "Epoch 22/100\n",
            "53/57 [==========================>...] - ETA: 0s - loss: 1.0808 - accuracy: 0.7261\n",
            "Epoch 22: val_loss improved from 1.32998 to 1.30793, saving model to best-reuters-lstm.h5\n",
            "57/57 [==============================] - 1s 12ms/step - loss: 1.0844 - accuracy: 0.7257 - val_loss: 1.3079 - val_accuracy: 0.6900\n",
            "Epoch 23/100\n",
            "53/57 [==========================>...] - ETA: 0s - loss: 1.0449 - accuracy: 0.7332\n",
            "Epoch 23: val_loss improved from 1.30793 to 1.30463, saving model to best-reuters-lstm.h5\n",
            "57/57 [==============================] - 1s 12ms/step - loss: 1.0464 - accuracy: 0.7343 - val_loss: 1.3046 - val_accuracy: 0.6900\n",
            "Epoch 24/100\n",
            "57/57 [==============================] - ETA: 0s - loss: 1.0160 - accuracy: 0.7390\n",
            "Epoch 24: val_loss improved from 1.30463 to 1.28628, saving model to best-reuters-lstm.h5\n",
            "57/57 [==============================] - 1s 12ms/step - loss: 1.0160 - accuracy: 0.7390 - val_loss: 1.2863 - val_accuracy: 0.6945\n",
            "Epoch 25/100\n",
            "54/57 [===========================>..] - ETA: 0s - loss: 0.9755 - accuracy: 0.7488\n",
            "Epoch 25: val_loss did not improve from 1.28628\n",
            "57/57 [==============================] - 1s 11ms/step - loss: 0.9739 - accuracy: 0.7493 - val_loss: 1.2993 - val_accuracy: 0.6934\n",
            "Epoch 26/100\n",
            "54/57 [===========================>..] - ETA: 0s - loss: 0.9416 - accuracy: 0.7626\n",
            "Epoch 26: val_loss did not improve from 1.28628\n",
            "57/57 [==============================] - 1s 11ms/step - loss: 0.9447 - accuracy: 0.7621 - val_loss: 1.2889 - val_accuracy: 0.7012\n",
            "Epoch 27/100\n",
            "54/57 [===========================>..] - ETA: 0s - loss: 0.9337 - accuracy: 0.7617\n",
            "Epoch 27: val_loss did not improve from 1.28628\n",
            "57/57 [==============================] - 1s 11ms/step - loss: 0.9319 - accuracy: 0.7616 - val_loss: 1.2893 - val_accuracy: 0.7001\n",
            "Epoch 28/100\n",
            "54/57 [===========================>..] - ETA: 0s - loss: 0.8990 - accuracy: 0.7743\n",
            "Epoch 28: val_loss improved from 1.28628 to 1.28294, saving model to best-reuters-lstm.h5\n",
            "57/57 [==============================] - 1s 11ms/step - loss: 0.8947 - accuracy: 0.7751 - val_loss: 1.2829 - val_accuracy: 0.7095\n",
            "Epoch 29/100\n",
            "54/57 [===========================>..] - ETA: 0s - loss: 0.8719 - accuracy: 0.7839\n",
            "Epoch 29: val_loss improved from 1.28294 to 1.27920, saving model to best-reuters-lstm.h5\n",
            "57/57 [==============================] - 1s 11ms/step - loss: 0.8704 - accuracy: 0.7850 - val_loss: 1.2792 - val_accuracy: 0.6967\n",
            "Epoch 30/100\n",
            "53/57 [==========================>...] - ETA: 0s - loss: 0.8317 - accuracy: 0.7894\n",
            "Epoch 30: val_loss did not improve from 1.27920\n",
            "57/57 [==============================] - 1s 11ms/step - loss: 0.8317 - accuracy: 0.7896 - val_loss: 1.2814 - val_accuracy: 0.7040\n",
            "Epoch 31/100\n",
            "55/57 [===========================>..] - ETA: 0s - loss: 0.8032 - accuracy: 0.8003\n",
            "Epoch 31: val_loss improved from 1.27920 to 1.27773, saving model to best-reuters-lstm.h5\n",
            "57/57 [==============================] - 1s 11ms/step - loss: 0.8060 - accuracy: 0.7999 - val_loss: 1.2777 - val_accuracy: 0.7078\n",
            "Epoch 32/100\n",
            "53/57 [==========================>...] - ETA: 0s - loss: 0.7790 - accuracy: 0.8031\n",
            "Epoch 32: val_loss did not improve from 1.27773\n",
            "57/57 [==============================] - 1s 11ms/step - loss: 0.7824 - accuracy: 0.8021 - val_loss: 1.2888 - val_accuracy: 0.7045\n",
            "Epoch 33/100\n",
            "56/57 [============================>.] - ETA: 0s - loss: 0.7528 - accuracy: 0.8128\n",
            "Epoch 33: val_loss did not improve from 1.27773\n",
            "57/57 [==============================] - 1s 11ms/step - loss: 0.7529 - accuracy: 0.8129 - val_loss: 1.2910 - val_accuracy: 0.7056\n",
            "Epoch 34/100\n",
            "53/57 [==========================>...] - ETA: 0s - loss: 0.7313 - accuracy: 0.8159\n",
            "Epoch 34: val_loss did not improve from 1.27773\n",
            "57/57 [==============================] - 1s 11ms/step - loss: 0.7357 - accuracy: 0.8139 - val_loss: 1.3522 - val_accuracy: 0.7084\n",
            "Epoch 35/100\n",
            "52/57 [==========================>...] - ETA: 0s - loss: 0.7298 - accuracy: 0.8167\n",
            "Epoch 35: val_loss did not improve from 1.27773\n",
            "57/57 [==============================] - 1s 11ms/step - loss: 0.7316 - accuracy: 0.8177 - val_loss: 1.2874 - val_accuracy: 0.7067\n",
            "Epoch 36/100\n",
            "53/57 [==========================>...] - ETA: 0s - loss: 0.6872 - accuracy: 0.8249\n",
            "Epoch 36: val_loss did not improve from 1.27773\n",
            "57/57 [==============================] - 1s 11ms/step - loss: 0.6855 - accuracy: 0.8252 - val_loss: 1.2879 - val_accuracy: 0.7145\n",
            "Epoch 37/100\n",
            "53/57 [==========================>...] - ETA: 0s - loss: 0.6642 - accuracy: 0.8337\n",
            "Epoch 37: val_loss did not improve from 1.27773\n",
            "57/57 [==============================] - 1s 11ms/step - loss: 0.6689 - accuracy: 0.8327 - val_loss: 1.3309 - val_accuracy: 0.7078\n",
            "Epoch 38/100\n",
            "53/57 [==========================>...] - ETA: 0s - loss: 0.6572 - accuracy: 0.8320\n",
            "Epoch 38: val_loss did not improve from 1.27773\n",
            "57/57 [==============================] - 1s 11ms/step - loss: 0.6614 - accuracy: 0.8306 - val_loss: 1.3125 - val_accuracy: 0.7190\n",
            "Epoch 39/100\n",
            "54/57 [===========================>..] - ETA: 0s - loss: 0.6449 - accuracy: 0.8388\n",
            "Epoch 39: val_loss did not improve from 1.27773\n",
            "57/57 [==============================] - 1s 11ms/step - loss: 0.6417 - accuracy: 0.8388 - val_loss: 1.3155 - val_accuracy: 0.7156\n",
            "Epoch 40/100\n",
            "57/57 [==============================] - ETA: 0s - loss: 0.6131 - accuracy: 0.8472\n",
            "Epoch 40: val_loss did not improve from 1.27773\n",
            "57/57 [==============================] - 1s 11ms/step - loss: 0.6131 - accuracy: 0.8472 - val_loss: 1.3619 - val_accuracy: 0.7112\n",
            "Epoch 41/100\n",
            "54/57 [===========================>..] - ETA: 0s - loss: 0.6078 - accuracy: 0.8495\n",
            "Epoch 41: val_loss did not improve from 1.27773\n",
            "57/57 [==============================] - 1s 11ms/step - loss: 0.6062 - accuracy: 0.8497 - val_loss: 1.3146 - val_accuracy: 0.7184\n"
          ]
        }
      ]
    },
    {
      "cell_type": "code",
      "source": [
        "best_model = load_model(model_path)\n",
        "best_model.evaluate(X_test, Y_test)"
      ],
      "metadata": {
        "colab": {
          "base_uri": "https://localhost:8080/"
        },
        "id": "Xr0NejylTNLW",
        "outputId": "6fc37d0f-1303-4d12-9f33-0c7197d5952d"
      },
      "execution_count": 21,
      "outputs": [
        {
          "output_type": "stream",
          "name": "stdout",
          "text": [
            "71/71 [==============================] - 1s 5ms/step - loss: 1.2699 - accuracy: 0.7093\n"
          ]
        },
        {
          "output_type": "execute_result",
          "data": {
            "text/plain": [
              "[1.2699028253555298, 0.709260880947113]"
            ]
          },
          "metadata": {},
          "execution_count": 21
        }
      ]
    },
    {
      "cell_type": "markdown",
      "source": [
        "- 학습과정 시각화"
      ],
      "metadata": {
        "id": "0BvZbvGIUyI4"
      }
    },
    {
      "cell_type": "code",
      "source": [
        "y_acc = hist.history['accuracy']\n",
        "y_vloss = hist.history['val_loss']\n",
        "xs = np.arange(1, len(y_acc)+1)"
      ],
      "metadata": {
        "id": "OCaEUXOeUpXH"
      },
      "execution_count": 22,
      "outputs": []
    },
    {
      "cell_type": "code",
      "source": [
        "plt.figure(figsize=(12,8))\n",
        "plt.plot(xs, y_acc, label='train accuracy')\n",
        "plt.plot(xs, y_vloss, label='validation loss')\n",
        "plt.legend(), plt.grid()\n",
        "plt.xlabel('Epoch')\n",
        "plt.show()"
      ],
      "metadata": {
        "colab": {
          "base_uri": "https://localhost:8080/",
          "height": 499
        },
        "id": "cnrjWg72U28d",
        "outputId": "af91d752-3dea-424c-842c-43ca59c569e1"
      },
      "execution_count": 23,
      "outputs": [
        {
          "output_type": "display_data",
          "data": {
            "text/plain": [
              "<Figure size 864x576 with 1 Axes>"
            ],
            "image/png": "[encoded data removed]"
          },
          "metadata": {
            "needs_background": "light"
          }
        }
      ]
    },
    {
      "cell_type": "code",
      "source": [
        ""
      ],
      "metadata": {
        "id": "_r2kR3VJU5b2"
      },
      "execution_count": null,
      "outputs": []
    }
  ]
}