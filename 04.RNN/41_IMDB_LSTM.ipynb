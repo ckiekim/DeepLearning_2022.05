{
  "nbformat": 4,
  "nbformat_minor": 0,
  "metadata": {
    "colab": {
      "name": "41_IMDB_LSTM.ipynb",
      "provenance": [],
      "collapsed_sections": []
    },
    "kernelspec": {
      "name": "python3",
      "display_name": "Python 3"
    },
    "language_info": {
      "name": "python"
    },
    "accelerator": "GPU"
  },
  "cells": [
    {
      "cell_type": "markdown",
      "source": [
        "# IMDB 영화리뷰 감성분석 - LSTM"
      ],
      "metadata": {
        "id": "hsO6N9S12SBp"
      }
    },
    {
      "cell_type": "code",
      "execution_count": 1,
      "metadata": {
        "colab": {
          "base_uri": "https://localhost:8080/"
        },
        "id": "xXWO8lxYyEj2",
        "outputId": "61cb5de2-7201-410d-99d9-ea7ce6958780"
      },
      "outputs": [
        {
          "output_type": "stream",
          "name": "stdout",
          "text": [
            "Downloading data from https://storage.googleapis.com/tensorflow/tf-keras-datasets/imdb.npz\n",
            "17465344/17464789 [==============================] - 0s 0us/step\n",
            "17473536/17464789 [==============================] - 0s 0us/step\n"
          ]
        }
      ],
      "source": [
        "from tensorflow.keras.datasets import imdb\n",
        "(X_train, y_train), (X_test, y_test) = imdb.load_data()"
      ]
    },
    {
      "cell_type": "code",
      "source": [
        "X_train.shape, X_test.shape"
      ],
      "metadata": {
        "colab": {
          "base_uri": "https://localhost:8080/"
        },
        "id": "Wog752h72kz4",
        "outputId": "a12488de-51c3-47f3-cd4e-c9aafeca6edc"
      },
      "execution_count": 2,
      "outputs": [
        {
          "output_type": "execute_result",
          "data": {
            "text/plain": [
              "((25000,), (25000,))"
            ]
          },
          "metadata": {},
          "execution_count": 2
        }
      ]
    },
    {
      "cell_type": "code",
      "source": [
        "print(X_train[0])"
      ],
      "metadata": {
        "colab": {
          "base_uri": "https://localhost:8080/"
        },
        "id": "8Q5iZEJC2p8w",
        "outputId": "4901b74d-7483-4a32-b363-dbc4f88306bf"
      },
      "execution_count": 3,
      "outputs": [
        {
          "output_type": "stream",
          "name": "stdout",
          "text": [
            "[1, 14, 22, 16, 43, 530, 973, 1622, 1385, 65, 458, 4468, 66, 3941, 4, 173, 36, 256, 5, 25, 100, 43, 838, 112, 50, 670, 22665, 9, 35, 480, 284, 5, 150, 4, 172, 112, 167, 21631, 336, 385, 39, 4, 172, 4536, 1111, 17, 546, 38, 13, 447, 4, 192, 50, 16, 6, 147, 2025, 19, 14, 22, 4, 1920, 4613, 469, 4, 22, 71, 87, 12, 16, 43, 530, 38, 76, 15, 13, 1247, 4, 22, 17, 515, 17, 12, 16, 626, 18, 19193, 5, 62, 386, 12, 8, 316, 8, 106, 5, 4, 2223, 5244, 16, 480, 66, 3785, 33, 4, 130, 12, 16, 38, 619, 5, 25, 124, 51, 36, 135, 48, 25, 1415, 33, 6, 22, 12, 215, 28, 77, 52, 5, 14, 407, 16, 82, 10311, 8, 4, 107, 117, 5952, 15, 256, 4, 31050, 7, 3766, 5, 723, 36, 71, 43, 530, 476, 26, 400, 317, 46, 7, 4, 12118, 1029, 13, 104, 88, 4, 381, 15, 297, 98, 32, 2071, 56, 26, 141, 6, 194, 7486, 18, 4, 226, 22, 21, 134, 476, 26, 480, 5, 144, 30, 5535, 18, 51, 36, 28, 224, 92, 25, 104, 4, 226, 65, 16, 38, 1334, 88, 12, 16, 283, 5, 16, 4472, 113, 103, 32, 15, 16, 5345, 19, 178, 32]\n"
          ]
        }
      ]
    },
    {
      "cell_type": "code",
      "source": [
        "# 등장한 단어수\n",
        "len(imdb.get_word_index())"
      ],
      "metadata": {
        "colab": {
          "base_uri": "https://localhost:8080/"
        },
        "id": "QGqPMjXl2tUZ",
        "outputId": "b41bb7f4-1243-41a5-8b71-06b7a4bfc524"
      },
      "execution_count": 4,
      "outputs": [
        {
          "output_type": "stream",
          "name": "stdout",
          "text": [
            "Downloading data from https://storage.googleapis.com/tensorflow/tf-keras-datasets/imdb_word_index.json\n",
            "1646592/1641221 [==============================] - 0s 0us/step\n",
            "1654784/1641221 [==============================] - 0s 0us/step\n"
          ]
        },
        {
          "output_type": "execute_result",
          "data": {
            "text/plain": [
              "88584"
            ]
          },
          "metadata": {},
          "execution_count": 4
        }
      ]
    },
    {
      "cell_type": "code",
      "source": [
        "# 리뷰 최대 길이, 평균 길이\n",
        "max(len(s) for s in X_train), sum(map(len, X_train)) / len(X_train)"
      ],
      "metadata": {
        "colab": {
          "base_uri": "https://localhost:8080/"
        },
        "id": "m0Si9y2c3Fh_",
        "outputId": "157f4f41-384e-4a65-a273-42dc45757404"
      },
      "execution_count": 5,
      "outputs": [
        {
          "output_type": "execute_result",
          "data": {
            "text/plain": [
              "(2494, 238.71364)"
            ]
          },
          "metadata": {},
          "execution_count": 5
        }
      ]
    },
    {
      "cell_type": "markdown",
      "source": [
        "### LSTM으로 감성분석\n",
        "- 단어 빈도수: 10,000 (총 88,584)\n",
        "- 리뷰 단어수: 500 (최대 2,494)\n",
        "- 최대 데이터 갯수 ==> 여러분들의 몫\n",
        "    - train: 25000, valid: 10000, test: 15000\n",
        "- 수업 시간\n",
        "    - train: 20000, test: 5000 (valid: 20%)"
      ],
      "metadata": {
        "id": "RbjrA3qK3ekR"
      }
    },
    {
      "cell_type": "code",
      "source": [
        "import numpy as np\n",
        "import tensorflow as tf\n",
        "seed = 2022\n",
        "np.random.seed(seed)\n",
        "tf.random.set_seed(seed)"
      ],
      "metadata": {
        "id": "3YnC806L3ZS4"
      },
      "execution_count": 6,
      "outputs": []
    },
    {
      "cell_type": "code",
      "source": [
        "from tensorflow.keras.models import Sequential, load_model\n",
        "from tensorflow.keras.layers import Embedding, LSTM, Dense\n",
        "from tensorflow.keras.callbacks import ModelCheckpoint, EarlyStopping\n",
        "from tensorflow.keras.preprocessing.sequence import pad_sequences\n",
        "from sklearn.model_selection import train_test_split"
      ],
      "metadata": {
        "id": "WkbB0hxl4wMw"
      },
      "execution_count": 7,
      "outputs": []
    },
    {
      "cell_type": "code",
      "source": [
        "num_words = 10000\n",
        "(X_train, y_train), (_, _) = imdb.load_data(num_words=num_words)"
      ],
      "metadata": {
        "id": "NFQZrb6J6XCu"
      },
      "execution_count": 8,
      "outputs": []
    },
    {
      "cell_type": "code",
      "source": [
        "X_train, X_test, y_train, y_test = train_test_split(\n",
        "    X_train, y_train, stratify=y_train, test_size=0.2, random_state=seed\n",
        ")\n",
        "X_train.shape, X_test.shape, y_train.shape, y_test.shape"
      ],
      "metadata": {
        "colab": {
          "base_uri": "https://localhost:8080/"
        },
        "id": "ih4SW0T65Ju3",
        "outputId": "501db75c-2de3-4956-aebb-671783a2215d"
      },
      "execution_count": 9,
      "outputs": [
        {
          "output_type": "execute_result",
          "data": {
            "text/plain": [
              "((20000,), (5000,), (20000,), (5000,))"
            ]
          },
          "metadata": {},
          "execution_count": 9
        }
      ]
    },
    {
      "cell_type": "code",
      "source": [
        "max_len = 500\n",
        "X_train = pad_sequences(X_train, maxlen=max_len)\n",
        "X_test = pad_sequences(X_test, maxlen=max_len)\n",
        "X_train.shape, X_test.shape"
      ],
      "metadata": {
        "colab": {
          "base_uri": "https://localhost:8080/"
        },
        "id": "r_yKpKf65fZr",
        "outputId": "8340cc99-cae7-44b5-800c-6df80bc3a146"
      },
      "execution_count": 10,
      "outputs": [
        {
          "output_type": "execute_result",
          "data": {
            "text/plain": [
              "((20000, 500), (5000, 500))"
            ]
          },
          "metadata": {},
          "execution_count": 10
        }
      ]
    },
    {
      "cell_type": "markdown",
      "source": [
        "- 모델"
      ],
      "metadata": {
        "id": "Zh5xEDSD6Inx"
      }
    },
    {
      "cell_type": "code",
      "source": [
        "model = Sequential([ \n",
        "    Embedding(num_words, 100, input_length=max_len),\n",
        "    LSTM(128),\n",
        "    Dense(1, activation='sigmoid')\n",
        "])\n",
        "model.summary()"
      ],
      "metadata": {
        "colab": {
          "base_uri": "https://localhost:8080/"
        },
        "id": "jkVJ4JbS6AAZ",
        "outputId": "6c48d6b0-8ca3-4930-9bb1-36914722d96d"
      },
      "execution_count": 11,
      "outputs": [
        {
          "output_type": "stream",
          "name": "stdout",
          "text": [
            "Model: \"sequential\"\n",
            "_________________________________________________________________\n",
            " Layer (type)                Output Shape              Param #   \n",
            "=================================================================\n",
            " embedding (Embedding)       (None, 500, 100)          1000000   \n",
            "                                                                 \n",
            " lstm (LSTM)                 (None, 128)               117248    \n",
            "                                                                 \n",
            " dense (Dense)               (None, 1)                 129       \n",
            "                                                                 \n",
            "=================================================================\n",
            "Total params: 1,117,377\n",
            "Trainable params: 1,117,377\n",
            "Non-trainable params: 0\n",
            "_________________________________________________________________\n"
          ]
        }
      ]
    },
    {
      "cell_type": "code",
      "source": [
        "model.compile('adam', 'binary_crossentropy', ['accuracy'])"
      ],
      "metadata": {
        "id": "6U1T7p4n68dJ"
      },
      "execution_count": 12,
      "outputs": []
    },
    {
      "cell_type": "code",
      "source": [
        "model_path = 'best-imdb-lstm.h5'\n",
        "mc = ModelCheckpoint(model_path, verbose=1, save_best_only=True)\n",
        "es = EarlyStopping(patience=5)"
      ],
      "metadata": {
        "id": "yogyLKcI7Hrg"
      },
      "execution_count": 13,
      "outputs": []
    },
    {
      "cell_type": "code",
      "source": [
        "hist = model.fit(\n",
        "    X_train, y_train, validation_split=0.2,\n",
        "    epochs=30, batch_size=64, callbacks=[mc,es]\n",
        ")"
      ],
      "metadata": {
        "colab": {
          "base_uri": "https://localhost:8080/"
        },
        "id": "9dU5K1Rn7SJI",
        "outputId": "0f4c71ce-3b9d-45e7-93d6-ed6b36021fa4"
      },
      "execution_count": 14,
      "outputs": [
        {
          "output_type": "stream",
          "name": "stdout",
          "text": [
            "Epoch 1/30\n",
            "249/250 [============================>.] - ETA: 0s - loss: 0.5163 - accuracy: 0.7381\n",
            "Epoch 1: val_loss improved from inf to 0.35700, saving model to best-imdb-lstm.h5\n",
            "250/250 [==============================] - 15s 33ms/step - loss: 0.5158 - accuracy: 0.7384 - val_loss: 0.3570 - val_accuracy: 0.8455\n",
            "Epoch 2/30\n",
            "249/250 [============================>.] - ETA: 0s - loss: 0.2757 - accuracy: 0.8899\n",
            "Epoch 2: val_loss improved from 0.35700 to 0.32542, saving model to best-imdb-lstm.h5\n",
            "250/250 [==============================] - 8s 30ms/step - loss: 0.2768 - accuracy: 0.8894 - val_loss: 0.3254 - val_accuracy: 0.8627\n",
            "Epoch 3/30\n",
            "249/250 [============================>.] - ETA: 0s - loss: 0.1932 - accuracy: 0.9276\n",
            "Epoch 3: val_loss did not improve from 0.32542\n",
            "250/250 [==============================] - 7s 29ms/step - loss: 0.1932 - accuracy: 0.9276 - val_loss: 0.3329 - val_accuracy: 0.8680\n",
            "Epoch 4/30\n",
            "249/250 [============================>.] - ETA: 0s - loss: 0.1229 - accuracy: 0.9563\n",
            "Epoch 4: val_loss did not improve from 0.32542\n",
            "250/250 [==============================] - 7s 30ms/step - loss: 0.1236 - accuracy: 0.9562 - val_loss: 0.3604 - val_accuracy: 0.8615\n",
            "Epoch 5/30\n",
            "250/250 [==============================] - ETA: 0s - loss: 0.1471 - accuracy: 0.9453\n",
            "Epoch 5: val_loss did not improve from 0.32542\n",
            "250/250 [==============================] - 7s 30ms/step - loss: 0.1471 - accuracy: 0.9453 - val_loss: 0.3917 - val_accuracy: 0.8543\n",
            "Epoch 6/30\n",
            "250/250 [==============================] - ETA: 0s - loss: 0.0811 - accuracy: 0.9737\n",
            "Epoch 6: val_loss did not improve from 0.32542\n",
            "250/250 [==============================] - 8s 31ms/step - loss: 0.0811 - accuracy: 0.9737 - val_loss: 0.4735 - val_accuracy: 0.8490\n",
            "Epoch 7/30\n",
            "250/250 [==============================] - ETA: 0s - loss: 0.0463 - accuracy: 0.9859\n",
            "Epoch 7: val_loss did not improve from 0.32542\n",
            "250/250 [==============================] - 8s 31ms/step - loss: 0.0463 - accuracy: 0.9859 - val_loss: 0.5810 - val_accuracy: 0.8570\n"
          ]
        }
      ]
    },
    {
      "cell_type": "code",
      "source": [
        "best_model = load_model(model_path)\n",
        "best_model.evaluate(X_test, y_test)"
      ],
      "metadata": {
        "colab": {
          "base_uri": "https://localhost:8080/"
        },
        "id": "1tb3FWuI7nXi",
        "outputId": "0c726bdb-2f82-4160-ec23-796074658a82"
      },
      "execution_count": 15,
      "outputs": [
        {
          "output_type": "stream",
          "name": "stdout",
          "text": [
            "157/157 [==============================] - 2s 11ms/step - loss: 0.3389 - accuracy: 0.8562\n"
          ]
        },
        {
          "output_type": "execute_result",
          "data": {
            "text/plain": [
              "[0.3388536274433136, 0.8561999797821045]"
            ]
          },
          "metadata": {},
          "execution_count": 15
        }
      ]
    },
    {
      "cell_type": "code",
      "source": [
        ""
      ],
      "metadata": {
        "id": "d_foT0bm8XtJ"
      },
      "execution_count": null,
      "outputs": []
    }
  ]
}