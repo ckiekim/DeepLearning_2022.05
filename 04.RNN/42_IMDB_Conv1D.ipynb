{
  "nbformat": 4,
  "nbformat_minor": 0,
  "metadata": {
    "colab": {
      "name": "42_IMDB_Conv1D.ipynb",
      "provenance": [],
      "collapsed_sections": []
    },
    "kernelspec": {
      "name": "python3",
      "display_name": "Python 3"
    },
    "language_info": {
      "name": "python"
    },
    "accelerator": "GPU"
  },
  "cells": [
    {
      "cell_type": "markdown",
      "source": [
        "# IMDB 영화리뷰 감성분석 - Conv1D\n",
        "- Conv1D + Conv1D + Dense\n",
        "- Conv1D + LSTM + Dense\n",
        "- Conv1D + Dense + Dense"
      ],
      "metadata": {
        "id": "zov5g0OYCP62"
      }
    },
    {
      "cell_type": "code",
      "execution_count": 1,
      "metadata": {
        "id": "fkkdwun6CK2g"
      },
      "outputs": [],
      "source": [
        "import numpy as np\n",
        "import tensorflow as tf\n",
        "seed = 2022\n",
        "np.random.seed(seed)\n",
        "tf.random.set_seed(seed)"
      ]
    },
    {
      "cell_type": "code",
      "source": [
        "from tensorflow.keras.datasets import imdb\n",
        "from tensorflow.keras.models import Sequential, load_model\n",
        "from tensorflow.keras.layers import Embedding, LSTM, Dense, Dropout\n",
        "from tensorflow.keras.layers import Conv1D, MaxPooling1D, GlobalMaxPooling1D\n",
        "from tensorflow.keras.callbacks import ModelCheckpoint, EarlyStopping\n",
        "from tensorflow.keras.preprocessing.sequence import pad_sequences\n",
        "from sklearn.model_selection import train_test_split"
      ],
      "metadata": {
        "id": "mPNj-LioCq4c"
      },
      "execution_count": 2,
      "outputs": []
    },
    {
      "cell_type": "code",
      "source": [
        "num_words = 10000\n",
        "(X_train, y_train), (_, _) = imdb.load_data(num_words=num_words)"
      ],
      "metadata": {
        "colab": {
          "base_uri": "https://localhost:8080/"
        },
        "id": "jPTUK9_VCw-j",
        "outputId": "1f2118ac-54b7-45b3-f0f6-1288bb39af9c"
      },
      "execution_count": 3,
      "outputs": [
        {
          "output_type": "stream",
          "name": "stdout",
          "text": [
            "Downloading data from https://storage.googleapis.com/tensorflow/tf-keras-datasets/imdb.npz\n",
            "17465344/17464789 [==============================] - 0s 0us/step\n",
            "17473536/17464789 [==============================] - 0s 0us/step\n"
          ]
        }
      ]
    },
    {
      "cell_type": "code",
      "source": [
        "X_train, X_test, y_train, y_test = train_test_split(\n",
        "    X_train, y_train, stratify=y_train, test_size=0.2, random_state=seed\n",
        ")\n",
        "X_train.shape, X_test.shape, y_train.shape, y_test.shape"
      ],
      "metadata": {
        "colab": {
          "base_uri": "https://localhost:8080/"
        },
        "id": "tWy3iKWBC0eT",
        "outputId": "2e6eeaed-9572-4101-c567-ab5164d17d92"
      },
      "execution_count": 4,
      "outputs": [
        {
          "output_type": "execute_result",
          "data": {
            "text/plain": [
              "((20000,), (5000,), (20000,), (5000,))"
            ]
          },
          "metadata": {},
          "execution_count": 4
        }
      ]
    },
    {
      "cell_type": "code",
      "source": [
        "max_len = 500\n",
        "X_train = pad_sequences(X_train, maxlen=max_len)\n",
        "X_test = pad_sequences(X_test, maxlen=max_len)\n",
        "X_train.shape, X_test.shape"
      ],
      "metadata": {
        "colab": {
          "base_uri": "https://localhost:8080/"
        },
        "id": "lZfgl-PJC_Pr",
        "outputId": "5fc0e1ee-7525-4428-fc89-65d110554b23"
      },
      "execution_count": 5,
      "outputs": [
        {
          "output_type": "execute_result",
          "data": {
            "text/plain": [
              "((20000, 500), (5000, 500))"
            ]
          },
          "metadata": {},
          "execution_count": 5
        }
      ]
    },
    {
      "cell_type": "markdown",
      "source": [
        "- Case 1) Conv1D x 2"
      ],
      "metadata": {
        "id": "Z89qENhBDGEd"
      }
    },
    {
      "cell_type": "code",
      "source": [
        "model1 = Sequential([ \n",
        "    Embedding(num_words, 100, input_length=max_len),\n",
        "    Dropout(0.5),\n",
        "    Conv1D(64, 7, activation='relu'),\n",
        "    MaxPooling1D(7),\n",
        "    Conv1D(64, 5, activation='relu'),\n",
        "    MaxPooling1D(5),\n",
        "    GlobalMaxPooling1D(),\n",
        "    Dense(1, activation='sigmoid')\n",
        "])\n",
        "model1.summary()"
      ],
      "metadata": {
        "colab": {
          "base_uri": "https://localhost:8080/"
        },
        "id": "Q3Pq0ZSSDCIr",
        "outputId": "a08d8f1c-61c1-4387-e8f7-a92658089ea6"
      },
      "execution_count": 6,
      "outputs": [
        {
          "output_type": "stream",
          "name": "stdout",
          "text": [
            "Model: \"sequential\"\n",
            "_________________________________________________________________\n",
            " Layer (type)                Output Shape              Param #   \n",
            "=================================================================\n",
            " embedding (Embedding)       (None, 500, 100)          1000000   \n",
            "                                                                 \n",
            " dropout (Dropout)           (None, 500, 100)          0         \n",
            "                                                                 \n",
            " conv1d (Conv1D)             (None, 494, 64)           44864     \n",
            "                                                                 \n",
            " max_pooling1d (MaxPooling1D  (None, 70, 64)           0         \n",
            " )                                                               \n",
            "                                                                 \n",
            " conv1d_1 (Conv1D)           (None, 66, 64)            20544     \n",
            "                                                                 \n",
            " max_pooling1d_1 (MaxPooling  (None, 13, 64)           0         \n",
            " 1D)                                                             \n",
            "                                                                 \n",
            " global_max_pooling1d (Globa  (None, 64)               0         \n",
            " lMaxPooling1D)                                                  \n",
            "                                                                 \n",
            " dense (Dense)               (None, 1)                 65        \n",
            "                                                                 \n",
            "=================================================================\n",
            "Total params: 1,065,473\n",
            "Trainable params: 1,065,473\n",
            "Non-trainable params: 0\n",
            "_________________________________________________________________\n"
          ]
        }
      ]
    },
    {
      "cell_type": "code",
      "source": [
        "model1.compile('adam', 'binary_crossentropy', ['accuracy'])\n",
        "model1_path = 'best-imdb-conv1d-conv1d.h5'\n",
        "mc1 = ModelCheckpoint(model1_path, verbose=1, save_best_only=True)\n",
        "es1 = EarlyStopping(patience=5)"
      ],
      "metadata": {
        "id": "8bRlgmgOGf0M"
      },
      "execution_count": 7,
      "outputs": []
    },
    {
      "cell_type": "code",
      "source": [
        "hist1 = model1.fit(\n",
        "    X_train, y_train, validation_split=0.2,\n",
        "    epochs=30, batch_size=64, callbacks=[mc1,es1]\n",
        ")"
      ],
      "metadata": {
        "colab": {
          "base_uri": "https://localhost:8080/"
        },
        "id": "QKsRkfGGIWxD",
        "outputId": "11c7916f-bac8-46c1-f48e-fd1be8d81fde"
      },
      "execution_count": 8,
      "outputs": [
        {
          "output_type": "stream",
          "name": "stdout",
          "text": [
            "Epoch 1/30\n",
            "247/250 [============================>.] - ETA: 0s - loss: 0.5592 - accuracy: 0.6766\n",
            "Epoch 1: val_loss improved from inf to 0.36014, saving model to best-imdb-conv1d-conv1d.h5\n",
            "250/250 [==============================] - 15s 10ms/step - loss: 0.5563 - accuracy: 0.6791 - val_loss: 0.3601 - val_accuracy: 0.8475\n",
            "Epoch 2/30\n",
            "250/250 [==============================] - ETA: 0s - loss: 0.2874 - accuracy: 0.8832\n",
            "Epoch 2: val_loss improved from 0.36014 to 0.32265, saving model to best-imdb-conv1d-conv1d.h5\n",
            "250/250 [==============================] - 2s 9ms/step - loss: 0.2874 - accuracy: 0.8832 - val_loss: 0.3227 - val_accuracy: 0.8635\n",
            "Epoch 3/30\n",
            "248/250 [============================>.] - ETA: 0s - loss: 0.1945 - accuracy: 0.9262\n",
            "Epoch 3: val_loss did not improve from 0.32265\n",
            "250/250 [==============================] - 2s 9ms/step - loss: 0.1944 - accuracy: 0.9261 - val_loss: 0.3540 - val_accuracy: 0.8540\n",
            "Epoch 4/30\n",
            "248/250 [============================>.] - ETA: 0s - loss: 0.1322 - accuracy: 0.9525\n",
            "Epoch 4: val_loss did not improve from 0.32265\n",
            "250/250 [==============================] - 2s 9ms/step - loss: 0.1321 - accuracy: 0.9525 - val_loss: 0.3683 - val_accuracy: 0.8633\n",
            "Epoch 5/30\n",
            "250/250 [==============================] - ETA: 0s - loss: 0.0864 - accuracy: 0.9684\n",
            "Epoch 5: val_loss did not improve from 0.32265\n",
            "250/250 [==============================] - 3s 11ms/step - loss: 0.0864 - accuracy: 0.9684 - val_loss: 0.4535 - val_accuracy: 0.8545\n",
            "Epoch 6/30\n",
            "249/250 [============================>.] - ETA: 0s - loss: 0.0546 - accuracy: 0.9824\n",
            "Epoch 6: val_loss did not improve from 0.32265\n",
            "250/250 [==============================] - 2s 9ms/step - loss: 0.0545 - accuracy: 0.9824 - val_loss: 0.5335 - val_accuracy: 0.8580\n",
            "Epoch 7/30\n",
            "250/250 [==============================] - ETA: 0s - loss: 0.0405 - accuracy: 0.9850\n",
            "Epoch 7: val_loss did not improve from 0.32265\n",
            "250/250 [==============================] - 2s 9ms/step - loss: 0.0405 - accuracy: 0.9850 - val_loss: 0.5999 - val_accuracy: 0.8587\n"
          ]
        }
      ]
    },
    {
      "cell_type": "code",
      "source": [
        "best_model1 = load_model(model1_path)\n",
        "best_model1.evaluate(X_test, y_test)"
      ],
      "metadata": {
        "colab": {
          "base_uri": "https://localhost:8080/"
        },
        "id": "-MDJzfUKIXRk",
        "outputId": "6db0d285-dc00-4ba2-97e6-08794609aeb8"
      },
      "execution_count": 9,
      "outputs": [
        {
          "output_type": "stream",
          "name": "stdout",
          "text": [
            "157/157 [==============================] - 1s 4ms/step - loss: 0.3083 - accuracy: 0.8684\n"
          ]
        },
        {
          "output_type": "execute_result",
          "data": {
            "text/plain": [
              "[0.3083183467388153, 0.868399977684021]"
            ]
          },
          "metadata": {},
          "execution_count": 9
        }
      ]
    },
    {
      "cell_type": "markdown",
      "source": [
        "- Case 2) Conv1D + LSTM"
      ],
      "metadata": {
        "id": "rtfOSY29GZGV"
      }
    },
    {
      "cell_type": "code",
      "source": [
        "model2 = Sequential([ \n",
        "    Embedding(num_words, 100, input_length=max_len),\n",
        "    Dropout(0.5),\n",
        "    Conv1D(64, 5, activation='relu'),\n",
        "    MaxPooling1D(5),\n",
        "    LSTM(100),\n",
        "    Dense(1, activation='sigmoid')\n",
        "])\n",
        "model2.summary()"
      ],
      "metadata": {
        "colab": {
          "base_uri": "https://localhost:8080/"
        },
        "id": "Z6UThDoyEaxE",
        "outputId": "eee4ab7b-10dc-4a72-b3c3-56ac300f3f8b"
      },
      "execution_count": 10,
      "outputs": [
        {
          "output_type": "stream",
          "name": "stdout",
          "text": [
            "Model: \"sequential_1\"\n",
            "_________________________________________________________________\n",
            " Layer (type)                Output Shape              Param #   \n",
            "=================================================================\n",
            " embedding_1 (Embedding)     (None, 500, 100)          1000000   \n",
            "                                                                 \n",
            " dropout_1 (Dropout)         (None, 500, 100)          0         \n",
            "                                                                 \n",
            " conv1d_2 (Conv1D)           (None, 496, 64)           32064     \n",
            "                                                                 \n",
            " max_pooling1d_2 (MaxPooling  (None, 99, 64)           0         \n",
            " 1D)                                                             \n",
            "                                                                 \n",
            " lstm (LSTM)                 (None, 100)               66000     \n",
            "                                                                 \n",
            " dense_1 (Dense)             (None, 1)                 101       \n",
            "                                                                 \n",
            "=================================================================\n",
            "Total params: 1,098,165\n",
            "Trainable params: 1,098,165\n",
            "Non-trainable params: 0\n",
            "_________________________________________________________________\n"
          ]
        }
      ]
    },
    {
      "cell_type": "code",
      "source": [
        "model2.compile('adam', 'binary_crossentropy', ['accuracy'])\n",
        "model2_path = 'best-imdb-conv1d-lstm.h5'\n",
        "mc2 = ModelCheckpoint(model2_path, verbose=1, save_best_only=True)\n",
        "es2 = EarlyStopping(patience=5)"
      ],
      "metadata": {
        "id": "jwQuG2QLG5e9"
      },
      "execution_count": 11,
      "outputs": []
    },
    {
      "cell_type": "code",
      "source": [
        "hist2 = model2.fit(\n",
        "    X_train, y_train, validation_split=0.2,\n",
        "    epochs=30, batch_size=64, callbacks=[mc2,es2]\n",
        ")"
      ],
      "metadata": {
        "colab": {
          "base_uri": "https://localhost:8080/"
        },
        "id": "DcLRPrJmIV-c",
        "outputId": "57253b25-6ae1-43ff-efef-052fb436610e"
      },
      "execution_count": 12,
      "outputs": [
        {
          "output_type": "stream",
          "name": "stdout",
          "text": [
            "Epoch 1/30\n",
            "247/250 [============================>.] - ETA: 0s - loss: 0.4429 - accuracy: 0.7658\n",
            "Epoch 1: val_loss improved from inf to 0.29654, saving model to best-imdb-conv1d-lstm.h5\n",
            "250/250 [==============================] - 6s 16ms/step - loss: 0.4410 - accuracy: 0.7674 - val_loss: 0.2965 - val_accuracy: 0.8815\n",
            "Epoch 2/30\n",
            "247/250 [============================>.] - ETA: 0s - loss: 0.2173 - accuracy: 0.9150\n",
            "Epoch 2: val_loss improved from 0.29654 to 0.26502, saving model to best-imdb-conv1d-lstm.h5\n",
            "250/250 [==============================] - 4s 14ms/step - loss: 0.2180 - accuracy: 0.9148 - val_loss: 0.2650 - val_accuracy: 0.8905\n",
            "Epoch 3/30\n",
            "248/250 [============================>.] - ETA: 0s - loss: 0.1426 - accuracy: 0.9490\n",
            "Epoch 3: val_loss did not improve from 0.26502\n",
            "250/250 [==============================] - 4s 14ms/step - loss: 0.1426 - accuracy: 0.9489 - val_loss: 0.2914 - val_accuracy: 0.8823\n",
            "Epoch 4/30\n",
            "247/250 [============================>.] - ETA: 0s - loss: 0.0969 - accuracy: 0.9677\n",
            "Epoch 4: val_loss did not improve from 0.26502\n",
            "250/250 [==============================] - 3s 14ms/step - loss: 0.0974 - accuracy: 0.9676 - val_loss: 0.3210 - val_accuracy: 0.8808\n",
            "Epoch 5/30\n",
            "250/250 [==============================] - ETA: 0s - loss: 0.0685 - accuracy: 0.9771\n",
            "Epoch 5: val_loss did not improve from 0.26502\n",
            "250/250 [==============================] - 3s 14ms/step - loss: 0.0685 - accuracy: 0.9771 - val_loss: 0.3649 - val_accuracy: 0.8830\n",
            "Epoch 6/30\n",
            "250/250 [==============================] - ETA: 0s - loss: 0.0521 - accuracy: 0.9827\n",
            "Epoch 6: val_loss did not improve from 0.26502\n",
            "250/250 [==============================] - 3s 14ms/step - loss: 0.0521 - accuracy: 0.9827 - val_loss: 0.4241 - val_accuracy: 0.8648\n",
            "Epoch 7/30\n",
            "248/250 [============================>.] - ETA: 0s - loss: 0.0466 - accuracy: 0.9841\n",
            "Epoch 7: val_loss did not improve from 0.26502\n",
            "250/250 [==============================] - 4s 14ms/step - loss: 0.0467 - accuracy: 0.9841 - val_loss: 0.4428 - val_accuracy: 0.8783\n"
          ]
        }
      ]
    },
    {
      "cell_type": "code",
      "source": [
        "best_model2 = load_model(model2_path)\n",
        "best_model2.evaluate(X_test, y_test)"
      ],
      "metadata": {
        "colab": {
          "base_uri": "https://localhost:8080/"
        },
        "id": "6lHqXuOhIX6W",
        "outputId": "2bf80b6b-2bd0-453e-8322-a08a62194f86"
      },
      "execution_count": 13,
      "outputs": [
        {
          "output_type": "stream",
          "name": "stdout",
          "text": [
            "157/157 [==============================] - 1s 5ms/step - loss: 0.2720 - accuracy: 0.8888\n"
          ]
        },
        {
          "output_type": "execute_result",
          "data": {
            "text/plain": [
              "[0.27202364802360535, 0.8888000249862671]"
            ]
          },
          "metadata": {},
          "execution_count": 13
        }
      ]
    },
    {
      "cell_type": "markdown",
      "source": [
        "- Case 3) Conv1D + Dense"
      ],
      "metadata": {
        "id": "_AXr35b2HUwv"
      }
    },
    {
      "cell_type": "code",
      "source": [
        "model3 = Sequential([ \n",
        "    Embedding(num_words, 100, input_length=max_len),\n",
        "    Dropout(0.5),\n",
        "    Conv1D(64, 5, activation='relu'),\n",
        "    MaxPooling1D(5),\n",
        "    GlobalMaxPooling1D(),\n",
        "    Dense(100, activation='relu'),\n",
        "    Dense(1, activation='sigmoid')\n",
        "])\n",
        "model3.summary()"
      ],
      "metadata": {
        "colab": {
          "base_uri": "https://localhost:8080/"
        },
        "id": "TWGUU07_HZh8",
        "outputId": "cbf57928-4bf0-436b-b282-e676539fc7b9"
      },
      "execution_count": 14,
      "outputs": [
        {
          "output_type": "stream",
          "name": "stdout",
          "text": [
            "Model: \"sequential_2\"\n",
            "_________________________________________________________________\n",
            " Layer (type)                Output Shape              Param #   \n",
            "=================================================================\n",
            " embedding_2 (Embedding)     (None, 500, 100)          1000000   \n",
            "                                                                 \n",
            " dropout_2 (Dropout)         (None, 500, 100)          0         \n",
            "                                                                 \n",
            " conv1d_3 (Conv1D)           (None, 496, 64)           32064     \n",
            "                                                                 \n",
            " max_pooling1d_3 (MaxPooling  (None, 99, 64)           0         \n",
            " 1D)                                                             \n",
            "                                                                 \n",
            " global_max_pooling1d_1 (Glo  (None, 64)               0         \n",
            " balMaxPooling1D)                                                \n",
            "                                                                 \n",
            " dense_2 (Dense)             (None, 100)               6500      \n",
            "                                                                 \n",
            " dense_3 (Dense)             (None, 1)                 101       \n",
            "                                                                 \n",
            "=================================================================\n",
            "Total params: 1,038,665\n",
            "Trainable params: 1,038,665\n",
            "Non-trainable params: 0\n",
            "_________________________________________________________________\n"
          ]
        }
      ]
    },
    {
      "cell_type": "code",
      "source": [
        "model3.compile('adam', 'binary_crossentropy', ['accuracy'])\n",
        "model3_path = 'best-imdb-conv1d-dense.h5'\n",
        "mc3 = ModelCheckpoint(model3_path, verbose=1, save_best_only=True)\n",
        "es3 = EarlyStopping(patience=5)"
      ],
      "metadata": {
        "id": "hqgiblTEHx7l"
      },
      "execution_count": 15,
      "outputs": []
    },
    {
      "cell_type": "code",
      "source": [
        "hist3 = model3.fit(\n",
        "    X_train, y_train, validation_split=0.2,\n",
        "    epochs=30, batch_size=64, callbacks=[mc3,es3]\n",
        ")"
      ],
      "metadata": {
        "colab": {
          "base_uri": "https://localhost:8080/"
        },
        "id": "lyKkVbbfIVJV",
        "outputId": "05f4eeb3-ead1-41dc-93b1-aa4f70039cd2"
      },
      "execution_count": 16,
      "outputs": [
        {
          "output_type": "stream",
          "name": "stdout",
          "text": [
            "Epoch 1/30\n",
            "245/250 [============================>.] - ETA: 0s - loss: 0.5826 - accuracy: 0.6620\n",
            "Epoch 1: val_loss improved from inf to 0.38888, saving model to best-imdb-conv1d-dense.h5\n",
            "250/250 [==============================] - 3s 9ms/step - loss: 0.5789 - accuracy: 0.6652 - val_loss: 0.3889 - val_accuracy: 0.8282\n",
            "Epoch 2/30\n",
            "244/250 [============================>.] - ETA: 0s - loss: 0.3134 - accuracy: 0.8688\n",
            "Epoch 2: val_loss improved from 0.38888 to 0.30136, saving model to best-imdb-conv1d-dense.h5\n",
            "250/250 [==============================] - 2s 9ms/step - loss: 0.3144 - accuracy: 0.8685 - val_loss: 0.3014 - val_accuracy: 0.8742\n",
            "Epoch 3/30\n",
            "244/250 [============================>.] - ETA: 0s - loss: 0.2103 - accuracy: 0.9182\n",
            "Epoch 3: val_loss improved from 0.30136 to 0.29671, saving model to best-imdb-conv1d-dense.h5\n",
            "250/250 [==============================] - 2s 8ms/step - loss: 0.2099 - accuracy: 0.9185 - val_loss: 0.2967 - val_accuracy: 0.8770\n",
            "Epoch 4/30\n",
            "248/250 [============================>.] - ETA: 0s - loss: 0.1409 - accuracy: 0.9488\n",
            "Epoch 4: val_loss did not improve from 0.29671\n",
            "250/250 [==============================] - 3s 11ms/step - loss: 0.1409 - accuracy: 0.9489 - val_loss: 0.3100 - val_accuracy: 0.8838\n",
            "Epoch 5/30\n",
            "246/250 [============================>.] - ETA: 0s - loss: 0.0933 - accuracy: 0.9673\n",
            "Epoch 5: val_loss did not improve from 0.29671\n",
            "250/250 [==============================] - 3s 11ms/step - loss: 0.0939 - accuracy: 0.9671 - val_loss: 0.3506 - val_accuracy: 0.8823\n",
            "Epoch 6/30\n",
            "250/250 [==============================] - ETA: 0s - loss: 0.0608 - accuracy: 0.9804\n",
            "Epoch 6: val_loss did not improve from 0.29671\n",
            "250/250 [==============================] - 2s 10ms/step - loss: 0.0608 - accuracy: 0.9804 - val_loss: 0.3717 - val_accuracy: 0.8815\n",
            "Epoch 7/30\n",
            "247/250 [============================>.] - ETA: 0s - loss: 0.0408 - accuracy: 0.9863\n",
            "Epoch 7: val_loss did not improve from 0.29671\n",
            "250/250 [==============================] - 2s 8ms/step - loss: 0.0413 - accuracy: 0.9862 - val_loss: 0.4469 - val_accuracy: 0.8733\n",
            "Epoch 8/30\n",
            "250/250 [==============================] - ETA: 0s - loss: 0.0372 - accuracy: 0.9872\n",
            "Epoch 8: val_loss did not improve from 0.29671\n",
            "250/250 [==============================] - 2s 8ms/step - loss: 0.0372 - accuracy: 0.9872 - val_loss: 0.4237 - val_accuracy: 0.8798\n"
          ]
        }
      ]
    },
    {
      "cell_type": "code",
      "source": [
        "best_model3 = load_model(model3_path)\n",
        "best_model3.evaluate(X_test, y_test)"
      ],
      "metadata": {
        "colab": {
          "base_uri": "https://localhost:8080/"
        },
        "id": "CEskH4ECIYoU",
        "outputId": "ba8ad477-7645-47f9-d6aa-dc18888831fd"
      },
      "execution_count": 17,
      "outputs": [
        {
          "output_type": "stream",
          "name": "stdout",
          "text": [
            "157/157 [==============================] - 1s 3ms/step - loss: 0.3079 - accuracy: 0.8740\n"
          ]
        },
        {
          "output_type": "execute_result",
          "data": {
            "text/plain": [
              "[0.30789482593536377, 0.8740000128746033]"
            ]
          },
          "metadata": {},
          "execution_count": 17
        }
      ]
    }
  ]
}