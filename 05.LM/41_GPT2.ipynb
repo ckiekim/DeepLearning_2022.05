{
  "nbformat": 4,
  "nbformat_minor": 0,
  "metadata": {
    "colab": {
      "name": "41_GPT2.ipynb",
      "provenance": [],
      "collapsed_sections": []
    },
    "kernelspec": {
      "name": "python3",
      "display_name": "Python 3"
    }
  },
  "cells": [
    {
      "cell_type": "markdown",
      "metadata": {
        "id": "zBjBNQX8kQfh"
      },
      "source": [
        "# GPT(Generative Pre-trained Transformer) 2\n",
        "\n",
        "* 참고: https://github.com/NLP-kr/tensorflow-ml-nlp-tf2"
      ]
    },
    {
      "cell_type": "markdown",
      "metadata": {
        "id": "gKeqNH_dkTmT"
      },
      "source": [
        "* OpenAI에서 GPT 모델 제안\n",
        "* 매우 큰 자연어 처리 데이터를 활용해 비지도 학습으로 사전 학습 후 학습된 가중치를 활용해 파인 튜닝\n",
        "* BERT와 마찬가지로 트랜스포머 모델이지만, BERT는 트랜스포머의 인코더 구조만 사용하고, GPT는 트랜스포머의 디코더 구조(순방향 어텐션)만 사용\n",
        "\n",
        "* GPT2는 GPT1에서 개선되어 레이어 정규화가 부분 블록의 입력쪽에서 사용되고, 셀프 어텐션 이후에 레이어 정규화 적용\n",
        "* GPT2는 GPT1에 비교해 크기가 매우 커진 향상된 모델 사용"
      ]
    },
    {
      "cell_type": "markdown",
      "metadata": {
        "id": "sDCr0YqjbfLJ"
      },
      "source": [
        "## 라이브러리"
      ]
    },
    {
      "cell_type": "code",
      "metadata": {
        "id": "_ixYBCR8bguE"
      },
      "source": [
        "!pip install transformers==2.11.0 > /dev/null\n",
        "!pip install tensorflow==2.2.0 > /dev/null\n",
        "!pip install sentencepiece==0.1.85 > /dev/null\n",
        "!pip install gluonnlp==0.9.1 > /dev/null\n",
        "!pip install mxnet==1.6.0 > /dev/null"
      ],
      "execution_count": 4,
      "outputs": []
    },
    {
      "cell_type": "markdown",
      "metadata": {
        "id": "VPhczTnFjsG4"
      },
      "source": [
        "## 데이터 다운로드\n",
        "\n",
        "* https://raw.githubusercontent.com/NLP-kr/tensorflow-ml-nlp-tf2/master/7.PRETRAIN_METHOD/data_in/KOR/finetune_data.txt"
      ]
    },
    {
      "cell_type": "code",
      "metadata": {
        "id": "hyCKy2LtjsG7",
        "colab": {
          "base_uri": "https://localhost:8080/"
        },
        "outputId": "401ddd58-3582-4332-c00a-e1890152aa76"
      },
      "source": [
        "!mkdir -p gpt2\n",
        "!wget https://raw.githubusercontent.com/NLP-kr/tensorflow-ml-nlp-tf2/master/7.PRETRAIN_METHOD/data_in/KOR/finetune_data.txt \\\n",
        "    -O gpt2/finetune_data.txt"
      ],
      "execution_count": 5,
      "outputs": [
        {
          "output_type": "stream",
          "name": "stdout",
          "text": [
            "--2022-06-13 05:05:14--  https://raw.githubusercontent.com/NLP-kr/tensorflow-ml-nlp-tf2/master/7.PRETRAIN_METHOD/data_in/KOR/finetune_data.txt\n",
            "Resolving raw.githubusercontent.com (raw.githubusercontent.com)... 185.199.110.133, 185.199.109.133, 185.199.111.133, ...\n",
            "Connecting to raw.githubusercontent.com (raw.githubusercontent.com)|185.199.110.133|:443... connected.\n",
            "HTTP request sent, awaiting response... 200 OK\n",
            "Length: 24570 (24K) [text/plain]\n",
            "Saving to: ‘gpt2/finetune_data.txt’\n",
            "\n",
            "\rgpt2/finetune_data.   0%[                    ]       0  --.-KB/s               \rgpt2/finetune_data. 100%[===================>]  23.99K  --.-KB/s    in 0.001s  \n",
            "\n",
            "2022-06-13 05:05:14 (46.4 MB/s) - ‘gpt2/finetune_data.txt’ saved [24570/24570]\n",
            "\n"
          ]
        }
      ]
    },
    {
      "cell_type": "code",
      "metadata": {
        "id": "-pGgee8pjsHB"
      },
      "source": [
        "import os\n",
        "import numpy as np\n",
        "import gluonnlp as nlp\n",
        "from gluonnlp.data import SentencepieceTokenizer\n",
        "from nltk.tokenize import sent_tokenize\n",
        "\n",
        "import tensorflow as tf\n",
        "from tensorflow.keras.preprocessing.sequence import pad_sequences\n",
        "from transformers import TFGPT2LMHeadModel"
      ],
      "execution_count": 6,
      "outputs": []
    },
    {
      "cell_type": "markdown",
      "metadata": {
        "id": "ROOajn6VIzgy"
      },
      "source": [
        "## 사전 학습 모델\n",
        "\n",
        "* https://www.dropbox.com/s/nzfa9xpzm4edp6o/gpt_ckpt.zip"
      ]
    },
    {
      "cell_type": "code",
      "metadata": {
        "id": "yoGiYGG1jsHJ",
        "colab": {
          "base_uri": "https://localhost:8080/"
        },
        "outputId": "6f64855d-360c-44bf-c639-e07029b182cb"
      },
      "source": [
        "!wget https://www.dropbox.com/s/nzfa9xpzm4edp6o/gpt_ckpt.zip -O gpt_ckpt.zip\n",
        "!unzip -o gpt_ckpt.zip"
      ],
      "execution_count": 7,
      "outputs": [
        {
          "output_type": "stream",
          "name": "stdout",
          "text": [
            "--2022-06-13 05:06:57--  https://www.dropbox.com/s/nzfa9xpzm4edp6o/gpt_ckpt.zip\n",
            "Resolving www.dropbox.com (www.dropbox.com)... 162.125.1.18, 2620:100:6016:18::a27d:112\n",
            "Connecting to www.dropbox.com (www.dropbox.com)|162.125.1.18|:443... connected.\n",
            "HTTP request sent, awaiting response... 301 Moved Permanently\n",
            "Location: /s/raw/nzfa9xpzm4edp6o/gpt_ckpt.zip [following]\n",
            "--2022-06-13 05:06:58--  https://www.dropbox.com/s/raw/nzfa9xpzm4edp6o/gpt_ckpt.zip\n",
            "Reusing existing connection to www.dropbox.com:443.\n",
            "HTTP request sent, awaiting response... 302 Found\n",
            "Location: https://uc7ac95eb127642d2c067785e7ae.dl.dropboxusercontent.com/cd/0/inline/BnFbDANvX3ZZrnwTVJvzhVTkDUDadX8yOKEMlovkmDnPsTNfMA42lt5B0CZHt6WO-D82vd26Gg6P9rPSkQMMA_QsrqYDtMNiZHpnaJWQmqsygEUdGPkib4VtRRo4yetjS_eHoaVAdHBHxAo_TWuTqzFkgwbZNs5Sjp2p_2yV-8pv3A/file# [following]\n",
            "--2022-06-13 05:06:58--  https://uc7ac95eb127642d2c067785e7ae.dl.dropboxusercontent.com/cd/0/inline/BnFbDANvX3ZZrnwTVJvzhVTkDUDadX8yOKEMlovkmDnPsTNfMA42lt5B0CZHt6WO-D82vd26Gg6P9rPSkQMMA_QsrqYDtMNiZHpnaJWQmqsygEUdGPkib4VtRRo4yetjS_eHoaVAdHBHxAo_TWuTqzFkgwbZNs5Sjp2p_2yV-8pv3A/file\n",
            "Resolving uc7ac95eb127642d2c067785e7ae.dl.dropboxusercontent.com (uc7ac95eb127642d2c067785e7ae.dl.dropboxusercontent.com)... 162.125.1.15, 2620:100:6018:15::a27d:30f\n",
            "Connecting to uc7ac95eb127642d2c067785e7ae.dl.dropboxusercontent.com (uc7ac95eb127642d2c067785e7ae.dl.dropboxusercontent.com)|162.125.1.15|:443... connected.\n",
            "HTTP request sent, awaiting response... 302 Found\n",
            "Location: /cd/0/inline2/BnHo3DNeYyeDCAp1qaNpKvZllO2zZTIcTN7NcpLc6_TyPSJUjNfKOOfIilGonUHm1WQNDId04sBJg4XYvV-5QCSgL6r4qLDU7wDBvQFvvace3-gxXU5i6PmXOz8DcSz6IMYISGeKGvpZ6UE7wym_YxVydONHxTNImA8N3jXvNT0Ye0by89pdtfXAus2jnE519_fdlnP5kZ52ltAEAwVxkPTkWT0plyRBjxfSxPOuKxdy5pipoS7DYANC0BzxpSVahAItF0bmpm0OvkS9p9BwBG_d5Qc4ircwDui8qZy54Hgk8clwSweqE7MKKHnIXfb7sB2nNHeO_B-5tQUKrJbLgEwaK9Gidplc-GTF2ugrllbTCqbiZxWoDye0EuRqxh0_5fVFZcpL_EI8KPY_fzbMKZ91Bqt5l0x7zU_0dBFvFbVARQ/file [following]\n",
            "--2022-06-13 05:06:58--  https://uc7ac95eb127642d2c067785e7ae.dl.dropboxusercontent.com/cd/0/inline2/BnHo3DNeYyeDCAp1qaNpKvZllO2zZTIcTN7NcpLc6_TyPSJUjNfKOOfIilGonUHm1WQNDId04sBJg4XYvV-5QCSgL6r4qLDU7wDBvQFvvace3-gxXU5i6PmXOz8DcSz6IMYISGeKGvpZ6UE7wym_YxVydONHxTNImA8N3jXvNT0Ye0by89pdtfXAus2jnE519_fdlnP5kZ52ltAEAwVxkPTkWT0plyRBjxfSxPOuKxdy5pipoS7DYANC0BzxpSVahAItF0bmpm0OvkS9p9BwBG_d5Qc4ircwDui8qZy54Hgk8clwSweqE7MKKHnIXfb7sB2nNHeO_B-5tQUKrJbLgEwaK9Gidplc-GTF2ugrllbTCqbiZxWoDye0EuRqxh0_5fVFZcpL_EI8KPY_fzbMKZ91Bqt5l0x7zU_0dBFvFbVARQ/file\n",
            "Reusing existing connection to uc7ac95eb127642d2c067785e7ae.dl.dropboxusercontent.com:443.\n",
            "HTTP request sent, awaiting response... 200 OK\n",
            "Length: 460908853 (440M) [application/zip]\n",
            "Saving to: ‘gpt_ckpt.zip’\n",
            "\n",
            "gpt_ckpt.zip        100%[===================>] 439.56M   101MB/s    in 4.0s    \n",
            "\n",
            "2022-06-13 05:07:03 (109 MB/s) - ‘gpt_ckpt.zip’ saved [460908853/460908853]\n",
            "\n",
            "Archive:  gpt_ckpt.zip\n",
            "   creating: gpt_ckpt/\n",
            "  inflating: gpt_ckpt/gpt2_kor_tokenizer.spiece  \n",
            "  inflating: gpt_ckpt/config.json    \n",
            "  inflating: gpt_ckpt/tf_model.h5    \n"
          ]
        }
      ]
    },
    {
      "cell_type": "code",
      "metadata": {
        "id": "1fjeaDUNjsHP"
      },
      "source": [
        "class GPT2Mode(tf.keras.Model):\n",
        "    def __init__(self, dir_path):\n",
        "        super(GPT2Mode, self).__init__()\n",
        "        self.gpt2 = TFGPT2LMHeadModel.from_pretrained(dir_path)\n",
        "\n",
        "    def call(self, inputs):\n",
        "        return self.gpt2(inputs)[0]"
      ],
      "execution_count": 8,
      "outputs": []
    },
    {
      "cell_type": "code",
      "metadata": {
        "id": "9qlmm2I0jsHV"
      },
      "source": [
        "BASE_MODE_PATH = './gpt_ckpt'\n",
        "gpt_model = GPT2Mode(BASE_MODE_PATH)"
      ],
      "execution_count": 9,
      "outputs": []
    },
    {
      "cell_type": "code",
      "metadata": {
        "id": "g5ilayG3jsHc",
        "colab": {
          "base_uri": "https://localhost:8080/"
        },
        "outputId": "8e76ad72-0025-488f-a9f7-bfb728eea8b5"
      },
      "source": [
        "BATCH_SIZE = 16\n",
        "NUM_EPOCHS = 10\n",
        "MAX_LEN = 30\n",
        "TOKENIZER_PATH = './gpt_ckpt/gpt2_kor_tokenizer.spiece'\n",
        "\n",
        "tokenizer = SentencepieceTokenizer(TOKENIZER_PATH)\n",
        "nlp.vocab.BERTVocab.from_sentencepiece(TOKENIZER_PATH, \n",
        "                                       mask_token=None, sep_token=None, cls_token=None,\n",
        "                                       unknown_token='<unk>', padding_token='<pad>',\n",
        "                                       bos_token='<s>', eos_token='</s>')"
      ],
      "execution_count": 10,
      "outputs": [
        {
          "output_type": "execute_result",
          "data": {
            "text/plain": [
              "Vocab(size=50000, unk=\"<unk>\", reserved=\"['<pad>', '<s>', '</s>']\")"
            ]
          },
          "metadata": {},
          "execution_count": 10
        }
      ]
    },
    {
      "cell_type": "code",
      "metadata": {
        "id": "TaFAxan-jsHg"
      },
      "source": [
        "def tf_top_k_pop_p_filtering(logits, top_k=0, top_p=0.0, filter_value=99999):\n",
        "    _logits = logits.numpy()\n",
        "    top_k = min(top_k, logits.shape[-1])\n",
        "    if top_k > 0:\n",
        "        indices_to_remove = logits < tf.math.top_k(logits, top_k)[0][..., -1, None]\n",
        "        _logits[indices_to_remove] = filter_value\n",
        "    \n",
        "    if top_p > 0.0:\n",
        "        sorted_logits = tf.sort(logits, direction='DESCENDING')\n",
        "        sorted_indices = tf.argsort(logits, direction='DESCENDING')\n",
        "        cumulative_probs = tf.math.cumsum(tf.nn.softmax(sorted_logits, axis=-1), axis=-1)\n",
        "        sorted_indices_to_remove = cumulative_probs > top_p\n",
        "        sorted_indices_to_remove = tf.concat([False], ssorted_indices_to_remove[..., :-1], axis=0)\n",
        "        indices_to_remove = sorted_indices[sorted_indices_to_remove].numpy().tolist()\n",
        "        _logits[indices_to_remove] = filter_value\n",
        "\n",
        "    return tf.constant([_logits])"
      ],
      "execution_count": 11,
      "outputs": []
    },
    {
      "cell_type": "code",
      "source": [
        "def generate_sentence(seed_word, model, max_step=100, greedy=False, top_k=0, top_p=0.):\n",
        "    sentence = seed_word\n",
        "    toked = tokenizer(sentence)\n",
        "\n",
        "    for _ in range(max_step):\n",
        "        input_ids = tf.constant([vocab[vocab.bos_token],] + vocab[toked])[None, :]\n",
        "        outputs = model(input_ids)[:, -1, :]\n",
        "        if greedy:\n",
        "            gen = vocab.to_tokens(tf.argmax(outputs, axis=-1).numpy().tolist()[0])\n",
        "        else:\n",
        "            output_logit = tf_top_k_pop_p_filtering(outputs[0], top_k=top_k, top_p=top_p)\n",
        "            gen = vocab.to_tokens(tf.random.categorical(output_logit, 1).numpy().tolist()[0])[0]\n",
        "        if gen == '</s>':\n",
        "            break\n",
        "\n",
        "        sentence += gen.replace('')"
      ],
      "metadata": {
        "id": "5OtonCODhnQq"
      },
      "execution_count": null,
      "outputs": []
    },
    {
      "cell_type": "code",
      "metadata": {
        "id": "q6bhahzWjsHl"
      },
      "source": [
        ""
      ],
      "execution_count": null,
      "outputs": []
    },
    {
      "cell_type": "code",
      "metadata": {
        "id": "GW5jmfiejsHr"
      },
      "source": [
        ""
      ],
      "execution_count": null,
      "outputs": []
    },
    {
      "cell_type": "markdown",
      "metadata": {
        "id": "M5yWJea3I7-n"
      },
      "source": [
        "## 데이터 준비"
      ]
    },
    {
      "cell_type": "code",
      "metadata": {
        "id": "CVWJaywYjsHw"
      },
      "source": [
        ""
      ],
      "execution_count": null,
      "outputs": []
    },
    {
      "cell_type": "code",
      "metadata": {
        "id": "zVXUVGH5jsH0"
      },
      "source": [
        ""
      ],
      "execution_count": null,
      "outputs": []
    },
    {
      "cell_type": "markdown",
      "metadata": {
        "id": "O4fmyXIZJMxm"
      },
      "source": [
        "## 모델 학습"
      ]
    },
    {
      "cell_type": "code",
      "metadata": {
        "id": "NDIvpflCjsH5"
      },
      "source": [
        ""
      ],
      "execution_count": null,
      "outputs": []
    },
    {
      "cell_type": "code",
      "metadata": {
        "id": "GxW9BUs-jsH9"
      },
      "source": [
        ""
      ],
      "execution_count": null,
      "outputs": []
    },
    {
      "cell_type": "code",
      "metadata": {
        "id": "McrNa1eEjsIC"
      },
      "source": [
        ""
      ],
      "execution_count": null,
      "outputs": []
    },
    {
      "cell_type": "code",
      "metadata": {
        "id": "GFJHOJDqjsIG"
      },
      "source": [
        ""
      ],
      "execution_count": null,
      "outputs": []
    },
    {
      "cell_type": "code",
      "metadata": {
        "id": "VBYN8CuxjsIK"
      },
      "source": [
        ""
      ],
      "execution_count": null,
      "outputs": []
    },
    {
      "cell_type": "code",
      "metadata": {
        "id": "GeP5zGxHjsIN"
      },
      "source": [
        ""
      ],
      "execution_count": null,
      "outputs": []
    },
    {
      "cell_type": "markdown",
      "metadata": {
        "id": "-BZEEq4mIMhr"
      },
      "source": [
        "# GPT2 네이버 영화 리뷰 분류"
      ]
    },
    {
      "cell_type": "markdown",
      "metadata": {
        "id": "ZTXFkRQYxGa0"
      },
      "source": [
        "## 데이터 다운로드"
      ]
    },
    {
      "cell_type": "code",
      "metadata": {
        "scrolled": true,
        "id": "ijkw_0U2xGa-"
      },
      "source": [
        ""
      ],
      "execution_count": null,
      "outputs": []
    },
    {
      "cell_type": "code",
      "metadata": {
        "id": "iNs8XHaUxGbQ"
      },
      "source": [
        ""
      ],
      "execution_count": null,
      "outputs": []
    },
    {
      "cell_type": "markdown",
      "metadata": {
        "id": "jcbcRQKwxGbW"
      },
      "source": [
        "## 데이터 준비"
      ]
    },
    {
      "cell_type": "code",
      "metadata": {
        "id": "wpABh-81xGbW"
      },
      "source": [
        ""
      ],
      "execution_count": null,
      "outputs": []
    },
    {
      "cell_type": "code",
      "metadata": {
        "id": "rqPVUEwjxGbb"
      },
      "source": [
        ""
      ],
      "execution_count": null,
      "outputs": []
    },
    {
      "cell_type": "markdown",
      "metadata": {
        "id": "0I6dM15ym7uK"
      },
      "source": [
        "* https://raw.githubusercontent.com/e9t/nsmc/master/ratings_train.txt\n",
        "* https://raw.githubusercontent.com/e9t/nsmc/master/ratings_test.txt\n"
      ]
    },
    {
      "cell_type": "code",
      "metadata": {
        "id": "IetCxzkbxGbf"
      },
      "source": [
        ""
      ],
      "execution_count": null,
      "outputs": []
    },
    {
      "cell_type": "code",
      "metadata": {
        "id": "R_ZCDWgskiRp"
      },
      "source": [
        ""
      ],
      "execution_count": null,
      "outputs": []
    },
    {
      "cell_type": "code",
      "metadata": {
        "id": "vVnAFFU-kiny"
      },
      "source": [
        ""
      ],
      "execution_count": null,
      "outputs": []
    },
    {
      "cell_type": "code",
      "metadata": {
        "id": "lF8f3VcJxGbj"
      },
      "source": [
        ""
      ],
      "execution_count": null,
      "outputs": []
    },
    {
      "cell_type": "code",
      "metadata": {
        "id": "zuAoVmTGxGbo"
      },
      "source": [
        ""
      ],
      "execution_count": null,
      "outputs": []
    },
    {
      "cell_type": "markdown",
      "metadata": {
        "id": "4w_U2EMQxGbs"
      },
      "source": [
        "## 모델 학습"
      ]
    },
    {
      "cell_type": "code",
      "metadata": {
        "id": "5JYb6XjgxGbu"
      },
      "source": [
        ""
      ],
      "execution_count": null,
      "outputs": []
    },
    {
      "cell_type": "code",
      "metadata": {
        "id": "3oUfrW5TxGby"
      },
      "source": [
        ""
      ],
      "execution_count": null,
      "outputs": []
    },
    {
      "cell_type": "code",
      "metadata": {
        "id": "5OsxKKImxGb1"
      },
      "source": [
        ""
      ],
      "execution_count": null,
      "outputs": []
    },
    {
      "cell_type": "code",
      "metadata": {
        "id": "yRF8D388xGb5"
      },
      "source": [
        ""
      ],
      "execution_count": null,
      "outputs": []
    },
    {
      "cell_type": "code",
      "metadata": {
        "id": "UGj4h0l3xGb9"
      },
      "source": [
        ""
      ],
      "execution_count": null,
      "outputs": []
    },
    {
      "cell_type": "code",
      "metadata": {
        "id": "7x-FC6BDxGcB"
      },
      "source": [
        ""
      ],
      "execution_count": null,
      "outputs": []
    },
    {
      "cell_type": "markdown",
      "metadata": {
        "id": "YKJx63kSxGcF"
      },
      "source": [
        "## 모델 평가"
      ]
    },
    {
      "cell_type": "code",
      "metadata": {
        "id": "VywcseLrxGcH"
      },
      "source": [
        ""
      ],
      "execution_count": null,
      "outputs": []
    },
    {
      "cell_type": "code",
      "metadata": {
        "id": "Wj3dRljzxGcP"
      },
      "source": [
        ""
      ],
      "execution_count": null,
      "outputs": []
    }
  ]
}