{
  "nbformat": 4,
  "nbformat_minor": 0,
  "metadata": {
    "colab": {
      "name": "적대적_생성_신경망(Generative_Adversarial_Networks,_GAN).ipynb",
      "provenance": [],
      "collapsed_sections": []
    },
    "kernelspec": {
      "name": "python3",
      "display_name": "Python 3"
    },
    "accelerator": "GPU",
    "gpuClass": "standard"
  },
  "cells": [
    {
      "cell_type": "markdown",
      "metadata": {
        "id": "N4bgoCUp5Vnu"
      },
      "source": [
        "- 내용 및 코드 참조 \n",
        "\n",
        "  - 케라스 창시자로부터 배우는 딥러닝\n",
        "\n",
        "  - 미술관에 GAN 딥러닝 실전 프로젝트 "
      ]
    },
    {
      "cell_type": "markdown",
      "metadata": {
        "id": "PeLTZPP-sQ5x"
      },
      "source": [
        "# 적대적 생성 신경망(Generative Adversarial Networks, GAN)\n",
        "\n",
        "- 2014년, Ian Goodfellow 소개\n",
        "\n",
        "- VAE와는 다른 방법으로 이미지 잠재 공간을 학습\n",
        "\n",
        "- 직관적으로 이해하는 방법\n",
        "\n",
        "  - 가짜 피카소 그림을 그리는 위조범과 이를 판별하는 판매상의 관계\n",
        "\n",
        "  - 위조품과 진짜 그림을 섞어서 판매상에게 보여주며  \n",
        "    그림이 진짜인지 가짜인지 판매상은 판별하고 이를 위조범에게 피드백\n",
        "\n",
        "  - 처음에는 형편없는 그림을 그리다가 점점 피카소의 스타일을 모방하게 되고  \n",
        "    판매상은 위조품을 구분하는데 점점 더 전문가가 되어감\n",
        "\n",
        "- GAN의 네트워크\n",
        "\n",
        "  - 생성자 네트워크(generator network)\n",
        "\n",
        "    - 랜덤 벡터(잠재 공간의 무작위한 포인트)를 입력으로 받아 이를 합성된 이미지로 디코딩\n",
        "\n",
        "  - 판별자 네트워크(discriminator netowrk)\n",
        "\n",
        "    - 이미지(실제 또는 가짜 이미지)를 입력으로 받아 훈련 세트에서 온 이미지인지 생성자가 만든 이미지인지 판별\n",
        "\n",
        "- GAN은 최적화의 최솟값이 고정되어 있지 않음\n",
        "\n",
        "  - 보통의 경사하강법은 **고정된 손실공간**에서 언덕을 내려오는 훈련 방법이지만  \n",
        "    GAN은 매 단계가 조금씩 전체 공간을 바꾸기 때문에 최적화 과정이 최솟값을 찾는 것이 어려움\n",
        "\n",
        "  - 두 힘간의 평형점을 찾는 시스템\n",
        "\n",
        "  - 따라서, 학습과정이 매우 어려움  \n",
        "    즉, 적절한 파라미터를 찾고 조정해야함\n",
        "  \n",
        "  <img src=\"https://paperswithcode.com/media/methods/gan.jpeg\">\n",
        "\n",
        "  <sub>[이미지 출처] https://paperswithcode.com/method/gan</sub>"
      ]
    },
    {
      "cell_type": "markdown",
      "metadata": {
        "id": "yHhtFZ1huWoB"
      },
      "source": [
        "## GAN의 구현 (DCGAN)\n",
        "\n",
        "- CIFAR10 데이터셋 사용\n",
        "\n",
        "- generator 네트워크는 (latent_dim,) 크기의 벡터를 (32, 32, 3) 크기의 이미지로 매핑\n",
        "\n",
        "- discriminator 네트워크는 (32, 32, 3) 크기의 이미지가 진짜일 확률을 추정하여 이진값으로 매핑\n",
        "\n",
        "- 생성자와 판별자를 연결하는 gan 네트워크를 만듬  \n",
        "  \n",
        "  - gan(x) = discriminator(generator(x))\n",
        "\n",
        "- 진짜/가짜 레이블과 함께 진짜 이미지와 가짜 이미지 샘플을 사용하여 판별자를 훈련 (일반적인 이미지 분류 모델 훈련과 동일)\n",
        "\n",
        "- 생성자를 훈련하려면 gan 모델의 손실에 대한 생성자 가중치의 그래디언트를 사용\n",
        "\n",
        "  - 매 단계마다 생성자에 의해 디코딩된 이미지를 판별자가 \"진짜\"로 분류하도록 만다는 방향으로 생성자의 가중치를 이동\n",
        "\n",
        "  - 판별자를 속이도록 생성자를 훈련한다는 말\n"
      ]
    },
    {
      "cell_type": "markdown",
      "metadata": {
        "id": "Rb4JHajh1gXx"
      },
      "source": [
        "## 학습 방법\n",
        "\n",
        "- 마지막 활성화 함수로 sigmoid 대신 tanh함수 사용\n",
        "\n",
        "- 균등분포가 아니고 정규 분포(가우시안 분포)를 사용하여 잠재 공간에서 포인트를 샘플링\n",
        "\n",
        "- 무작위성을 주입\n",
        "\n",
        "  - 판별자에 드롭아웃을 사용\n",
        "\n",
        "  - 판별자를 위해 레이블에 랜덤 노이즈를 추가\n",
        "\n",
        "- 희소한 그래디언트는 GAN 훈련에 방해가 될 수 있음\n",
        "\n",
        "  - 최대 풀링 대신 스트라이드 합성곱을 사용하여 다운샘플링\n",
        "\n",
        "  - ReLU 대신 LeakyReLU 사용\n",
        "\n",
        "- 생성자에서 픽셀 공간을 균일하게 다루지 못하여 생성된 이미지에서 체스판 모양이 종종 나타남.  \n",
        "  이를 위해 생성자와 판별자에서 스트라이드 Conv2DTranpose나 Conv2D를 사용할 때 스트라이드 크기로 나누어 질 수 있는 커널 크기 사용\n",
        "\n",
        "  - 커널 크기가 스트라이드의 배수가 아니면 픽셀이 공평하게 합성곱 되지 않음  \n",
        "    커널 크기를 스트라이드로 나누었을 때 나머지 크기에 해당하는 픽셀이 더 많이 업샘플링에 참여하게 됨"
      ]
    },
    {
      "cell_type": "markdown",
      "metadata": {
        "id": "PiIV25ew2SDq"
      },
      "source": [
        "### GAN 생성자 네트워크\n"
      ]
    },
    {
      "cell_type": "code",
      "metadata": {
        "id": "z-y52HdbXSkq"
      },
      "source": [
        "import tensorflow as tf\n",
        "from tensorflow.keras.layers import Input, Dense, LeakyReLU, Reshape, Conv2D, Conv2DTranspose, Flatten, Dropout\n",
        "from tensorflow.keras.models import Model\n",
        "import numpy as np "
      ],
      "execution_count": 24,
      "outputs": []
    },
    {
      "cell_type": "code",
      "metadata": {
        "id": "YkWJCAGF2o0r"
      },
      "source": [
        "latent_dim = 32\n",
        "height, width, channels = 32, 32, 3"
      ],
      "execution_count": 25,
      "outputs": []
    },
    {
      "cell_type": "code",
      "metadata": {
        "id": "HVp1CdYG2tu0"
      },
      "source": [
        "generator_input = Input(shape=(latent_dim,))"
      ],
      "execution_count": 26,
      "outputs": []
    },
    {
      "cell_type": "code",
      "metadata": {
        "id": "ZI2bVCCz2wgh"
      },
      "source": [
        "x = Dense(128 * 16 * 16)(generator_input)\n",
        "x = LeakyReLU()(x)\n",
        "x = Reshape((16, 16, 128))(x)\n",
        "\n",
        "x = Conv2D(256, 5, padding='same')(x)\n",
        "x = LeakyReLU()(x)\n",
        "\n",
        "x = Conv2DTranspose(256, 4, strides=2, padding='same')(x)\n",
        "x = LeakyReLU()(x)\n",
        "\n",
        "x = Conv2D(256, 5, padding='same')(x)\n",
        "x = LeakyReLU()(x)\n",
        "x = Conv2D(256, 5, padding='same')(x)\n",
        "x = LeakyReLU()(x)\n",
        "\n",
        "x = Conv2D(channels, 7, activation='tanh', padding='same')(x)"
      ],
      "execution_count": 27,
      "outputs": []
    },
    {
      "cell_type": "code",
      "metadata": {
        "id": "ZXH3m1bG26mC",
        "colab": {
          "base_uri": "https://localhost:8080/"
        },
        "outputId": "c44edb49-63d7-43a9-f7a1-166d37c03e60"
      },
      "source": [
        "generator = Model(generator_input, x)\n",
        "generator.summary()"
      ],
      "execution_count": 28,
      "outputs": [
        {
          "output_type": "stream",
          "name": "stdout",
          "text": [
            "Model: \"model_3\"\n",
            "_________________________________________________________________\n",
            " Layer (type)                Output Shape              Param #   \n",
            "=================================================================\n",
            " input_4 (InputLayer)        [(None, 32)]              0         \n",
            "                                                                 \n",
            " dense_2 (Dense)             (None, 32768)             1081344   \n",
            "                                                                 \n",
            " leaky_re_lu_9 (LeakyReLU)   (None, 32768)             0         \n",
            "                                                                 \n",
            " reshape_1 (Reshape)         (None, 16, 16, 128)       0         \n",
            "                                                                 \n",
            " conv2d_8 (Conv2D)           (None, 16, 16, 256)       819456    \n",
            "                                                                 \n",
            " leaky_re_lu_10 (LeakyReLU)  (None, 16, 16, 256)       0         \n",
            "                                                                 \n",
            " conv2d_transpose_1 (Conv2DT  (None, 32, 32, 256)      1048832   \n",
            " ranspose)                                                       \n",
            "                                                                 \n",
            " leaky_re_lu_11 (LeakyReLU)  (None, 32, 32, 256)       0         \n",
            "                                                                 \n",
            " conv2d_9 (Conv2D)           (None, 32, 32, 256)       1638656   \n",
            "                                                                 \n",
            " leaky_re_lu_12 (LeakyReLU)  (None, 32, 32, 256)       0         \n",
            "                                                                 \n",
            " conv2d_10 (Conv2D)          (None, 32, 32, 256)       1638656   \n",
            "                                                                 \n",
            " leaky_re_lu_13 (LeakyReLU)  (None, 32, 32, 256)       0         \n",
            "                                                                 \n",
            " conv2d_11 (Conv2D)          (None, 32, 32, 3)         37635     \n",
            "                                                                 \n",
            "=================================================================\n",
            "Total params: 6,264,579\n",
            "Trainable params: 6,264,579\n",
            "Non-trainable params: 0\n",
            "_________________________________________________________________\n"
          ]
        }
      ]
    },
    {
      "cell_type": "markdown",
      "metadata": {
        "id": "UnRjKuGy3By9"
      },
      "source": [
        "### GAN 판별자 네트워크\n"
      ]
    },
    {
      "cell_type": "code",
      "metadata": {
        "id": "A0rd_EYq3Epn"
      },
      "source": [
        "discriminator_input = Input(shape=(height, width, channels))"
      ],
      "execution_count": 29,
      "outputs": []
    },
    {
      "cell_type": "code",
      "metadata": {
        "id": "pcJ8iXrO3BXO"
      },
      "source": [
        "x = Conv2D(128, 3)(discriminator_input)\n",
        "x = LeakyReLU()(x)\n",
        "x = Conv2D(128, 4, strides=2)(x)\n",
        "x = LeakyReLU()(x)\n",
        "x = Conv2D(128, 4, strides=2)(x)\n",
        "x = LeakyReLU()(x)\n",
        "x = Conv2D(128, 4, strides=2)(x)\n",
        "x = LeakyReLU()(x)\n",
        "x = Flatten()(x)\n",
        "x = Dropout(0.4)(x)\n",
        "x = Dense(1, activation='sigmoid')(x)"
      ],
      "execution_count": 30,
      "outputs": []
    },
    {
      "cell_type": "code",
      "metadata": {
        "id": "QTOcKzW92-Nf",
        "colab": {
          "base_uri": "https://localhost:8080/"
        },
        "outputId": "c37e967e-c2f0-4119-912f-ec3b2a835325"
      },
      "source": [
        "discriminator = Model(discriminator_input, x)\n",
        "discriminator.summary()"
      ],
      "execution_count": 31,
      "outputs": [
        {
          "output_type": "stream",
          "name": "stdout",
          "text": [
            "Model: \"model_4\"\n",
            "_________________________________________________________________\n",
            " Layer (type)                Output Shape              Param #   \n",
            "=================================================================\n",
            " input_5 (InputLayer)        [(None, 32, 32, 3)]       0         \n",
            "                                                                 \n",
            " conv2d_12 (Conv2D)          (None, 30, 30, 128)       3584      \n",
            "                                                                 \n",
            " leaky_re_lu_14 (LeakyReLU)  (None, 30, 30, 128)       0         \n",
            "                                                                 \n",
            " conv2d_13 (Conv2D)          (None, 14, 14, 128)       262272    \n",
            "                                                                 \n",
            " leaky_re_lu_15 (LeakyReLU)  (None, 14, 14, 128)       0         \n",
            "                                                                 \n",
            " conv2d_14 (Conv2D)          (None, 6, 6, 128)         262272    \n",
            "                                                                 \n",
            " leaky_re_lu_16 (LeakyReLU)  (None, 6, 6, 128)         0         \n",
            "                                                                 \n",
            " conv2d_15 (Conv2D)          (None, 2, 2, 128)         262272    \n",
            "                                                                 \n",
            " leaky_re_lu_17 (LeakyReLU)  (None, 2, 2, 128)         0         \n",
            "                                                                 \n",
            " flatten_1 (Flatten)         (None, 512)               0         \n",
            "                                                                 \n",
            " dropout_1 (Dropout)         (None, 512)               0         \n",
            "                                                                 \n",
            " dense_3 (Dense)             (None, 1)                 513       \n",
            "                                                                 \n",
            "=================================================================\n",
            "Total params: 790,913\n",
            "Trainable params: 790,913\n",
            "Non-trainable params: 0\n",
            "_________________________________________________________________\n"
          ]
        }
      ]
    },
    {
      "cell_type": "code",
      "metadata": {
        "id": "WQuMOoH_3WbY"
      },
      "source": [
        "from tensorflow.keras.optimizers import RMSprop"
      ],
      "execution_count": 32,
      "outputs": []
    },
    {
      "cell_type": "code",
      "metadata": {
        "id": "H3zZbyx13TGi"
      },
      "source": [
        "discriminator_optimizer = RMSprop(learning_rate=0.0008, clipvalue=1.0, decay=1e-8)\n",
        "discriminator.compile(optimizer=discriminator_optimizer, loss='binary_crossentropy')"
      ],
      "execution_count": 33,
      "outputs": []
    },
    {
      "cell_type": "markdown",
      "metadata": {
        "id": "ayIotK_Q3iE7"
      },
      "source": [
        "### 적대적 네트워크\n",
        "- 생성자와 판별자를 연결\n",
        "\n",
        "- 훈련할 때 생성자가 판별자를 속이는 능력이 커지도록 학습\n",
        "\n",
        "- 잠재 공간의 포인트를 진짜 또는 가짜의 분류 결정으로 변환\n",
        "\n",
        "- 훈련에 사용되는 target label은 항상 \"진짜 이미지\"\n",
        "\n",
        "- 훈련하는 동안 판별자를 동결(학습되지 않도록)하는 것이 매우 중요!\n",
        "\n",
        "  - 판별자의 가중치가 훈련하는 동안 업데이트되면 판별자는 항상 진짜를 예측하도록 훈련됨"
      ]
    },
    {
      "cell_type": "code",
      "metadata": {
        "id": "eerQWi8_3auo"
      },
      "source": [
        "discriminator.trainable = False\n",
        "\n",
        "gan_input = Input(shape=(latent_dim,))\n",
        "gan_output = discriminator(generator(gan_input))\n",
        "gan = Model(gan_input, gan_output)\n",
        "\n",
        "gan_optimizer = RMSprop(learning_rate=0.0004, clipvalue=1.0, decay=1e-8)\n",
        "gan.compile(optimizer=gan_optimizer, loss='binary_crossentropy')"
      ],
      "execution_count": 34,
      "outputs": []
    },
    {
      "cell_type": "markdown",
      "metadata": {
        "id": "oP5cjQs74G5Q"
      },
      "source": [
        "### GAN 훈련 구현\n",
        "\n",
        "- DCGAN(Deep Convolutional Generative Adversarial Networks) 구현\n",
        "\n",
        "- 매 반복마다 아래의 과정 수행\n",
        "\n",
        "  1. 잠재 공간에서 무작위로 포인트를 뽑음(랜덤 노이즈)\n",
        "\n",
        "  2. 랜덤 노이즈를 사용하여 generator에서 이미지를 생성\n",
        "\n",
        "  3. 생성된 이미지와 진짜 이미지를 섞음\n",
        "\n",
        "  4. 진짜와 가짜가 섞인 이미지와 이에 대응하는 타깃을 사용하여 discriminator를 훈련  \n",
        "    타킷은 진짜 또는 가짜\n",
        "\n",
        "  5. 잠재 공간에서 무작위로 새로운 포인트를 뽑음\n",
        "\n",
        "  6. 랜덤 벡터를 사용하여 gan을 훈련.  \n",
        "    모든 타깃은 진짜로 설정. \n",
        "    - 판별자가 생성된 이미지를 모두 \"진짜 이미지\"라고 예측하도록 생성자의 가중치를 업데이트.  \n",
        "      (판별자는 동결되기 때문에 생성자만 업데이트)"
      ]
    },
    {
      "cell_type": "code",
      "metadata": {
        "id": "GimAaUDC4u-P"
      },
      "source": [
        "import os\n",
        "from tensorflow.keras.datasets import cifar10\n",
        "from tensorflow.keras.preprocessing import image"
      ],
      "execution_count": 35,
      "outputs": []
    },
    {
      "cell_type": "markdown",
      "metadata": {
        "id": "MLrdG7a84yFE"
      },
      "source": [
        "#### CIFAR10 데이터 로드"
      ]
    },
    {
      "cell_type": "code",
      "metadata": {
        "id": "siDPaZ-J3nSk"
      },
      "source": [
        "(x_train, y_train), (_, _) = cifar10.load_data()"
      ],
      "execution_count": 36,
      "outputs": []
    },
    {
      "cell_type": "markdown",
      "metadata": {
        "id": "LgzNpE6O4-ik"
      },
      "source": [
        "#### 개구리 이미지를 선택"
      ]
    },
    {
      "cell_type": "code",
      "metadata": {
        "id": "MBF8XEbj41ZU",
        "colab": {
          "base_uri": "https://localhost:8080/"
        },
        "outputId": "9f8c74ee-7e1a-49c1-e749-3e07687fe85c"
      },
      "source": [
        "x_train = x_train[y_train.flatten() == 6]\n",
        "x_train.shape"
      ],
      "execution_count": 37,
      "outputs": [
        {
          "output_type": "execute_result",
          "data": {
            "text/plain": [
              "(5000, 32, 32, 3)"
            ]
          },
          "metadata": {},
          "execution_count": 37
        }
      ]
    },
    {
      "cell_type": "markdown",
      "metadata": {
        "id": "be7fKh6-5BMn"
      },
      "source": [
        "#### 데이터 정규화"
      ]
    },
    {
      "cell_type": "code",
      "metadata": {
        "id": "JI3Jz1SE49Mp"
      },
      "source": [
        "x_train = x_train.astype('float32') / 255."
      ],
      "execution_count": 38,
      "outputs": []
    },
    {
      "cell_type": "code",
      "metadata": {
        "id": "b12T22Sh5FQa"
      },
      "source": [
        "iterations = 20000\n",
        "batch_size = 20\n",
        "\n",
        "save_dir = './gan_images'\n",
        "if not os.path.exists(save_dir):\n",
        "    os.mkdir(save_dir)"
      ],
      "execution_count": 39,
      "outputs": []
    },
    {
      "cell_type": "markdown",
      "metadata": {
        "id": "iIfCHuXQ7HOJ"
      },
      "source": [
        "#### 학습"
      ]
    },
    {
      "cell_type": "code",
      "metadata": {
        "id": "puOujZ3F5D2f",
        "colab": {
          "base_uri": "https://localhost:8080/"
        },
        "outputId": "663ad6ee-d3c5-4097-e283-9aba797ce0e6"
      },
      "source": [
        "start = 0\n",
        "for step in range(iterations):\n",
        "    random_latent_vectors = np.random.normal(size=(batch_size, latent_dim))\n",
        "    generated_images = generator.predict(random_latent_vectors)\n",
        "\n",
        "    stop = start + batch_size\n",
        "    real_images = x_train[start:stop]\n",
        "    combined_images = np.concatenate([generated_images, real_images])\n",
        "\n",
        "    labels = np.concatenate([np.ones((batch_size, 1)), np.zeros((batch_size, 1))])\n",
        "    labels += 0.05 * np.random.random(labels.shape)\n",
        "\n",
        "    d_loss = discriminator.train_on_batch(combined_images, labels)\n",
        "\n",
        "    random_latent_vectors = np.random.normal(size=(batch_size, latent_dim))\n",
        "    misleading_targets = np.zeros((batch_size, 1))\n",
        "\n",
        "    a_loss = gan.train_on_batch(random_latent_vectors, misleading_targets)\n",
        "\n",
        "    start += batch_size\n",
        "    if start > len(x_train) - batch_size:\n",
        "        start = 0\n",
        "\n",
        "    if (step+1) % 500 == 0:\n",
        "        gan.save_weights('gan.h5')\n",
        "        print(f'\\nstep: {step}')\n",
        "        print(f'  discriminator loss: {d_loss}')\n",
        "        print(f'  adversarial loss: {a_loss}')\n",
        "\n",
        "        img = image.array_to_img(generated_images[0] * 255., scale=False)\n",
        "        img.save(os.path.join(save_dir, f'generated_frog{step}.png'))\n",
        "        img = image.array_to_img(real_images[0] * 255., scale=False)\n",
        "        img.save(os.path.join(save_dir, f'real_frog{step}.png'))"
      ],
      "execution_count": 40,
      "outputs": [
        {
          "output_type": "stream",
          "name": "stdout",
          "text": [
            "\n",
            "step: 499\n",
            "  discriminator loss: 0.686896562576294\n",
            "  adversarial loss: 0.8056600689888\n",
            "\n",
            "step: 999\n",
            "  discriminator loss: 0.694161593914032\n",
            "  adversarial loss: 0.7499440312385559\n",
            "\n",
            "step: 1499\n",
            "  discriminator loss: 0.6897771954536438\n",
            "  adversarial loss: 0.7135602831840515\n",
            "\n",
            "step: 1999\n",
            "  discriminator loss: 0.6907097101211548\n",
            "  adversarial loss: 0.8190412521362305\n",
            "\n",
            "step: 2499\n",
            "  discriminator loss: 0.6972695589065552\n",
            "  adversarial loss: 0.7474138140678406\n",
            "\n",
            "step: 2999\n",
            "  discriminator loss: 0.7050068378448486\n",
            "  adversarial loss: 0.7341581583023071\n",
            "\n",
            "step: 3499\n",
            "  discriminator loss: 0.6979137659072876\n",
            "  adversarial loss: 0.7882558107376099\n",
            "\n",
            "step: 3999\n",
            "  discriminator loss: 0.7023494839668274\n",
            "  adversarial loss: 0.801274299621582\n",
            "\n",
            "step: 4499\n",
            "  discriminator loss: 0.6907579302787781\n",
            "  adversarial loss: 0.7552017569541931\n",
            "\n",
            "step: 4999\n",
            "  discriminator loss: 0.70089191198349\n",
            "  adversarial loss: 0.7301262617111206\n",
            "\n",
            "step: 5499\n",
            "  discriminator loss: 0.7672549486160278\n",
            "  adversarial loss: 0.8772194981575012\n",
            "\n",
            "step: 5999\n",
            "  discriminator loss: 0.6841574907302856\n",
            "  adversarial loss: 0.7981531023979187\n",
            "\n",
            "step: 6499\n",
            "  discriminator loss: 0.689062237739563\n",
            "  adversarial loss: 0.6963470578193665\n",
            "\n",
            "step: 6999\n",
            "  discriminator loss: 0.6605595350265503\n",
            "  adversarial loss: 0.8230739831924438\n",
            "\n",
            "step: 7499\n",
            "  discriminator loss: 0.6999837160110474\n",
            "  adversarial loss: 0.8027359247207642\n",
            "\n",
            "step: 7999\n",
            "  discriminator loss: 0.7054525017738342\n",
            "  adversarial loss: 0.6788877248764038\n",
            "\n",
            "step: 8499\n",
            "  discriminator loss: 0.6927096247673035\n",
            "  adversarial loss: 0.787806510925293\n",
            "\n",
            "step: 8999\n",
            "  discriminator loss: 0.7111620903015137\n",
            "  adversarial loss: 0.7218289375305176\n",
            "\n",
            "step: 9499\n",
            "  discriminator loss: 0.6695820093154907\n",
            "  adversarial loss: 0.8224936723709106\n",
            "\n",
            "step: 9999\n",
            "  discriminator loss: 0.7001692056655884\n",
            "  adversarial loss: 0.8321459889411926\n",
            "\n",
            "step: 10499\n",
            "  discriminator loss: 0.7297282218933105\n",
            "  adversarial loss: 0.9104028940200806\n",
            "\n",
            "step: 10999\n",
            "  discriminator loss: 0.6944661140441895\n",
            "  adversarial loss: 0.7911350727081299\n",
            "\n",
            "step: 11499\n",
            "  discriminator loss: 0.6793287396430969\n",
            "  adversarial loss: 0.7404688596725464\n",
            "\n",
            "step: 11999\n",
            "  discriminator loss: 0.678827166557312\n",
            "  adversarial loss: 0.8233369588851929\n",
            "\n",
            "step: 12499\n",
            "  discriminator loss: 0.6836053729057312\n",
            "  adversarial loss: 0.8371232748031616\n",
            "\n",
            "step: 12999\n",
            "  discriminator loss: 0.6999551057815552\n",
            "  adversarial loss: 0.8907335996627808\n",
            "\n",
            "step: 13499\n",
            "  discriminator loss: 0.6961570978164673\n",
            "  adversarial loss: 1.0595805644989014\n",
            "\n",
            "step: 13999\n",
            "  discriminator loss: 0.6731080412864685\n",
            "  adversarial loss: 0.7768791913986206\n",
            "\n",
            "step: 14499\n",
            "  discriminator loss: 0.6972783803939819\n",
            "  adversarial loss: 0.7804484367370605\n",
            "\n",
            "step: 14999\n",
            "  discriminator loss: 0.7724708318710327\n",
            "  adversarial loss: 0.842427134513855\n",
            "\n",
            "step: 15499\n",
            "  discriminator loss: 0.7528687715530396\n",
            "  adversarial loss: 0.8383998870849609\n",
            "\n",
            "step: 15999\n",
            "  discriminator loss: 0.7008353471755981\n",
            "  adversarial loss: 0.952771008014679\n",
            "\n",
            "step: 16499\n",
            "  discriminator loss: 0.6720206141471863\n",
            "  adversarial loss: 0.8963303565979004\n",
            "\n",
            "step: 16999\n",
            "  discriminator loss: 0.8053738474845886\n",
            "  adversarial loss: 0.8120487928390503\n",
            "\n",
            "step: 17499\n",
            "  discriminator loss: 0.6715221405029297\n",
            "  adversarial loss: 0.8815086483955383\n",
            "\n",
            "step: 17999\n",
            "  discriminator loss: 0.6155034899711609\n",
            "  adversarial loss: 0.9202723503112793\n",
            "\n",
            "step: 18499\n",
            "  discriminator loss: 0.5624734163284302\n",
            "  adversarial loss: 1.5217437744140625\n",
            "\n",
            "step: 18999\n",
            "  discriminator loss: 0.6789227724075317\n",
            "  adversarial loss: 1.0997682809829712\n",
            "\n",
            "step: 19499\n",
            "  discriminator loss: 0.5376261472702026\n",
            "  adversarial loss: 1.3283017873764038\n",
            "\n",
            "step: 19999\n",
            "  discriminator loss: 0.6056450605392456\n",
            "  adversarial loss: 0.9612926244735718\n"
          ]
        }
      ]
    },
    {
      "cell_type": "markdown",
      "metadata": {
        "id": "9I4J9HSI7Kco"
      },
      "source": [
        "#### 이미지 생성을 통한 시각화\n"
      ]
    },
    {
      "cell_type": "code",
      "metadata": {
        "id": "L9r2Bfwk5iNf"
      },
      "source": [
        "import matplotlib.pyplot as plt"
      ],
      "execution_count": 41,
      "outputs": []
    },
    {
      "cell_type": "markdown",
      "metadata": {
        "id": "KS9f7FGO7ijf"
      },
      "source": [
        "- 잠재 공간에서 랜덤한 포인트를 샘플링\n"
      ]
    },
    {
      "cell_type": "code",
      "metadata": {
        "id": "M6zPuYw97EHk"
      },
      "source": [
        "random_latent_vectors = np.random.normal(size=(10, latent_dim))"
      ],
      "execution_count": 42,
      "outputs": []
    },
    {
      "cell_type": "markdown",
      "metadata": {
        "id": "IikNB0zM7lQ8"
      },
      "source": [
        "- 가짜 이미지로 디코딩"
      ]
    },
    {
      "cell_type": "code",
      "metadata": {
        "id": "BHSY6hNU7AlE",
        "colab": {
          "base_uri": "https://localhost:8080/"
        },
        "outputId": "63b5464d-0490-49c1-8b47-218ebcc40117"
      },
      "source": [
        "generated_images = generator.predict(random_latent_vectors)\n",
        "generated_images.shape"
      ],
      "execution_count": 43,
      "outputs": [
        {
          "output_type": "execute_result",
          "data": {
            "text/plain": [
              "(10, 32, 32, 3)"
            ]
          },
          "metadata": {},
          "execution_count": 43
        }
      ]
    },
    {
      "cell_type": "code",
      "metadata": {
        "id": "9gyn_d90--r0",
        "colab": {
          "base_uri": "https://localhost:8080/",
          "height": 249
        },
        "outputId": "c38d98e9-01bc-4464-ef21-3bc046378068"
      },
      "source": [
        "plt.figure(figsize=(10,4))\n",
        "for i in range(generated_images.shape[0]):\n",
        "    plt.subplot(2, 5, i+1)\n",
        "    img = image.array_to_img(generated_images[i] * 255., scale=False)\n",
        "    plt.imshow(img)\n",
        "    plt.xticks([]), plt.yticks([])\n",
        "\n",
        "plt.show()"
      ],
      "execution_count": 44,
      "outputs": [
        {
          "output_type": "display_data",
          "data": {
            "text/plain": [
              "<Figure size 720x288 with 10 Axes>"
            ],
            "image/png": "[encoded data removed]"
          },
          "metadata": {}
        }
      ]
    },
    {
      "cell_type": "code",
      "metadata": {
        "id": "ANOGbba4-sSE"
      },
      "source": [
        ""
      ],
      "execution_count": 44,
      "outputs": []
    }
  ]
}