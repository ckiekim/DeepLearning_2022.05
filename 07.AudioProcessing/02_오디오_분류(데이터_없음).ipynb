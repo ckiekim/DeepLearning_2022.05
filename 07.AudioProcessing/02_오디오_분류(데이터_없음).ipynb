{
  "nbformat": 4,
  "nbformat_minor": 0,
  "metadata": {
    "colab": {
      "name": "02_오디오_분류.ipynb",
      "provenance": [],
      "collapsed_sections": [],
      "toc_visible": true
    },
    "kernelspec": {
      "display_name": "Python 3",
      "language": "python",
      "name": "python3"
    },
    "language_info": {
      "codemirror_mode": {
        "name": "ipython",
        "version": 3
      },
      "file_extension": ".py",
      "mimetype": "text/x-python",
      "name": "python",
      "nbconvert_exporter": "python",
      "pygments_lexer": "ipython3",
      "version": "3.6.5"
    }
  },
  "cells": [
    {
      "cell_type": "markdown",
      "metadata": {
        "id": "9GKNWufHLjNk"
      },
      "source": [
        "# 오디오 분류(Audio Classification)"
      ]
    },
    {
      "cell_type": "markdown",
      "metadata": {
        "id": "LyOzFQ1VZ9gn"
      },
      "source": [
        "* 가상 악기를 활용해 악기별 음색 데이터셋을 활용해 오디오 분류\n",
        "\n",
        "1. 기존 데이터에서 분류에 사용되는 방법을 사용해 분류\n",
        "2. 오디오 데이터에 특화된 분류\n",
        "\n",
        "* 출처: https://bab2min.tistory.com/642"
      ]
    },
    {
      "cell_type": "markdown",
      "metadata": {
        "id": "LNlHKKpiMYc2"
      },
      "source": [
        "### 데이터 준비 및 전처리"
      ]
    },
    {
      "cell_type": "code",
      "metadata": {
        "id": "xljCsx__Fotq"
      },
      "source": [
        "import numpy as np\n",
        "import itertools, librosa\n",
        "import IPython.display as ipd\n",
        "import matplotlib.pyplot as plt\n",
        "plt.style.use('seaborn-white')"
      ],
      "execution_count": 2,
      "outputs": []
    },
    {
      "cell_type": "markdown",
      "metadata": {
        "id": "XM5gOn7Ua9LQ"
      },
      "source": [
        "* 데이터를 저장할 리스트와 파일을 불러올 경로를 지정\n",
        "\n",
        "* https://s3.ap-northeast-2.amazonaws.com/suanlab.com/dataset/GeneralMidi.wav\n",
        "\n"
      ]
    },
    {
      "cell_type": "code",
      "metadata": {
        "id": "kSr_7Rvq6Pcc",
        "colab": {
          "base_uri": "https://localhost:8080/"
        },
        "outputId": "9b8aeb7e-d6f7-4ae7-9045-234c156ff02b"
      },
      "source": [
        "!wget https://s3.ap-northeast-2.amazonaws.com/suanlab.com/dataset/GeneralMidi.wav"
      ],
      "execution_count": 4,
      "outputs": [
        {
          "output_type": "stream",
          "name": "stdout",
          "text": [
            "--2022-07-05 04:44:46--  https://s3.ap-northeast-2.amazonaws.com/suanlab.com/dataset/GeneralMidi.wav\n",
            "Resolving s3.ap-northeast-2.amazonaws.com (s3.ap-northeast-2.amazonaws.com)... 52.219.148.53\n",
            "Connecting to s3.ap-northeast-2.amazonaws.com (s3.ap-northeast-2.amazonaws.com)|52.219.148.53|:443... connected.\n",
            "HTTP request sent, awaiting response... 403 Forbidden\n",
            "2022-07-05 04:44:46 ERROR 403: Forbidden.\n",
            "\n"
          ]
        }
      ]
    },
    {
      "cell_type": "code",
      "metadata": {
        "id": "yAVRMdsLL6qd"
      },
      "source": [
        ""
      ],
      "execution_count": null,
      "outputs": []
    },
    {
      "cell_type": "markdown",
      "metadata": {
        "id": "RFQhE1IXbCnp"
      },
      "source": [
        "* wmv 파일에는 128개 악기와 46개 타악기의 음을 50개씩 2초 간격으로 존재\n",
        "* 해당 예제에서는 일부 악기만 선택해서 사용"
      ]
    },
    {
      "cell_type": "code",
      "metadata": {
        "id": "gbeL9G4eHD17"
      },
      "source": [
        ""
      ],
      "execution_count": null,
      "outputs": []
    },
    {
      "cell_type": "code",
      "metadata": {
        "id": "833SeOB3ghYB"
      },
      "source": [
        ""
      ],
      "execution_count": null,
      "outputs": []
    },
    {
      "cell_type": "code",
      "metadata": {
        "id": "yVVWbjK3hsa0"
      },
      "source": [
        ""
      ],
      "execution_count": null,
      "outputs": []
    },
    {
      "cell_type": "code",
      "metadata": {
        "id": "Rayjj1_LXAIL"
      },
      "source": [
        ""
      ],
      "execution_count": null,
      "outputs": []
    },
    {
      "cell_type": "code",
      "metadata": {
        "id": "90MsXwWEXAhP"
      },
      "source": [
        ""
      ],
      "execution_count": null,
      "outputs": []
    },
    {
      "cell_type": "code",
      "metadata": {
        "id": "d7g6X5s5XA7q"
      },
      "source": [
        ""
      ],
      "execution_count": null,
      "outputs": []
    },
    {
      "cell_type": "code",
      "metadata": {
        "id": "yM22fy0lXAyA"
      },
      "source": [
        ""
      ],
      "execution_count": null,
      "outputs": []
    },
    {
      "cell_type": "code",
      "metadata": {
        "id": "CeATY1LMXAY-"
      },
      "source": [
        ""
      ],
      "execution_count": null,
      "outputs": []
    },
    {
      "cell_type": "code",
      "metadata": {
        "id": "m1gW0ThFW_-n"
      },
      "source": [
        ""
      ],
      "execution_count": null,
      "outputs": []
    },
    {
      "cell_type": "markdown",
      "metadata": {
        "id": "fa-p1iBnh9U_"
      },
      "source": [
        "## 머신러닝을 이용한 오디오 분류"
      ]
    },
    {
      "cell_type": "markdown",
      "metadata": {
        "id": "o5kxc-fEhsbZ"
      },
      "source": [
        "* 학습 데이터와 실험 데이터를 분리"
      ]
    },
    {
      "cell_type": "code",
      "metadata": {
        "id": "1lu3UGG_hsbb"
      },
      "source": [
        ""
      ],
      "execution_count": null,
      "outputs": []
    },
    {
      "cell_type": "markdown",
      "metadata": {
        "id": "kPZ8JthRhsbt"
      },
      "source": [
        "### Logistic Regression"
      ]
    },
    {
      "cell_type": "markdown",
      "metadata": {
        "id": "hqWh2ZJHhsbw"
      },
      "source": [
        "* Logistic Regression은 특성상 다중 분류에는 적합하지 않음"
      ]
    },
    {
      "cell_type": "code",
      "metadata": {
        "id": "TPtlHTZ4hsbx"
      },
      "source": [
        ""
      ],
      "execution_count": null,
      "outputs": []
    },
    {
      "cell_type": "markdown",
      "metadata": {
        "id": "M4YCBIOFhsb3"
      },
      "source": [
        "### Support Vector Machine"
      ]
    },
    {
      "cell_type": "code",
      "metadata": {
        "id": "hhdwk6gGhsb5"
      },
      "source": [
        ""
      ],
      "execution_count": null,
      "outputs": []
    },
    {
      "cell_type": "markdown",
      "metadata": {
        "id": "sfVc7cfphsb_"
      },
      "source": [
        "### Decision Tree"
      ]
    },
    {
      "cell_type": "code",
      "metadata": {
        "id": "Sqd0j6_mhscA"
      },
      "source": [
        ""
      ],
      "execution_count": null,
      "outputs": []
    },
    {
      "cell_type": "markdown",
      "metadata": {
        "id": "Je1fuKsffcVs"
      },
      "source": [
        "## Constant-Q를 이용한 머신러닝 오디오 분류"
      ]
    },
    {
      "cell_type": "markdown",
      "metadata": {
        "id": "hGHpFzHFlABJ"
      },
      "source": [
        "### 데이터 준비"
      ]
    },
    {
      "cell_type": "markdown",
      "metadata": {
        "id": "KU3B6gBSzMsT"
      },
      "source": [
        "* wav는 매 순간의 음압을 측정하여 그 수치를 저장한 형태이기 때문에 그 자체로 음악을 분석하기에 적합하지 않음 (음의 높이와 세기를 듣는것이지 순간의 음압을 듣는게 아니기 때문)\n",
        "* 푸리에 변환과 같은 변환 기법을 이용하여 시간 축의 데이터를 주파수 축의 데이터로 바꿔줘야할 필요가 있음\n",
        "* 푸리에 변환 대신 푸리에 변환과 유사한 Constant-Q 변환을 사용\n",
        "* Constant-Q 변환은 주파수 축이 로그 단위로 변환되고, 각 주파수에 따라 해상도가 다양하게 처리되기 때문에(저주파는 저해상도, 고주파는 고해상도) 음악을 처리하는 데에 푸리에 변환보다 유리"
      ]
    },
    {
      "cell_type": "markdown",
      "metadata": {
        "id": "vNcJnTD6lABO"
      },
      "source": [
        "*   주파수 대역을 저장할 리스트 `audio_cqt` 선언\n",
        "*   constant-Q 변환할 때는 변환할 오디오 데이터와 sampling rate가 필요\n",
        "*   해당 데이터에서는 sampling rate가 모두 동일하므로 따로 처리가 필요하지 않음\n",
        "*   여기서는 Constant-Q 변환을 사용해 오디오 데이터를 주파수 대역으로 변환\n",
        "\n"
      ]
    },
    {
      "cell_type": "markdown",
      "metadata": {
        "id": "jpeGYzNRlABU"
      },
      "source": [
        "\n",
        "*   변환에는 앞서 준비한 데이터를 가져와 사용하며, Constant-Q 변환에는 `librosa.cqt` 함수를 사용\n",
        "*   여기서 `n_bins`는 옥타브 단계 및 개수를, `bins_per_octave`는 한 옥타브가 가지는 단계를 의미\n",
        "*   라벨에 대해선 원 핫 인코딩을 적용\n",
        "\n"
      ]
    },
    {
      "cell_type": "code",
      "metadata": {
        "id": "kNraPmqelABY"
      },
      "source": [
        ""
      ],
      "execution_count": null,
      "outputs": []
    },
    {
      "cell_type": "markdown",
      "metadata": {
        "id": "HYDDP8G9lAB6"
      },
      "source": [
        "* 앞서 생성한 주파수 대역을 spectrogram으로 시각화\n",
        "* 악기 간 spectrogram을 비교해보면 차이가 존재함을 알 수 있음"
      ]
    },
    {
      "cell_type": "code",
      "metadata": {
        "id": "_E-LSPSklABw"
      },
      "source": [
        ""
      ],
      "execution_count": null,
      "outputs": []
    },
    {
      "cell_type": "markdown",
      "metadata": {
        "id": "bILdBh2NlAB7"
      },
      "source": [
        "* 훈련 데이터와 실험 데이터를 분리"
      ]
    },
    {
      "cell_type": "code",
      "metadata": {
        "id": "Xq8gGH14YplF"
      },
      "source": [
        ""
      ],
      "execution_count": null,
      "outputs": []
    },
    {
      "cell_type": "markdown",
      "metadata": {
        "id": "Yw4gIsZZYplR"
      },
      "source": [
        "\n",
        "\n",
        "*   분류기에서 사용하기 위해 3차원 벡터를 2차원 벡터로 변환\n",
        "\n"
      ]
    },
    {
      "cell_type": "code",
      "metadata": {
        "id": "nJIQWIGGYplS"
      },
      "source": [
        ""
      ],
      "execution_count": null,
      "outputs": []
    },
    {
      "cell_type": "markdown",
      "metadata": {
        "id": "eghTrgzAYplc"
      },
      "source": [
        "\n",
        "\n",
        "*   읽어온 데이터는 음량이나 범위가 다를 수 있음\n",
        "*   min-max scaling을 통해 데이터의 범위를 조정함\n",
        "\n"
      ]
    },
    {
      "cell_type": "code",
      "metadata": {
        "id": "APKpUN4ZYpld"
      },
      "source": [
        ""
      ],
      "execution_count": null,
      "outputs": []
    },
    {
      "cell_type": "markdown",
      "metadata": {
        "id": "GY4KittbYpli"
      },
      "source": [
        "* 학습 데이터와 실험 데이터를 분리"
      ]
    },
    {
      "cell_type": "code",
      "metadata": {
        "id": "UeyQ0zAqYplk"
      },
      "source": [
        ""
      ],
      "execution_count": null,
      "outputs": []
    },
    {
      "cell_type": "markdown",
      "metadata": {
        "id": "eVmRU3s9Yplr"
      },
      "source": [
        "### Logistic Regression"
      ]
    },
    {
      "cell_type": "code",
      "metadata": {
        "id": "s0HfXcX8Yplt"
      },
      "source": [
        ""
      ],
      "execution_count": null,
      "outputs": []
    },
    {
      "cell_type": "markdown",
      "metadata": {
        "id": "hMNNf3HVYpl1"
      },
      "source": [
        "### Support Vector Machine"
      ]
    },
    {
      "cell_type": "code",
      "metadata": {
        "id": "mWE5fXefYpl2"
      },
      "source": [
        ""
      ],
      "execution_count": null,
      "outputs": []
    },
    {
      "cell_type": "markdown",
      "metadata": {
        "id": "Q_I5_tn7Ypl7"
      },
      "source": [
        "### Decision Tree"
      ]
    },
    {
      "cell_type": "code",
      "metadata": {
        "id": "H6OkoGaCYpl9"
      },
      "source": [
        ""
      ],
      "execution_count": null,
      "outputs": []
    },
    {
      "cell_type": "markdown",
      "metadata": {
        "id": "Ksq0ia6nlAA9"
      },
      "source": [
        "## Constant-Q 특징을 이용한 딥러닝 오디오 분류"
      ]
    },
    {
      "cell_type": "markdown",
      "metadata": {
        "id": "Dpa1g6i6lABE"
      },
      "source": [
        "* 오디오 데이터를 spectrogram으로 가공하면 파장과 세기를 가진 이미지(2차원 배열)가 생성\n",
        "* 이 spectrogram을 CNN 이미지 분류를 통해 각 악기 소리를 분류"
      ]
    },
    {
      "cell_type": "markdown",
      "metadata": {
        "id": "aPA39XFckhH7"
      },
      "source": [
        "### DNN 모델 구성"
      ]
    },
    {
      "cell_type": "code",
      "metadata": {
        "id": "YRu208uJkhIE"
      },
      "source": [
        ""
      ],
      "execution_count": null,
      "outputs": []
    },
    {
      "cell_type": "code",
      "metadata": {
        "id": "EEwemuIOkhIh"
      },
      "source": [
        ""
      ],
      "execution_count": null,
      "outputs": []
    },
    {
      "cell_type": "code",
      "metadata": {
        "id": "4-3AuqmtkhIq"
      },
      "source": [
        ""
      ],
      "execution_count": null,
      "outputs": []
    },
    {
      "cell_type": "code",
      "metadata": {
        "id": "UIsZDkiXkhIz"
      },
      "source": [
        ""
      ],
      "execution_count": null,
      "outputs": []
    },
    {
      "cell_type": "code",
      "metadata": {
        "id": "g484W2rxqrB4"
      },
      "source": [
        ""
      ],
      "execution_count": null,
      "outputs": []
    },
    {
      "cell_type": "code",
      "metadata": {
        "id": "aIQogoELkhI6"
      },
      "source": [
        ""
      ],
      "execution_count": null,
      "outputs": []
    },
    {
      "cell_type": "code",
      "metadata": {
        "id": "s5qP8v8MkhI_"
      },
      "source": [
        ""
      ],
      "execution_count": null,
      "outputs": []
    },
    {
      "cell_type": "markdown",
      "metadata": {
        "id": "yWU7MVE6lACJ"
      },
      "source": [
        "### CNN 모델 구성"
      ]
    },
    {
      "cell_type": "markdown",
      "metadata": {
        "id": "iZW2txHJlACM"
      },
      "source": [
        "\n",
        "\n",
        "*   spectrogram을 분류할 CNN 모델 구성\n",
        "*   모델의 구성은 여타 이미지 분류 모델과 다르지 않음\n",
        "*   spectrogram은 1차원 이미지로 간주\n"
      ]
    },
    {
      "cell_type": "code",
      "metadata": {
        "id": "kas63VJhlAB9"
      },
      "source": [
        ""
      ],
      "execution_count": null,
      "outputs": []
    },
    {
      "cell_type": "code",
      "metadata": {
        "id": "gLJevDn_lACN"
      },
      "source": [
        ""
      ],
      "execution_count": null,
      "outputs": []
    },
    {
      "cell_type": "code",
      "metadata": {
        "id": "LB1l1qg1lACT"
      },
      "source": [
        ""
      ],
      "execution_count": null,
      "outputs": []
    },
    {
      "cell_type": "code",
      "metadata": {
        "id": "RXLlpoZMlACY"
      },
      "source": [
        ""
      ],
      "execution_count": null,
      "outputs": []
    },
    {
      "cell_type": "code",
      "metadata": {
        "id": "9872hVsRlACd"
      },
      "source": [
        ""
      ],
      "execution_count": null,
      "outputs": []
    },
    {
      "cell_type": "markdown",
      "metadata": {
        "id": "PGtAOoIAlACi"
      },
      "source": [
        "\n",
        "\n",
        "*   훈련한 모델에 대한 정확도 평가\n",
        "*   앞선 일반 분류 방법보다 정확도가 많이 오른 것을 확인할 수 있음\n",
        "\n"
      ]
    },
    {
      "cell_type": "code",
      "metadata": {
        "id": "Epg67H_LlACj"
      },
      "source": [
        ""
      ],
      "execution_count": null,
      "outputs": []
    },
    {
      "cell_type": "markdown",
      "metadata": {
        "id": "JGM2WbEdAsGL"
      },
      "source": [
        "## MFCC를 이용한 머신러닝 오디오 분류"
      ]
    },
    {
      "cell_type": "markdown",
      "metadata": {
        "id": "yMHA7CmpgTQm"
      },
      "source": [
        "### 데이터 준비\n",
        "\n",
        "* 데이터를 불러오고 MFCC(Mel-frequency cepstral coefficients)를 사용해 melspectrogram으로 변환"
      ]
    },
    {
      "cell_type": "code",
      "metadata": {
        "id": "Ek9RXAOEgT9N"
      },
      "source": [
        ""
      ],
      "execution_count": null,
      "outputs": []
    },
    {
      "cell_type": "code",
      "metadata": {
        "id": "BMWGAzObkWYx"
      },
      "source": [
        ""
      ],
      "execution_count": null,
      "outputs": []
    },
    {
      "cell_type": "code",
      "metadata": {
        "id": "eZkml-aKHLVL"
      },
      "source": [
        ""
      ],
      "execution_count": null,
      "outputs": []
    },
    {
      "cell_type": "markdown",
      "metadata": {
        "id": "EYjdKeA8Pv9P"
      },
      "source": [
        "\n",
        "\n",
        "*   분류기에서 사용하기 위해 3차원 벡터를 2차원 벡터로 변환\n",
        "\n"
      ]
    },
    {
      "cell_type": "code",
      "metadata": {
        "id": "Ejjb0O6eM9Ps"
      },
      "source": [
        ""
      ],
      "execution_count": null,
      "outputs": []
    },
    {
      "cell_type": "markdown",
      "metadata": {
        "id": "KPwrDuaNbwQQ"
      },
      "source": [
        "\n",
        "\n",
        "*   읽어온 데이터는 음량이나 범위가 다를 수 있음\n",
        "*   min-max scaling을 통해 데이터의 범위를 조정함\n",
        "\n"
      ]
    },
    {
      "cell_type": "code",
      "metadata": {
        "id": "f_7rf8byZxbN"
      },
      "source": [
        ""
      ],
      "execution_count": null,
      "outputs": []
    },
    {
      "cell_type": "markdown",
      "metadata": {
        "id": "0D9mvHded1yR"
      },
      "source": [
        "* 학습 데이터와 실험 데이터를 분리"
      ]
    },
    {
      "cell_type": "code",
      "metadata": {
        "id": "ROXgFnWDZxba"
      },
      "source": [
        ""
      ],
      "execution_count": null,
      "outputs": []
    },
    {
      "cell_type": "markdown",
      "metadata": {
        "id": "jnww8xssA-FL"
      },
      "source": [
        "### Logistic Regression"
      ]
    },
    {
      "cell_type": "code",
      "metadata": {
        "id": "rk3jq9p9DCcv"
      },
      "source": [
        ""
      ],
      "execution_count": null,
      "outputs": []
    },
    {
      "cell_type": "markdown",
      "metadata": {
        "id": "1D0CGeJTA-ZH"
      },
      "source": [
        "### Support Vector Machine"
      ]
    },
    {
      "cell_type": "code",
      "metadata": {
        "id": "cxxK92DGDpyL"
      },
      "source": [
        ""
      ],
      "execution_count": null,
      "outputs": []
    },
    {
      "cell_type": "markdown",
      "metadata": {
        "id": "YPeounJWA-e6"
      },
      "source": [
        "### Decision Tree"
      ]
    },
    {
      "cell_type": "code",
      "metadata": {
        "id": "62wyoby4EEDb"
      },
      "source": [
        ""
      ],
      "execution_count": null,
      "outputs": []
    },
    {
      "cell_type": "markdown",
      "metadata": {
        "id": "TGKF4gEPTQJE"
      },
      "source": [
        "## MFCC를 이용한 딥러닝 오디오 분류"
      ]
    },
    {
      "cell_type": "markdown",
      "metadata": {
        "id": "0M2aZBu4gyGI"
      },
      "source": [
        "* 앞선 문제점을 극복하기 위해 오디오 데이터에 특화된 분류 방법 필요\n",
        "* 오디오 데이터를 spectrogram으로 가공하면 파장과 세기를 가진 이미지(2차원 배열)가 생성\n",
        "* 이 spectrogram을 CNN 이미지 분류를 통해 각 악기 소리를 분류"
      ]
    },
    {
      "cell_type": "markdown",
      "metadata": {
        "id": "lYfme8k8Z2CJ"
      },
      "source": [
        "### DNN 모델 구성"
      ]
    },
    {
      "cell_type": "code",
      "metadata": {
        "id": "F4PRyoLTZxcF"
      },
      "source": [
        ""
      ],
      "execution_count": null,
      "outputs": []
    },
    {
      "cell_type": "code",
      "metadata": {
        "id": "KO4fIDRhZ4fh"
      },
      "source": [
        ""
      ],
      "execution_count": null,
      "outputs": []
    },
    {
      "cell_type": "code",
      "metadata": {
        "id": "dtRybn6qZ-CB"
      },
      "source": [
        ""
      ],
      "execution_count": null,
      "outputs": []
    },
    {
      "cell_type": "code",
      "metadata": {
        "id": "M9S3g0XGaAwS"
      },
      "source": [
        ""
      ],
      "execution_count": null,
      "outputs": []
    },
    {
      "cell_type": "code",
      "metadata": {
        "id": "xPMBlos_aJpA"
      },
      "source": [
        ""
      ],
      "execution_count": null,
      "outputs": []
    },
    {
      "cell_type": "code",
      "metadata": {
        "id": "Ubg2TyKTaJpS"
      },
      "source": [
        ""
      ],
      "execution_count": null,
      "outputs": []
    },
    {
      "cell_type": "markdown",
      "metadata": {
        "id": "H0WuXzibIRai"
      },
      "source": [
        "### CNN 모델 구성"
      ]
    },
    {
      "cell_type": "code",
      "metadata": {
        "id": "peqNnBc2bU8R"
      },
      "source": [
        ""
      ],
      "execution_count": null,
      "outputs": []
    },
    {
      "cell_type": "markdown",
      "metadata": {
        "id": "HaVaT1xFjr3H"
      },
      "source": [
        "\n",
        "\n",
        "*   spectrogram을 분류할 CNN 모델 구성\n",
        "*   모델의 구성은 여타 이미지 분류 모델과 다르지 않음\n",
        "*   spectrogram은 1차원 이미지로 간주\n"
      ]
    },
    {
      "cell_type": "code",
      "metadata": {
        "id": "9hcP6TMv45mU"
      },
      "source": [
        ""
      ],
      "execution_count": null,
      "outputs": []
    },
    {
      "cell_type": "code",
      "metadata": {
        "id": "jFGB1qeR5H5G"
      },
      "source": [
        ""
      ],
      "execution_count": null,
      "outputs": []
    },
    {
      "cell_type": "code",
      "metadata": {
        "id": "GklfxUWB3eSc"
      },
      "source": [
        ""
      ],
      "execution_count": null,
      "outputs": []
    },
    {
      "cell_type": "code",
      "metadata": {
        "id": "5ocRkioenxvu"
      },
      "source": [
        ""
      ],
      "execution_count": null,
      "outputs": []
    },
    {
      "cell_type": "code",
      "metadata": {
        "id": "VbT75-M9ZxcP"
      },
      "source": [
        ""
      ],
      "execution_count": null,
      "outputs": []
    }
  ]
}